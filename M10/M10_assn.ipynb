{
  "cells":[
    {
      "cell_type":"markdown",
      "source":[
        "# Data Science: M10 Practical Challenge\n",
        "Naïve Bayes Sentiment Analysis \n",
        "Jacob Goodman & Alan Leidner\n",
        "\n",
        "https:\/\/yu.instructure.com\/courses\/50398\/assignments\/191938?module_item_id=705073\n"
      ],
      "attachments":{
        
      },
      "metadata":{
        
      }
    },
    {
      "cell_type":"markdown",
      "source":[
        "# Introduction:  \n",
        "\n",
        "The data set we will be working with is sourced from this site: http:\/\/www.cs.cornell.edu\/people\/pabo\/movie-review-data\/. Specifically, we will be working with the polarity dataset v2.0, which is comprised of 1000 positive and 1000 negative movie reviews. Each movie review is in the form of free-form text captured from website postings. To complete this assignment, we will need to make use of pre-processing techniques to prepare the content of the reviews for use within a classification model (e.g., strip out punctuation, stop words, etc.). We will then construct a Naïve Bayes sentiment classifier for purposes of gauging the sentiment of movie reviews. Finally, we will test our classifier against a previously unseen review."
      ],
      "attachments":{
        
      },
      "metadata":{
        
      }
    },
    {
      "cell_type":"markdown",
      "source":[
        "# Data Preparation \n",
        "\n",
        "**steps**\n",
        "1. Load documents \n",
        "2. Create Tokens\n",
        "3. Create Dictionary \n",
        "4. Create Bag of Words Vector"
      ],
      "attachments":{
        
      },
      "metadata":{
        
      }
    },
    {
      "cell_type":"code",
      "source":[
        "#function sourced from https:\/\/mylearningsinaiml.wordpress.com\/tag\/movie-review-data-sentiment-analysis\/\n",
        "from os import listdir\n",
        "import numpy as np\n",
        " \n",
        "#define function to load doc into memory\n",
        "def load_doc(filename):\n",
        "\t# open the file as read only\n",
        "\tfile = open(filename, 'r')\n",
        "\t# read all text\n",
        "\ttext = file.read()\n",
        "\t# close the file\n",
        "\tfile.close()\n",
        "\treturn text"
      ],
      "execution_count":1,
      "outputs":[
        
      ],
      "metadata":{
        
      }
    },
    {
      "cell_type":"code",
      "source":[
        "#create file path for \"local\" documents\n",
        "import os \n",
        "pos_url = os.path.join(\"txt_sentoken\",\"pos\")\n",
        "neg_url = os.path.join(\"txt_sentoken\",\"neg\")\n",
        "\n",
        "neg_files = os.listdir(neg_url)\n",
        "pos_files = os.listdir(pos_url)\n",
        "\n",
        "#load documents into lists\n",
        "negs = []\n",
        "for file in neg_files:\n",
        "    if file.endswith('.txt'):\n",
        "        url = os.path.join(neg_url,file)\n",
        "        negs.append(load_doc(url))\n",
        "\n",
        "poses = []\n",
        "for file in pos_files:\n",
        "    if file.endswith('.txt'):\n",
        "        url = os.path.join(pos_url,file)\n",
        "        poses.append(load_doc(url))"
      ],
      "execution_count":2,
      "outputs":[
        
      ],
      "metadata":{
        
      }
    },
    {
      "cell_type":"code",
      "source":[
        "import nltk\n",
        "nltk.download('stopwords')\n",
        "#define a function to turn a doc into clean tokens\n",
        "def clean_doc(doc):\n",
        "    \"\"\"\n",
        "        this function takes in a string of text and converts it into an array of tokens\n",
        "        it takes the following steps:\n",
        "        1. splits the string by white space\n",
        "        2. removes the following  punctuation, non-numerics, stopwords, and words less than 1 token\n",
        "        3. stems the words using the snowball stemmer\n",
        "        4. returns an array of cleaned tokens\n",
        "    \"\"\"\n",
        "\n",
        "    import nltk\n",
        "    from nltk.corpus import stopwords\n",
        "    import re\n",
        "    import string\n",
        "    from nltk.stem import SnowballStemmer\n",
        "\n",
        "    snowball = SnowballStemmer(language='english')# INTIALIZING STEMMER\n",
        "\n",
        "\n",
        "    # split into tokens by white space\n",
        "    tokens = doc.split()\n",
        "    # prepare regex for char filtering\n",
        "    re_punc = re.compile(f'[{re.escape(string.punctuation)}]')\n",
        "    # remove punctuation from each word\n",
        "    tokens = [re_punc.sub('', w) for w in tokens]\n",
        "    # remove remaining tokens that are not alphabetic\n",
        "    tokens = [word for word in tokens if word.isalpha()]\n",
        "    # filter out stop words\n",
        "    stop_words = set(stopwords.words('english'))\n",
        "    tokens = [w for w in tokens if not w in stop_words]\n",
        "    # filter out short tokens\n",
        "    #stems tokens to prevent plurals and other morphological affixations\n",
        "    tokens = [snowball.stem(word) for word in tokens if len(word) > 1]\n",
        "    return tokens"
      ],
      "execution_count":37,
      "outputs":[
        {
          "name":"stderr",
          "text":[
            "[nltk_data] Downloading package stopwords to\n",
            "[nltk_data]     \/home\/datalore\/nltk_data...\n",
            "[nltk_data]   Package stopwords is already up-to-date!\n"
          ],
          "output_type":"stream"
        }
      ],
      "metadata":{
        
      }
    },
    {
      "cell_type":"code",
      "source":[
        "#clean documents\n",
        "clean_negs =[]\n",
        "clean_pos =[]\n",
        "for neg in negs:\n",
        "    clean = clean_doc(neg)\n",
        "    clean_negs.append(clean)\n",
        "for pos in poses:\n",
        "    clean = clean_doc(pos)\n",
        "    clean_pos.append(clean)"
      ],
      "execution_count":38,
      "outputs":[
        
      ],
      "metadata":{
        
      }
    },
    {
      "cell_type":"code",
      "source":[
        "#create two gensim dictionaries that encompasses the \"cleaned\" words contained in the movie reviews both positive and negative\n",
        "from gensim.corpora import Dictionary\n",
        "\n",
        "neg_dct = Dictionary(clean_negs)\n",
        "pos_dct = Dictionary(clean_pos)\n",
        "#dct.add_documents(clean_pos)"
      ],
      "execution_count":6,
      "outputs":[
        
      ],
      "metadata":{
        
      }
    },
    {
      "cell_type":"markdown",
      "source":[
        "# Frequency Distribution Plots\n",
        "Here we will examine the most frequently occurring words in each dictionary"
      ],
      "attachments":{
        
      },
      "metadata":{
        
      }
    },
    {
      "cell_type":"code",
      "source":[
        "# get top 30 words in negative review corpus\n",
        "import pandas as pd\n",
        "neg_df = pd.DataFrame(neg_dct.cfs.items(),columns=['word_id','count'])\n",
        "neg_df['word'] = neg_df.word_id.apply(lambda x: neg_dct.get(x))\n",
        "neg_df.sort_values('count',ascending=False)[:30]"
      ],
      "execution_count":7,
      "outputs":[
        {
          "data":{
            "text\/html":[
              "<div>\n",
              "<style scoped>\n",
              "    .dataframe tbody tr th:only-of-type {\n",
              "        vertical-align: middle;\n",
              "    }\n",
              "\n",
              "    .dataframe tbody tr th {\n",
              "        vertical-align: top;\n",
              "    }\n",
              "\n",
              "    .dataframe thead th {\n",
              "        text-align: right;\n",
              "    }\n",
              "<\/style>\n",
              "<table border=\"1\" class=\"dataframe\">\n",
              "  <thead>\n",
              "    <tr style=\"text-align: right;\">\n",
              "      <th><\/th>\n",
              "      <th>word_id<\/th>\n",
              "      <th>count<\/th>\n",
              "      <th>word<\/th>\n",
              "    <\/tr>\n",
              "  <\/thead>\n",
              "  <tbody>\n",
              "    <tr>\n",
              "      <th>5<\/th>\n",
              "      <td>59<\/td>\n",
              "      <td>4963<\/td>\n",
              "      <td>film<\/td>\n",
              "    <\/tr>\n",
              "    <tr>\n",
              "      <th>40<\/th>\n",
              "      <td>101<\/td>\n",
              "      <td>3731<\/td>\n",
              "      <td>movi<\/td>\n",
              "    <\/tr>\n",
              "    <tr>\n",
              "      <th>33<\/th>\n",
              "      <td>111<\/td>\n",
              "      <td>2715<\/td>\n",
              "      <td>one<\/td>\n",
              "    <\/tr>\n",
              "    <tr>\n",
              "      <th>163<\/th>\n",
              "      <td>90<\/td>\n",
              "      <td>2050<\/td>\n",
              "      <td>like<\/td>\n",
              "    <\/tr>\n",
              "    <tr>\n",
              "      <th>235<\/th>\n",
              "      <td>205<\/td>\n",
              "      <td>1802<\/td>\n",
              "      <td>charact<\/td>\n",
              "    <\/tr>\n",
              "    <tr>\n",
              "      <th>31<\/th>\n",
              "      <td>63<\/td>\n",
              "      <td>1684<\/td>\n",
              "      <td>get<\/td>\n",
              "    <\/tr>\n",
              "    <tr>\n",
              "      <th>223<\/th>\n",
              "      <td>282<\/td>\n",
              "      <td>1502<\/td>\n",
              "      <td>make<\/td>\n",
              "    <\/tr>\n",
              "    <tr>\n",
              "      <th>173<\/th>\n",
              "      <td>49<\/td>\n",
              "      <td>1404<\/td>\n",
              "      <td>even<\/td>\n",
              "    <\/tr>\n",
              "    <tr>\n",
              "      <th>247<\/th>\n",
              "      <td>345<\/td>\n",
              "      <td>1377<\/td>\n",
              "      <td>time<\/td>\n",
              "    <\/tr>\n",
              "    <tr>\n",
              "      <th>18<\/th>\n",
              "      <td>135<\/td>\n",
              "      <td>1288<\/td>\n",
              "      <td>scene<\/td>\n",
              "    <\/tr>\n",
              "    <tr>\n",
              "      <th>68<\/th>\n",
              "      <td>66<\/td>\n",
              "      <td>1155<\/td>\n",
              "      <td>good<\/td>\n",
              "    <\/tr>\n",
              "    <tr>\n",
              "      <th>277<\/th>\n",
              "      <td>298<\/td>\n",
              "      <td>1134<\/td>\n",
              "      <td>play<\/td>\n",
              "    <\/tr>\n",
              "    <tr>\n",
              "      <th>422<\/th>\n",
              "      <td>376<\/td>\n",
              "      <td>1087<\/td>\n",
              "      <td>bad<\/td>\n",
              "    <\/tr>\n",
              "    <tr>\n",
              "      <th>328<\/th>\n",
              "      <td>366<\/td>\n",
              "      <td>1049<\/td>\n",
              "      <td>would<\/td>\n",
              "    <\/tr>\n",
              "    <tr>\n",
              "      <th>321<\/th>\n",
              "      <td>279<\/td>\n",
              "      <td>1017<\/td>\n",
              "      <td>look<\/td>\n",
              "    <\/tr>\n",
              "    <tr>\n",
              "      <th>43<\/th>\n",
              "      <td>102<\/td>\n",
              "      <td>998<\/td>\n",
              "      <td>much<\/td>\n",
              "    <\/tr>\n",
              "    <tr>\n",
              "      <th>283<\/th>\n",
              "      <td>246<\/td>\n",
              "      <td>988<\/td>\n",
              "      <td>go<\/td>\n",
              "    <\/tr>\n",
              "    <tr>\n",
              "      <th>444<\/th>\n",
              "      <td>490<\/td>\n",
              "      <td>973<\/td>\n",
              "      <td>stori<\/td>\n",
              "    <\/tr>\n",
              "    <tr>\n",
              "      <th>660<\/th>\n",
              "      <td>639<\/td>\n",
              "      <td>964<\/td>\n",
              "      <td>see<\/td>\n",
              "    <\/tr>\n",
              "    <tr>\n",
              "      <th>368<\/th>\n",
              "      <td>481<\/td>\n",
              "      <td>957<\/td>\n",
              "      <td>seem<\/td>\n",
              "    <\/tr>\n",
              "    <tr>\n",
              "      <th>69<\/th>\n",
              "      <td>117<\/td>\n",
              "      <td>933<\/td>\n",
              "      <td>plot<\/td>\n",
              "    <\/tr>\n",
              "    <tr>\n",
              "      <th>389<\/th>\n",
              "      <td>401<\/td>\n",
              "      <td>873<\/td>\n",
              "      <td>end<\/td>\n",
              "    <\/tr>\n",
              "    <tr>\n",
              "      <th>191<\/th>\n",
              "      <td>350<\/td>\n",
              "      <td>865<\/td>\n",
              "      <td>two<\/td>\n",
              "    <\/tr>\n",
              "    <tr>\n",
              "      <th>41<\/th>\n",
              "      <td>162<\/td>\n",
              "      <td>848<\/td>\n",
              "      <td>thing<\/td>\n",
              "    <\/tr>\n",
              "    <tr>\n",
              "      <th>206<\/th>\n",
              "      <td>209<\/td>\n",
              "      <td>841<\/td>\n",
              "      <td>come<\/td>\n",
              "    <\/tr>\n",
              "    <tr>\n",
              "      <th>106<\/th>\n",
              "      <td>172<\/td>\n",
              "      <td>831<\/td>\n",
              "      <td>way<\/td>\n",
              "    <\/tr>\n",
              "    <tr>\n",
              "      <th>218<\/th>\n",
              "      <td>236<\/td>\n",
              "      <td>809<\/td>\n",
              "      <td>first<\/td>\n",
              "    <\/tr>\n",
              "    <tr>\n",
              "      <th>4<\/th>\n",
              "      <td>160<\/td>\n",
              "      <td>800<\/td>\n",
              "      <td>take<\/td>\n",
              "    <\/tr>\n",
              "    <tr>\n",
              "      <th>44<\/th>\n",
              "      <td>128<\/td>\n",
              "      <td>787<\/td>\n",
              "      <td>realli<\/td>\n",
              "    <\/tr>\n",
              "    <tr>\n",
              "      <th>438<\/th>\n",
              "      <td>433<\/td>\n",
              "      <td>786<\/td>\n",
              "      <td>know<\/td>\n",
              "    <\/tr>\n",
              "  <\/tbody>\n",
              "<\/table>\n",
              "<\/div>"
            ]
          },
          "metadata":{
            
          },
          "output_type":"display_data"
        }
      ],
      "metadata":{
        
      }
    },
    {
      "cell_type":"code",
      "source":[
        "# get top 30 words in positive review corpus\n",
        "pos_df = pd.DataFrame(pos_dct.cfs.items(),columns=['word_id','count'])\n",
        "pos_df['word'] = pos_df.word_id.apply(lambda x: pos_dct.get(x))\n",
        "pos_df.sort_values('count',ascending=False)[:30]"
      ],
      "execution_count":8,
      "outputs":[
        {
          "data":{
            "text\/html":[
              "<div>\n",
              "<style scoped>\n",
              "    .dataframe tbody tr th:only-of-type {\n",
              "        vertical-align: middle;\n",
              "    }\n",
              "\n",
              "    .dataframe tbody tr th {\n",
              "        vertical-align: top;\n",
              "    }\n",
              "\n",
              "    .dataframe thead th {\n",
              "        text-align: right;\n",
              "    }\n",
              "<\/style>\n",
              "<table border=\"1\" class=\"dataframe\">\n",
              "  <thead>\n",
              "    <tr style=\"text-align: right;\">\n",
              "      <th><\/th>\n",
              "      <th>word_id<\/th>\n",
              "      <th>count<\/th>\n",
              "      <th>word<\/th>\n",
              "    <\/tr>\n",
              "  <\/thead>\n",
              "  <tbody>\n",
              "    <tr>\n",
              "      <th>238<\/th>\n",
              "      <td>119<\/td>\n",
              "      <td>6144<\/td>\n",
              "      <td>film<\/td>\n",
              "    <\/tr>\n",
              "    <tr>\n",
              "      <th>50<\/th>\n",
              "      <td>212<\/td>\n",
              "      <td>3126<\/td>\n",
              "      <td>movi<\/td>\n",
              "    <\/tr>\n",
              "    <tr>\n",
              "      <th>4<\/th>\n",
              "      <td>229<\/td>\n",
              "      <td>3044<\/td>\n",
              "      <td>one<\/td>\n",
              "    <\/tr>\n",
              "    <tr>\n",
              "      <th>614<\/th>\n",
              "      <td>646<\/td>\n",
              "      <td>2053<\/td>\n",
              "      <td>charact<\/td>\n",
              "    <\/tr>\n",
              "    <tr>\n",
              "      <th>165<\/th>\n",
              "      <td>183<\/td>\n",
              "      <td>1947<\/td>\n",
              "      <td>like<\/td>\n",
              "    <\/tr>\n",
              "    <tr>\n",
              "      <th>13<\/th>\n",
              "      <td>195<\/td>\n",
              "      <td>1650<\/td>\n",
              "      <td>make<\/td>\n",
              "    <\/tr>\n",
              "    <tr>\n",
              "      <th>290<\/th>\n",
              "      <td>334<\/td>\n",
              "      <td>1525<\/td>\n",
              "      <td>time<\/td>\n",
              "    <\/tr>\n",
              "    <tr>\n",
              "      <th>11<\/th>\n",
              "      <td>131<\/td>\n",
              "      <td>1505<\/td>\n",
              "      <td>get<\/td>\n",
              "    <\/tr>\n",
              "    <tr>\n",
              "      <th>298<\/th>\n",
              "      <td>291<\/td>\n",
              "      <td>1350<\/td>\n",
              "      <td>scene<\/td>\n",
              "    <\/tr>\n",
              "    <tr>\n",
              "      <th>318<\/th>\n",
              "      <td>319<\/td>\n",
              "      <td>1347<\/td>\n",
              "      <td>stori<\/td>\n",
              "    <\/tr>\n",
              "    <tr>\n",
              "      <th>0<\/th>\n",
              "      <td>295<\/td>\n",
              "      <td>1238<\/td>\n",
              "      <td>see<\/td>\n",
              "    <\/tr>\n",
              "    <tr>\n",
              "      <th>218<\/th>\n",
              "      <td>136<\/td>\n",
              "      <td>1229<\/td>\n",
              "      <td>good<\/td>\n",
              "    <\/tr>\n",
              "    <tr>\n",
              "      <th>18<\/th>\n",
              "      <td>248<\/td>\n",
              "      <td>1227<\/td>\n",
              "      <td>play<\/td>\n",
              "    <\/tr>\n",
              "    <tr>\n",
              "      <th>295<\/th>\n",
              "      <td>104<\/td>\n",
              "      <td>1202<\/td>\n",
              "      <td>even<\/td>\n",
              "    <\/tr>\n",
              "    <tr>\n",
              "      <th>376<\/th>\n",
              "      <td>373<\/td>\n",
              "      <td>1200<\/td>\n",
              "      <td>also<\/td>\n",
              "    <\/tr>\n",
              "    <tr>\n",
              "      <th>240<\/th>\n",
              "      <td>213<\/td>\n",
              "      <td>1027<\/td>\n",
              "      <td>much<\/td>\n",
              "    <\/tr>\n",
              "    <tr>\n",
              "      <th>347<\/th>\n",
              "      <td>348<\/td>\n",
              "      <td>1024<\/td>\n",
              "      <td>way<\/td>\n",
              "    <\/tr>\n",
              "    <tr>\n",
              "      <th>117<\/th>\n",
              "      <td>327<\/td>\n",
              "      <td>999<\/td>\n",
              "      <td>take<\/td>\n",
              "    <\/tr>\n",
              "    <tr>\n",
              "      <th>284<\/th>\n",
              "      <td>296<\/td>\n",
              "      <td>994<\/td>\n",
              "      <td>seem<\/td>\n",
              "    <\/tr>\n",
              "    <tr>\n",
              "      <th>95<\/th>\n",
              "      <td>182<\/td>\n",
              "      <td>993<\/td>\n",
              "      <td>life<\/td>\n",
              "    <\/tr>\n",
              "    <tr>\n",
              "      <th>814<\/th>\n",
              "      <td>863<\/td>\n",
              "      <td>993<\/td>\n",
              "      <td>would<\/td>\n",
              "    <\/tr>\n",
              "    <tr>\n",
              "      <th>41<\/th>\n",
              "      <td>351<\/td>\n",
              "      <td>985<\/td>\n",
              "      <td>well<\/td>\n",
              "    <\/tr>\n",
              "    <tr>\n",
              "      <th>88<\/th>\n",
              "      <td>121<\/td>\n",
              "      <td>970<\/td>\n",
              "      <td>first<\/td>\n",
              "    <\/tr>\n",
              "    <tr>\n",
              "      <th>163<\/th>\n",
              "      <td>133<\/td>\n",
              "      <td>961<\/td>\n",
              "      <td>go<\/td>\n",
              "    <\/tr>\n",
              "    <tr>\n",
              "      <th>1293<\/th>\n",
              "      <td>1312<\/td>\n",
              "      <td>960<\/td>\n",
              "      <td>two<\/td>\n",
              "    <\/tr>\n",
              "    <tr>\n",
              "      <th>552<\/th>\n",
              "      <td>431<\/td>\n",
              "      <td>952<\/td>\n",
              "      <td>end<\/td>\n",
              "    <\/tr>\n",
              "    <tr>\n",
              "      <th>826<\/th>\n",
              "      <td>774<\/td>\n",
              "      <td>941<\/td>\n",
              "      <td>perform<\/td>\n",
              "    <\/tr>\n",
              "    <tr>\n",
              "      <th>159<\/th>\n",
              "      <td>59<\/td>\n",
              "      <td>927<\/td>\n",
              "      <td>come<\/td>\n",
              "    <\/tr>\n",
              "    <tr>\n",
              "      <th>42<\/th>\n",
              "      <td>359<\/td>\n",
              "      <td>912<\/td>\n",
              "      <td>work<\/td>\n",
              "    <\/tr>\n",
              "    <tr>\n",
              "      <th>455<\/th>\n",
              "      <td>610<\/td>\n",
              "      <td>881<\/td>\n",
              "      <td>year<\/td>\n",
              "    <\/tr>\n",
              "  <\/tbody>\n",
              "<\/table>\n",
              "<\/div>"
            ]
          },
          "metadata":{
            
          },
          "output_type":"display_data"
        }
      ],
      "metadata":{
        
      }
    },
    {
      "cell_type":"code",
      "source":[
        "#create frequency visualization of the 30 most frequent positive words\n",
        "import seaborn as sns\n",
        "pos_df.sort_values(by=['count'],ascending=False,inplace=True)\n",
        "sns.set(rc={'figure.figsize':(11,8)})\n",
        "sns.scatterplot(data=pos_df[:30], x=\"count\", y='word').set_title('Top 30 Positive Word Counts')"
      ],
      "execution_count":9,
      "outputs":[
        {
          "data":{
            "text\/plain":[
              "Text(0.5, 1.0, 'Top 30 Positive Word Counts')"
            ],
            "image\/png":"[encoded data removed]"
          },
          "metadata":{
            "image\/png":{
              
            }
          },
          "output_type":"display_data"
        }
      ],
      "metadata":{
        
      }
    },
    {
      "cell_type":"markdown",
      "source":[
        "The distribution of the top 30 words appears to be logarithmic. The words that appear over 1000 times (the number of reviews) appear to be generic to moves except for \"good\" and \"like.\" I would imagine many of these words would appear in the top 30 negative words as well."
      ],
      "attachments":{
        
      },
      "metadata":{
        
      }
    },
    {
      "cell_type":"code",
      "source":[
        "#create frequency visualization of the 30 most frequent negative words\n",
        "neg_df.sort_values(by=['count'],ascending=False,inplace=True)\n",
        "sns.scatterplot(data=neg_df[:30], x=\"count\", y='word').set_title('Top 30 Negative Word Counts')"
      ],
      "execution_count":10,
      "outputs":[
        {
          "data":{
            "text\/plain":[
              "Text(0.5, 1.0, 'Top 30 Negative Word Counts')"
            ],
            "image\/png":"[encoded data removed]"
          },
          "metadata":{
            "image\/png":{
              
            }
          },
          "output_type":"display_data"
        }
      ],
      "metadata":{
        
      }
    },
    {
      "cell_type":"markdown",
      "source":[
        "This distribution also seems logarithmic. There are some unique \"negative\" words that appear like \"bad,\" but the word \"good\" appears here too. We would imagine that in the negative review it would be preceded by a negation such as \"not good,\" though that is beyond the scope of this notebook. Most of the top 30 positive words appear here too. We think it would be useful to compare these distributions."
      ],
      "attachments":{
        
      },
      "metadata":{
        
      }
    },
    {
      "cell_type":"code",
      "source":[
        "#merge dataframes on the words to visualize the comparisons\n",
        "comb_df = neg_df.merge(pos_df, left_on='word', right_on='word',suffixes=('_neg','_pos'))\n",
        "comb_df.head()"
      ],
      "execution_count":11,
      "outputs":[
        {
          "data":{
            "text\/html":[
              "<div>\n",
              "<style scoped>\n",
              "    .dataframe tbody tr th:only-of-type {\n",
              "        vertical-align: middle;\n",
              "    }\n",
              "\n",
              "    .dataframe tbody tr th {\n",
              "        vertical-align: top;\n",
              "    }\n",
              "\n",
              "    .dataframe thead th {\n",
              "        text-align: right;\n",
              "    }\n",
              "<\/style>\n",
              "<table border=\"1\" class=\"dataframe\">\n",
              "  <thead>\n",
              "    <tr style=\"text-align: right;\">\n",
              "      <th><\/th>\n",
              "      <th>word_id_neg<\/th>\n",
              "      <th>count_neg<\/th>\n",
              "      <th>word<\/th>\n",
              "      <th>word_id_pos<\/th>\n",
              "      <th>count_pos<\/th>\n",
              "    <\/tr>\n",
              "  <\/thead>\n",
              "  <tbody>\n",
              "    <tr>\n",
              "      <th>0<\/th>\n",
              "      <td>59<\/td>\n",
              "      <td>4963<\/td>\n",
              "      <td>film<\/td>\n",
              "      <td>119<\/td>\n",
              "      <td>6144<\/td>\n",
              "    <\/tr>\n",
              "    <tr>\n",
              "      <th>1<\/th>\n",
              "      <td>101<\/td>\n",
              "      <td>3731<\/td>\n",
              "      <td>movi<\/td>\n",
              "      <td>212<\/td>\n",
              "      <td>3126<\/td>\n",
              "    <\/tr>\n",
              "    <tr>\n",
              "      <th>2<\/th>\n",
              "      <td>111<\/td>\n",
              "      <td>2715<\/td>\n",
              "      <td>one<\/td>\n",
              "      <td>229<\/td>\n",
              "      <td>3044<\/td>\n",
              "    <\/tr>\n",
              "    <tr>\n",
              "      <th>3<\/th>\n",
              "      <td>90<\/td>\n",
              "      <td>2050<\/td>\n",
              "      <td>like<\/td>\n",
              "      <td>183<\/td>\n",
              "      <td>1947<\/td>\n",
              "    <\/tr>\n",
              "    <tr>\n",
              "      <th>4<\/th>\n",
              "      <td>205<\/td>\n",
              "      <td>1802<\/td>\n",
              "      <td>charact<\/td>\n",
              "      <td>646<\/td>\n",
              "      <td>2053<\/td>\n",
              "    <\/tr>\n",
              "  <\/tbody>\n",
              "<\/table>\n",
              "<\/div>"
            ]
          },
          "metadata":{
            
          },
          "output_type":"display_data"
        }
      ],
      "metadata":{
        
      }
    },
    {
      "cell_type":"code",
      "source":[
        "#create bar plot of the most common words to compare the frequency in positive and negative reviews\n",
        "data=comb_df[:37].plot.bar(x='word', y=['count_pos','count_neg'], figsize=(15,5), grid=True).set_title('Top Word Counts')#sliced at 37 to include the top 30 words from each set"
      ],
      "execution_count":12,
      "outputs":[
        {
          "data":{
            "image\/png":"[encoded data removed]"
          },
          "metadata":{
            "image\/png":{
              
            }
          },
          "output_type":"display_data"
        }
      ],
      "metadata":{
        
      }
    },
    {
      "cell_type":"markdown",
      "source":[
        "Our individual plots hinted to us that the most frequent words would appear in both negative and positive reviews, despite the removal of stopwords and stemming. However, the similarity of the top words in both categories of review is striking. There are some differences; negative reviews are more likely to use the term \"movie\" and positive reviews will call it a \"film.\" \"Bad\" rarely appears in positive reviews. \"Stori,\" \"also,\" and \"see\" also seem to occur more frequently in positive reviews. On the whole, we would not be confident in our model's accuracy if we trained it only on the most frequent words. The less frequent words may have a larger impact."
      ],
      "attachments":{
        
      },
      "metadata":{
        
      }
    },
    {
      "cell_type":"markdown",
      "source":[
        "# Naïve Bayes Model Training"
      ],
      "attachments":{
        
      },
      "metadata":{
        
      }
    },
    {
      "cell_type":"markdown",
      "source":[
        "We will now finish preparing the data so it is suitable for modeling. These steps include;\n",
        "1. Create a master dictionary that contains all positive and negative reviews\n",
        "2. Feed our reviews into the dictionary to create our corpus\n",
        "3. Convert the corpus to dense matrix\n",
        "4. Create a \"y\" column of labels to indicate positive and negative classification\n",
        "5. Split the data into test and train sets\n",
        "6. Initialize and train the models\n",
        "    1) Sklearn Model\n",
        "    2) Nltk Model\n",
        "7. Evaluate the respective training models"
      ],
      "attachments":{
        
      },
      "metadata":{
        
      }
    },
    {
      "cell_type":"code",
      "source":[
        "#create master dictionaru\n",
        "master_dic =  Dictionary(clean_pos)\n",
        "master_dic.add_documents(clean_negs)"
      ],
      "execution_count":13,
      "outputs":[
        
      ],
      "metadata":{
        
      }
    },
    {
      "cell_type":"code",
      "source":[
        "#feed our reviews into the dictionary to create our corpus\n",
        "docs = []\n",
        "for doc in clean_pos:\n",
        "    test = master_dic.doc2bow(doc)\n",
        "    docs.append((test))\n",
        "for doc in clean_negs:\n",
        "    test = master_dic.doc2bow(doc)\n",
        "    docs.append((test))"
      ],
      "execution_count":14,
      "outputs":[
        
      ],
      "metadata":{
        
      }
    },
    {
      "cell_type":"code",
      "source":[
        "#convert corpus to matrix to enable model training\n",
        "from gensim.matutils import corpus2dense\n",
        "data = corpus2dense(docs,len(master_dic))\n",
        "data = data.T"
      ],
      "execution_count":15,
      "outputs":[
        
      ],
      "metadata":{
        
      }
    },
    {
      "cell_type":"code",
      "source":[
        "#adding classification\n",
        "y = np.ones((1000, 1))\n",
        "y = np.append(y,np.zeros((1000,1)))\n",
        "y.shape"
      ],
      "execution_count":16,
      "outputs":[
        {
          "data":{
            "text\/plain":[
              "(2000,)"
            ]
          },
          "metadata":{
            
          },
          "output_type":"display_data"
        }
      ],
      "metadata":{
        
      }
    },
    {
      "cell_type":"markdown",
      "source":[
        "## Complete term document matrix"
      ],
      "attachments":{
        
      },
      "metadata":{
        
      }
    },
    {
      "cell_type":"code",
      "source":[
        "df = pd.DataFrame(data,dtype=np.int8)#changing datatype to free up memory\n",
        "df['target'] = y\n",
        "df.head()"
      ],
      "execution_count":17,
      "outputs":[
        {
          "data":{
            "text\/html":[
              "<div>\n",
              "<style scoped>\n",
              "    .dataframe tbody tr th:only-of-type {\n",
              "        vertical-align: middle;\n",
              "    }\n",
              "\n",
              "    .dataframe tbody tr th {\n",
              "        vertical-align: top;\n",
              "    }\n",
              "\n",
              "    .dataframe thead th {\n",
              "        text-align: right;\n",
              "    }\n",
              "<\/style>\n",
              "<table border=\"1\" class=\"dataframe\">\n",
              "  <thead>\n",
              "    <tr style=\"text-align: right;\">\n",
              "      <th><\/th>\n",
              "      <th>0<\/th>\n",
              "      <th>1<\/th>\n",
              "      <th>2<\/th>\n",
              "      <th>3<\/th>\n",
              "      <th>4<\/th>\n",
              "      <th>5<\/th>\n",
              "      <th>6<\/th>\n",
              "      <th>7<\/th>\n",
              "      <th>8<\/th>\n",
              "      <th>9<\/th>\n",
              "      <th>...<\/th>\n",
              "      <th>30701<\/th>\n",
              "      <th>30702<\/th>\n",
              "      <th>30703<\/th>\n",
              "      <th>30704<\/th>\n",
              "      <th>30705<\/th>\n",
              "      <th>30706<\/th>\n",
              "      <th>30707<\/th>\n",
              "      <th>30708<\/th>\n",
              "      <th>30709<\/th>\n",
              "      <th>target<\/th>\n",
              "    <\/tr>\n",
              "  <\/thead>\n",
              "  <tbody>\n",
              "    <tr>\n",
              "      <th>0<\/th>\n",
              "      <td>2<\/td>\n",
              "      <td>1<\/td>\n",
              "      <td>1<\/td>\n",
              "      <td>1<\/td>\n",
              "      <td>1<\/td>\n",
              "      <td>1<\/td>\n",
              "      <td>3<\/td>\n",
              "      <td>1<\/td>\n",
              "      <td>1<\/td>\n",
              "      <td>1<\/td>\n",
              "      <td>...<\/td>\n",
              "      <td>0<\/td>\n",
              "      <td>0<\/td>\n",
              "      <td>0<\/td>\n",
              "      <td>0<\/td>\n",
              "      <td>0<\/td>\n",
              "      <td>0<\/td>\n",
              "      <td>0<\/td>\n",
              "      <td>0<\/td>\n",
              "      <td>0<\/td>\n",
              "      <td>1.0<\/td>\n",
              "    <\/tr>\n",
              "    <tr>\n",
              "      <th>1<\/th>\n",
              "      <td>0<\/td>\n",
              "      <td>0<\/td>\n",
              "      <td>0<\/td>\n",
              "      <td>0<\/td>\n",
              "      <td>0<\/td>\n",
              "      <td>0<\/td>\n",
              "      <td>0<\/td>\n",
              "      <td>0<\/td>\n",
              "      <td>0<\/td>\n",
              "      <td>0<\/td>\n",
              "      <td>...<\/td>\n",
              "      <td>0<\/td>\n",
              "      <td>0<\/td>\n",
              "      <td>0<\/td>\n",
              "      <td>0<\/td>\n",
              "      <td>0<\/td>\n",
              "      <td>0<\/td>\n",
              "      <td>0<\/td>\n",
              "      <td>0<\/td>\n",
              "      <td>0<\/td>\n",
              "      <td>1.0<\/td>\n",
              "    <\/tr>\n",
              "    <tr>\n",
              "      <th>2<\/th>\n",
              "      <td>1<\/td>\n",
              "      <td>0<\/td>\n",
              "      <td>3<\/td>\n",
              "      <td>0<\/td>\n",
              "      <td>0<\/td>\n",
              "      <td>0<\/td>\n",
              "      <td>0<\/td>\n",
              "      <td>0<\/td>\n",
              "      <td>2<\/td>\n",
              "      <td>2<\/td>\n",
              "      <td>...<\/td>\n",
              "      <td>0<\/td>\n",
              "      <td>0<\/td>\n",
              "      <td>0<\/td>\n",
              "      <td>0<\/td>\n",
              "      <td>0<\/td>\n",
              "      <td>0<\/td>\n",
              "      <td>0<\/td>\n",
              "      <td>0<\/td>\n",
              "      <td>0<\/td>\n",
              "      <td>1.0<\/td>\n",
              "    <\/tr>\n",
              "    <tr>\n",
              "      <th>3<\/th>\n",
              "      <td>0<\/td>\n",
              "      <td>3<\/td>\n",
              "      <td>0<\/td>\n",
              "      <td>0<\/td>\n",
              "      <td>1<\/td>\n",
              "      <td>0<\/td>\n",
              "      <td>0<\/td>\n",
              "      <td>0<\/td>\n",
              "      <td>0<\/td>\n",
              "      <td>0<\/td>\n",
              "      <td>...<\/td>\n",
              "      <td>0<\/td>\n",
              "      <td>0<\/td>\n",
              "      <td>0<\/td>\n",
              "      <td>0<\/td>\n",
              "      <td>0<\/td>\n",
              "      <td>0<\/td>\n",
              "      <td>0<\/td>\n",
              "      <td>0<\/td>\n",
              "      <td>0<\/td>\n",
              "      <td>1.0<\/td>\n",
              "    <\/tr>\n",
              "    <tr>\n",
              "      <th>4<\/th>\n",
              "      <td>0<\/td>\n",
              "      <td>1<\/td>\n",
              "      <td>2<\/td>\n",
              "      <td>1<\/td>\n",
              "      <td>1<\/td>\n",
              "      <td>0<\/td>\n",
              "      <td>0<\/td>\n",
              "      <td>0<\/td>\n",
              "      <td>0<\/td>\n",
              "      <td>1<\/td>\n",
              "      <td>...<\/td>\n",
              "      <td>0<\/td>\n",
              "      <td>0<\/td>\n",
              "      <td>0<\/td>\n",
              "      <td>0<\/td>\n",
              "      <td>0<\/td>\n",
              "      <td>0<\/td>\n",
              "      <td>0<\/td>\n",
              "      <td>0<\/td>\n",
              "      <td>0<\/td>\n",
              "      <td>1.0<\/td>\n",
              "    <\/tr>\n",
              "  <\/tbody>\n",
              "<\/table>\n",
              "<p>5 rows × 30711 columns<\/p>\n",
              "<\/div>"
            ]
          },
          "metadata":{
            
          },
          "output_type":"display_data"
        }
      ],
      "metadata":{
        
      }
    },
    {
      "cell_type":"markdown",
      "source":[
        "## Split Data"
      ],
      "attachments":{
        
      },
      "metadata":{
        
      }
    },
    {
      "cell_type":"code",
      "source":[
        "## test train split\n",
        "from sklearn.model_selection import train_test_split\n",
        "\n",
        "X_train, X_test, y_train, y_test = train_test_split(data, y, test_size=.25 , random_state=42, stratify = y)\n",
        "X_train.shape"
      ],
      "execution_count":18,
      "outputs":[
        {
          "data":{
            "text\/plain":[
              "(1500, 30710)"
            ]
          },
          "metadata":{
            
          },
          "output_type":"display_data"
        }
      ],
      "metadata":{
        
      }
    },
    {
      "cell_type":"markdown",
      "source":[
        "## Model Building"
      ],
      "attachments":{
        
      },
      "metadata":{
        
      }
    },
    {
      "cell_type":"markdown",
      "source":[
        "### sklearn implementation"
      ],
      "attachments":{
        
      },
      "metadata":{
        
      }
    },
    {
      "cell_type":"code",
      "source":[
        "from sklearn.naive_bayes import MultinomialNB\n",
        "model = MultinomialNB()\n",
        "model.fit(X_train,y_train)"
      ],
      "execution_count":19,
      "outputs":[
        {
          "data":{
            "text\/plain":[
              "MultinomialNB()"
            ]
          },
          "metadata":{
            
          },
          "output_type":"display_data"
        }
      ],
      "metadata":{
        
      }
    },
    {
      "cell_type":"code",
      "source":[
        "# accuracy \n",
        "model.score(X_train,y_train)"
      ],
      "execution_count":20,
      "outputs":[
        {
          "data":{
            "text\/plain":[
              "0.9733333333333334"
            ]
          },
          "metadata":{
            
          },
          "output_type":"display_data"
        }
      ],
      "metadata":{
        
      }
    },
    {
      "cell_type":"code",
      "source":[
        "from sklearn.metrics import classification_report\n",
        "#classifcation report \n",
        "y_pred = model.predict(X_train)\n",
        "\n",
        "print(classification_report(y_train,y_pred))"
      ],
      "execution_count":21,
      "outputs":[
        {
          "name":"stdout",
          "text":[
            "              precision    recall  f1-score   support\n",
            "\n",
            "         0.0       0.97      0.98      0.97       750\n",
            "         1.0       0.98      0.97      0.97       750\n",
            "\n",
            "    accuracy                           0.97      1500\n",
            "   macro avg       0.97      0.97      0.97      1500\n",
            "weighted avg       0.97      0.97      0.97      1500\n",
            "\n"
          ],
          "output_type":"stream"
        }
      ],
      "metadata":{
        
      }
    },
    {
      "cell_type":"markdown",
      "source":[
        "This looks like a very solid model; all scores are approximately 97%. The model doesn't seem over-fit or under-fit, which isn't surprising on the training data alone."
      ],
      "attachments":{
        
      },
      "metadata":{
        
      }
    },
    {
      "cell_type":"markdown",
      "source":[
        "#### Feature Importance"
      ],
      "attachments":{
        
      },
      "metadata":{
        
      }
    },
    {
      "cell_type":"code",
      "source":[
        "log = pd.DataFrame(model.feature_log_prob_.T)\n",
        "log.reset_index(inplace=True)\n",
        "log['index'] = log['index'].apply(lambda x: master_dic.get(x))"
      ],
      "execution_count":22,
      "outputs":[
        
      ],
      "metadata":{
        
      }
    },
    {
      "cell_type":"code",
      "source":[
        "log.head()\n",
        "log.sort_values(1,ascending=True)[:30]"
      ],
      "execution_count":23,
      "outputs":[
        {
          "data":{
            "text\/html":[
              "<div>\n",
              "<style scoped>\n",
              "    .dataframe tbody tr th:only-of-type {\n",
              "        vertical-align: middle;\n",
              "    }\n",
              "\n",
              "    .dataframe tbody tr th {\n",
              "        vertical-align: top;\n",
              "    }\n",
              "\n",
              "    .dataframe thead th {\n",
              "        text-align: right;\n",
              "    }\n",
              "<\/style>\n",
              "<table border=\"1\" class=\"dataframe\">\n",
              "  <thead>\n",
              "    <tr style=\"text-align: right;\">\n",
              "      <th><\/th>\n",
              "      <th>index<\/th>\n",
              "      <th>0<\/th>\n",
              "      <th>1<\/th>\n",
              "    <\/tr>\n",
              "  <\/thead>\n",
              "  <tbody>\n",
              "    <tr>\n",
              "      <th>30709<\/th>\n",
              "      <td>superdemon<\/td>\n",
              "      <td>-11.849183<\/td>\n",
              "      <td>-12.633977<\/td>\n",
              "    <\/tr>\n",
              "    <tr>\n",
              "      <th>23722<\/th>\n",
              "      <td>choosen<\/td>\n",
              "      <td>-11.849183<\/td>\n",
              "      <td>-12.633977<\/td>\n",
              "    <\/tr>\n",
              "    <tr>\n",
              "      <th>23721<\/th>\n",
              "      <td>arguement<\/td>\n",
              "      <td>-11.849183<\/td>\n",
              "      <td>-12.633977<\/td>\n",
              "    <\/tr>\n",
              "    <tr>\n",
              "      <th>23720<\/th>\n",
              "      <td>uhaul<\/td>\n",
              "      <td>-11.443718<\/td>\n",
              "      <td>-12.633977<\/td>\n",
              "    <\/tr>\n",
              "    <tr>\n",
              "      <th>23719<\/th>\n",
              "      <td>sixastronaut<\/td>\n",
              "      <td>-11.849183<\/td>\n",
              "      <td>-12.633977<\/td>\n",
              "    <\/tr>\n",
              "    <tr>\n",
              "      <th>23718<\/th>\n",
              "      <td>productplac<\/td>\n",
              "      <td>-11.849183<\/td>\n",
              "      <td>-12.633977<\/td>\n",
              "    <\/tr>\n",
              "    <tr>\n",
              "      <th>23717<\/th>\n",
              "      <td>exsecretari<\/td>\n",
              "      <td>-11.849183<\/td>\n",
              "      <td>-12.633977<\/td>\n",
              "    <\/tr>\n",
              "    <tr>\n",
              "      <th>23716<\/th>\n",
              "      <td>powerhous<\/td>\n",
              "      <td>-11.443718<\/td>\n",
              "      <td>-12.633977<\/td>\n",
              "    <\/tr>\n",
              "    <tr>\n",
              "      <th>23715<\/th>\n",
              "      <td>phrasingtoo<\/td>\n",
              "      <td>-11.849183<\/td>\n",
              "      <td>-12.633977<\/td>\n",
              "    <\/tr>\n",
              "    <tr>\n",
              "      <th>23714<\/th>\n",
              "      <td>movieyou<\/td>\n",
              "      <td>-11.849183<\/td>\n",
              "      <td>-12.633977<\/td>\n",
              "    <\/tr>\n",
              "    <tr>\n",
              "      <th>23713<\/th>\n",
              "      <td>mailheart<\/td>\n",
              "      <td>-11.849183<\/td>\n",
              "      <td>-12.633977<\/td>\n",
              "    <\/tr>\n",
              "    <tr>\n",
              "      <th>23712<\/th>\n",
              "      <td>madepeopl<\/td>\n",
              "      <td>-11.849183<\/td>\n",
              "      <td>-12.633977<\/td>\n",
              "    <\/tr>\n",
              "    <tr>\n",
              "      <th>23711<\/th>\n",
              "      <td>horesback<\/td>\n",
              "      <td>-11.849183<\/td>\n",
              "      <td>-12.633977<\/td>\n",
              "    <\/tr>\n",
              "    <tr>\n",
              "      <th>23710<\/th>\n",
              "      <td>heroiz<\/td>\n",
              "      <td>-11.849183<\/td>\n",
              "      <td>-12.633977<\/td>\n",
              "    <\/tr>\n",
              "    <tr>\n",
              "      <th>23709<\/th>\n",
              "      <td>handswhi<\/td>\n",
              "      <td>-11.849183<\/td>\n",
              "      <td>-12.633977<\/td>\n",
              "    <\/tr>\n",
              "    <tr>\n",
              "      <th>23708<\/th>\n",
              "      <td>fridg<\/td>\n",
              "      <td>-11.849183<\/td>\n",
              "      <td>-12.633977<\/td>\n",
              "    <\/tr>\n",
              "    <tr>\n",
              "      <th>23707<\/th>\n",
              "      <td>eggo<\/td>\n",
              "      <td>-11.849183<\/td>\n",
              "      <td>-12.633977<\/td>\n",
              "    <\/tr>\n",
              "    <tr>\n",
              "      <th>23706<\/th>\n",
              "      <td>driftercumpostman<\/td>\n",
              "      <td>-11.849183<\/td>\n",
              "      <td>-12.633977<\/td>\n",
              "    <\/tr>\n",
              "    <tr>\n",
              "      <th>23723<\/th>\n",
              "      <td>fahdlan<\/td>\n",
              "      <td>-11.156036<\/td>\n",
              "      <td>-12.633977<\/td>\n",
              "    <\/tr>\n",
              "    <tr>\n",
              "      <th>23705<\/th>\n",
              "      <td>delaney<\/td>\n",
              "      <td>-10.596420<\/td>\n",
              "      <td>-12.633977<\/td>\n",
              "    <\/tr>\n",
              "    <tr>\n",
              "      <th>23724<\/th>\n",
              "      <td>ibn<\/td>\n",
              "      <td>-10.932893<\/td>\n",
              "      <td>-12.633977<\/td>\n",
              "    <\/tr>\n",
              "    <tr>\n",
              "      <th>23726<\/th>\n",
              "      <td>tarvel<\/td>\n",
              "      <td>-11.849183<\/td>\n",
              "      <td>-12.633977<\/td>\n",
              "    <\/tr>\n",
              "    <tr>\n",
              "      <th>23743<\/th>\n",
              "      <td>travesti<\/td>\n",
              "      <td>-11.156036<\/td>\n",
              "      <td>-12.633977<\/td>\n",
              "    <\/tr>\n",
              "    <tr>\n",
              "      <th>23742<\/th>\n",
              "      <td>toplin<\/td>\n",
              "      <td>-11.849183<\/td>\n",
              "      <td>-12.633977<\/td>\n",
              "    <\/tr>\n",
              "    <tr>\n",
              "      <th>23741<\/th>\n",
              "      <td>occasionallywitti<\/td>\n",
              "      <td>-11.849183<\/td>\n",
              "      <td>-12.633977<\/td>\n",
              "    <\/tr>\n",
              "    <tr>\n",
              "      <th>23740<\/th>\n",
              "      <td>ninthconsecut<\/td>\n",
              "      <td>-11.849183<\/td>\n",
              "      <td>-12.633977<\/td>\n",
              "    <\/tr>\n",
              "    <tr>\n",
              "      <th>23739<\/th>\n",
              "      <td>manmeetsalien<\/td>\n",
              "      <td>-11.849183<\/td>\n",
              "      <td>-12.633977<\/td>\n",
              "    <\/tr>\n",
              "    <tr>\n",
              "      <th>23738<\/th>\n",
              "      <td>levinsondustin<\/td>\n",
              "      <td>-11.849183<\/td>\n",
              "      <td>-12.633977<\/td>\n",
              "    <\/tr>\n",
              "    <tr>\n",
              "      <th>23737<\/th>\n",
              "      <td>levinsondirect<\/td>\n",
              "      <td>-11.849183<\/td>\n",
              "      <td>-12.633977<\/td>\n",
              "    <\/tr>\n",
              "    <tr>\n",
              "      <th>23736<\/th>\n",
              "      <td>disclosur<\/td>\n",
              "      <td>-11.156036<\/td>\n",
              "      <td>-12.633977<\/td>\n",
              "    <\/tr>\n",
              "  <\/tbody>\n",
              "<\/table>\n",
              "<\/div>"
            ]
          },
          "metadata":{
            
          },
          "output_type":"display_data"
        }
      ],
      "metadata":{
        
      }
    },
    {
      "cell_type":"markdown",
      "source":[
        "It looks like a lot of the infrequent words that don't appear to be common are the most important in this model. We will now build a Naive Bayes model with the nltk classifier to see if it performs better, or uses features that are more understandable."
      ],
      "attachments":{
        
      },
      "metadata":{
        
      }
    },
    {
      "cell_type":"markdown",
      "source":[
        "### Nltk Implementation\n",
        "1. Format Data:\n",
        "    1. ({documentdictionary},label)\n",
        "2. Train Model"
      ],
      "attachments":{
        
      },
      "metadata":{
        
      }
    },
    {
      "cell_type":"code",
      "source":[
        "#load documents in a format the nltk naive bayes classifier can use\n",
        "docs_pos = []\n",
        "docs_negs = []\n",
        "for doc in clean_pos:\n",
        "    test = master_dic.doc2bow(doc)\n",
        "    test = {master_dic.get(x):y for x,y in test}\n",
        "    example = (test,'pos')\n",
        "    docs_pos.append(example)\n",
        "for doc in clean_negs:\n",
        "    test = master_dic.doc2bow(doc)\n",
        "    test = {master_dic.get(x):y for x,y in test}\n",
        "    example = (test,'neg')\n",
        "    docs_negs.append(example)"
      ],
      "execution_count":24,
      "outputs":[
        
      ],
      "metadata":{
        
      }
    },
    {
      "cell_type":"code",
      "source":[
        "#split data into training and testing sets\n",
        "import random\n",
        "#trainign set\n",
        "nltk_train = docs_pos[:750]+docs_negs[:750]  #first 750 entries of both pos and neg\n",
        "\n",
        "#testing set\n",
        "nltk_test = docs_pos[750:]+docs_negs[750:]#last 250 entries\n",
        "\n",
        "\n",
        "# shuffling train for reasons\n",
        "random.seed(42)\n",
        "random.shuffle(nltk_train)"
      ],
      "execution_count":25,
      "outputs":[
        
      ],
      "metadata":{
        
      }
    },
    {
      "cell_type":"code",
      "source":[
        "#initialize classifier\n",
        "from nltk import NaiveBayesClassifier\n",
        "\n",
        "classifier = NaiveBayesClassifier.train(nltk_train)"
      ],
      "execution_count":26,
      "outputs":[
        
      ],
      "metadata":{
        
      }
    },
    {
      "cell_type":"code",
      "source":[
        "from nltk import classify\n",
        "\n",
        "accuracy = classify.accuracy(classifier, nltk_train)\n",
        "print (accuracy) "
      ],
      "execution_count":27,
      "outputs":[
        {
          "name":"stdout",
          "text":[
            "0.9913333333333333\n"
          ],
          "output_type":"stream"
        }
      ],
      "metadata":{
        
      }
    },
    {
      "cell_type":"code",
      "source":[
        "#classifcation report on training data\n",
        "\n",
        "nltk_y = [n[1] for n in nltk_train]\n",
        "nltk_sample = [n[0] for n in nltk_train]\n",
        "\n",
        "nltk_pred = classifier.classify_many(nltk_sample)\n",
        "\n",
        "print(classification_report(nltk_y,nltk_pred))"
      ],
      "execution_count":28,
      "outputs":[
        {
          "name":"stdout",
          "text":[
            "              precision    recall  f1-score   support\n",
            "\n",
            "         neg       1.00      0.98      0.99       750\n",
            "         pos       0.98      1.00      0.99       750\n",
            "\n",
            "    accuracy                           0.99      1500\n",
            "   macro avg       0.99      0.99      0.99      1500\n",
            "weighted avg       0.99      0.99      0.99      1500\n",
            "\n"
          ],
          "output_type":"stream"
        }
      ],
      "metadata":{
        
      }
    },
    {
      "cell_type":"markdown",
      "source":[
        "The ntlk classifier has higher scores than the sklearn library across the board. Once again, these are the scores of the training data. We will now look at the most important features."
      ],
      "attachments":{
        
      },
      "metadata":{
        
      }
    },
    {
      "cell_type":"code",
      "source":[
        "classifier.most_informative_features(30)"
      ],
      "execution_count":29,
      "outputs":[
        {
          "data":{
            "text\/plain":[
              "[('murphi', 1),\n",
              " ('outstand', 1),\n",
              " ('misfir', 1),\n",
              " ('suppos', 3),\n",
              " ('onenot', 1),\n",
              " ('deft', 1),\n",
              " ('gothic', 1),\n",
              " ('stupid', 2),\n",
              " ('anger', 1),\n",
              " ('plod', 1),\n",
              " ('porn', 1),\n",
              " ('car', 3),\n",
              " ('winter', 1),\n",
              " ('aw', 2),\n",
              " ('carnag', 1),\n",
              " ('textur', 1),\n",
              " ('themat', 1),\n",
              " ('incompet', 1),\n",
              " ('offbeat', 1),\n",
              " ('finest', 1),\n",
              " ('clever', 2),\n",
              " ('delight', 2),\n",
              " ('terribl', 2),\n",
              " ('annual', 1),\n",
              " ('buy', 2),\n",
              " ('dark', 3),\n",
              " ('darker', 1),\n",
              " ('incoher', 1),\n",
              " ('trim', 1),\n",
              " ('ugh', 1)]"
            ]
          },
          "metadata":{
            
          },
          "output_type":"display_data"
        }
      ],
      "metadata":{
        
      }
    },
    {
      "cell_type":"markdown",
      "source":[
        "These seem less \"unique\" than the features of the sklearn classifier. We will now see which performs better on the testing data."
      ],
      "attachments":{
        
      },
      "metadata":{
        
      }
    },
    {
      "cell_type":"markdown",
      "source":[
        "# Model Testing\n",
        "We will now apply the testing subset to our models and discuss our results."
      ],
      "attachments":{
        
      },
      "metadata":{
        
      }
    },
    {
      "cell_type":"code",
      "source":[
        "y_pred = model.predict(X_test)\n",
        "print(classification_report(y_test,y_pred))"
      ],
      "execution_count":30,
      "outputs":[
        {
          "name":"stdout",
          "text":[
            "              precision    recall  f1-score   support\n",
            "\n",
            "         0.0       0.78      0.82      0.80       250\n",
            "         1.0       0.81      0.77      0.79       250\n",
            "\n",
            "    accuracy                           0.79       500\n",
            "   macro avg       0.79      0.79      0.79       500\n",
            "weighted avg       0.79      0.79      0.79       500\n",
            "\n"
          ],
          "output_type":"stream"
        }
      ],
      "metadata":{
        
      }
    },
    {
      "cell_type":"code",
      "source":[
        "nltk_y = [n[1] for n in nltk_test]\n",
        "nltk_sample = [n[0] for n in nltk_test]\n",
        "\n",
        "nltk_pred = classifier.classify_many(nltk_sample)\n",
        "\n",
        "print(classification_report(nltk_y,nltk_pred))"
      ],
      "execution_count":31,
      "outputs":[
        {
          "name":"stdout",
          "text":[
            "              precision    recall  f1-score   support\n",
            "\n",
            "         neg       0.97      0.42      0.58       250\n",
            "         pos       0.63      0.99      0.77       250\n",
            "\n",
            "    accuracy                           0.70       500\n",
            "   macro avg       0.80      0.70      0.68       500\n",
            "weighted avg       0.80      0.70      0.68       500\n",
            "\n"
          ],
          "output_type":"stream"
        }
      ],
      "metadata":{
        
      }
    },
    {
      "cell_type":"markdown",
      "source":[
        "The testing model scores are far from the .97 accuracy scores of the training models, but that is not surprising. The sklearn model has a more balanced precision and recall score than the nltk library. The accuracy of the sklearn model is also 9% better than the nltk model. Even though the nltk classifier has some higher precision and recall scores, the sklearn model's f1-score is better for both classes. For those reasons, we prefer the sklearn model."
      ],
      "attachments":{
        
      },
      "metadata":{
        
      }
    },
    {
      "cell_type":"markdown",
      "source":[
        "## New Review\n",
        " We will now apply our model to a previously unseen movie review. How well did your model perform on that review?  \n",
        "\n",
        "Steps:\n",
        "1. Load data \n",
        "2. Transform data\n",
        "    1. Tokenize\n",
        "    2. Bag-of-words format\n",
        "    3. Format sklearn dense matrix for the model\n",
        "3. Predict review class"
      ],
      "attachments":{
        
      },
      "metadata":{
        
      }
    },
    {
      "cell_type":"code",
      "source":[
        "#1. load data\n",
        "review =  \"\"\"There were some things I didn't like about this film. Here's what I remember most strongly: a man in an ingeniously\n",
        "            fake-looking polar bear costume (funnier than the \"bear\" from Hercules in New York); an extra with a less than believable \n",
        "            laugh; an ex-drug addict martian with tics; child actors who recite their lines very slowly and carefully;\n",
        "            a newspaper headline declaring that Santa has been \"kidnapped\", and a giant robot. The least appealing acting job in the \n",
        "            film must be when Mother Claus and her elves have been \"frozen\" by the \"Martians'\" weapons. They seemed to display an exaggerated amount of fear. \n",
        "            Perhaps this was the preferred acting style in the 1960's??\"\"\""
      ],
      "execution_count":32,
      "outputs":[
        
      ],
      "metadata":{
        
      }
    },
    {
      "cell_type":"code",
      "source":[
        "#2.1 tokenize\n",
        "review_token = clean_doc(review)\n",
        "\n",
        "#2.2 bag of words\n",
        "review_bag = master_dic.doc2bow(review_token)\n",
        "\n",
        "#2.3.1 sklearn\n",
        "dense = corpus2dense( [review_bag],\n",
        "              len(master_dic)\n",
        "            )\n",
        "dense = dense.T"
      ],
      "execution_count":33,
      "outputs":[
        
      ],
      "metadata":{
        
      }
    },
    {
      "cell_type":"code",
      "source":[
        "#3. predict review class with sklearn model\n",
        "model.predict_proba(dense)"
      ],
      "execution_count":34,
      "outputs":[
        {
          "data":{
            "text\/html":[
              
            ]
          },
          "metadata":{
            
          },
          "output_type":"display_data"
        }
      ],
      "metadata":{
        
      }
    },
    {
      "cell_type":"markdown",
      "source":[
        "# Conclusions "
      ],
      "attachments":{
        
      },
      "metadata":{
        
      }
    },
    {
      "cell_type":"markdown",
      "source":[
        "Our sklearn model correctly predicts that the \"new\" review is negative, with a .85 probability. This aligns with the 79% accuracy score we found for the model. We don't see any of the most informative features from our training model in the text of the review and assume some of the less prominent features had a larger effect in aggregate. We are confident in the 80% accuracy of our predictive model."
      ],
      "attachments":{
        
      },
      "metadata":{
        
      }
    }
  ],
  "metadata":{
    
  },
  "nbformat":4,
  "nbformat_minor":0
}
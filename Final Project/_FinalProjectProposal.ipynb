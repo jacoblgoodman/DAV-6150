{
  "nbformat": 4,
  "nbformat_minor": 0,
  "metadata": {
    "colab": {
      "name": "_FinalProjectProposal.ipynb",
      "provenance": [],
      "collapsed_sections": [],
      "toc_visible": true,
      "include_colab_link": true
    },
    "kernelspec": {
      "display_name": "Python 3",
      "name": "python3"
    }
  },
  "cells": [
    {
      "cell_type": "markdown",
      "metadata": {
        "id": "view-in-github",
        "colab_type": "text"
      },
      "source": [
        "<a href=\"https://colab.research.google.com/github/yuleidner/DAV-6150/blob/main/_FinalProjectProposal.ipynb\" target=\"_parent\"><img src=\"https://colab.research.google.com/assets/colab-badge.svg\" alt=\"Open In Colab\"/></a>"
      ]
    },
    {
      "cell_type": "markdown",
      "metadata": {
        "id": "Z6-V3bMbTz9z"
      },
      "source": [
        "# Data Science: Final Project Proposal \n",
        "Jacob Goodman & Alan Leidner\n",
        "\n",
        "Nov 14, 2021\n",
        "\n",
        "<a href=\"https://yu.instructure.com/courses/50398/assignments/191957\">Assignment Link</a>"
      ]
    },
    {
      "cell_type": "markdown",
      "metadata": {
        "id": "cXHBItwBTkOe"
      },
      "source": [
        "## Introduction"
      ]
    },
    {
      "cell_type": "markdown",
      "metadata": {
        "id": "_QEQM3FJaqrN"
      },
      "source": [
        "\"The Mayor’s Office of Management and Budget (OMB) is the City government's chief financial agency. OMB's staff of more than 400 analysts assemble and oversee both the expense budget (Fiscal Year 2022 98.7 billion dollars) and capital budget (Fiscal Year 2022 Adopted Capital Budget 17.0 billion dollars). The City of New York funds the activities of approximately 70 city agencies with more than 300,000 full-time and full-time equivalent employees.\n",
        "\n",
        "In addition, OMB plays many other important roles. Among these, the agency is charged with evaluating the efficiency and cost-effectiveness of City services and proposals. OMB's economists provide vital information to government officials on the local, United States and world economies. OMB also helps implement the City's borrowing and bond programs and conducts legal reviews of capital projects for financing with bond proceeds.\"[1]\n",
        "\n",
        "Historically in New York City projects have been underestimated. Sometimes this work is accidentally underestimated. Sometimes unforeseen circumstances arise that delay a project or cause its cost to rise. At other times however, project planners intentionally underestimate the cost to get a project started; Once the project is started, politicians are pressured to commit more resources or be accused of wasting the original budget.\n",
        "\n",
        "The legislature in NYC should be able to use the history of capital projects to accurately assess the length and costs of projects. This will help them weigh the true cost/benefit to their constituents.\n",
        "\n",
        "Citizens have a right to know whether or not their tax dollars are being committed to a project that is underestimated, which will lead to even more money becoming dedicated to the project.\n",
        "\n",
        "[1] https://www1.nyc.gov/site/omb/about/about-omb.page"
      ]
    },
    {
      "cell_type": "markdown",
      "metadata": {
        "id": "tjLaf9M6TtW4"
      },
      "source": [
        "## Research Questions"
      ]
    },
    {
      "cell_type": "markdown",
      "metadata": {
        "id": "x6wFnJonb57U"
      },
      "source": [
        "1. How much will a project be over budget?\n",
        "2. How long will a project run over the original deadline?\n",
        "3. Can we identify the factors that provide the greatest contribution to the delays and cost overruns?\n",
        "\n",
        "When project proposals are created for NYC, the people creating the project will be able to assess whether or not they are likely to have correctly budgeted and scheduled their project. Those approving the project will have access to the same estimate assessments, which will allow a transparent dialogue between the city's contractors and governing bodies.\n",
        "\n",
        "Transparency and open communication will help NYC approve new projects in a fiscally responsible manner. This can help the city balance its books and decide on appropriate projects whose value is worth the cost. If the models prove particularly effective, it may even reduce the tax burden on the city's workers."
      ]
    },
    {
      "cell_type": "markdown",
      "metadata": {
        "id": "hhTyls5qTvqU"
      },
      "source": [
        "## Data to be Used"
      ]
    },
    {
      "cell_type": "markdown",
      "metadata": {
        "id": "LPmQtQgbWoC6"
      },
      "source": [
        "We will use data from NYC's OpenData website. Specifically, we will ingest data from https://data.cityofnewyork.us/City-Government/Capital-Project-Detail-Data-Dollars/wa2y-rh4b\n",
        "\n",
        "Data Characteristics\n",
        "\n",
        "*   Updated Triannually\n",
        "*   Grain of the data is individual Capital Projects\n",
        "*   36.5K Rows\n",
        "*   30 Columns\n",
        "  *   10 Text Fields\n",
        "  *   20 Number fields"
      ]
    },
    {
      "cell_type": "markdown",
      "metadata": {
        "id": "dMOVxIoLT6Yu"
      },
      "source": [
        "## Approach\n"
      ]
    },
    {
      "cell_type": "markdown",
      "metadata": {
        "id": "RciKQ0Urcf3M"
      },
      "source": [
        "### Data Management\n",
        "We will download the data as a csv, upload it into Github, and import the data into a python notebook using a pandas dataframe.\n"
      ]
    },
    {
      "cell_type": "markdown",
      "metadata": {
        "id": "TSbLgYShWdF1"
      },
      "source": [
        "### Approach Summary\n",
        "We have to different tasks outlined in our research problem\n",
        "1. Can we classify which projects will be either over budget or over the deadline?\n",
        "2. Can we predict by how much?\n",
        "\n",
        "We plan to utilize classification techniques for the former and regression-based approaches for the latter."
      ]
    },
    {
      "cell_type": "markdown",
      "metadata": {
        "id": "dwaRKWQUWfle"
      },
      "source": [
        "### Approach Details\n",
        "We plan to take a straightforward data science life cycle approach:\n",
        "1. Establish questions we will try to answer (this document) \n",
        "2. Acquire data \n",
        "3. Perform an Exploratory Data Analysis and study the source system to acquire subject matter understanding including;\n",
        "  *   Distributions of the target variables\n",
        "  *   Inline histograms and whisker plots for all quantitative variables\n",
        "  *   Inline box plots to understand categorical variables\n",
        "  *   Analysis of outliers and null values\n",
        "  *   Feature Independence Analysis\n",
        "4. Perform cleaning, standardizing, feature engineering, and any other data preparation tasks that we identify\n",
        "5. Creating our models\n",
        "  *   We will create a baseline model to give us something to compare models against\n",
        "  *   Select features manually, using Recursive Feature Elimination, and Forward selection\n",
        "  *   Perform Linear Regression Models for budget and schedule on the feature sets\n",
        "  *   We will then construct a Random Forrest model on our best feature set\n",
        "  *   We will also construct an XGBoost model \n",
        "6. Evaluate and select our winners \n",
        "  *   We will compare metrics like accuracy, precision, f1 score, and ROC AUC to select the best model\n",
        "7. Construct a stacking ensemble model to learn the models in parallel and combine them by training a meta-model to output a less biased prediction based on the different weak model's predictions\n",
        "8. Document and present our results"
      ]
    }
  ]
}
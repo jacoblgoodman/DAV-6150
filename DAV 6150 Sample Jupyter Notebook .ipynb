{
 "cells": [
  {
   "cell_type": "markdown",
   "metadata": {},
   "source": [
    "\n",
    "# DAV 6150\n",
    "\n",
    "# Getting Started"
   ]
  },
  {
   "cell_type": "markdown",
   "metadata": {},
   "source": [
    "## Jupyter Notebooks\n",
    "\n",
    "Jupyter Notebooks will be the tool you use to craft your Python-based assignment + project submissions\n",
    "\n",
    "- Flexible tool lets you incorporate both formatted text AND \"live\" python code\n",
    "\n",
    "\n",
    "- Text formatting enabled by __Markdown__. Equation formatting enabled by __LaTex__.\n",
    "\n",
    "\n",
    "- Code \"cells\" can be developed + tested individually within a document\n",
    "\n",
    "\n",
    "- Provides rendering of Python graphics/visualizations within your documents\n",
    "\n",
    "\n",
    "__*(NOTE: This document is a Jupyter Notebook!!)*__"
   ]
  },
  {
   "cell_type": "markdown",
   "metadata": {},
   "source": [
    "### Example of a Markdown Cell (Including a User-Created Table)\n",
    "\n",
    "The Notebook cell shown below contains examples of how to apply __bolding__ and *italics* within your narratives, as well as a \"hand drawn\" table constructed using Markdown's table formatting syntax. \n",
    "\n",
    "Double-click the cell below to view the underlying Markdown formatting.\n",
    "\n",
    "To re-render the content of the cell, click once within the cell and then click the __>|Run__ button shown above."
   ]
  },
  {
   "cell_type": "markdown",
   "metadata": {},
   "source": [
    "(*Double-click this Notebook cell to view the underlying Markdown formatting*)\n",
    "\n",
    "The chart below summarizes the model statistics for each of the three models. The models are listed from left to right in accordance with the order in which they were described in __Part 3__. \n",
    "\n",
    "| Metric        |  Model 1(Logit) | Model 2 (Logit)  | Model 3 (OLS) \n",
    "| ------------- | --------------- | ---------------- | --------------\n",
    "| # Predictors  |      3          |     3            |      3\n",
    "| Pseudo R^2    |    0.8244       |   0.3533         |    (-)\n",
    "| R^2           |     (-)         |     (-)          |    0.826\n",
    "| Log Likelih.  |    -1209.6      |   -4455.6        |    3750\n",
    "| Accuracy      |    0.9622       |   0.8176         |    0.9621\n",
    "| Precision     |    0.9587       |   0.6785         |    0.9585\n",
    "| ROC-AUC       |    0.9877       |   0.8917         |    0.9875\n",
    "| F1 Score      |    0.9278       |   0.5761         |    0.9277\n",
    "| Sensitivity   |    0.9976       |   0.5094         |    0.9986\n",
    "\n",
    "As we can see in the table, Models 1 and 3 are fairly similar in their performance metrics. However, the differences in their performance metrics are marginal at best. Of the two, Model 1 is likely preferable due to its reliance on a binary logistic regression approach as opposed to __Model 3__ which makes use of an ordinary least squares approach for predicting the binary response variable.\n",
    "\n",
    "__Model 2__ appears to underperform each of the other two models relative to every performance metric we've evaluated. However, the virtue of __Model 2__ is that it does not rely upon the 'light' variable as a predictor. As mentioned earlier, 'light' is very highly correlated with the 'occ' response variable and is also collinear with the 'temp' variable to a large extent. As such, __Model 2__ clearly has value as an alternative to either __Model 1__ or __Model 3__, each of which incorporate 'light' as a predictor. That said, for purposes of this project __Model 1__ is selected as the preferred model for purposes of predicting the 'occ' response variable in the test data set."
   ]
  },
  {
   "cell_type": "markdown",
   "metadata": {},
   "source": [
    "### Example of Formatting for Equations: LaTex\n",
    "\n",
    "The Notebook cell shown below contains examples of how to incorporate high-quality mathematical equation formatting within your narratives. __LaTex__ formatting syntax is applied within a Markdown cell to generate the equation formatting shown below. \n",
    "\n",
    "A LaTex syntax cheat sheet can be accessed here: https://kapeli.com/cheat_sheets/LaTeX_Math_Symbols.docset/Contents/Resources/Documents/index\n",
    "\n",
    "Double-click the cell below to view the underlying Markdown formatting. Note how dollar signs (\"$\") are used for purposes of encapsulating special LaTex syntax symbols.\n",
    "\n",
    "To re-render the content of the cell, click once within the cell and then click the __>|Run__ button shown above."
   ]
  },
  {
   "cell_type": "markdown",
   "metadata": {},
   "source": [
    "(*Double-click this Notebook cell to view the underlying Markdown formatting*)\n",
    "\n",
    "To find the eigenvalues of a matrix we need to solve Det (A -  $\\lambda$I) = 0\n",
    "\n",
    "The matrix (A - $\\lambda$I) is:\n",
    "\n",
    "(1 - $\\lambda$), 2, 3  \n",
    "0, (4 - $\\lambda$), 5  \n",
    "0,  0, (6 - $\\lambda$)  \n",
    "\n",
    "Since this is a triangular matrix (all entries below the diagonal = zeroes), its determinant is simply the product of the entries along the diagonal:\n",
    "\n",
    "Det (A -  $\\lambda$I) =  $(1-\\lambda) * (4-\\lambda) * (6-\\lambda)$  \n",
    "  \n",
    "Therefore, __the eigenvalues are:  $\\lambda = (1, 4, 6)$__  \n",
    "\n",
    "And the characteristic polynomial is:  \n",
    "\n",
    "$(1-\\lambda) * (4-\\lambda) * (6-\\lambda)$ =>\n",
    "\n",
    "$(1-\\lambda) * (24 - 10\\lambda + \\lambda^2)$ => \n",
    "\n",
    "$(24 - 10\\lambda + \\lambda^2) + (-24\\lambda + 10\\lambda^2 - \\lambda^3)$ =>\n",
    "\n",
    "$24 - 34\\lambda + 11\\lambda^2 - \\lambda^3 = 0$\n"
   ]
  },
  {
   "cell_type": "markdown",
   "metadata": {},
   "source": [
    "### Example of Rendering of Python Graphics\n",
    "\n",
    "The Notebook cell shown below is a Python code cell. Code cells allow us to incorporate \"live\" Python code that will get executed every time we \"Run\" the cell within our Notebooks. In this sense, these cells are __dynamic__ in that their output can change / update whenever the underlying data being manipulated are changed.\n",
    "\n",
    "In the cell below, we are sampling 5 random floating point numbers from a uniform distribution and plotting them within a 2-dimensional space.\n",
    "\n",
    "Since the cell is __dynamic__ and we are randomly sampling our data, every time we execute the code within the cell the output shown in the graphic will change to reflect the new set of randomly sampled data values.\n",
    "\n",
    "To re-render the content of the cell, click once within the cell and then click the __>|Run__ button shown above."
   ]
  },
  {
   "cell_type": "code",
   "execution_count": 1,
   "metadata": {},
   "outputs": [
    {
     "name": "stdout",
     "output_type": "stream",
     "text": [
      "[[0.15398647 0.47999741 0.32019166 0.91371433 0.60969579]]\n",
      "[0.15398647 0.47999741 0.32019166 0.91371433 0.60969579]\n"
     ]
    },
    {
     "data": {
      "image/png": "[encoded data removed]",
      "text/plain": [
       "<Figure size 432x288 with 1 Axes>"
      ]
     },
     "metadata": {
      "needs_background": "light"
     },
     "output_type": "display_data"
    }
   ],
   "source": [
    "# Example of python graphic generated in Jupyter notebook\n",
    "\n",
    "# Jupyter Notebook matplotlib activation: include only once per notebook\n",
    "%matplotlib inline\n",
    "\n",
    "import matplotlib.pyplot as plt\n",
    "\n",
    "import numpy as np\n",
    "data = np.random.rand(1,5)\n",
    "print(data)\n",
    "print(data[:][0])\n",
    "plt.plot(data[:][0])\n",
    "plt.show()\n"
   ]
  },
  {
   "cell_type": "markdown",
   "metadata": {},
   "source": [
    "### Example of Embedding an Image from GitHub in a Markdown Cell\n",
    "\n",
    "We also have the ability to embed images within Notebook. However, to ensure proper reproducible rendering, it is generally suggested that any embedded images be loaded from a web-based repository (e.g., __Github__ or some other cloud-based data storage platform).\n",
    "\n",
    "Double-click the cell below to view the underlying Markdown formatting. Note how the full URL for the image is provided as part of the required Markdown formatting.\n",
    "\n",
    "To re-render the content of the cell, click once within the cell and then click the __>|Run__ button shown above."
   ]
  },
  {
   "cell_type": "markdown",
   "metadata": {},
   "source": [
    "(*Double-click this cell to view the underlying Markdown formatting*)\n",
    "\n",
    "\n",
    "![Image of Yaktocat](https://octodex.github.com/images/yaktocat.png)"
   ]
  }
 ],
 "metadata": {
  "kernelspec": {
   "display_name": "Python 3",
   "language": "python",
   "name": "python3"
  },
  "language_info": {
   "codemirror_mode": {
    "name": "ipython",
    "version": 3
   },
   "file_extension": ".py",
   "mimetype": "text/x-python",
   "name": "python",
   "nbconvert_exporter": "python",
   "pygments_lexer": "ipython3",
   "version": "3.7.3"
  }
 },
 "nbformat": 4,
 "nbformat_minor": 2
}

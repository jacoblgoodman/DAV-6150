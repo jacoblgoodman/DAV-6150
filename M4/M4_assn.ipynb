{
  "nbformat": 4,
  "nbformat_minor": 0,
  "metadata": {
    "kernelspec": {
      "display_name": "Python 3",
      "language": "python",
      "name": "python3"
    },
    "language_info": {
      "codemirror_mode": {
        "name": "ipython",
        "version": 3
      },
      "file_extension": ".py",
      "mimetype": "text/x-python",
      "name": "python",
      "nbconvert_exporter": "python",
      "pygments_lexer": "ipython3",
      "version": "3.7.6"
    },
    "colab": {
      "name": "M4_assn.ipynb",
      "provenance": [],
      "collapsed_sections": [],
      "include_colab_link": true
    }
  },
  "cells": [
    {
      "cell_type": "markdown",
      "metadata": {
        "id": "view-in-github",
        "colab_type": "text"
      },
      "source": [
        "<a href=\"https://colab.research.google.com/github/yuleidner/DAV-6150/blob/main/M4_assn.ipynb\" target=\"_parent\"><img src=\"https://colab.research.google.com/assets/colab-badge.svg\" alt=\"Open In Colab\"/></a>"
      ]
    },
    {
      "cell_type": "markdown",
      "metadata": {
        "id": "yAF2fZDP4eqJ"
      },
      "source": [
        "<a id='Top'></a>\n",
        "# Data Science: Module 4\n",
        "### Practical Challenge: Feature Selection & Dimensionality Reduction\n",
        "#### Alan Leidner working with Jacob Goodman Oct 10, 2021\n",
        "Assignment: https://yu.instructure.com/courses/50398/assignments/191951"
      ]
    },
    {
      "cell_type": "markdown",
      "metadata": {
        "id": "6ZpbDApYCQLl"
      },
      "source": [
        "#Instructions\n",
        "*** You may work in small groups of no more than three (3) people for this Assignment ***\n",
        "\n",
        "\n",
        "When the number of explanatory variables is relatively large with respect to the number of observations contained\n",
        "within a data set, data science practitioners need to know how to effectively reduce the number of explanatory\n",
        "variables required for the intended model. \n",
        "\n",
        "For this assignment your primary task is to apply feature selection\n",
        "and/or dimensionality reduction techniques to identify the explanatory variables to be included within a linear\n",
        "regression model that predicts the number of times an online news article will be shared. \n",
        "\n",
        "The data set you will be using is sourced from the UC Irvine machine learning archive:\n",
        " https://archive.ics.uci.edu/ml/datasets/Online+News+Popularity\n",
        "The data set is comprised of 39,797 observations and 61 attributes. Please refer to the UCI web page for\n",
        "further details on these variables. **The shares variable will serve as the response variable for your regression\n",
        "model**. As such, you are to apply your feature selection / dimensionality reduction expertise to the remaining\n",
        "60 attributes for purposes of identifying the explanatory variables that you believe will be most useful when\n",
        "included in a linear regression model that estimates shares.\n",
        "Once you are comfortable in your understanding of the various data attributes, get started on the assignment\n",
        "as follows:\n",
        "\n",
        "\n",
        "1) <strike>Load the provided M4_Data.csv file to your DAV 6150 Github Repository.</strike>\n",
        "\n",
        "\n",
        "2) <strike>Then, using a Jupyter Notebook, read the data set from your Github repository and load it into a\n",
        "Pandas dataframe.</strike>\n",
        "\n",
        "\n",
        "3) Using your Python skills, perform some basic exploratory data analysis (EDA) to ensure you understand\n",
        "the nature of each of the variables (including the response variable). Your EDA writeup should include\n",
        "any insights you are able to derive from your statistical analysis of the attributes and the accompanying\n",
        "exploratory graphics you create (e.g., bar plots, box plots, histograms, line plots, etc.). You should also\n",
        "try to identify some preliminary predictive inferences, e.g., do any of the explanatory variables appear\n",
        "to be relatively more “predictive” of the response variable? There are a variety of ways you can\n",
        "potentially identify such relationships between the explanatory variables and the response variable. It\n",
        "is up to you as the data science practitioner to decide how you go about your EDA, including selecting\n",
        "appropriate statistical metrics to be calculated + which types of exploratory graphics to make use of.\n",
        "Your goal should be to provide an EDA that is thorough and succinct without it being so detailed that a\n",
        "reader will lose interest in it.\n",
        "\n",
        "\n",
        "4) Using your Python skills, apply your knowledge of feature selection and dimensionality reduction to the\n",
        "60 candidate explanatory variables to identify variables that you believe will prove to be relatively\n",
        "useful within the required linear regression model. Your work here should reflect some of the\n",
        "knowledge you have gained via your EDA work. While selecting your features, be sure to consider the\n",
        "tradeoff between model performance and model simplification, e.g., if you are reducing the complexity\n",
        "of your model, are you sacrificing too much in the way of Adjusted R^2 (or some other performance\n",
        "measure)? The ways in which you implement your feature selection and/or dimensionality reduction\n",
        "decisions are up to you as a data science practitioner to determine: will you use filtering methods? \n",
        "PCA? Stepwise search? etc. It is up to you to decide upon your own preferred approach. Be sure to\n",
        "include an explanatory narrative that justifies your decision making process.\n",
        "\n",
        "\n",
        "5) Train/cross validate your model and report on its performance.\n",
        "Your deliverable for this assignment is your Jupyter Notebook. It should contain a combination of Python\n",
        "code cells and explanatory narratives contained within properly formatted Markdown cells. "
      ]
    },
    {
      "cell_type": "markdown",
      "metadata": {
        "id": "FxL2HMDFCDHT"
      },
      "source": [
        "#Grading\n",
        "The Notebook should contain (at a minimum) the following sections (including the relevant Python code for each section):\n",
        "\n",
        "\n",
        "1) Introduction (5 Points): Summarize the problem + explain the steps you plan to take to address the\n",
        "problem\n",
        "\n",
        "\n",
        "2) Exploratory Data Analysis (30 Points): Explain + present your EDA work including any conclusions you\n",
        "draw from your analysis including any preliminary predictive inferences. This section should include\n",
        "any Python code used for the EDA.\n",
        "\n",
        "\n",
        "3) Feature Selection / Dimensionality Reduction (45 Points): Explain + present your feature selection /\n",
        "dimensionality work, including any Python code used as part of that process.\n",
        "\n",
        "\n",
        "4) Regression Model Evaluation (15): Explain + present your linear regression model and discuss its\n",
        "accuracy. This section should include any Python code used to construction + evaluate your regression\n",
        "model.\n",
        "\n",
        "\n",
        "5) Conclusions (5 Points)\n",
        "Your Jupyter Notebook deliverable should be similar to that of a publication-quality / professional caliber\n",
        "document and should include clearly labeled graphics, high-quality formatting, clearly defined section and\n",
        "sub-section headers, and be free of spelling and grammar errors. Furthermore, your Pythion code should\n",
        "include succinct explanatory comments.\n",
        "Upload your Jupyter Notebook within the provided M4 Assignment Canvas submission portal. Be sure to save\n",
        "your Notebook using the following nomenclature: first initial_last name_M4_assn\" (e.g., J_Smith_M4_assn_).\n",
        "Small groups should identity all group members at the start of the Jupyter Notebook and each team\n",
        "member should submit their own copy of the team’s work within Canvas."
      ]
    },
    {
      "cell_type": "markdown",
      "metadata": {
        "id": "uDGXSI3J4eqb"
      },
      "source": [
        "## Introduction\n",
        "This notebook will explore a collection af articles from mashable"
      ]
    },
    {
      "cell_type": "code",
      "metadata": {
        "id": "dPq_QD7Mfs4W"
      },
      "source": [
        "#Import packages for data frames \n",
        "import numpy as np\n",
        "import pandas as pd\n",
        "#import missingno as msno\n",
        "\n",
        "# import pyplot and seaborn for graph creating\n",
        "import matplotlib.pyplot as plt\n",
        "import seaborn as sns \n",
        "\n",
        "# load the train_test_split function from the sklearn.model_selection module\n",
        "#from sklearn.model_selection import train_test_split\n",
        "#from sklearn.impute import SimpleImputer\n",
        "#from sklearn.impute import KNNImputer\n",
        "#from sklearn.linear_model import LinearRegression# load the LinearRegression() function from sklearn's 'linear_model' sub-library\n",
        "#from sklearn.model_selection import cross_val_score# load the cross_val_score function from the sklearn.model_selection module\n",
        "#from sklearn.experimental import enable_iterative_imputer #because it is experimental, it needs to be explicitly enabled\n",
        "#from sklearn.impute import IterativeImputer#loading IterativeImputer package\n",
        "#from sklearn.preprocessing import MinMaxScaler\n",
        "#from sklearn import preprocessing \n",
        "\n",
        "\n",
        "# box cox to be utlized in standarization \n",
        "#from scipy.stats import boxcox\n",
        "#from sklearn import preprocessing\n",
        "\n",
        "\n",
        "#This ingores depreciation warnings, which will make the code more readable\n",
        "import warnings \n",
        "warnings.filterwarnings(\"ignore\", category=FutureWarning)\n",
        "\n"
      ],
      "execution_count": null,
      "outputs": []
    },
    {
      "cell_type": "markdown",
      "metadata": {
        "id": "rcLf32Di4eqi"
      },
      "source": [
        "## Exploratory Data Analysis <a id='1'></a>\n",
        "The dataset was loaded into the DAV 6150 Github Repository here: https://raw.githubusercontent.com/yuleidner/DAV-6150/main/M4/M4_Data.csv. This notebook will now load the table into a Pandas dataframe for analysis."
      ]
    },
    {
      "cell_type": "code",
      "metadata": {
        "id": "XpyiOM344eqk",
        "colab": {
          "base_uri": "https://localhost:8080/",
          "height": 313
        },
        "outputId": "ac883e67-3619-48c8-b422-7c7f7bc844dc"
      },
      "source": [
        "# read a set of sample data from github. It contains information related to cars and insurance\n",
        "filename = \"https://raw.githubusercontent.com/yuleidner/DAV-6150/main/M4/M4_Data.csv\"\n",
        "df = pd.read_csv(filename)\n",
        "pd.set_option('display.max_columns', None) #expands df to display all columns\n",
        "df.head()"
      ],
      "execution_count": null,
      "outputs": [
        {
          "output_type": "execute_result",
          "data": {
            "text/html": [
              "<div>\n",
              "<style scoped>\n",
              "    .dataframe tbody tr th:only-of-type {\n",
              "        vertical-align: middle;\n",
              "    }\n",
              "\n",
              "    .dataframe tbody tr th {\n",
              "        vertical-align: top;\n",
              "    }\n",
              "\n",
              "    .dataframe thead th {\n",
              "        text-align: right;\n",
              "    }\n",
              "</style>\n",
              "<table border=\"1\" class=\"dataframe\">\n",
              "  <thead>\n",
              "    <tr style=\"text-align: right;\">\n",
              "      <th></th>\n",
              "      <th>url</th>\n",
              "      <th>timedelta</th>\n",
              "      <th>n_tokens_title</th>\n",
              "      <th>n_tokens_content</th>\n",
              "      <th>n_unique_tokens</th>\n",
              "      <th>n_non_stop_words</th>\n",
              "      <th>n_non_stop_unique_tokens</th>\n",
              "      <th>num_hrefs</th>\n",
              "      <th>num_self_hrefs</th>\n",
              "      <th>num_imgs</th>\n",
              "      <th>num_videos</th>\n",
              "      <th>average_token_length</th>\n",
              "      <th>num_keywords</th>\n",
              "      <th>data_channel_is_lifestyle</th>\n",
              "      <th>data_channel_is_entertainment</th>\n",
              "      <th>data_channel_is_bus</th>\n",
              "      <th>data_channel_is_socmed</th>\n",
              "      <th>data_channel_is_tech</th>\n",
              "      <th>data_channel_is_world</th>\n",
              "      <th>kw_min_min</th>\n",
              "      <th>kw_max_min</th>\n",
              "      <th>kw_avg_min</th>\n",
              "      <th>kw_min_max</th>\n",
              "      <th>kw_max_max</th>\n",
              "      <th>kw_avg_max</th>\n",
              "      <th>kw_min_avg</th>\n",
              "      <th>kw_max_avg</th>\n",
              "      <th>kw_avg_avg</th>\n",
              "      <th>self_reference_min_shares</th>\n",
              "      <th>self_reference_max_shares</th>\n",
              "      <th>self_reference_avg_sharess</th>\n",
              "      <th>weekday_is_monday</th>\n",
              "      <th>weekday_is_tuesday</th>\n",
              "      <th>weekday_is_wednesday</th>\n",
              "      <th>weekday_is_thursday</th>\n",
              "      <th>weekday_is_friday</th>\n",
              "      <th>weekday_is_saturday</th>\n",
              "      <th>weekday_is_sunday</th>\n",
              "      <th>is_weekend</th>\n",
              "      <th>LDA_00</th>\n",
              "      <th>LDA_01</th>\n",
              "      <th>LDA_02</th>\n",
              "      <th>LDA_03</th>\n",
              "      <th>LDA_04</th>\n",
              "      <th>global_subjectivity</th>\n",
              "      <th>global_sentiment_polarity</th>\n",
              "      <th>global_rate_positive_words</th>\n",
              "      <th>global_rate_negative_words</th>\n",
              "      <th>rate_positive_words</th>\n",
              "      <th>rate_negative_words</th>\n",
              "      <th>avg_positive_polarity</th>\n",
              "      <th>min_positive_polarity</th>\n",
              "      <th>max_positive_polarity</th>\n",
              "      <th>avg_negative_polarity</th>\n",
              "      <th>min_negative_polarity</th>\n",
              "      <th>max_negative_polarity</th>\n",
              "      <th>title_subjectivity</th>\n",
              "      <th>title_sentiment_polarity</th>\n",
              "      <th>abs_title_subjectivity</th>\n",
              "      <th>abs_title_sentiment_polarity</th>\n",
              "      <th>shares</th>\n",
              "    </tr>\n",
              "  </thead>\n",
              "  <tbody>\n",
              "    <tr>\n",
              "      <th>0</th>\n",
              "      <td>http://mashable.com/2013/01/07/amazon-instant-...</td>\n",
              "      <td>731.0</td>\n",
              "      <td>12.0</td>\n",
              "      <td>219.0</td>\n",
              "      <td>0.663594</td>\n",
              "      <td>1.0</td>\n",
              "      <td>0.815385</td>\n",
              "      <td>4.0</td>\n",
              "      <td>2.0</td>\n",
              "      <td>1.0</td>\n",
              "      <td>0.0</td>\n",
              "      <td>4.680365</td>\n",
              "      <td>5.0</td>\n",
              "      <td>0.0</td>\n",
              "      <td>1.0</td>\n",
              "      <td>0.0</td>\n",
              "      <td>0.0</td>\n",
              "      <td>0.0</td>\n",
              "      <td>0.0</td>\n",
              "      <td>0.0</td>\n",
              "      <td>0.0</td>\n",
              "      <td>0.0</td>\n",
              "      <td>0.0</td>\n",
              "      <td>0.0</td>\n",
              "      <td>0.0</td>\n",
              "      <td>0.0</td>\n",
              "      <td>0.0</td>\n",
              "      <td>0.0</td>\n",
              "      <td>496.0</td>\n",
              "      <td>496.0</td>\n",
              "      <td>496.000000</td>\n",
              "      <td>1.0</td>\n",
              "      <td>0.0</td>\n",
              "      <td>0.0</td>\n",
              "      <td>0.0</td>\n",
              "      <td>0.0</td>\n",
              "      <td>0.0</td>\n",
              "      <td>0.0</td>\n",
              "      <td>0.0</td>\n",
              "      <td>0.500331</td>\n",
              "      <td>0.378279</td>\n",
              "      <td>0.040005</td>\n",
              "      <td>0.041263</td>\n",
              "      <td>0.040123</td>\n",
              "      <td>0.521617</td>\n",
              "      <td>0.092562</td>\n",
              "      <td>0.045662</td>\n",
              "      <td>0.013699</td>\n",
              "      <td>0.769231</td>\n",
              "      <td>0.230769</td>\n",
              "      <td>0.378636</td>\n",
              "      <td>0.100000</td>\n",
              "      <td>0.7</td>\n",
              "      <td>-0.350000</td>\n",
              "      <td>-0.600</td>\n",
              "      <td>-0.200000</td>\n",
              "      <td>0.500000</td>\n",
              "      <td>-0.187500</td>\n",
              "      <td>0.000000</td>\n",
              "      <td>0.187500</td>\n",
              "      <td>593</td>\n",
              "    </tr>\n",
              "    <tr>\n",
              "      <th>1</th>\n",
              "      <td>http://mashable.com/2013/01/07/ap-samsung-spon...</td>\n",
              "      <td>731.0</td>\n",
              "      <td>9.0</td>\n",
              "      <td>255.0</td>\n",
              "      <td>0.604743</td>\n",
              "      <td>1.0</td>\n",
              "      <td>0.791946</td>\n",
              "      <td>3.0</td>\n",
              "      <td>1.0</td>\n",
              "      <td>1.0</td>\n",
              "      <td>0.0</td>\n",
              "      <td>4.913725</td>\n",
              "      <td>4.0</td>\n",
              "      <td>0.0</td>\n",
              "      <td>0.0</td>\n",
              "      <td>1.0</td>\n",
              "      <td>0.0</td>\n",
              "      <td>0.0</td>\n",
              "      <td>0.0</td>\n",
              "      <td>0.0</td>\n",
              "      <td>0.0</td>\n",
              "      <td>0.0</td>\n",
              "      <td>0.0</td>\n",
              "      <td>0.0</td>\n",
              "      <td>0.0</td>\n",
              "      <td>0.0</td>\n",
              "      <td>0.0</td>\n",
              "      <td>0.0</td>\n",
              "      <td>0.0</td>\n",
              "      <td>0.0</td>\n",
              "      <td>0.000000</td>\n",
              "      <td>1.0</td>\n",
              "      <td>0.0</td>\n",
              "      <td>0.0</td>\n",
              "      <td>0.0</td>\n",
              "      <td>0.0</td>\n",
              "      <td>0.0</td>\n",
              "      <td>0.0</td>\n",
              "      <td>0.0</td>\n",
              "      <td>0.799756</td>\n",
              "      <td>0.050047</td>\n",
              "      <td>0.050096</td>\n",
              "      <td>0.050101</td>\n",
              "      <td>0.050001</td>\n",
              "      <td>0.341246</td>\n",
              "      <td>0.148948</td>\n",
              "      <td>0.043137</td>\n",
              "      <td>0.015686</td>\n",
              "      <td>0.733333</td>\n",
              "      <td>0.266667</td>\n",
              "      <td>0.286915</td>\n",
              "      <td>0.033333</td>\n",
              "      <td>0.7</td>\n",
              "      <td>-0.118750</td>\n",
              "      <td>-0.125</td>\n",
              "      <td>-0.100000</td>\n",
              "      <td>0.000000</td>\n",
              "      <td>0.000000</td>\n",
              "      <td>0.500000</td>\n",
              "      <td>0.000000</td>\n",
              "      <td>711</td>\n",
              "    </tr>\n",
              "    <tr>\n",
              "      <th>2</th>\n",
              "      <td>http://mashable.com/2013/01/07/apple-40-billio...</td>\n",
              "      <td>731.0</td>\n",
              "      <td>9.0</td>\n",
              "      <td>211.0</td>\n",
              "      <td>0.575130</td>\n",
              "      <td>1.0</td>\n",
              "      <td>0.663866</td>\n",
              "      <td>3.0</td>\n",
              "      <td>1.0</td>\n",
              "      <td>1.0</td>\n",
              "      <td>0.0</td>\n",
              "      <td>4.393365</td>\n",
              "      <td>6.0</td>\n",
              "      <td>0.0</td>\n",
              "      <td>0.0</td>\n",
              "      <td>1.0</td>\n",
              "      <td>0.0</td>\n",
              "      <td>0.0</td>\n",
              "      <td>0.0</td>\n",
              "      <td>0.0</td>\n",
              "      <td>0.0</td>\n",
              "      <td>0.0</td>\n",
              "      <td>0.0</td>\n",
              "      <td>0.0</td>\n",
              "      <td>0.0</td>\n",
              "      <td>0.0</td>\n",
              "      <td>0.0</td>\n",
              "      <td>0.0</td>\n",
              "      <td>918.0</td>\n",
              "      <td>918.0</td>\n",
              "      <td>918.000000</td>\n",
              "      <td>1.0</td>\n",
              "      <td>0.0</td>\n",
              "      <td>0.0</td>\n",
              "      <td>0.0</td>\n",
              "      <td>0.0</td>\n",
              "      <td>0.0</td>\n",
              "      <td>0.0</td>\n",
              "      <td>0.0</td>\n",
              "      <td>0.217792</td>\n",
              "      <td>0.033334</td>\n",
              "      <td>0.033351</td>\n",
              "      <td>0.033334</td>\n",
              "      <td>0.682188</td>\n",
              "      <td>0.702222</td>\n",
              "      <td>0.323333</td>\n",
              "      <td>0.056872</td>\n",
              "      <td>0.009479</td>\n",
              "      <td>0.857143</td>\n",
              "      <td>0.142857</td>\n",
              "      <td>0.495833</td>\n",
              "      <td>0.100000</td>\n",
              "      <td>1.0</td>\n",
              "      <td>-0.466667</td>\n",
              "      <td>-0.800</td>\n",
              "      <td>-0.133333</td>\n",
              "      <td>0.000000</td>\n",
              "      <td>0.000000</td>\n",
              "      <td>0.500000</td>\n",
              "      <td>0.000000</td>\n",
              "      <td>1500</td>\n",
              "    </tr>\n",
              "    <tr>\n",
              "      <th>3</th>\n",
              "      <td>http://mashable.com/2013/01/07/astronaut-notre...</td>\n",
              "      <td>731.0</td>\n",
              "      <td>9.0</td>\n",
              "      <td>531.0</td>\n",
              "      <td>0.503788</td>\n",
              "      <td>1.0</td>\n",
              "      <td>0.665635</td>\n",
              "      <td>9.0</td>\n",
              "      <td>0.0</td>\n",
              "      <td>1.0</td>\n",
              "      <td>0.0</td>\n",
              "      <td>4.404896</td>\n",
              "      <td>7.0</td>\n",
              "      <td>0.0</td>\n",
              "      <td>1.0</td>\n",
              "      <td>0.0</td>\n",
              "      <td>0.0</td>\n",
              "      <td>0.0</td>\n",
              "      <td>0.0</td>\n",
              "      <td>0.0</td>\n",
              "      <td>0.0</td>\n",
              "      <td>0.0</td>\n",
              "      <td>0.0</td>\n",
              "      <td>0.0</td>\n",
              "      <td>0.0</td>\n",
              "      <td>0.0</td>\n",
              "      <td>0.0</td>\n",
              "      <td>0.0</td>\n",
              "      <td>0.0</td>\n",
              "      <td>0.0</td>\n",
              "      <td>0.000000</td>\n",
              "      <td>1.0</td>\n",
              "      <td>0.0</td>\n",
              "      <td>0.0</td>\n",
              "      <td>0.0</td>\n",
              "      <td>0.0</td>\n",
              "      <td>0.0</td>\n",
              "      <td>0.0</td>\n",
              "      <td>0.0</td>\n",
              "      <td>0.028573</td>\n",
              "      <td>0.419300</td>\n",
              "      <td>0.494651</td>\n",
              "      <td>0.028905</td>\n",
              "      <td>0.028572</td>\n",
              "      <td>0.429850</td>\n",
              "      <td>0.100705</td>\n",
              "      <td>0.041431</td>\n",
              "      <td>0.020716</td>\n",
              "      <td>0.666667</td>\n",
              "      <td>0.333333</td>\n",
              "      <td>0.385965</td>\n",
              "      <td>0.136364</td>\n",
              "      <td>0.8</td>\n",
              "      <td>-0.369697</td>\n",
              "      <td>-0.600</td>\n",
              "      <td>-0.166667</td>\n",
              "      <td>0.000000</td>\n",
              "      <td>0.000000</td>\n",
              "      <td>0.500000</td>\n",
              "      <td>0.000000</td>\n",
              "      <td>1200</td>\n",
              "    </tr>\n",
              "    <tr>\n",
              "      <th>4</th>\n",
              "      <td>http://mashable.com/2013/01/07/att-u-verse-apps/</td>\n",
              "      <td>731.0</td>\n",
              "      <td>13.0</td>\n",
              "      <td>1072.0</td>\n",
              "      <td>0.415646</td>\n",
              "      <td>1.0</td>\n",
              "      <td>0.540890</td>\n",
              "      <td>19.0</td>\n",
              "      <td>19.0</td>\n",
              "      <td>20.0</td>\n",
              "      <td>0.0</td>\n",
              "      <td>4.682836</td>\n",
              "      <td>7.0</td>\n",
              "      <td>0.0</td>\n",
              "      <td>0.0</td>\n",
              "      <td>0.0</td>\n",
              "      <td>0.0</td>\n",
              "      <td>1.0</td>\n",
              "      <td>0.0</td>\n",
              "      <td>0.0</td>\n",
              "      <td>0.0</td>\n",
              "      <td>0.0</td>\n",
              "      <td>0.0</td>\n",
              "      <td>0.0</td>\n",
              "      <td>0.0</td>\n",
              "      <td>0.0</td>\n",
              "      <td>0.0</td>\n",
              "      <td>0.0</td>\n",
              "      <td>545.0</td>\n",
              "      <td>16000.0</td>\n",
              "      <td>3151.157895</td>\n",
              "      <td>1.0</td>\n",
              "      <td>0.0</td>\n",
              "      <td>0.0</td>\n",
              "      <td>0.0</td>\n",
              "      <td>0.0</td>\n",
              "      <td>0.0</td>\n",
              "      <td>0.0</td>\n",
              "      <td>0.0</td>\n",
              "      <td>0.028633</td>\n",
              "      <td>0.028794</td>\n",
              "      <td>0.028575</td>\n",
              "      <td>0.028572</td>\n",
              "      <td>0.885427</td>\n",
              "      <td>0.513502</td>\n",
              "      <td>0.281003</td>\n",
              "      <td>0.074627</td>\n",
              "      <td>0.012127</td>\n",
              "      <td>0.860215</td>\n",
              "      <td>0.139785</td>\n",
              "      <td>0.411127</td>\n",
              "      <td>0.033333</td>\n",
              "      <td>1.0</td>\n",
              "      <td>-0.220192</td>\n",
              "      <td>-0.500</td>\n",
              "      <td>-0.050000</td>\n",
              "      <td>0.454545</td>\n",
              "      <td>0.136364</td>\n",
              "      <td>0.045455</td>\n",
              "      <td>0.136364</td>\n",
              "      <td>505</td>\n",
              "    </tr>\n",
              "  </tbody>\n",
              "</table>\n",
              "</div>"
            ],
            "text/plain": [
              "                                                 url   timedelta  \\\n",
              "0  http://mashable.com/2013/01/07/amazon-instant-...       731.0   \n",
              "1  http://mashable.com/2013/01/07/ap-samsung-spon...       731.0   \n",
              "2  http://mashable.com/2013/01/07/apple-40-billio...       731.0   \n",
              "3  http://mashable.com/2013/01/07/astronaut-notre...       731.0   \n",
              "4   http://mashable.com/2013/01/07/att-u-verse-apps/       731.0   \n",
              "\n",
              "    n_tokens_title   n_tokens_content   n_unique_tokens   n_non_stop_words  \\\n",
              "0             12.0              219.0          0.663594                1.0   \n",
              "1              9.0              255.0          0.604743                1.0   \n",
              "2              9.0              211.0          0.575130                1.0   \n",
              "3              9.0              531.0          0.503788                1.0   \n",
              "4             13.0             1072.0          0.415646                1.0   \n",
              "\n",
              "    n_non_stop_unique_tokens   num_hrefs   num_self_hrefs   num_imgs  \\\n",
              "0                   0.815385         4.0              2.0        1.0   \n",
              "1                   0.791946         3.0              1.0        1.0   \n",
              "2                   0.663866         3.0              1.0        1.0   \n",
              "3                   0.665635         9.0              0.0        1.0   \n",
              "4                   0.540890        19.0             19.0       20.0   \n",
              "\n",
              "    num_videos   average_token_length   num_keywords  \\\n",
              "0          0.0               4.680365            5.0   \n",
              "1          0.0               4.913725            4.0   \n",
              "2          0.0               4.393365            6.0   \n",
              "3          0.0               4.404896            7.0   \n",
              "4          0.0               4.682836            7.0   \n",
              "\n",
              "    data_channel_is_lifestyle   data_channel_is_entertainment  \\\n",
              "0                         0.0                             1.0   \n",
              "1                         0.0                             0.0   \n",
              "2                         0.0                             0.0   \n",
              "3                         0.0                             1.0   \n",
              "4                         0.0                             0.0   \n",
              "\n",
              "    data_channel_is_bus   data_channel_is_socmed   data_channel_is_tech  \\\n",
              "0                   0.0                      0.0                    0.0   \n",
              "1                   1.0                      0.0                    0.0   \n",
              "2                   1.0                      0.0                    0.0   \n",
              "3                   0.0                      0.0                    0.0   \n",
              "4                   0.0                      0.0                    1.0   \n",
              "\n",
              "    data_channel_is_world   kw_min_min   kw_max_min   kw_avg_min   kw_min_max  \\\n",
              "0                     0.0          0.0          0.0          0.0          0.0   \n",
              "1                     0.0          0.0          0.0          0.0          0.0   \n",
              "2                     0.0          0.0          0.0          0.0          0.0   \n",
              "3                     0.0          0.0          0.0          0.0          0.0   \n",
              "4                     0.0          0.0          0.0          0.0          0.0   \n",
              "\n",
              "    kw_max_max   kw_avg_max   kw_min_avg   kw_max_avg   kw_avg_avg  \\\n",
              "0          0.0          0.0          0.0          0.0          0.0   \n",
              "1          0.0          0.0          0.0          0.0          0.0   \n",
              "2          0.0          0.0          0.0          0.0          0.0   \n",
              "3          0.0          0.0          0.0          0.0          0.0   \n",
              "4          0.0          0.0          0.0          0.0          0.0   \n",
              "\n",
              "    self_reference_min_shares   self_reference_max_shares  \\\n",
              "0                       496.0                       496.0   \n",
              "1                         0.0                         0.0   \n",
              "2                       918.0                       918.0   \n",
              "3                         0.0                         0.0   \n",
              "4                       545.0                     16000.0   \n",
              "\n",
              "    self_reference_avg_sharess   weekday_is_monday   weekday_is_tuesday  \\\n",
              "0                   496.000000                 1.0                  0.0   \n",
              "1                     0.000000                 1.0                  0.0   \n",
              "2                   918.000000                 1.0                  0.0   \n",
              "3                     0.000000                 1.0                  0.0   \n",
              "4                  3151.157895                 1.0                  0.0   \n",
              "\n",
              "    weekday_is_wednesday   weekday_is_thursday   weekday_is_friday  \\\n",
              "0                    0.0                   0.0                 0.0   \n",
              "1                    0.0                   0.0                 0.0   \n",
              "2                    0.0                   0.0                 0.0   \n",
              "3                    0.0                   0.0                 0.0   \n",
              "4                    0.0                   0.0                 0.0   \n",
              "\n",
              "    weekday_is_saturday   weekday_is_sunday   is_weekend    LDA_00    LDA_01  \\\n",
              "0                   0.0                 0.0          0.0  0.500331  0.378279   \n",
              "1                   0.0                 0.0          0.0  0.799756  0.050047   \n",
              "2                   0.0                 0.0          0.0  0.217792  0.033334   \n",
              "3                   0.0                 0.0          0.0  0.028573  0.419300   \n",
              "4                   0.0                 0.0          0.0  0.028633  0.028794   \n",
              "\n",
              "     LDA_02    LDA_03    LDA_04   global_subjectivity  \\\n",
              "0  0.040005  0.041263  0.040123              0.521617   \n",
              "1  0.050096  0.050101  0.050001              0.341246   \n",
              "2  0.033351  0.033334  0.682188              0.702222   \n",
              "3  0.494651  0.028905  0.028572              0.429850   \n",
              "4  0.028575  0.028572  0.885427              0.513502   \n",
              "\n",
              "    global_sentiment_polarity   global_rate_positive_words  \\\n",
              "0                    0.092562                     0.045662   \n",
              "1                    0.148948                     0.043137   \n",
              "2                    0.323333                     0.056872   \n",
              "3                    0.100705                     0.041431   \n",
              "4                    0.281003                     0.074627   \n",
              "\n",
              "    global_rate_negative_words   rate_positive_words   rate_negative_words  \\\n",
              "0                     0.013699              0.769231              0.230769   \n",
              "1                     0.015686              0.733333              0.266667   \n",
              "2                     0.009479              0.857143              0.142857   \n",
              "3                     0.020716              0.666667              0.333333   \n",
              "4                     0.012127              0.860215              0.139785   \n",
              "\n",
              "    avg_positive_polarity   min_positive_polarity   max_positive_polarity  \\\n",
              "0                0.378636                0.100000                     0.7   \n",
              "1                0.286915                0.033333                     0.7   \n",
              "2                0.495833                0.100000                     1.0   \n",
              "3                0.385965                0.136364                     0.8   \n",
              "4                0.411127                0.033333                     1.0   \n",
              "\n",
              "    avg_negative_polarity   min_negative_polarity   max_negative_polarity  \\\n",
              "0               -0.350000                  -0.600               -0.200000   \n",
              "1               -0.118750                  -0.125               -0.100000   \n",
              "2               -0.466667                  -0.800               -0.133333   \n",
              "3               -0.369697                  -0.600               -0.166667   \n",
              "4               -0.220192                  -0.500               -0.050000   \n",
              "\n",
              "    title_subjectivity   title_sentiment_polarity   abs_title_subjectivity  \\\n",
              "0             0.500000                  -0.187500                 0.000000   \n",
              "1             0.000000                   0.000000                 0.500000   \n",
              "2             0.000000                   0.000000                 0.500000   \n",
              "3             0.000000                   0.000000                 0.500000   \n",
              "4             0.454545                   0.136364                 0.045455   \n",
              "\n",
              "    abs_title_sentiment_polarity   shares  \n",
              "0                       0.187500      593  \n",
              "1                       0.000000      711  \n",
              "2                       0.000000     1500  \n",
              "3                       0.000000     1200  \n",
              "4                       0.136364      505  "
            ]
          },
          "metadata": {},
          "execution_count": 2
        }
      ]
    },
    {
      "cell_type": "markdown",
      "metadata": {
        "id": "xlHjv0vM4eqr"
      },
      "source": [
        "###Attribute Information:\n",
        "\n",
        "Number of Attributes: 61 (58 predictive attributes, 2 non-predictive, 1 goal field)\n",
        "\n",
        "0. url: URL of the article (non-predictive)\n",
        "1. timedelta: Days between the article publication and the dataset acquisition (non-predictive)\n",
        "2. n_tokens_title: Number of words in the title\n",
        "3. n_tokens_content: Number of words in the content\n",
        "4. n_unique_tokens: Rate of unique words in the content\n",
        "5. n_non_stop_words: Rate of non-stop words in the content\n",
        "6. n_non_stop_unique_tokens: Rate of unique non-stop words in the content\n",
        "7. num_hrefs: Number of links\n",
        "8. num_self_hrefs: Number of links to other articles published by Mashable\n",
        "9. num_imgs: Number of images\n",
        "10. num_videos: Number of videos\n",
        "11. average_token_length: Average length of the words in the content\n",
        "12. num_keywords: Number of keywords in the metadata\n",
        "13. data_channel_is_lifestyle: Is data channel 'Lifestyle'?\n",
        "14. data_channel_is_entertainment: Is data channel 'Entertainment'?\n",
        "15. data_channel_is_bus: Is data channel 'Business'?\n",
        "16. data_channel_is_socmed: Is data channel 'Social Media'?\n",
        "17. data_channel_is_tech: Is data channel 'Tech'?\n",
        "18. data_channel_is_world: Is data channel 'World'?  \n",
        "\n",
        "**kw and self_reference** <- the columns are explained in the original [paper](https://core.ac.uk/download/pdf/55638607.pdf)\n",
        ">Some of the features are dependent of particularities of the Mashable\n",
        "service: articles often reference other articles published in the same service; and\n",
        "articles have meta-data, such as keywords, data channel type and total number\n",
        "of shares (when considering Facebook, Twitter, Google+, LinkedIn, StumbleUpon and Pinterest). Thus, we extracted the minimum, average and maximum\n",
        "number of shares (known before publication) of all Mashable links cited in the\n",
        "article. Similarly, we rank all article keyword average shares (known before publication), in order to get the worst, average and best keywords. For each of these\n",
        "keywords, we extract the minimum, average and maximum number of shares.    \n",
        "\\- <cite>K. Fernandes, P. Vinagre and P. Cortez. A Proactive Intelligent Decision Support System for Predicting the Popularity of Online News.</cite>\n",
        "\n",
        "19. kw_min_min: Worst keyword (min. shares)\n",
        "20. kw_max_min: Worst keyword (max. shares)\n",
        "21. kw_avg_min: Worst keyword (avg. shares)\n",
        "22. kw_min_max: Best keyword (min. shares)\n",
        "23. kw_max_max: Best keyword (max. shares)\n",
        "24. kw_avg_max: Best keyword (avg. shares)\n",
        "25. kw_min_avg: Avg. keyword (min. shares)\n",
        "26. kw_max_avg: Avg. keyword (max. shares)\n",
        "27. kw_avg_avg: Avg. keyword (avg. shares)\n",
        "28. self_reference_min_shares: Min. shares of referenced articles in Mashable\n",
        "29. self_reference_max_shares: Max. shares of referenced articles in Mashable\n",
        "30. self_reference_avg_sharess: Avg. shares of referenced articles in Mashable\n",
        "\n",
        "**weekday** dummy variables describing the day of the week the article was published \n",
        "31. weekday_is_monday: Was the article published on a Monday?\n",
        "32. weekday_is_tuesday: Was the article published on a Tuesday?\n",
        "33. weekday_is_wednesday: Was the article published on a Wednesday?\n",
        "34. weekday_is_thursday: Was the article published on a Thursday?\n",
        "35. weekday_is_friday: Was the article published on a Friday?\n",
        "36. weekday_is_saturday: Was the article published on a Saturday?\n",
        "37. weekday_is_sunday: Was the article published on a Sunday?\n",
        "\n",
        "\n",
        "**weekend** indicator varible for whether article was published on a weekend \n",
        "38. is_weekend: Was the article published on the weekend?\n",
        "\n",
        "**LDA** attributes explained in source [paper](https://core.ac.uk/download/pdf/55638607.pdf)\n",
        ">The Latent\n",
        "Dirichlet Allocation (LDA) algorithm was applied to all Mashable texts\n",
        "(known before publication) in order to first identify the five top relevant topics and then measure the closeness of current article to such topics  \n",
        "\\- <cite>K. Fernandes, P. Vinagre and P. Cortez. A Proactive Intelligent Decision Support System for Predicting the Popularity of Online News.</cite>\n",
        "\n",
        "39. LDA_00: Closeness to LDA topic 0\n",
        "40. LDA_01: Closeness to LDA topic 1\n",
        "41. LDA_02: Closeness to LDA topic 2\n",
        "42. LDA_03: Closeness to LDA topic 3\n",
        "43. LDA_04: Closeness to LDA topic 4\n",
        "\n",
        "**Subjectivity and Polarity** attributes explained in source [paper](https://core.ac.uk/download/pdf/55638607.pdf)\n",
        ">To compute the subjectivity and polarity sentiment analysis, we adopted the Pattern web mining module (http://www.clips.ua.ac.be/pattern) [Tom De Smedt, Lucas Nijs, and Walter Daelemans. Creative web services with\n",
        "pattern. In Proceedings of the Fifth International Conference on Computational\n",
        "Creativity, 2014.], allowing the computation of sentiment polarity and subjectivity scores.  \n",
        "\\- <cite>K. Fernandes, P. Vinagre and P. Cortez. A Proactive Intelligent Decision Support System for Predicting the Popularity of Online News.</cite>\n",
        "\n",
        "44. global_subjectivity: Text subjectivity\n",
        "45. global_sentiment_polarity: Text sentiment polarity\n",
        "46. global_rate_positive_words: Rate of positive words in the content\n",
        "47. global_rate_negative_words: Rate of negative words in the content\n",
        "48. rate_positive_words: Rate of positive words among non-neutral tokens\n",
        "49. rate_negative_words: Rate of negative words among non-neutral tokens\n",
        "50. avg_positive_polarity: Avg. polarity of positive words\n",
        "51. min_positive_polarity: Min. polarity of positive words\n",
        "52. max_positive_polarity: Max. polarity of positive words\n",
        "53. avg_negative_polarity: Avg. polarity of negative words\n",
        "54. min_negative_polarity: Min. polarity of negative words\n",
        "55. max_negative_polarity: Max. polarity of negative words\n",
        "56. title_subjectivity: Title subjectivity\n",
        "57. title_sentiment_polarity: Title polarity\n",
        "58. abs_title_subjectivity: Absolute subjectivity level\n",
        "59. abs_title_sentiment_polarity: Absolute polarity level\n",
        "\n",
        "**shares** The number of times an article has been shared. this is our Target or what we are trying to predict for new articles.\n",
        "60. shares: Number of shares (target)"
      ]
    },
    {
      "cell_type": "code",
      "metadata": {
        "id": "_cM_WOzrIu0_"
      },
      "source": [
        ""
      ],
      "execution_count": null,
      "outputs": []
    },
    {
      "cell_type": "code",
      "metadata": {
        "id": "zyA5caotGIxw"
      },
      "source": [
        ""
      ],
      "execution_count": null,
      "outputs": []
    },
    {
      "cell_type": "code",
      "metadata": {
        "id": "7IDLGyv0GJLI"
      },
      "source": [
        ""
      ],
      "execution_count": null,
      "outputs": []
    },
    {
      "cell_type": "code",
      "metadata": {
        "id": "ztU8hPuwFYfo"
      },
      "source": [
        ""
      ],
      "execution_count": null,
      "outputs": []
    },
    {
      "cell_type": "code",
      "metadata": {
        "id": "xiCsk1sO4eqt",
        "colab": {
          "base_uri": "https://localhost:8080/"
        },
        "outputId": "f84f56e8-9212-4bc5-e543-4c250e357588"
      },
      "source": [
        "## a few methods will now be called to view summaries of this dataframe\n",
        "df.shape"
      ],
      "execution_count": null,
      "outputs": [
        {
          "output_type": "execute_result",
          "data": {
            "text/plain": [
              "(39644, 61)"
            ]
          },
          "metadata": {},
          "execution_count": 4
        }
      ]
    },
    {
      "cell_type": "code",
      "metadata": {
        "id": "vtjoA9AQ4eqw",
        "colab": {
          "base_uri": "https://localhost:8080/"
        },
        "outputId": "b5eb12d2-12b4-4e44-d2be-933bada468cc"
      },
      "source": [
        "df.info()"
      ],
      "execution_count": null,
      "outputs": [
        {
          "output_type": "stream",
          "name": "stdout",
          "text": [
            "<class 'pandas.core.frame.DataFrame'>\n",
            "RangeIndex: 39644 entries, 0 to 39643\n",
            "Data columns (total 61 columns):\n",
            " #   Column                          Non-Null Count  Dtype  \n",
            "---  ------                          --------------  -----  \n",
            " 0   url                             39644 non-null  object \n",
            " 1    timedelta                      39644 non-null  float64\n",
            " 2    n_tokens_title                 39644 non-null  float64\n",
            " 3    n_tokens_content               39644 non-null  float64\n",
            " 4    n_unique_tokens                39644 non-null  float64\n",
            " 5    n_non_stop_words               39644 non-null  float64\n",
            " 6    n_non_stop_unique_tokens       39644 non-null  float64\n",
            " 7    num_hrefs                      39644 non-null  float64\n",
            " 8    num_self_hrefs                 39644 non-null  float64\n",
            " 9    num_imgs                       39644 non-null  float64\n",
            " 10   num_videos                     39644 non-null  float64\n",
            " 11   average_token_length           39644 non-null  float64\n",
            " 12   num_keywords                   39644 non-null  float64\n",
            " 13   data_channel_is_lifestyle      39644 non-null  float64\n",
            " 14   data_channel_is_entertainment  39644 non-null  float64\n",
            " 15   data_channel_is_bus            39644 non-null  float64\n",
            " 16   data_channel_is_socmed         39644 non-null  float64\n",
            " 17   data_channel_is_tech           39644 non-null  float64\n",
            " 18   data_channel_is_world          39644 non-null  float64\n",
            " 19   kw_min_min                     39644 non-null  float64\n",
            " 20   kw_max_min                     39644 non-null  float64\n",
            " 21   kw_avg_min                     39644 non-null  float64\n",
            " 22   kw_min_max                     39644 non-null  float64\n",
            " 23   kw_max_max                     39644 non-null  float64\n",
            " 24   kw_avg_max                     39644 non-null  float64\n",
            " 25   kw_min_avg                     39644 non-null  float64\n",
            " 26   kw_max_avg                     39644 non-null  float64\n",
            " 27   kw_avg_avg                     39644 non-null  float64\n",
            " 28   self_reference_min_shares      39644 non-null  float64\n",
            " 29   self_reference_max_shares      39644 non-null  float64\n",
            " 30   self_reference_avg_sharess     39644 non-null  float64\n",
            " 31   weekday_is_monday              39644 non-null  float64\n",
            " 32   weekday_is_tuesday             39644 non-null  float64\n",
            " 33   weekday_is_wednesday           39644 non-null  float64\n",
            " 34   weekday_is_thursday            39644 non-null  float64\n",
            " 35   weekday_is_friday              39644 non-null  float64\n",
            " 36   weekday_is_saturday            39644 non-null  float64\n",
            " 37   weekday_is_sunday              39644 non-null  float64\n",
            " 38   is_weekend                     39644 non-null  float64\n",
            " 39   LDA_00                         39644 non-null  float64\n",
            " 40   LDA_01                         39644 non-null  float64\n",
            " 41   LDA_02                         39644 non-null  float64\n",
            " 42   LDA_03                         39644 non-null  float64\n",
            " 43   LDA_04                         39644 non-null  float64\n",
            " 44   global_subjectivity            39644 non-null  float64\n",
            " 45   global_sentiment_polarity      39644 non-null  float64\n",
            " 46   global_rate_positive_words     39644 non-null  float64\n",
            " 47   global_rate_negative_words     39644 non-null  float64\n",
            " 48   rate_positive_words            39644 non-null  float64\n",
            " 49   rate_negative_words            39644 non-null  float64\n",
            " 50   avg_positive_polarity          39644 non-null  float64\n",
            " 51   min_positive_polarity          39644 non-null  float64\n",
            " 52   max_positive_polarity          39644 non-null  float64\n",
            " 53   avg_negative_polarity          39644 non-null  float64\n",
            " 54   min_negative_polarity          39644 non-null  float64\n",
            " 55   max_negative_polarity          39644 non-null  float64\n",
            " 56   title_subjectivity             39644 non-null  float64\n",
            " 57   title_sentiment_polarity       39644 non-null  float64\n",
            " 58   abs_title_subjectivity         39644 non-null  float64\n",
            " 59   abs_title_sentiment_polarity   39644 non-null  float64\n",
            " 60   shares                         39644 non-null  int64  \n",
            "dtypes: float64(59), int64(1), object(1)\n",
            "memory usage: 18.5+ MB\n"
          ]
        }
      ]
    },
    {
      "cell_type": "markdown",
      "metadata": {
        "id": "HNbMlyFGA3oa"
      },
      "source": [
        "Thankfully, there are no missing values, and aside from the URL, all features are numerical."
      ]
    },
    {
      "cell_type": "code",
      "metadata": {
        "colab": {
          "base_uri": "https://localhost:8080/",
          "height": 320
        },
        "id": "UIE8E32j4c8J",
        "outputId": "d60fe682-a6b6-44c1-839e-a94bacd93b69"
      },
      "source": [
        "df.describe()"
      ],
      "execution_count": null,
      "outputs": [
        {
          "output_type": "execute_result",
          "data": {
            "text/html": [
              "<div>\n",
              "<style scoped>\n",
              "    .dataframe tbody tr th:only-of-type {\n",
              "        vertical-align: middle;\n",
              "    }\n",
              "\n",
              "    .dataframe tbody tr th {\n",
              "        vertical-align: top;\n",
              "    }\n",
              "\n",
              "    .dataframe thead th {\n",
              "        text-align: right;\n",
              "    }\n",
              "</style>\n",
              "<table border=\"1\" class=\"dataframe\">\n",
              "  <thead>\n",
              "    <tr style=\"text-align: right;\">\n",
              "      <th></th>\n",
              "      <th>timedelta</th>\n",
              "      <th>n_tokens_title</th>\n",
              "      <th>n_tokens_content</th>\n",
              "      <th>n_unique_tokens</th>\n",
              "      <th>n_non_stop_words</th>\n",
              "      <th>n_non_stop_unique_tokens</th>\n",
              "      <th>num_hrefs</th>\n",
              "      <th>num_self_hrefs</th>\n",
              "      <th>num_imgs</th>\n",
              "      <th>num_videos</th>\n",
              "      <th>average_token_length</th>\n",
              "      <th>num_keywords</th>\n",
              "      <th>data_channel_is_lifestyle</th>\n",
              "      <th>data_channel_is_entertainment</th>\n",
              "      <th>data_channel_is_bus</th>\n",
              "      <th>data_channel_is_socmed</th>\n",
              "      <th>data_channel_is_tech</th>\n",
              "      <th>data_channel_is_world</th>\n",
              "      <th>kw_min_min</th>\n",
              "      <th>kw_max_min</th>\n",
              "      <th>kw_avg_min</th>\n",
              "      <th>kw_min_max</th>\n",
              "      <th>kw_max_max</th>\n",
              "      <th>kw_avg_max</th>\n",
              "      <th>kw_min_avg</th>\n",
              "      <th>kw_max_avg</th>\n",
              "      <th>kw_avg_avg</th>\n",
              "      <th>self_reference_min_shares</th>\n",
              "      <th>self_reference_max_shares</th>\n",
              "      <th>self_reference_avg_sharess</th>\n",
              "      <th>weekday_is_monday</th>\n",
              "      <th>weekday_is_tuesday</th>\n",
              "      <th>weekday_is_wednesday</th>\n",
              "      <th>weekday_is_thursday</th>\n",
              "      <th>weekday_is_friday</th>\n",
              "      <th>weekday_is_saturday</th>\n",
              "      <th>weekday_is_sunday</th>\n",
              "      <th>is_weekend</th>\n",
              "      <th>LDA_00</th>\n",
              "      <th>LDA_01</th>\n",
              "      <th>LDA_02</th>\n",
              "      <th>LDA_03</th>\n",
              "      <th>LDA_04</th>\n",
              "      <th>global_subjectivity</th>\n",
              "      <th>global_sentiment_polarity</th>\n",
              "      <th>global_rate_positive_words</th>\n",
              "      <th>global_rate_negative_words</th>\n",
              "      <th>rate_positive_words</th>\n",
              "      <th>rate_negative_words</th>\n",
              "      <th>avg_positive_polarity</th>\n",
              "      <th>min_positive_polarity</th>\n",
              "      <th>max_positive_polarity</th>\n",
              "      <th>avg_negative_polarity</th>\n",
              "      <th>min_negative_polarity</th>\n",
              "      <th>max_negative_polarity</th>\n",
              "      <th>title_subjectivity</th>\n",
              "      <th>title_sentiment_polarity</th>\n",
              "      <th>abs_title_subjectivity</th>\n",
              "      <th>abs_title_sentiment_polarity</th>\n",
              "      <th>shares</th>\n",
              "    </tr>\n",
              "  </thead>\n",
              "  <tbody>\n",
              "    <tr>\n",
              "      <th>count</th>\n",
              "      <td>39644.000000</td>\n",
              "      <td>39644.000000</td>\n",
              "      <td>39644.000000</td>\n",
              "      <td>39644.000000</td>\n",
              "      <td>39644.000000</td>\n",
              "      <td>39644.000000</td>\n",
              "      <td>39644.000000</td>\n",
              "      <td>39644.000000</td>\n",
              "      <td>39644.000000</td>\n",
              "      <td>39644.000000</td>\n",
              "      <td>39644.000000</td>\n",
              "      <td>39644.000000</td>\n",
              "      <td>39644.000000</td>\n",
              "      <td>39644.000000</td>\n",
              "      <td>39644.000000</td>\n",
              "      <td>39644.000000</td>\n",
              "      <td>39644.000000</td>\n",
              "      <td>39644.000000</td>\n",
              "      <td>39644.000000</td>\n",
              "      <td>39644.000000</td>\n",
              "      <td>39644.000000</td>\n",
              "      <td>39644.000000</td>\n",
              "      <td>39644.000000</td>\n",
              "      <td>39644.000000</td>\n",
              "      <td>39644.000000</td>\n",
              "      <td>39644.000000</td>\n",
              "      <td>39644.000000</td>\n",
              "      <td>39644.000000</td>\n",
              "      <td>39644.000000</td>\n",
              "      <td>39644.000000</td>\n",
              "      <td>39644.000000</td>\n",
              "      <td>39644.000000</td>\n",
              "      <td>39644.000000</td>\n",
              "      <td>39644.000000</td>\n",
              "      <td>39644.000000</td>\n",
              "      <td>39644.000000</td>\n",
              "      <td>39644.000000</td>\n",
              "      <td>39644.000000</td>\n",
              "      <td>39644.000000</td>\n",
              "      <td>39644.000000</td>\n",
              "      <td>39644.000000</td>\n",
              "      <td>39644.000000</td>\n",
              "      <td>39644.000000</td>\n",
              "      <td>39644.000000</td>\n",
              "      <td>39644.000000</td>\n",
              "      <td>39644.000000</td>\n",
              "      <td>39644.000000</td>\n",
              "      <td>39644.000000</td>\n",
              "      <td>39644.000000</td>\n",
              "      <td>39644.000000</td>\n",
              "      <td>39644.000000</td>\n",
              "      <td>39644.000000</td>\n",
              "      <td>39644.000000</td>\n",
              "      <td>39644.000000</td>\n",
              "      <td>39644.000000</td>\n",
              "      <td>39644.000000</td>\n",
              "      <td>39644.000000</td>\n",
              "      <td>39644.000000</td>\n",
              "      <td>39644.000000</td>\n",
              "      <td>39644.000000</td>\n",
              "    </tr>\n",
              "    <tr>\n",
              "      <th>mean</th>\n",
              "      <td>354.530471</td>\n",
              "      <td>10.398749</td>\n",
              "      <td>546.514731</td>\n",
              "      <td>0.548216</td>\n",
              "      <td>0.996469</td>\n",
              "      <td>0.689175</td>\n",
              "      <td>10.883690</td>\n",
              "      <td>3.293638</td>\n",
              "      <td>4.544143</td>\n",
              "      <td>1.249874</td>\n",
              "      <td>4.548239</td>\n",
              "      <td>7.223767</td>\n",
              "      <td>0.052946</td>\n",
              "      <td>0.178009</td>\n",
              "      <td>0.157855</td>\n",
              "      <td>0.058597</td>\n",
              "      <td>0.185299</td>\n",
              "      <td>0.212567</td>\n",
              "      <td>26.106801</td>\n",
              "      <td>1153.951682</td>\n",
              "      <td>312.366967</td>\n",
              "      <td>13612.354102</td>\n",
              "      <td>752324.066694</td>\n",
              "      <td>259281.938083</td>\n",
              "      <td>1117.146610</td>\n",
              "      <td>5657.211151</td>\n",
              "      <td>3135.858639</td>\n",
              "      <td>3998.755396</td>\n",
              "      <td>10329.212662</td>\n",
              "      <td>6401.697580</td>\n",
              "      <td>0.168020</td>\n",
              "      <td>0.186409</td>\n",
              "      <td>0.187544</td>\n",
              "      <td>0.183306</td>\n",
              "      <td>0.143805</td>\n",
              "      <td>0.061876</td>\n",
              "      <td>0.069039</td>\n",
              "      <td>0.130915</td>\n",
              "      <td>0.184599</td>\n",
              "      <td>0.141256</td>\n",
              "      <td>0.216321</td>\n",
              "      <td>0.223770</td>\n",
              "      <td>0.234029</td>\n",
              "      <td>0.443370</td>\n",
              "      <td>0.119309</td>\n",
              "      <td>0.039625</td>\n",
              "      <td>0.016612</td>\n",
              "      <td>0.682150</td>\n",
              "      <td>0.287934</td>\n",
              "      <td>0.353825</td>\n",
              "      <td>0.095446</td>\n",
              "      <td>0.756728</td>\n",
              "      <td>-0.259524</td>\n",
              "      <td>-0.521944</td>\n",
              "      <td>-0.107500</td>\n",
              "      <td>0.282353</td>\n",
              "      <td>0.071425</td>\n",
              "      <td>0.341843</td>\n",
              "      <td>0.156064</td>\n",
              "      <td>3395.380184</td>\n",
              "    </tr>\n",
              "    <tr>\n",
              "      <th>std</th>\n",
              "      <td>214.163767</td>\n",
              "      <td>2.114037</td>\n",
              "      <td>471.107508</td>\n",
              "      <td>3.520708</td>\n",
              "      <td>5.231231</td>\n",
              "      <td>3.264816</td>\n",
              "      <td>11.332017</td>\n",
              "      <td>3.855141</td>\n",
              "      <td>8.309434</td>\n",
              "      <td>4.107855</td>\n",
              "      <td>0.844406</td>\n",
              "      <td>1.909130</td>\n",
              "      <td>0.223929</td>\n",
              "      <td>0.382525</td>\n",
              "      <td>0.364610</td>\n",
              "      <td>0.234871</td>\n",
              "      <td>0.388545</td>\n",
              "      <td>0.409129</td>\n",
              "      <td>69.633215</td>\n",
              "      <td>3857.990877</td>\n",
              "      <td>620.783887</td>\n",
              "      <td>57986.029357</td>\n",
              "      <td>214502.129573</td>\n",
              "      <td>135102.247285</td>\n",
              "      <td>1137.456951</td>\n",
              "      <td>6098.871957</td>\n",
              "      <td>1318.150397</td>\n",
              "      <td>19738.670516</td>\n",
              "      <td>41027.576613</td>\n",
              "      <td>24211.332231</td>\n",
              "      <td>0.373889</td>\n",
              "      <td>0.389441</td>\n",
              "      <td>0.390353</td>\n",
              "      <td>0.386922</td>\n",
              "      <td>0.350896</td>\n",
              "      <td>0.240933</td>\n",
              "      <td>0.253524</td>\n",
              "      <td>0.337312</td>\n",
              "      <td>0.262975</td>\n",
              "      <td>0.219707</td>\n",
              "      <td>0.282145</td>\n",
              "      <td>0.295191</td>\n",
              "      <td>0.289183</td>\n",
              "      <td>0.116685</td>\n",
              "      <td>0.096931</td>\n",
              "      <td>0.017429</td>\n",
              "      <td>0.010828</td>\n",
              "      <td>0.190206</td>\n",
              "      <td>0.156156</td>\n",
              "      <td>0.104542</td>\n",
              "      <td>0.071315</td>\n",
              "      <td>0.247786</td>\n",
              "      <td>0.127726</td>\n",
              "      <td>0.290290</td>\n",
              "      <td>0.095373</td>\n",
              "      <td>0.324247</td>\n",
              "      <td>0.265450</td>\n",
              "      <td>0.188791</td>\n",
              "      <td>0.226294</td>\n",
              "      <td>11626.950749</td>\n",
              "    </tr>\n",
              "    <tr>\n",
              "      <th>min</th>\n",
              "      <td>8.000000</td>\n",
              "      <td>2.000000</td>\n",
              "      <td>0.000000</td>\n",
              "      <td>0.000000</td>\n",
              "      <td>0.000000</td>\n",
              "      <td>0.000000</td>\n",
              "      <td>0.000000</td>\n",
              "      <td>0.000000</td>\n",
              "      <td>0.000000</td>\n",
              "      <td>0.000000</td>\n",
              "      <td>0.000000</td>\n",
              "      <td>1.000000</td>\n",
              "      <td>0.000000</td>\n",
              "      <td>0.000000</td>\n",
              "      <td>0.000000</td>\n",
              "      <td>0.000000</td>\n",
              "      <td>0.000000</td>\n",
              "      <td>0.000000</td>\n",
              "      <td>-1.000000</td>\n",
              "      <td>0.000000</td>\n",
              "      <td>-1.000000</td>\n",
              "      <td>0.000000</td>\n",
              "      <td>0.000000</td>\n",
              "      <td>0.000000</td>\n",
              "      <td>-1.000000</td>\n",
              "      <td>0.000000</td>\n",
              "      <td>0.000000</td>\n",
              "      <td>0.000000</td>\n",
              "      <td>0.000000</td>\n",
              "      <td>0.000000</td>\n",
              "      <td>0.000000</td>\n",
              "      <td>0.000000</td>\n",
              "      <td>0.000000</td>\n",
              "      <td>0.000000</td>\n",
              "      <td>0.000000</td>\n",
              "      <td>0.000000</td>\n",
              "      <td>0.000000</td>\n",
              "      <td>0.000000</td>\n",
              "      <td>0.000000</td>\n",
              "      <td>0.000000</td>\n",
              "      <td>0.000000</td>\n",
              "      <td>0.000000</td>\n",
              "      <td>0.000000</td>\n",
              "      <td>0.000000</td>\n",
              "      <td>-0.393750</td>\n",
              "      <td>0.000000</td>\n",
              "      <td>0.000000</td>\n",
              "      <td>0.000000</td>\n",
              "      <td>0.000000</td>\n",
              "      <td>0.000000</td>\n",
              "      <td>0.000000</td>\n",
              "      <td>0.000000</td>\n",
              "      <td>-1.000000</td>\n",
              "      <td>-1.000000</td>\n",
              "      <td>-1.000000</td>\n",
              "      <td>0.000000</td>\n",
              "      <td>-1.000000</td>\n",
              "      <td>0.000000</td>\n",
              "      <td>0.000000</td>\n",
              "      <td>1.000000</td>\n",
              "    </tr>\n",
              "    <tr>\n",
              "      <th>25%</th>\n",
              "      <td>164.000000</td>\n",
              "      <td>9.000000</td>\n",
              "      <td>246.000000</td>\n",
              "      <td>0.470870</td>\n",
              "      <td>1.000000</td>\n",
              "      <td>0.625739</td>\n",
              "      <td>4.000000</td>\n",
              "      <td>1.000000</td>\n",
              "      <td>1.000000</td>\n",
              "      <td>0.000000</td>\n",
              "      <td>4.478404</td>\n",
              "      <td>6.000000</td>\n",
              "      <td>0.000000</td>\n",
              "      <td>0.000000</td>\n",
              "      <td>0.000000</td>\n",
              "      <td>0.000000</td>\n",
              "      <td>0.000000</td>\n",
              "      <td>0.000000</td>\n",
              "      <td>-1.000000</td>\n",
              "      <td>445.000000</td>\n",
              "      <td>141.750000</td>\n",
              "      <td>0.000000</td>\n",
              "      <td>843300.000000</td>\n",
              "      <td>172846.875000</td>\n",
              "      <td>0.000000</td>\n",
              "      <td>3562.101631</td>\n",
              "      <td>2382.448566</td>\n",
              "      <td>639.000000</td>\n",
              "      <td>1100.000000</td>\n",
              "      <td>981.187500</td>\n",
              "      <td>0.000000</td>\n",
              "      <td>0.000000</td>\n",
              "      <td>0.000000</td>\n",
              "      <td>0.000000</td>\n",
              "      <td>0.000000</td>\n",
              "      <td>0.000000</td>\n",
              "      <td>0.000000</td>\n",
              "      <td>0.000000</td>\n",
              "      <td>0.025051</td>\n",
              "      <td>0.025012</td>\n",
              "      <td>0.028571</td>\n",
              "      <td>0.028571</td>\n",
              "      <td>0.028574</td>\n",
              "      <td>0.396167</td>\n",
              "      <td>0.057757</td>\n",
              "      <td>0.028384</td>\n",
              "      <td>0.009615</td>\n",
              "      <td>0.600000</td>\n",
              "      <td>0.185185</td>\n",
              "      <td>0.306244</td>\n",
              "      <td>0.050000</td>\n",
              "      <td>0.600000</td>\n",
              "      <td>-0.328383</td>\n",
              "      <td>-0.700000</td>\n",
              "      <td>-0.125000</td>\n",
              "      <td>0.000000</td>\n",
              "      <td>0.000000</td>\n",
              "      <td>0.166667</td>\n",
              "      <td>0.000000</td>\n",
              "      <td>946.000000</td>\n",
              "    </tr>\n",
              "    <tr>\n",
              "      <th>50%</th>\n",
              "      <td>339.000000</td>\n",
              "      <td>10.000000</td>\n",
              "      <td>409.000000</td>\n",
              "      <td>0.539226</td>\n",
              "      <td>1.000000</td>\n",
              "      <td>0.690476</td>\n",
              "      <td>8.000000</td>\n",
              "      <td>3.000000</td>\n",
              "      <td>1.000000</td>\n",
              "      <td>0.000000</td>\n",
              "      <td>4.664082</td>\n",
              "      <td>7.000000</td>\n",
              "      <td>0.000000</td>\n",
              "      <td>0.000000</td>\n",
              "      <td>0.000000</td>\n",
              "      <td>0.000000</td>\n",
              "      <td>0.000000</td>\n",
              "      <td>0.000000</td>\n",
              "      <td>-1.000000</td>\n",
              "      <td>660.000000</td>\n",
              "      <td>235.500000</td>\n",
              "      <td>1400.000000</td>\n",
              "      <td>843300.000000</td>\n",
              "      <td>244572.222223</td>\n",
              "      <td>1023.635611</td>\n",
              "      <td>4355.688836</td>\n",
              "      <td>2870.074878</td>\n",
              "      <td>1200.000000</td>\n",
              "      <td>2800.000000</td>\n",
              "      <td>2200.000000</td>\n",
              "      <td>0.000000</td>\n",
              "      <td>0.000000</td>\n",
              "      <td>0.000000</td>\n",
              "      <td>0.000000</td>\n",
              "      <td>0.000000</td>\n",
              "      <td>0.000000</td>\n",
              "      <td>0.000000</td>\n",
              "      <td>0.000000</td>\n",
              "      <td>0.033387</td>\n",
              "      <td>0.033345</td>\n",
              "      <td>0.040004</td>\n",
              "      <td>0.040001</td>\n",
              "      <td>0.040727</td>\n",
              "      <td>0.453457</td>\n",
              "      <td>0.119117</td>\n",
              "      <td>0.039023</td>\n",
              "      <td>0.015337</td>\n",
              "      <td>0.710526</td>\n",
              "      <td>0.280000</td>\n",
              "      <td>0.358755</td>\n",
              "      <td>0.100000</td>\n",
              "      <td>0.800000</td>\n",
              "      <td>-0.253333</td>\n",
              "      <td>-0.500000</td>\n",
              "      <td>-0.100000</td>\n",
              "      <td>0.150000</td>\n",
              "      <td>0.000000</td>\n",
              "      <td>0.500000</td>\n",
              "      <td>0.000000</td>\n",
              "      <td>1400.000000</td>\n",
              "    </tr>\n",
              "    <tr>\n",
              "      <th>75%</th>\n",
              "      <td>542.000000</td>\n",
              "      <td>12.000000</td>\n",
              "      <td>716.000000</td>\n",
              "      <td>0.608696</td>\n",
              "      <td>1.000000</td>\n",
              "      <td>0.754630</td>\n",
              "      <td>14.000000</td>\n",
              "      <td>4.000000</td>\n",
              "      <td>4.000000</td>\n",
              "      <td>1.000000</td>\n",
              "      <td>4.854839</td>\n",
              "      <td>9.000000</td>\n",
              "      <td>0.000000</td>\n",
              "      <td>0.000000</td>\n",
              "      <td>0.000000</td>\n",
              "      <td>0.000000</td>\n",
              "      <td>0.000000</td>\n",
              "      <td>0.000000</td>\n",
              "      <td>4.000000</td>\n",
              "      <td>1000.000000</td>\n",
              "      <td>357.000000</td>\n",
              "      <td>7900.000000</td>\n",
              "      <td>843300.000000</td>\n",
              "      <td>330980.000000</td>\n",
              "      <td>2056.781032</td>\n",
              "      <td>6019.953968</td>\n",
              "      <td>3600.229564</td>\n",
              "      <td>2600.000000</td>\n",
              "      <td>8000.000000</td>\n",
              "      <td>5200.000000</td>\n",
              "      <td>0.000000</td>\n",
              "      <td>0.000000</td>\n",
              "      <td>0.000000</td>\n",
              "      <td>0.000000</td>\n",
              "      <td>0.000000</td>\n",
              "      <td>0.000000</td>\n",
              "      <td>0.000000</td>\n",
              "      <td>0.000000</td>\n",
              "      <td>0.240958</td>\n",
              "      <td>0.150831</td>\n",
              "      <td>0.334218</td>\n",
              "      <td>0.375763</td>\n",
              "      <td>0.399986</td>\n",
              "      <td>0.508333</td>\n",
              "      <td>0.177832</td>\n",
              "      <td>0.050279</td>\n",
              "      <td>0.021739</td>\n",
              "      <td>0.800000</td>\n",
              "      <td>0.384615</td>\n",
              "      <td>0.411428</td>\n",
              "      <td>0.100000</td>\n",
              "      <td>1.000000</td>\n",
              "      <td>-0.186905</td>\n",
              "      <td>-0.300000</td>\n",
              "      <td>-0.050000</td>\n",
              "      <td>0.500000</td>\n",
              "      <td>0.150000</td>\n",
              "      <td>0.500000</td>\n",
              "      <td>0.250000</td>\n",
              "      <td>2800.000000</td>\n",
              "    </tr>\n",
              "    <tr>\n",
              "      <th>max</th>\n",
              "      <td>731.000000</td>\n",
              "      <td>23.000000</td>\n",
              "      <td>8474.000000</td>\n",
              "      <td>701.000000</td>\n",
              "      <td>1042.000000</td>\n",
              "      <td>650.000000</td>\n",
              "      <td>304.000000</td>\n",
              "      <td>116.000000</td>\n",
              "      <td>128.000000</td>\n",
              "      <td>91.000000</td>\n",
              "      <td>8.041534</td>\n",
              "      <td>10.000000</td>\n",
              "      <td>1.000000</td>\n",
              "      <td>1.000000</td>\n",
              "      <td>1.000000</td>\n",
              "      <td>1.000000</td>\n",
              "      <td>1.000000</td>\n",
              "      <td>1.000000</td>\n",
              "      <td>377.000000</td>\n",
              "      <td>298400.000000</td>\n",
              "      <td>42827.857143</td>\n",
              "      <td>843300.000000</td>\n",
              "      <td>843300.000000</td>\n",
              "      <td>843300.000000</td>\n",
              "      <td>3613.039820</td>\n",
              "      <td>298400.000000</td>\n",
              "      <td>43567.659946</td>\n",
              "      <td>843300.000000</td>\n",
              "      <td>843300.000000</td>\n",
              "      <td>843300.000000</td>\n",
              "      <td>1.000000</td>\n",
              "      <td>1.000000</td>\n",
              "      <td>1.000000</td>\n",
              "      <td>1.000000</td>\n",
              "      <td>1.000000</td>\n",
              "      <td>1.000000</td>\n",
              "      <td>1.000000</td>\n",
              "      <td>1.000000</td>\n",
              "      <td>0.926994</td>\n",
              "      <td>0.925947</td>\n",
              "      <td>0.919999</td>\n",
              "      <td>0.926534</td>\n",
              "      <td>0.927191</td>\n",
              "      <td>1.000000</td>\n",
              "      <td>0.727841</td>\n",
              "      <td>0.155488</td>\n",
              "      <td>0.184932</td>\n",
              "      <td>1.000000</td>\n",
              "      <td>1.000000</td>\n",
              "      <td>1.000000</td>\n",
              "      <td>1.000000</td>\n",
              "      <td>1.000000</td>\n",
              "      <td>0.000000</td>\n",
              "      <td>0.000000</td>\n",
              "      <td>0.000000</td>\n",
              "      <td>1.000000</td>\n",
              "      <td>1.000000</td>\n",
              "      <td>0.500000</td>\n",
              "      <td>1.000000</td>\n",
              "      <td>843300.000000</td>\n",
              "    </tr>\n",
              "  </tbody>\n",
              "</table>\n",
              "</div>"
            ],
            "text/plain": [
              "          timedelta   n_tokens_title   n_tokens_content   n_unique_tokens  \\\n",
              "count  39644.000000     39644.000000       39644.000000      39644.000000   \n",
              "mean     354.530471        10.398749         546.514731          0.548216   \n",
              "std      214.163767         2.114037         471.107508          3.520708   \n",
              "min        8.000000         2.000000           0.000000          0.000000   \n",
              "25%      164.000000         9.000000         246.000000          0.470870   \n",
              "50%      339.000000        10.000000         409.000000          0.539226   \n",
              "75%      542.000000        12.000000         716.000000          0.608696   \n",
              "max      731.000000        23.000000        8474.000000        701.000000   \n",
              "\n",
              "        n_non_stop_words   n_non_stop_unique_tokens     num_hrefs  \\\n",
              "count       39644.000000               39644.000000  39644.000000   \n",
              "mean            0.996469                   0.689175     10.883690   \n",
              "std             5.231231                   3.264816     11.332017   \n",
              "min             0.000000                   0.000000      0.000000   \n",
              "25%             1.000000                   0.625739      4.000000   \n",
              "50%             1.000000                   0.690476      8.000000   \n",
              "75%             1.000000                   0.754630     14.000000   \n",
              "max          1042.000000                 650.000000    304.000000   \n",
              "\n",
              "        num_self_hrefs      num_imgs    num_videos   average_token_length  \\\n",
              "count     39644.000000  39644.000000  39644.000000           39644.000000   \n",
              "mean          3.293638      4.544143      1.249874               4.548239   \n",
              "std           3.855141      8.309434      4.107855               0.844406   \n",
              "min           0.000000      0.000000      0.000000               0.000000   \n",
              "25%           1.000000      1.000000      0.000000               4.478404   \n",
              "50%           3.000000      1.000000      0.000000               4.664082   \n",
              "75%           4.000000      4.000000      1.000000               4.854839   \n",
              "max         116.000000    128.000000     91.000000               8.041534   \n",
              "\n",
              "        num_keywords   data_channel_is_lifestyle  \\\n",
              "count   39644.000000                39644.000000   \n",
              "mean        7.223767                    0.052946   \n",
              "std         1.909130                    0.223929   \n",
              "min         1.000000                    0.000000   \n",
              "25%         6.000000                    0.000000   \n",
              "50%         7.000000                    0.000000   \n",
              "75%         9.000000                    0.000000   \n",
              "max        10.000000                    1.000000   \n",
              "\n",
              "        data_channel_is_entertainment   data_channel_is_bus  \\\n",
              "count                    39644.000000          39644.000000   \n",
              "mean                         0.178009              0.157855   \n",
              "std                          0.382525              0.364610   \n",
              "min                          0.000000              0.000000   \n",
              "25%                          0.000000              0.000000   \n",
              "50%                          0.000000              0.000000   \n",
              "75%                          0.000000              0.000000   \n",
              "max                          1.000000              1.000000   \n",
              "\n",
              "        data_channel_is_socmed   data_channel_is_tech   data_channel_is_world  \\\n",
              "count             39644.000000           39644.000000            39644.000000   \n",
              "mean                  0.058597               0.185299                0.212567   \n",
              "std                   0.234871               0.388545                0.409129   \n",
              "min                   0.000000               0.000000                0.000000   \n",
              "25%                   0.000000               0.000000                0.000000   \n",
              "50%                   0.000000               0.000000                0.000000   \n",
              "75%                   0.000000               0.000000                0.000000   \n",
              "max                   1.000000               1.000000                1.000000   \n",
              "\n",
              "         kw_min_min     kw_max_min    kw_avg_min     kw_min_max  \\\n",
              "count  39644.000000   39644.000000  39644.000000   39644.000000   \n",
              "mean      26.106801    1153.951682    312.366967   13612.354102   \n",
              "std       69.633215    3857.990877    620.783887   57986.029357   \n",
              "min       -1.000000       0.000000     -1.000000       0.000000   \n",
              "25%       -1.000000     445.000000    141.750000       0.000000   \n",
              "50%       -1.000000     660.000000    235.500000    1400.000000   \n",
              "75%        4.000000    1000.000000    357.000000    7900.000000   \n",
              "max      377.000000  298400.000000  42827.857143  843300.000000   \n",
              "\n",
              "          kw_max_max     kw_avg_max    kw_min_avg     kw_max_avg  \\\n",
              "count   39644.000000   39644.000000  39644.000000   39644.000000   \n",
              "mean   752324.066694  259281.938083   1117.146610    5657.211151   \n",
              "std    214502.129573  135102.247285   1137.456951    6098.871957   \n",
              "min         0.000000       0.000000     -1.000000       0.000000   \n",
              "25%    843300.000000  172846.875000      0.000000    3562.101631   \n",
              "50%    843300.000000  244572.222223   1023.635611    4355.688836   \n",
              "75%    843300.000000  330980.000000   2056.781032    6019.953968   \n",
              "max    843300.000000  843300.000000   3613.039820  298400.000000   \n",
              "\n",
              "         kw_avg_avg   self_reference_min_shares   self_reference_max_shares  \\\n",
              "count  39644.000000                39644.000000                39644.000000   \n",
              "mean    3135.858639                 3998.755396                10329.212662   \n",
              "std     1318.150397                19738.670516                41027.576613   \n",
              "min        0.000000                    0.000000                    0.000000   \n",
              "25%     2382.448566                  639.000000                 1100.000000   \n",
              "50%     2870.074878                 1200.000000                 2800.000000   \n",
              "75%     3600.229564                 2600.000000                 8000.000000   \n",
              "max    43567.659946               843300.000000               843300.000000   \n",
              "\n",
              "        self_reference_avg_sharess   weekday_is_monday   weekday_is_tuesday  \\\n",
              "count                 39644.000000        39644.000000         39644.000000   \n",
              "mean                   6401.697580            0.168020             0.186409   \n",
              "std                   24211.332231            0.373889             0.389441   \n",
              "min                       0.000000            0.000000             0.000000   \n",
              "25%                     981.187500            0.000000             0.000000   \n",
              "50%                    2200.000000            0.000000             0.000000   \n",
              "75%                    5200.000000            0.000000             0.000000   \n",
              "max                  843300.000000            1.000000             1.000000   \n",
              "\n",
              "        weekday_is_wednesday   weekday_is_thursday   weekday_is_friday  \\\n",
              "count           39644.000000          39644.000000        39644.000000   \n",
              "mean                0.187544              0.183306            0.143805   \n",
              "std                 0.390353              0.386922            0.350896   \n",
              "min                 0.000000              0.000000            0.000000   \n",
              "25%                 0.000000              0.000000            0.000000   \n",
              "50%                 0.000000              0.000000            0.000000   \n",
              "75%                 0.000000              0.000000            0.000000   \n",
              "max                 1.000000              1.000000            1.000000   \n",
              "\n",
              "        weekday_is_saturday   weekday_is_sunday    is_weekend        LDA_00  \\\n",
              "count          39644.000000        39644.000000  39644.000000  39644.000000   \n",
              "mean               0.061876            0.069039      0.130915      0.184599   \n",
              "std                0.240933            0.253524      0.337312      0.262975   \n",
              "min                0.000000            0.000000      0.000000      0.000000   \n",
              "25%                0.000000            0.000000      0.000000      0.025051   \n",
              "50%                0.000000            0.000000      0.000000      0.033387   \n",
              "75%                0.000000            0.000000      0.000000      0.240958   \n",
              "max                1.000000            1.000000      1.000000      0.926994   \n",
              "\n",
              "             LDA_01        LDA_02        LDA_03        LDA_04  \\\n",
              "count  39644.000000  39644.000000  39644.000000  39644.000000   \n",
              "mean       0.141256      0.216321      0.223770      0.234029   \n",
              "std        0.219707      0.282145      0.295191      0.289183   \n",
              "min        0.000000      0.000000      0.000000      0.000000   \n",
              "25%        0.025012      0.028571      0.028571      0.028574   \n",
              "50%        0.033345      0.040004      0.040001      0.040727   \n",
              "75%        0.150831      0.334218      0.375763      0.399986   \n",
              "max        0.925947      0.919999      0.926534      0.927191   \n",
              "\n",
              "        global_subjectivity   global_sentiment_polarity  \\\n",
              "count          39644.000000                39644.000000   \n",
              "mean               0.443370                    0.119309   \n",
              "std                0.116685                    0.096931   \n",
              "min                0.000000                   -0.393750   \n",
              "25%                0.396167                    0.057757   \n",
              "50%                0.453457                    0.119117   \n",
              "75%                0.508333                    0.177832   \n",
              "max                1.000000                    0.727841   \n",
              "\n",
              "        global_rate_positive_words   global_rate_negative_words  \\\n",
              "count                 39644.000000                 39644.000000   \n",
              "mean                      0.039625                     0.016612   \n",
              "std                       0.017429                     0.010828   \n",
              "min                       0.000000                     0.000000   \n",
              "25%                       0.028384                     0.009615   \n",
              "50%                       0.039023                     0.015337   \n",
              "75%                       0.050279                     0.021739   \n",
              "max                       0.155488                     0.184932   \n",
              "\n",
              "        rate_positive_words   rate_negative_words   avg_positive_polarity  \\\n",
              "count          39644.000000          39644.000000            39644.000000   \n",
              "mean               0.682150              0.287934                0.353825   \n",
              "std                0.190206              0.156156                0.104542   \n",
              "min                0.000000              0.000000                0.000000   \n",
              "25%                0.600000              0.185185                0.306244   \n",
              "50%                0.710526              0.280000                0.358755   \n",
              "75%                0.800000              0.384615                0.411428   \n",
              "max                1.000000              1.000000                1.000000   \n",
              "\n",
              "        min_positive_polarity   max_positive_polarity   avg_negative_polarity  \\\n",
              "count            39644.000000            39644.000000            39644.000000   \n",
              "mean                 0.095446                0.756728               -0.259524   \n",
              "std                  0.071315                0.247786                0.127726   \n",
              "min                  0.000000                0.000000               -1.000000   \n",
              "25%                  0.050000                0.600000               -0.328383   \n",
              "50%                  0.100000                0.800000               -0.253333   \n",
              "75%                  0.100000                1.000000               -0.186905   \n",
              "max                  1.000000                1.000000                0.000000   \n",
              "\n",
              "        min_negative_polarity   max_negative_polarity   title_subjectivity  \\\n",
              "count            39644.000000            39644.000000         39644.000000   \n",
              "mean                -0.521944               -0.107500             0.282353   \n",
              "std                  0.290290                0.095373             0.324247   \n",
              "min                 -1.000000               -1.000000             0.000000   \n",
              "25%                 -0.700000               -0.125000             0.000000   \n",
              "50%                 -0.500000               -0.100000             0.150000   \n",
              "75%                 -0.300000               -0.050000             0.500000   \n",
              "max                  0.000000                0.000000             1.000000   \n",
              "\n",
              "        title_sentiment_polarity   abs_title_subjectivity  \\\n",
              "count               39644.000000             39644.000000   \n",
              "mean                    0.071425                 0.341843   \n",
              "std                     0.265450                 0.188791   \n",
              "min                    -1.000000                 0.000000   \n",
              "25%                     0.000000                 0.166667   \n",
              "50%                     0.000000                 0.500000   \n",
              "75%                     0.150000                 0.500000   \n",
              "max                     1.000000                 0.500000   \n",
              "\n",
              "        abs_title_sentiment_polarity         shares  \n",
              "count                   39644.000000   39644.000000  \n",
              "mean                        0.156064    3395.380184  \n",
              "std                         0.226294   11626.950749  \n",
              "min                         0.000000       1.000000  \n",
              "25%                         0.000000     946.000000  \n",
              "50%                         0.000000    1400.000000  \n",
              "75%                         0.250000    2800.000000  \n",
              "max                         1.000000  843300.000000  "
            ]
          },
          "metadata": {},
          "execution_count": 6
        }
      ]
    },
    {
      "cell_type": "markdown",
      "metadata": {
        "id": "0nGI6heM_-_t"
      },
      "source": [
        "### Univariate Analysis\n",
        "Column by Column EDA\n",
        "\n",
        "\n",
        "\n"
      ]
    },
    {
      "cell_type": "markdown",
      "metadata": {
        "id": "q71PBlnFIC58"
      },
      "source": [
        "####shares (response variable)\n",
        "Response Variable (indicates # of cases of wine sold)\n"
      ]
    },
    {
      "cell_type": "code",
      "metadata": {
        "colab": {
          "base_uri": "https://localhost:8080/",
          "height": 486
        },
        "id": "sMcRYjl2JdBl",
        "outputId": "0b9c27fe-78bf-48d7-a293-20ec98264eac"
      },
      "source": [
        "#Create a histogram and boxplot side by side\n",
        "i = df[' shares']\n",
        "\n",
        "sns.set_style();\n",
        "plt.figure(figsize=(8,4))#sets size of plot\n",
        "#Histogram\n",
        "plt.subplot(1,2,1);#sets subplot location left\n",
        "sns.distplot(i);#calls a histogram\n",
        "plt.title('shares')#adds title\n",
        "#Boxplot\n",
        "plt.subplot(1,2,2);#sets subplot location right\n",
        "sns.boxplot(i);#calls a boxplot\n",
        "plt.title('shares');#adds title\n",
        "\n",
        "print(\"Skewness: %f\" %i.skew()) #Adds Skew (symetry)value https://medium.com/@atanudan/kurtosis-skew-function-in-pandas-aa63d72e20de\n",
        "#· If the skewness is between -0.5 and 0.5, the data are fairly symmetrical\n",
        "#· If the skewness is between -1 and — 0.5 or between 0.5 and 1, the data are moderately skewed\n",
        "#· If the skewness is less than -1 or greater than 1, the data are highly skewed\n",
        "print(\"Kurtosis: %f\" %i.kurt(skipna = True)) #Adds Kurtosis value (tail-ness)\n",
        "#while kurtosis determines the heaviness of the distribution tails.\n",
        "#Kurtosis > 3 thin and not spread\n",
        "# Kurtosis <3 moderate spread\n",
        "i.describe() #Adds summary statistics of the variable"
      ],
      "execution_count": null,
      "outputs": [
        {
          "output_type": "stream",
          "name": "stdout",
          "text": [
            "Skewness: 33.963885\n",
            "Kurtosis: 1832.672657\n"
          ]
        },
        {
          "output_type": "execute_result",
          "data": {
            "text/plain": [
              "count     39644.000000\n",
              "mean       3395.380184\n",
              "std       11626.950749\n",
              "min           1.000000\n",
              "25%         946.000000\n",
              "50%        1400.000000\n",
              "75%        2800.000000\n",
              "max      843300.000000\n",
              "Name:  shares, dtype: float64"
            ]
          },
          "metadata": {},
          "execution_count": 7
        },
        {
          "output_type": "display_data",
          "data": {
            "image/png": "[encoded data removed]",
            "text/plain": [
              "<Figure size 576x288 with 2 Axes>"
            ]
          },
          "metadata": {
            "needs_background": "light"
          }
        }
      ]
    },
    {
      "cell_type": "markdown",
      "metadata": {
        "id": "Xq6bRlr1KXtU"
      },
      "source": [
        "Frustrating that there is a blank space before the name of our response variable. We will remove it, and any other spaces now to prevent formating problems while calling functions. We also see some extreme outliers here. Let's examine them now."
      ]
    },
    {
      "cell_type": "code",
      "metadata": {
        "id": "3iMipsLPQzNy"
      },
      "source": [
        "df.columns = df.columns.str.replace(' ', '')"
      ],
      "execution_count": null,
      "outputs": []
    },
    {
      "cell_type": "code",
      "metadata": {
        "colab": {
          "base_uri": "https://localhost:8080/"
        },
        "id": "Qj2ajx7qK1gy",
        "outputId": "ffbf090a-b42d-4c60-8dcf-e12501562c3f"
      },
      "source": [
        "# find all  rows that have share values whose values are > 3 standard deviations from the mean of data in that column\n",
        "share_outliers = df[np.abs(df['shares'] - df['shares'].mean() ) > (3 * df['shares'].std() )]\n",
        "share_outliers.shape"
      ],
      "execution_count": null,
      "outputs": [
        {
          "output_type": "execute_result",
          "data": {
            "text/plain": [
              "(308, 61)"
            ]
          },
          "metadata": {},
          "execution_count": 9
        }
      ]
    },
    {
      "cell_type": "code",
      "metadata": {
        "colab": {
          "base_uri": "https://localhost:8080/"
        },
        "id": "e7rY0eH-QmTt",
        "outputId": "c3bd5e6e-8fdc-4575-c728-8911e84bb476"
      },
      "source": [
        "share_outliers.shares.describe()"
      ],
      "execution_count": null,
      "outputs": [
        {
          "output_type": "execute_result",
          "data": {
            "text/plain": [
              "count       308.000000\n",
              "mean      85127.915584\n",
              "std       93292.083499\n",
              "min       38400.000000\n",
              "25%       47100.000000\n",
              "50%       57150.000000\n",
              "75%       87150.000000\n",
              "max      843300.000000\n",
              "Name: shares, dtype: float64"
            ]
          },
          "metadata": {},
          "execution_count": 10
        }
      ]
    },
    {
      "cell_type": "markdown",
      "metadata": {
        "id": "F52S7xHJRItd"
      },
      "source": [
        "While these are clear outliers from the media 1400 shares, they are likely to be datapoints of high value. It is likely that anyone analyzing this dataset would want to find the values that achieved these unusual results. At most I would normalize this variable, if that improved the model."
      ]
    },
    {
      "cell_type": "markdown",
      "metadata": {
        "id": "bupUiLViS6jJ"
      },
      "source": [
        "#### url\n",
        "This column is the link to the website being shared in the dataset. It acts as natural index, but is not a predictor in our model as indicated by the attribute information. We can chech to see if there are any duplicates though."
      ]
    },
    {
      "cell_type": "code",
      "metadata": {
        "colab": {
          "base_uri": "https://localhost:8080/"
        },
        "id": "jIT-CsW6TRps",
        "outputId": "5f108e1b-0e31-473e-ddab-ed72f9a868dd"
      },
      "source": [
        "df['url'].duplicated().sum()"
      ],
      "execution_count": null,
      "outputs": [
        {
          "output_type": "execute_result",
          "data": {
            "text/plain": [
              "0"
            ]
          },
          "metadata": {},
          "execution_count": 11
        }
      ]
    },
    {
      "cell_type": "markdown",
      "metadata": {
        "id": "SOrBxwpIcTK3"
      },
      "source": [
        "There are no duplicates for us to worry about. We will drop this feature from our model."
      ]
    },
    {
      "cell_type": "markdown",
      "metadata": {
        "id": "mO6dZP1lSJ2u"
      },
      "source": [
        "#### timedelta"
      ]
    },
    {
      "cell_type": "code",
      "metadata": {
        "colab": {
          "base_uri": "https://localhost:8080/",
          "height": 469
        },
        "id": "pfX7PJ8ORHYq",
        "outputId": "50a17c05-7225-42f5-c977-0f3e8067930c"
      },
      "source": [
        "#Create a histogram and boxplot side by side for timedelta\n",
        "j= 1\n",
        "i= df.iloc[:,j]\n",
        "\n",
        "plt.figure(figsize=(8,4))\n",
        "#Histogram\n",
        "plt.subplot(1,2,1);\n",
        "sns.distplot(i); \n",
        "plt.title(df.columns[j]);\n",
        "#Boxplot\n",
        "plt.subplot(1,2,2);\n",
        "sns.boxplot(i);\n",
        "plt.title(df.columns[j]);\n",
        "print(\"Skewness: %f\" %i.skew()) #Adds Skew value\n",
        "i.describe() #Adds summary statistics of the variable"
      ],
      "execution_count": null,
      "outputs": [
        {
          "output_type": "stream",
          "name": "stdout",
          "text": [
            "Skewness: 0.120504\n"
          ]
        },
        {
          "output_type": "execute_result",
          "data": {
            "text/plain": [
              "count    39644.000000\n",
              "mean       354.530471\n",
              "std        214.163767\n",
              "min          8.000000\n",
              "25%        164.000000\n",
              "50%        339.000000\n",
              "75%        542.000000\n",
              "max        731.000000\n",
              "Name: timedelta, dtype: float64"
            ]
          },
          "metadata": {},
          "execution_count": 12
        },
        {
          "output_type": "display_data",
          "data": {
            "image/png": "[encoded data removed]",
            "text/plain": [
              "<Figure size 576x288 with 2 Axes>"
            ]
          },
          "metadata": {
            "needs_background": "light"
          }
        }
      ]
    },
    {
      "cell_type": "markdown",
      "metadata": {
        "id": "Nq95xL2xbr1Z"
      },
      "source": [
        "This variable seems relatively well distributed, if bi-model. However, the data attribute information explicitly states that they do not consider the time differential between page publication, and the colection of the study metrics to be predictive. We will drop this feature from our dataset."
      ]
    },
    {
      "cell_type": "markdown",
      "metadata": {
        "id": "ZNsLM5FIW7SV"
      },
      "source": [
        "####n_tokens_title"
      ]
    },
    {
      "cell_type": "code",
      "metadata": {
        "colab": {
          "base_uri": "https://localhost:8080/",
          "height": 469
        },
        "id": "4UbAkQ1GTxAa",
        "outputId": "2782b10c-6cbb-44f9-c165-4ae0f1b5bd9c"
      },
      "source": [
        "#Create a histogram and boxplot side by side for n_tokens_title\n",
        "j= 2\n",
        "i= df.iloc[:,j]\n",
        "\n",
        "plt.figure(figsize=(8,4))\n",
        "#Histogram\n",
        "plt.subplot(1,2,1);\n",
        "sns.distplot(i); \n",
        "plt.title(df.columns[j]);\n",
        "#Boxplot\n",
        "plt.subplot(1,2,2);\n",
        "sns.boxplot(i);\n",
        "plt.title(df.columns[j]);\n",
        "print(\"Skewness: %f\" %i.skew()) #Adds Skew value\n",
        "i.describe() #Adds summary statistics of the variable"
      ],
      "execution_count": null,
      "outputs": [
        {
          "output_type": "stream",
          "name": "stdout",
          "text": [
            "Skewness: 0.165320\n"
          ]
        },
        {
          "output_type": "execute_result",
          "data": {
            "text/plain": [
              "count    39644.000000\n",
              "mean        10.398749\n",
              "std          2.114037\n",
              "min          2.000000\n",
              "25%          9.000000\n",
              "50%         10.000000\n",
              "75%         12.000000\n",
              "max         23.000000\n",
              "Name: n_tokens_title, dtype: float64"
            ]
          },
          "metadata": {},
          "execution_count": 13
        },
        {
          "output_type": "display_data",
          "data": {
            "image/png": "[encoded data removed]",
            "text/plain": [
              "<Figure size 576x288 with 2 Axes>"
            ]
          },
          "metadata": {
            "needs_background": "light"
          }
        }
      ]
    },
    {
      "cell_type": "markdown",
      "metadata": {
        "id": "rmzwbKBrdZZW"
      },
      "source": [
        "Number of words in the title. This seems well distributed, and gaussian. No further data manipulation needed."
      ]
    },
    {
      "cell_type": "markdown",
      "metadata": {
        "id": "7FFt7WHqW03W"
      },
      "source": [
        "####n_tokens_content"
      ]
    },
    {
      "cell_type": "code",
      "metadata": {
        "colab": {
          "base_uri": "https://localhost:8080/",
          "height": 469
        },
        "id": "VNllhMy4UkuG",
        "outputId": "e1f58f07-fa89-4496-8a9b-de17d1e5826f"
      },
      "source": [
        "#Create a histogram and boxplot side by side for n_tokens_content\n",
        "j= 3\n",
        "i= df.iloc[:,j]\n",
        "\n",
        "plt.figure(figsize=(8,4))\n",
        "#Histogram\n",
        "plt.subplot(1,2,1);\n",
        "sns.distplot(i); \n",
        "plt.title(df.columns[j]);\n",
        "#Boxplot\n",
        "plt.subplot(1,2,2);\n",
        "sns.boxplot(i);\n",
        "plt.title(df.columns[j]);\n",
        "print(\"Skewness: %f\" %i.skew()) #Adds Skew value\n",
        "i.describe() #Adds summary statistics of the variable"
      ],
      "execution_count": null,
      "outputs": [
        {
          "output_type": "stream",
          "name": "stdout",
          "text": [
            "Skewness: 2.945422\n"
          ]
        },
        {
          "output_type": "execute_result",
          "data": {
            "text/plain": [
              "count    39644.000000\n",
              "mean       546.514731\n",
              "std        471.107508\n",
              "min          0.000000\n",
              "25%        246.000000\n",
              "50%        409.000000\n",
              "75%        716.000000\n",
              "max       8474.000000\n",
              "Name: n_tokens_content, dtype: float64"
            ]
          },
          "metadata": {},
          "execution_count": 14
        },
        {
          "output_type": "display_data",
          "data": {
            "image/png": "[encoded data removed]",
            "text/plain": [
              "<Figure size 576x288 with 2 Axes>"
            ]
          },
          "metadata": {
            "needs_background": "light"
          }
        }
      ]
    },
    {
      "cell_type": "markdown",
      "metadata": {
        "id": "onQTsSqHd029"
      },
      "source": [
        "Number of words in the article content. This has a number of outliers, skewing right.\n",
        "\n",
        "It is also weird that some articles have no words, though they may just contain a picture or video. We know from above that they at least have titles.\n",
        "\n",
        "We will standardize these values."
      ]
    },
    {
      "cell_type": "markdown",
      "metadata": {
        "id": "tqpPs3JbWvWc"
      },
      "source": [
        "####n_unique_tokens"
      ]
    },
    {
      "cell_type": "code",
      "metadata": {
        "colab": {
          "base_uri": "https://localhost:8080/",
          "height": 469
        },
        "id": "O4uKuDcxUmjl",
        "outputId": "357b0dfc-f798-4a2f-f96c-d1a1273ec3dd"
      },
      "source": [
        "#Create a histogram and boxplot side by side for n_unique_tokens\n",
        "j= 4\n",
        "i= df.iloc[:,j]\n",
        "\n",
        "plt.figure(figsize=(8,4))\n",
        "#Histogram\n",
        "plt.subplot(1,2,1);\n",
        "sns.distplot(i); \n",
        "plt.title(df.columns[j]);\n",
        "#Boxplot\n",
        "plt.subplot(1,2,2);\n",
        "sns.boxplot(i);\n",
        "plt.title(df.columns[j]);\n",
        "print(\"Skewness: %f\" %i.skew()) #Adds Skew value\n",
        "i.describe() #Adds summary statistics of the variable"
      ],
      "execution_count": null,
      "outputs": [
        {
          "output_type": "stream",
          "name": "stdout",
          "text": [
            "Skewness: 198.655116\n"
          ]
        },
        {
          "output_type": "execute_result",
          "data": {
            "text/plain": [
              "count    39644.000000\n",
              "mean         0.548216\n",
              "std          3.520708\n",
              "min          0.000000\n",
              "25%          0.470870\n",
              "50%          0.539226\n",
              "75%          0.608696\n",
              "max        701.000000\n",
              "Name: n_unique_tokens, dtype: float64"
            ]
          },
          "metadata": {},
          "execution_count": 15
        },
        {
          "output_type": "display_data",
          "data": {
            "image/png": "[encoded data removed]",
            "text/plain": [
              "<Figure size 576x288 with 2 Axes>"
            ]
          },
          "metadata": {
            "needs_background": "light"
          }
        }
      ]
    },
    {
      "cell_type": "markdown",
      "metadata": {
        "id": "hLoSmu0eqyKz"
      },
      "source": [
        "Rate of unique words in the content. This has extreme outliers, which we will look at now."
      ]
    },
    {
      "cell_type": "code",
      "metadata": {
        "colab": {
          "base_uri": "https://localhost:8080/"
        },
        "id": "-_SkO3ckrEJd",
        "outputId": "548e4094-9d57-4660-b55a-5f4e7e287c45"
      },
      "source": [
        "# find all  rows that have share values whose values are > 3 standard deviations from the mean of data in that column\n",
        "n_unique_tokens_outliers = df[np.abs(df['n_unique_tokens'] - df['n_unique_tokens'].mean() ) > (3 * df['n_unique_tokens'].std() )]\n",
        "n_unique_tokens_outliers.shape"
      ],
      "execution_count": null,
      "outputs": [
        {
          "output_type": "execute_result",
          "data": {
            "text/plain": [
              "(1, 61)"
            ]
          },
          "metadata": {},
          "execution_count": 16
        }
      ]
    },
    {
      "cell_type": "markdown",
      "metadata": {
        "id": "K5EF9sMNsOma"
      },
      "source": [
        "This has 1 extreme outlier, which we will examine."
      ]
    },
    {
      "cell_type": "code",
      "metadata": {
        "colab": {
          "base_uri": "https://localhost:8080/"
        },
        "id": "s8X64GjYsYvj",
        "outputId": "4b80ad2d-80ee-4845-c893-526dc2976802"
      },
      "source": [
        "print(df[df.n_unique_tokens == df.n_unique_tokens.max()])"
      ],
      "execution_count": null,
      "outputs": [
        {
          "output_type": "stream",
          "name": "stdout",
          "text": [
            "                                                     url  timedelta  \\\n",
            "31037  http://mashable.com/2014/08/18/ukraine-civilia...      142.0   \n",
            "\n",
            "       n_tokens_title  n_tokens_content  n_unique_tokens  n_non_stop_words  \\\n",
            "31037             9.0            1570.0            701.0            1042.0   \n",
            "\n",
            "       n_non_stop_unique_tokens  num_hrefs  num_self_hrefs  num_imgs  \\\n",
            "31037                     650.0       11.0            10.0      51.0   \n",
            "\n",
            "       num_videos  average_token_length  num_keywords  \\\n",
            "31037         0.0              4.696178           7.0   \n",
            "\n",
            "       data_channel_is_lifestyle  data_channel_is_entertainment  \\\n",
            "31037                        0.0                            1.0   \n",
            "\n",
            "       data_channel_is_bus  data_channel_is_socmed  data_channel_is_tech  \\\n",
            "31037                  0.0                     0.0                   0.0   \n",
            "\n",
            "       data_channel_is_world  kw_min_min  kw_max_min  kw_avg_min  kw_min_max  \\\n",
            "31037                    0.0        -1.0       778.0  143.714286     23100.0   \n",
            "\n",
            "       kw_max_max     kw_avg_max   kw_min_avg   kw_max_avg   kw_avg_avg  \\\n",
            "31037    843300.0  330442.857143  2420.579189  3490.598812  2912.105124   \n",
            "\n",
            "       self_reference_min_shares  self_reference_max_shares  \\\n",
            "31037                      795.0                        0.0   \n",
            "\n",
            "       self_reference_avg_sharess  weekday_is_monday  weekday_is_tuesday  \\\n",
            "31037                    6924.375                0.0                 1.0   \n",
            "\n",
            "       weekday_is_wednesday  weekday_is_thursday  weekday_is_friday  \\\n",
            "31037                   0.0                  0.0                0.0   \n",
            "\n",
            "       weekday_is_saturday  weekday_is_sunday  is_weekend  LDA_00  LDA_01  \\\n",
            "31037                  0.0                0.0         0.0     0.0     0.0   \n",
            "\n",
            "       LDA_02  LDA_03  LDA_04  global_subjectivity  global_sentiment_polarity  \\\n",
            "31037     0.0     0.0     0.0                  0.0                        0.0   \n",
            "\n",
            "       global_rate_positive_words  global_rate_negative_words  \\\n",
            "31037                         0.0                         0.0   \n",
            "\n",
            "       rate_positive_words  rate_negative_words  avg_positive_polarity  \\\n",
            "31037                  0.0                  0.0                    0.0   \n",
            "\n",
            "       min_positive_polarity  max_positive_polarity  avg_negative_polarity  \\\n",
            "31037                    0.0                    0.0                    0.0   \n",
            "\n",
            "       min_negative_polarity  max_negative_polarity  title_subjectivity  \\\n",
            "31037                    0.0                    0.0                 0.0   \n",
            "\n",
            "       title_sentiment_polarity  abs_title_subjectivity  \\\n",
            "31037                       0.0                     0.0   \n",
            "\n",
            "       abs_title_sentiment_polarity  shares  \n",
            "31037                           0.0    5900  \n"
          ]
        }
      ]
    },
    {
      "cell_type": "markdown",
      "metadata": {
        "id": "iyhxy4ses3FP"
      },
      "source": [
        "It looks like this dataset does not include the full url of the article. From the portion of the url available, and the total word count being slightly more than double the unique word count, I would guess that this article either is a list of foriegn words, or possibly includes a foreign translation. Either way, I believe this feature can have a significantly higher chance of being predictive in our model if we drop this row during our data preperation step."
      ]
    },
    {
      "cell_type": "markdown",
      "metadata": {
        "id": "6Afsep9JWqVk"
      },
      "source": [
        "####n_non_stop_words"
      ]
    },
    {
      "cell_type": "code",
      "metadata": {
        "colab": {
          "base_uri": "https://localhost:8080/",
          "height": 469
        },
        "id": "IZ7JyHj6UozY",
        "outputId": "953e6b39-3136-4964-d43f-298b0f0ed468"
      },
      "source": [
        "#Create a histogram and boxplot side by side for n_non_stop_words\n",
        "j= 5\n",
        "i= df.iloc[:,j]\n",
        "\n",
        "plt.figure(figsize=(8,4))\n",
        "#Histogram\n",
        "plt.subplot(1,2,1);\n",
        "sns.distplot(i); \n",
        "plt.title(df.columns[j]);\n",
        "#Boxplot\n",
        "plt.subplot(1,2,2);\n",
        "sns.boxplot(i);\n",
        "plt.title(df.columns[j]);\n",
        "print(\"Skewness: %f\" %i.skew()) #Adds Skew value\n",
        "i.describe() #Adds summary statistics of the variable"
      ],
      "execution_count": null,
      "outputs": [
        {
          "output_type": "stream",
          "name": "stdout",
          "text": [
            "Skewness: 198.792445\n"
          ]
        },
        {
          "output_type": "execute_result",
          "data": {
            "text/plain": [
              "count    39644.000000\n",
              "mean         0.996469\n",
              "std          5.231231\n",
              "min          0.000000\n",
              "25%          1.000000\n",
              "50%          1.000000\n",
              "75%          1.000000\n",
              "max       1042.000000\n",
              "Name: n_non_stop_words, dtype: float64"
            ]
          },
          "metadata": {},
          "execution_count": 18
        },
        {
          "output_type": "display_data",
          "data": {
            "image/png": "[encoded data removed]",
            "text/plain": [
              "<Figure size 576x288 with 2 Axes>"
            ]
          },
          "metadata": {
            "needs_background": "light"
          }
        }
      ]
    },
    {
      "cell_type": "markdown",
      "metadata": {
        "id": "iVrPA-OiueP1"
      },
      "source": [
        "Stop words are \"the words which are generally filtered out before processing a natural language are called stop words. These are actually the most common words in any language\"*\n",
        "\n",
        "Non-stop words would then be unique words. This feature seems to suffer from the same problme as n_unique_tokens, which makes sense. Let's check to make sure.\n",
        "\n",
        "*https://towardsdatascience.com/text-pre-processing-stop-words-removal-using-different-libraries-f20bac19929a"
      ]
    },
    {
      "cell_type": "code",
      "metadata": {
        "colab": {
          "base_uri": "https://localhost:8080/"
        },
        "id": "_Wb7t_JdvCw4",
        "outputId": "d6838d8e-b2cc-41d9-d8ac-4b64e17d6f10"
      },
      "source": [
        "# find all  rows that have share values whose values are > 3 standard deviations from the mean of data in that column\n",
        "n_non_stop_words_outliers = df[np.abs(df['n_non_stop_words'] - df['n_non_stop_words'].mean() ) > (3 * df['n_non_stop_words'].std() )]\n",
        "n_non_stop_words_outliers.shape"
      ],
      "execution_count": null,
      "outputs": [
        {
          "output_type": "execute_result",
          "data": {
            "text/plain": [
              "(1, 61)"
            ]
          },
          "metadata": {},
          "execution_count": 19
        }
      ]
    },
    {
      "cell_type": "code",
      "metadata": {
        "colab": {
          "base_uri": "https://localhost:8080/"
        },
        "id": "YNApSgiBt_16",
        "outputId": "fd39cf2d-fc46-4c2d-adfc-f86b30eac5c6"
      },
      "source": [
        "print(df[df.n_non_stop_words == df.n_non_stop_words.max()])"
      ],
      "execution_count": null,
      "outputs": [
        {
          "output_type": "stream",
          "name": "stdout",
          "text": [
            "                                                     url  timedelta  \\\n",
            "31037  http://mashable.com/2014/08/18/ukraine-civilia...      142.0   \n",
            "\n",
            "       n_tokens_title  n_tokens_content  n_unique_tokens  n_non_stop_words  \\\n",
            "31037             9.0            1570.0            701.0            1042.0   \n",
            "\n",
            "       n_non_stop_unique_tokens  num_hrefs  num_self_hrefs  num_imgs  \\\n",
            "31037                     650.0       11.0            10.0      51.0   \n",
            "\n",
            "       num_videos  average_token_length  num_keywords  \\\n",
            "31037         0.0              4.696178           7.0   \n",
            "\n",
            "       data_channel_is_lifestyle  data_channel_is_entertainment  \\\n",
            "31037                        0.0                            1.0   \n",
            "\n",
            "       data_channel_is_bus  data_channel_is_socmed  data_channel_is_tech  \\\n",
            "31037                  0.0                     0.0                   0.0   \n",
            "\n",
            "       data_channel_is_world  kw_min_min  kw_max_min  kw_avg_min  kw_min_max  \\\n",
            "31037                    0.0        -1.0       778.0  143.714286     23100.0   \n",
            "\n",
            "       kw_max_max     kw_avg_max   kw_min_avg   kw_max_avg   kw_avg_avg  \\\n",
            "31037    843300.0  330442.857143  2420.579189  3490.598812  2912.105124   \n",
            "\n",
            "       self_reference_min_shares  self_reference_max_shares  \\\n",
            "31037                      795.0                        0.0   \n",
            "\n",
            "       self_reference_avg_sharess  weekday_is_monday  weekday_is_tuesday  \\\n",
            "31037                    6924.375                0.0                 1.0   \n",
            "\n",
            "       weekday_is_wednesday  weekday_is_thursday  weekday_is_friday  \\\n",
            "31037                   0.0                  0.0                0.0   \n",
            "\n",
            "       weekday_is_saturday  weekday_is_sunday  is_weekend  LDA_00  LDA_01  \\\n",
            "31037                  0.0                0.0         0.0     0.0     0.0   \n",
            "\n",
            "       LDA_02  LDA_03  LDA_04  global_subjectivity  global_sentiment_polarity  \\\n",
            "31037     0.0     0.0     0.0                  0.0                        0.0   \n",
            "\n",
            "       global_rate_positive_words  global_rate_negative_words  \\\n",
            "31037                         0.0                         0.0   \n",
            "\n",
            "       rate_positive_words  rate_negative_words  avg_positive_polarity  \\\n",
            "31037                  0.0                  0.0                    0.0   \n",
            "\n",
            "       min_positive_polarity  max_positive_polarity  avg_negative_polarity  \\\n",
            "31037                    0.0                    0.0                    0.0   \n",
            "\n",
            "       min_negative_polarity  max_negative_polarity  title_subjectivity  \\\n",
            "31037                    0.0                    0.0                 0.0   \n",
            "\n",
            "       title_sentiment_polarity  abs_title_subjectivity  \\\n",
            "31037                       0.0                     0.0   \n",
            "\n",
            "       abs_title_sentiment_polarity  shares  \n",
            "31037                           0.0    5900  \n"
          ]
        }
      ]
    },
    {
      "cell_type": "markdown",
      "metadata": {
        "id": "suFLAJktuFoY"
      },
      "source": [
        "The same article from above is impacting the number of non stop words, which we would expect from \"unique\" words. Our intention to drop this row is re-inforced."
      ]
    },
    {
      "cell_type": "markdown",
      "metadata": {
        "id": "6dP0R00YWm-g"
      },
      "source": [
        "####n_non_stop_unique_tokens"
      ]
    },
    {
      "cell_type": "code",
      "metadata": {
        "colab": {
          "base_uri": "https://localhost:8080/",
          "height": 469
        },
        "id": "4M0U6jZxUseL",
        "outputId": "d70dda0e-f518-4d30-da5d-162b88fc869d"
      },
      "source": [
        "#Create a histogram and boxplot side by side for n_non_stop_unique_tokens\n",
        "j= 6\n",
        "i= df.iloc[:,j]\n",
        "plt.figure(figsize=(8,4))\n",
        "plt.subplot(1,2,1);#Histogram location\n",
        "sns.distplot(i);\n",
        "plt.title(df.columns[j]);\n",
        "plt.subplot(1,2,2);#Boxplot location\n",
        "sns.boxplot(i);\n",
        "plt.title(df.columns[j]);\n",
        "print(\"Skewness: %f\" %i.skew()) #Adds Skew value\n",
        "i.describe() #Adds summary statistics of the variable"
      ],
      "execution_count": null,
      "outputs": [
        {
          "output_type": "stream",
          "name": "stdout",
          "text": [
            "Skewness: 198.443294\n"
          ]
        },
        {
          "output_type": "execute_result",
          "data": {
            "text/plain": [
              "count    39644.000000\n",
              "mean         0.689175\n",
              "std          3.264816\n",
              "min          0.000000\n",
              "25%          0.625739\n",
              "50%          0.690476\n",
              "75%          0.754630\n",
              "max        650.000000\n",
              "Name: n_non_stop_unique_tokens, dtype: float64"
            ]
          },
          "metadata": {},
          "execution_count": 21
        },
        {
          "output_type": "display_data",
          "data": {
            "image/png": "[encoded data removed]",
            "text/plain": [
              "<Figure size 576x288 with 2 Axes>"
            ]
          },
          "metadata": {
            "needs_background": "light"
          }
        }
      ]
    },
    {
      "cell_type": "markdown",
      "metadata": {
        "id": "7g1qkvmWfXE9"
      },
      "source": [
        "Rate of unique non-stop words in the content. This suffers from the same outlier row"
      ]
    },
    {
      "cell_type": "markdown",
      "metadata": {
        "id": "X5yrzp_hWgUQ"
      },
      "source": [
        "####num_hrefs"
      ]
    },
    {
      "cell_type": "code",
      "metadata": {
        "colab": {
          "base_uri": "https://localhost:8080/",
          "height": 469
        },
        "id": "-mqfRkiKVU7S",
        "outputId": "ec2570d2-1abf-4dc7-a55b-a10d9f726409"
      },
      "source": [
        "#Create a histogram and boxplot side by side for num_hrefs\n",
        "j= 7\n",
        "i= df.iloc[:,j]\n",
        "plt.figure(figsize=(8,4))\n",
        "plt.subplot(1,2,1);#Histogram location\n",
        "sns.distplot(i);\n",
        "plt.title(df.columns[j]);\n",
        "plt.subplot(1,2,2);#Boxplot location\n",
        "sns.boxplot(i);\n",
        "plt.title(df.columns[j]);\n",
        "print(\"Skewness: %f\" %i.skew()) #Adds Skew value\n",
        "i.describe() #Adds summary statistics of the variable"
      ],
      "execution_count": null,
      "outputs": [
        {
          "output_type": "stream",
          "name": "stdout",
          "text": [
            "Skewness: 4.013495\n"
          ]
        },
        {
          "output_type": "execute_result",
          "data": {
            "text/plain": [
              "count    39644.000000\n",
              "mean        10.883690\n",
              "std         11.332017\n",
              "min          0.000000\n",
              "25%          4.000000\n",
              "50%          8.000000\n",
              "75%         14.000000\n",
              "max        304.000000\n",
              "Name: num_hrefs, dtype: float64"
            ]
          },
          "metadata": {},
          "execution_count": 22
        },
        {
          "output_type": "display_data",
          "data": {
            "image/png": "[encoded data removed]",
            "text/plain": [
              "<Figure size 576x288 with 2 Axes>"
            ]
          },
          "metadata": {
            "needs_background": "light"
          }
        }
      ]
    },
    {
      "cell_type": "markdown",
      "metadata": {
        "id": "2Bh3-TdqfikH"
      },
      "source": [
        "Number of links in the article."
      ]
    },
    {
      "cell_type": "code",
      "metadata": {
        "colab": {
          "base_uri": "https://localhost:8080/"
        },
        "id": "zXHlX26Afn-y",
        "outputId": "2bdde379-b9b3-4ad6-c8e2-a2f2dfdb301a"
      },
      "source": [
        "# find all  rows that have share values whose values are > 3 standard deviations from the mean of data in that column\n",
        "num_hrefs_outliers = df[np.abs(i - i.mean() ) > (3 * i.std() )]\n",
        "num_hrefs_outliers.shape"
      ],
      "execution_count": null,
      "outputs": [
        {
          "output_type": "execute_result",
          "data": {
            "text/plain": [
              "(731, 61)"
            ]
          },
          "metadata": {},
          "execution_count": 23
        }
      ]
    },
    {
      "cell_type": "markdown",
      "metadata": {
        "id": "SATcraHwgEo2"
      },
      "source": [
        "There are 871 outliers in the rightskewed model. This will benefit from normalization, and possibly standardization."
      ]
    },
    {
      "cell_type": "markdown",
      "metadata": {
        "id": "YudL05y_WbPE"
      },
      "source": [
        "#### num_self_hrefs"
      ]
    },
    {
      "cell_type": "code",
      "metadata": {
        "colab": {
          "base_uri": "https://localhost:8080/",
          "height": 469
        },
        "id": "0S0jzAWPVXL3",
        "outputId": "fe0380e4-d14e-449a-d0ff-09455aad3c89"
      },
      "source": [
        "#Create a histogram and boxplot side by side for num_self_hrefs\n",
        "j= 8\n",
        "i= df.iloc[:,j]\n",
        "plt.figure(figsize=(8,4))\n",
        "plt.subplot(1,2,1);#Histogram location\n",
        "sns.distplot(i);\n",
        "plt.title(df.columns[j]);\n",
        "plt.subplot(1,2,2);#Boxplot location\n",
        "sns.boxplot(i);\n",
        "plt.title(df.columns[j]);\n",
        "print(\"Skewness: %f\" %i.skew()) #Adds Skew value\n",
        "i.describe() #Adds summary statistics of the variable"
      ],
      "execution_count": null,
      "outputs": [
        {
          "output_type": "stream",
          "name": "stdout",
          "text": [
            "Skewness: 5.172751\n"
          ]
        },
        {
          "output_type": "execute_result",
          "data": {
            "text/plain": [
              "count    39644.000000\n",
              "mean         3.293638\n",
              "std          3.855141\n",
              "min          0.000000\n",
              "25%          1.000000\n",
              "50%          3.000000\n",
              "75%          4.000000\n",
              "max        116.000000\n",
              "Name: num_self_hrefs, dtype: float64"
            ]
          },
          "metadata": {},
          "execution_count": 24
        },
        {
          "output_type": "display_data",
          "data": {
            "image/png": "[encoded data removed]",
            "text/plain": [
              "<Figure size 576x288 with 2 Axes>"
            ]
          },
          "metadata": {
            "needs_background": "light"
          }
        }
      ]
    },
    {
      "cell_type": "markdown",
      "metadata": {
        "id": "-W6OSemOA_ar"
      },
      "source": [
        "Number of links to other articles published by Mashable. I would expect these to be counted in the num_hrefs feature as well.\n",
        "\n",
        "This feature is skewed and should be normalized and possibly standardized."
      ]
    },
    {
      "cell_type": "markdown",
      "metadata": {
        "id": "WfUMNPveWWfp"
      },
      "source": [
        "####num_imgs"
      ]
    },
    {
      "cell_type": "code",
      "metadata": {
        "colab": {
          "base_uri": "https://localhost:8080/",
          "height": 469
        },
        "id": "wGoUfDuoVZOI",
        "outputId": "e3bdc187-4eee-4dba-958b-51a32ad10418"
      },
      "source": [
        "#Create a histogram and boxplot side by side for num_imgs\n",
        "j= 9\n",
        "i= df.iloc[:,j]\n",
        "plt.figure(figsize=(8,4))\n",
        "plt.subplot(1,2,1);#Histogram location\n",
        "sns.distplot(i);\n",
        "plt.title(df.columns[j]);\n",
        "plt.subplot(1,2,2);#Boxplot location\n",
        "sns.boxplot(i);\n",
        "plt.title(df.columns[j]);\n",
        "print(\"Skewness: %f\" %i.skew()) #Adds Skew value\n",
        "i.describe() #Adds summary statistics of the variable"
      ],
      "execution_count": null,
      "outputs": [
        {
          "output_type": "stream",
          "name": "stdout",
          "text": [
            "Skewness: 3.946596\n"
          ]
        },
        {
          "output_type": "execute_result",
          "data": {
            "text/plain": [
              "count    39644.000000\n",
              "mean         4.544143\n",
              "std          8.309434\n",
              "min          0.000000\n",
              "25%          1.000000\n",
              "50%          1.000000\n",
              "75%          4.000000\n",
              "max        128.000000\n",
              "Name: num_imgs, dtype: float64"
            ]
          },
          "metadata": {},
          "execution_count": 25
        },
        {
          "output_type": "display_data",
          "data": {
            "image/png": "[encoded data removed]",
            "text/plain": [
              "<Figure size 576x288 with 2 Axes>"
            ]
          },
          "metadata": {
            "needs_background": "light"
          }
        }
      ]
    },
    {
      "cell_type": "markdown",
      "metadata": {
        "id": "26aE9wHtBQzE"
      },
      "source": [
        "Right skewed. Normalize, Standardize"
      ]
    },
    {
      "cell_type": "markdown",
      "metadata": {
        "id": "-SVwaftKWTf8"
      },
      "source": [
        "####num_videos"
      ]
    },
    {
      "cell_type": "code",
      "metadata": {
        "colab": {
          "base_uri": "https://localhost:8080/",
          "height": 469
        },
        "id": "WvF-0ATIVbW_",
        "outputId": "86b9446a-5988-4778-8192-20827242e1ee"
      },
      "source": [
        "#Create a histogram and boxplot side by side for num_videos\n",
        "j= 10\n",
        "i= df.iloc[:,j]\n",
        "plt.figure(figsize=(8,4))\n",
        "plt.subplot(1,2,1);#Histogram location\n",
        "sns.distplot(i);\n",
        "plt.title(df.columns[j]);\n",
        "plt.subplot(1,2,2);#Boxplot location\n",
        "sns.boxplot(i);\n",
        "plt.title(df.columns[j]);\n",
        "print(\"Skewness: %f\" %i.skew()) #Adds Skew value\n",
        "i.describe() #Adds summary statistics of the variable"
      ],
      "execution_count": null,
      "outputs": [
        {
          "output_type": "stream",
          "name": "stdout",
          "text": [
            "Skewness: 7.019533\n"
          ]
        },
        {
          "output_type": "execute_result",
          "data": {
            "text/plain": [
              "count    39644.000000\n",
              "mean         1.249874\n",
              "std          4.107855\n",
              "min          0.000000\n",
              "25%          0.000000\n",
              "50%          0.000000\n",
              "75%          1.000000\n",
              "max         91.000000\n",
              "Name: num_videos, dtype: float64"
            ]
          },
          "metadata": {},
          "execution_count": 26
        },
        {
          "output_type": "display_data",
          "data": {
            "image/png": "[encoded data removed]",
            "text/plain": [
              "<Figure size 576x288 with 2 Axes>"
            ]
          },
          "metadata": {
            "needs_background": "light"
          }
        }
      ]
    },
    {
      "cell_type": "markdown",
      "metadata": {
        "id": "_VX_gTgoBUiW"
      },
      "source": [
        "normalize, standardize. correlated with num_images?"
      ]
    },
    {
      "cell_type": "markdown",
      "metadata": {
        "id": "XaiQ2LkmWPN7"
      },
      "source": [
        "####average_token_length"
      ]
    },
    {
      "cell_type": "code",
      "metadata": {
        "colab": {
          "base_uri": "https://localhost:8080/",
          "height": 469
        },
        "id": "MSc5Ou-OVder",
        "outputId": "028b5ca4-5a73-4cfc-f7ba-6874a3a61ae9"
      },
      "source": [
        "#Create a histogram and boxplot side by side for average_token_length\n",
        "j= 11\n",
        "i= df.iloc[:,j]\n",
        "plt.figure(figsize=(8,4))\n",
        "plt.subplot(1,2,1);#Histogram location\n",
        "sns.distplot(i);\n",
        "plt.title(df.columns[j]);\n",
        "plt.subplot(1,2,2);#Boxplot location\n",
        "sns.boxplot(i);\n",
        "plt.title(df.columns[j]);\n",
        "print(\"Skewness: %f\" %i.skew()) #Adds Skew value\n",
        "i.describe() #Adds summary statistics of the variable"
      ],
      "execution_count": null,
      "outputs": [
        {
          "output_type": "stream",
          "name": "stdout",
          "text": [
            "Skewness: -4.576012\n"
          ]
        },
        {
          "output_type": "execute_result",
          "data": {
            "text/plain": [
              "count    39644.000000\n",
              "mean         4.548239\n",
              "std          0.844406\n",
              "min          0.000000\n",
              "25%          4.478404\n",
              "50%          4.664082\n",
              "75%          4.854839\n",
              "max          8.041534\n",
              "Name: average_token_length, dtype: float64"
            ]
          },
          "metadata": {},
          "execution_count": 27
        },
        {
          "output_type": "display_data",
          "data": {
            "image/png": "[encoded data removed]",
            "text/plain": [
              "<Figure size 576x288 with 2 Axes>"
            ]
          },
          "metadata": {
            "needs_background": "light"
          }
        }
      ]
    },
    {
      "cell_type": "markdown",
      "metadata": {
        "id": "zdqUSn0LBmvP"
      },
      "source": [
        "Average length of the words in the content. The zero values are concerning here, though there are articles that have no words."
      ]
    },
    {
      "cell_type": "code",
      "metadata": {
        "colab": {
          "base_uri": "https://localhost:8080/",
          "height": 330
        },
        "id": "R18x471nBz11",
        "outputId": "ffe8de48-f424-46f9-980a-4403d89ecf53"
      },
      "source": [
        "# find all  rows that have share values whose values are > 3 standard deviations from the mean of data in that column\n",
        "zero_avg_token = df.loc[df['average_token_length'] == 0]\n",
        "print(zero_avg_token.shape)\n",
        "zero_avg_token.head()"
      ],
      "execution_count": null,
      "outputs": [
        {
          "output_type": "stream",
          "name": "stdout",
          "text": [
            "(1181, 61)\n"
          ]
        },
        {
          "output_type": "execute_result",
          "data": {
            "text/html": [
              "<div>\n",
              "<style scoped>\n",
              "    .dataframe tbody tr th:only-of-type {\n",
              "        vertical-align: middle;\n",
              "    }\n",
              "\n",
              "    .dataframe tbody tr th {\n",
              "        vertical-align: top;\n",
              "    }\n",
              "\n",
              "    .dataframe thead th {\n",
              "        text-align: right;\n",
              "    }\n",
              "</style>\n",
              "<table border=\"1\" class=\"dataframe\">\n",
              "  <thead>\n",
              "    <tr style=\"text-align: right;\">\n",
              "      <th></th>\n",
              "      <th>url</th>\n",
              "      <th>timedelta</th>\n",
              "      <th>n_tokens_title</th>\n",
              "      <th>n_tokens_content</th>\n",
              "      <th>n_unique_tokens</th>\n",
              "      <th>n_non_stop_words</th>\n",
              "      <th>n_non_stop_unique_tokens</th>\n",
              "      <th>num_hrefs</th>\n",
              "      <th>num_self_hrefs</th>\n",
              "      <th>num_imgs</th>\n",
              "      <th>num_videos</th>\n",
              "      <th>average_token_length</th>\n",
              "      <th>num_keywords</th>\n",
              "      <th>data_channel_is_lifestyle</th>\n",
              "      <th>data_channel_is_entertainment</th>\n",
              "      <th>data_channel_is_bus</th>\n",
              "      <th>data_channel_is_socmed</th>\n",
              "      <th>data_channel_is_tech</th>\n",
              "      <th>data_channel_is_world</th>\n",
              "      <th>kw_min_min</th>\n",
              "      <th>kw_max_min</th>\n",
              "      <th>kw_avg_min</th>\n",
              "      <th>kw_min_max</th>\n",
              "      <th>kw_max_max</th>\n",
              "      <th>kw_avg_max</th>\n",
              "      <th>kw_min_avg</th>\n",
              "      <th>kw_max_avg</th>\n",
              "      <th>kw_avg_avg</th>\n",
              "      <th>self_reference_min_shares</th>\n",
              "      <th>self_reference_max_shares</th>\n",
              "      <th>self_reference_avg_sharess</th>\n",
              "      <th>weekday_is_monday</th>\n",
              "      <th>weekday_is_tuesday</th>\n",
              "      <th>weekday_is_wednesday</th>\n",
              "      <th>weekday_is_thursday</th>\n",
              "      <th>weekday_is_friday</th>\n",
              "      <th>weekday_is_saturday</th>\n",
              "      <th>weekday_is_sunday</th>\n",
              "      <th>is_weekend</th>\n",
              "      <th>LDA_00</th>\n",
              "      <th>LDA_01</th>\n",
              "      <th>LDA_02</th>\n",
              "      <th>LDA_03</th>\n",
              "      <th>LDA_04</th>\n",
              "      <th>global_subjectivity</th>\n",
              "      <th>global_sentiment_polarity</th>\n",
              "      <th>global_rate_positive_words</th>\n",
              "      <th>global_rate_negative_words</th>\n",
              "      <th>rate_positive_words</th>\n",
              "      <th>rate_negative_words</th>\n",
              "      <th>avg_positive_polarity</th>\n",
              "      <th>min_positive_polarity</th>\n",
              "      <th>max_positive_polarity</th>\n",
              "      <th>avg_negative_polarity</th>\n",
              "      <th>min_negative_polarity</th>\n",
              "      <th>max_negative_polarity</th>\n",
              "      <th>title_subjectivity</th>\n",
              "      <th>title_sentiment_polarity</th>\n",
              "      <th>abs_title_subjectivity</th>\n",
              "      <th>abs_title_sentiment_polarity</th>\n",
              "      <th>shares</th>\n",
              "    </tr>\n",
              "  </thead>\n",
              "  <tbody>\n",
              "    <tr>\n",
              "      <th>893</th>\n",
              "      <td>http://mashable.com/2013/01/23/actual-facebook...</td>\n",
              "      <td>715.0</td>\n",
              "      <td>10.0</td>\n",
              "      <td>0.0</td>\n",
              "      <td>0.0</td>\n",
              "      <td>0.0</td>\n",
              "      <td>0.0</td>\n",
              "      <td>0.0</td>\n",
              "      <td>0.0</td>\n",
              "      <td>10.0</td>\n",
              "      <td>0.0</td>\n",
              "      <td>0.0</td>\n",
              "      <td>7.0</td>\n",
              "      <td>0.0</td>\n",
              "      <td>0.0</td>\n",
              "      <td>0.0</td>\n",
              "      <td>0.0</td>\n",
              "      <td>0.0</td>\n",
              "      <td>0.0</td>\n",
              "      <td>217.0</td>\n",
              "      <td>1200.0</td>\n",
              "      <td>542.500000</td>\n",
              "      <td>0.0</td>\n",
              "      <td>51900.0</td>\n",
              "      <td>16928.571429</td>\n",
              "      <td>0.0</td>\n",
              "      <td>3647.272727</td>\n",
              "      <td>1923.430603</td>\n",
              "      <td>0.0</td>\n",
              "      <td>0.0</td>\n",
              "      <td>0.0</td>\n",
              "      <td>0.0</td>\n",
              "      <td>0.0</td>\n",
              "      <td>1.0</td>\n",
              "      <td>0.0</td>\n",
              "      <td>0.0</td>\n",
              "      <td>0.0</td>\n",
              "      <td>0.0</td>\n",
              "      <td>0.0</td>\n",
              "      <td>0.191383</td>\n",
              "      <td>0.028703</td>\n",
              "      <td>0.179282</td>\n",
              "      <td>0.572047</td>\n",
              "      <td>0.028586</td>\n",
              "      <td>0.0</td>\n",
              "      <td>0.0</td>\n",
              "      <td>0.0</td>\n",
              "      <td>0.0</td>\n",
              "      <td>0.0</td>\n",
              "      <td>0.0</td>\n",
              "      <td>0.0</td>\n",
              "      <td>0.0</td>\n",
              "      <td>0.0</td>\n",
              "      <td>0.0</td>\n",
              "      <td>0.0</td>\n",
              "      <td>0.0</td>\n",
              "      <td>0.550000</td>\n",
              "      <td>-0.500000</td>\n",
              "      <td>0.050000</td>\n",
              "      <td>0.500000</td>\n",
              "      <td>2500</td>\n",
              "    </tr>\n",
              "    <tr>\n",
              "      <th>917</th>\n",
              "      <td>http://mashable.com/2013/01/23/fitness-gadget-...</td>\n",
              "      <td>715.0</td>\n",
              "      <td>8.0</td>\n",
              "      <td>0.0</td>\n",
              "      <td>0.0</td>\n",
              "      <td>0.0</td>\n",
              "      <td>0.0</td>\n",
              "      <td>0.0</td>\n",
              "      <td>0.0</td>\n",
              "      <td>0.0</td>\n",
              "      <td>0.0</td>\n",
              "      <td>0.0</td>\n",
              "      <td>10.0</td>\n",
              "      <td>1.0</td>\n",
              "      <td>0.0</td>\n",
              "      <td>0.0</td>\n",
              "      <td>0.0</td>\n",
              "      <td>0.0</td>\n",
              "      <td>0.0</td>\n",
              "      <td>217.0</td>\n",
              "      <td>2000.0</td>\n",
              "      <td>582.285714</td>\n",
              "      <td>0.0</td>\n",
              "      <td>51900.0</td>\n",
              "      <td>16080.000000</td>\n",
              "      <td>0.0</td>\n",
              "      <td>2939.239130</td>\n",
              "      <td>1596.149445</td>\n",
              "      <td>0.0</td>\n",
              "      <td>0.0</td>\n",
              "      <td>0.0</td>\n",
              "      <td>0.0</td>\n",
              "      <td>0.0</td>\n",
              "      <td>1.0</td>\n",
              "      <td>0.0</td>\n",
              "      <td>0.0</td>\n",
              "      <td>0.0</td>\n",
              "      <td>0.0</td>\n",
              "      <td>0.0</td>\n",
              "      <td>0.020362</td>\n",
              "      <td>0.133522</td>\n",
              "      <td>0.020019</td>\n",
              "      <td>0.020554</td>\n",
              "      <td>0.805543</td>\n",
              "      <td>0.0</td>\n",
              "      <td>0.0</td>\n",
              "      <td>0.0</td>\n",
              "      <td>0.0</td>\n",
              "      <td>0.0</td>\n",
              "      <td>0.0</td>\n",
              "      <td>0.0</td>\n",
              "      <td>0.0</td>\n",
              "      <td>0.0</td>\n",
              "      <td>0.0</td>\n",
              "      <td>0.0</td>\n",
              "      <td>0.0</td>\n",
              "      <td>0.000000</td>\n",
              "      <td>0.000000</td>\n",
              "      <td>0.500000</td>\n",
              "      <td>0.000000</td>\n",
              "      <td>1700</td>\n",
              "    </tr>\n",
              "    <tr>\n",
              "      <th>1062</th>\n",
              "      <td>http://mashable.com/2013/01/25/data-vs-nature-...</td>\n",
              "      <td>713.0</td>\n",
              "      <td>12.0</td>\n",
              "      <td>0.0</td>\n",
              "      <td>0.0</td>\n",
              "      <td>0.0</td>\n",
              "      <td>0.0</td>\n",
              "      <td>0.0</td>\n",
              "      <td>0.0</td>\n",
              "      <td>0.0</td>\n",
              "      <td>0.0</td>\n",
              "      <td>0.0</td>\n",
              "      <td>9.0</td>\n",
              "      <td>0.0</td>\n",
              "      <td>0.0</td>\n",
              "      <td>0.0</td>\n",
              "      <td>0.0</td>\n",
              "      <td>1.0</td>\n",
              "      <td>0.0</td>\n",
              "      <td>217.0</td>\n",
              "      <td>2500.0</td>\n",
              "      <td>669.000000</td>\n",
              "      <td>0.0</td>\n",
              "      <td>51900.0</td>\n",
              "      <td>17255.555556</td>\n",
              "      <td>0.0</td>\n",
              "      <td>4380.000000</td>\n",
              "      <td>2328.023284</td>\n",
              "      <td>0.0</td>\n",
              "      <td>0.0</td>\n",
              "      <td>0.0</td>\n",
              "      <td>0.0</td>\n",
              "      <td>0.0</td>\n",
              "      <td>0.0</td>\n",
              "      <td>0.0</td>\n",
              "      <td>1.0</td>\n",
              "      <td>0.0</td>\n",
              "      <td>0.0</td>\n",
              "      <td>0.0</td>\n",
              "      <td>0.532843</td>\n",
              "      <td>0.022387</td>\n",
              "      <td>0.260606</td>\n",
              "      <td>0.023187</td>\n",
              "      <td>0.160977</td>\n",
              "      <td>0.0</td>\n",
              "      <td>0.0</td>\n",
              "      <td>0.0</td>\n",
              "      <td>0.0</td>\n",
              "      <td>0.0</td>\n",
              "      <td>0.0</td>\n",
              "      <td>0.0</td>\n",
              "      <td>0.0</td>\n",
              "      <td>0.0</td>\n",
              "      <td>0.0</td>\n",
              "      <td>0.0</td>\n",
              "      <td>0.0</td>\n",
              "      <td>0.000000</td>\n",
              "      <td>0.000000</td>\n",
              "      <td>0.500000</td>\n",
              "      <td>0.000000</td>\n",
              "      <td>4500</td>\n",
              "    </tr>\n",
              "    <tr>\n",
              "      <th>1121</th>\n",
              "      <td>http://mashable.com/2013/01/26/infographics-ma...</td>\n",
              "      <td>712.0</td>\n",
              "      <td>10.0</td>\n",
              "      <td>0.0</td>\n",
              "      <td>0.0</td>\n",
              "      <td>0.0</td>\n",
              "      <td>0.0</td>\n",
              "      <td>0.0</td>\n",
              "      <td>0.0</td>\n",
              "      <td>0.0</td>\n",
              "      <td>0.0</td>\n",
              "      <td>0.0</td>\n",
              "      <td>7.0</td>\n",
              "      <td>0.0</td>\n",
              "      <td>0.0</td>\n",
              "      <td>1.0</td>\n",
              "      <td>0.0</td>\n",
              "      <td>0.0</td>\n",
              "      <td>0.0</td>\n",
              "      <td>217.0</td>\n",
              "      <td>1700.0</td>\n",
              "      <td>611.000000</td>\n",
              "      <td>0.0</td>\n",
              "      <td>51900.0</td>\n",
              "      <td>13628.571429</td>\n",
              "      <td>0.0</td>\n",
              "      <td>4408.000000</td>\n",
              "      <td>2332.097082</td>\n",
              "      <td>0.0</td>\n",
              "      <td>0.0</td>\n",
              "      <td>0.0</td>\n",
              "      <td>0.0</td>\n",
              "      <td>0.0</td>\n",
              "      <td>0.0</td>\n",
              "      <td>0.0</td>\n",
              "      <td>0.0</td>\n",
              "      <td>1.0</td>\n",
              "      <td>0.0</td>\n",
              "      <td>1.0</td>\n",
              "      <td>0.885229</td>\n",
              "      <td>0.028718</td>\n",
              "      <td>0.028587</td>\n",
              "      <td>0.028866</td>\n",
              "      <td>0.028599</td>\n",
              "      <td>0.0</td>\n",
              "      <td>0.0</td>\n",
              "      <td>0.0</td>\n",
              "      <td>0.0</td>\n",
              "      <td>0.0</td>\n",
              "      <td>0.0</td>\n",
              "      <td>0.0</td>\n",
              "      <td>0.0</td>\n",
              "      <td>0.0</td>\n",
              "      <td>0.0</td>\n",
              "      <td>0.0</td>\n",
              "      <td>0.0</td>\n",
              "      <td>0.066667</td>\n",
              "      <td>0.033333</td>\n",
              "      <td>0.433333</td>\n",
              "      <td>0.033333</td>\n",
              "      <td>6800</td>\n",
              "    </tr>\n",
              "    <tr>\n",
              "      <th>1312</th>\n",
              "      <td>http://mashable.com/2013/01/29/social-tv-chart...</td>\n",
              "      <td>709.0</td>\n",
              "      <td>14.0</td>\n",
              "      <td>0.0</td>\n",
              "      <td>0.0</td>\n",
              "      <td>0.0</td>\n",
              "      <td>0.0</td>\n",
              "      <td>0.0</td>\n",
              "      <td>0.0</td>\n",
              "      <td>0.0</td>\n",
              "      <td>0.0</td>\n",
              "      <td>0.0</td>\n",
              "      <td>10.0</td>\n",
              "      <td>0.0</td>\n",
              "      <td>1.0</td>\n",
              "      <td>0.0</td>\n",
              "      <td>0.0</td>\n",
              "      <td>0.0</td>\n",
              "      <td>0.0</td>\n",
              "      <td>217.0</td>\n",
              "      <td>1700.0</td>\n",
              "      <td>517.800000</td>\n",
              "      <td>440.0</td>\n",
              "      <td>51900.0</td>\n",
              "      <td>17628.000000</td>\n",
              "      <td>440.0</td>\n",
              "      <td>4423.333333</td>\n",
              "      <td>2305.412167</td>\n",
              "      <td>0.0</td>\n",
              "      <td>0.0</td>\n",
              "      <td>0.0</td>\n",
              "      <td>0.0</td>\n",
              "      <td>1.0</td>\n",
              "      <td>0.0</td>\n",
              "      <td>0.0</td>\n",
              "      <td>0.0</td>\n",
              "      <td>0.0</td>\n",
              "      <td>0.0</td>\n",
              "      <td>0.0</td>\n",
              "      <td>0.020977</td>\n",
              "      <td>0.020356</td>\n",
              "      <td>0.020075</td>\n",
              "      <td>0.918569</td>\n",
              "      <td>0.020023</td>\n",
              "      <td>0.0</td>\n",
              "      <td>0.0</td>\n",
              "      <td>0.0</td>\n",
              "      <td>0.0</td>\n",
              "      <td>0.0</td>\n",
              "      <td>0.0</td>\n",
              "      <td>0.0</td>\n",
              "      <td>0.0</td>\n",
              "      <td>0.0</td>\n",
              "      <td>0.0</td>\n",
              "      <td>0.0</td>\n",
              "      <td>0.0</td>\n",
              "      <td>0.283333</td>\n",
              "      <td>0.266667</td>\n",
              "      <td>0.216667</td>\n",
              "      <td>0.266667</td>\n",
              "      <td>1000</td>\n",
              "    </tr>\n",
              "  </tbody>\n",
              "</table>\n",
              "</div>"
            ],
            "text/plain": [
              "                                                    url  timedelta  \\\n",
              "893   http://mashable.com/2013/01/23/actual-facebook...      715.0   \n",
              "917   http://mashable.com/2013/01/23/fitness-gadget-...      715.0   \n",
              "1062  http://mashable.com/2013/01/25/data-vs-nature-...      713.0   \n",
              "1121  http://mashable.com/2013/01/26/infographics-ma...      712.0   \n",
              "1312  http://mashable.com/2013/01/29/social-tv-chart...      709.0   \n",
              "\n",
              "      n_tokens_title  n_tokens_content  n_unique_tokens  n_non_stop_words  \\\n",
              "893             10.0               0.0              0.0               0.0   \n",
              "917              8.0               0.0              0.0               0.0   \n",
              "1062            12.0               0.0              0.0               0.0   \n",
              "1121            10.0               0.0              0.0               0.0   \n",
              "1312            14.0               0.0              0.0               0.0   \n",
              "\n",
              "      n_non_stop_unique_tokens  num_hrefs  num_self_hrefs  num_imgs  \\\n",
              "893                        0.0        0.0             0.0      10.0   \n",
              "917                        0.0        0.0             0.0       0.0   \n",
              "1062                       0.0        0.0             0.0       0.0   \n",
              "1121                       0.0        0.0             0.0       0.0   \n",
              "1312                       0.0        0.0             0.0       0.0   \n",
              "\n",
              "      num_videos  average_token_length  num_keywords  \\\n",
              "893          0.0                   0.0           7.0   \n",
              "917          0.0                   0.0          10.0   \n",
              "1062         0.0                   0.0           9.0   \n",
              "1121         0.0                   0.0           7.0   \n",
              "1312         0.0                   0.0          10.0   \n",
              "\n",
              "      data_channel_is_lifestyle  data_channel_is_entertainment  \\\n",
              "893                         0.0                            0.0   \n",
              "917                         1.0                            0.0   \n",
              "1062                        0.0                            0.0   \n",
              "1121                        0.0                            0.0   \n",
              "1312                        0.0                            1.0   \n",
              "\n",
              "      data_channel_is_bus  data_channel_is_socmed  data_channel_is_tech  \\\n",
              "893                   0.0                     0.0                   0.0   \n",
              "917                   0.0                     0.0                   0.0   \n",
              "1062                  0.0                     0.0                   1.0   \n",
              "1121                  1.0                     0.0                   0.0   \n",
              "1312                  0.0                     0.0                   0.0   \n",
              "\n",
              "      data_channel_is_world  kw_min_min  kw_max_min  kw_avg_min  kw_min_max  \\\n",
              "893                     0.0       217.0      1200.0  542.500000         0.0   \n",
              "917                     0.0       217.0      2000.0  582.285714         0.0   \n",
              "1062                    0.0       217.0      2500.0  669.000000         0.0   \n",
              "1121                    0.0       217.0      1700.0  611.000000         0.0   \n",
              "1312                    0.0       217.0      1700.0  517.800000       440.0   \n",
              "\n",
              "      kw_max_max    kw_avg_max  kw_min_avg   kw_max_avg   kw_avg_avg  \\\n",
              "893      51900.0  16928.571429         0.0  3647.272727  1923.430603   \n",
              "917      51900.0  16080.000000         0.0  2939.239130  1596.149445   \n",
              "1062     51900.0  17255.555556         0.0  4380.000000  2328.023284   \n",
              "1121     51900.0  13628.571429         0.0  4408.000000  2332.097082   \n",
              "1312     51900.0  17628.000000       440.0  4423.333333  2305.412167   \n",
              "\n",
              "      self_reference_min_shares  self_reference_max_shares  \\\n",
              "893                         0.0                        0.0   \n",
              "917                         0.0                        0.0   \n",
              "1062                        0.0                        0.0   \n",
              "1121                        0.0                        0.0   \n",
              "1312                        0.0                        0.0   \n",
              "\n",
              "      self_reference_avg_sharess  weekday_is_monday  weekday_is_tuesday  \\\n",
              "893                          0.0                0.0                 0.0   \n",
              "917                          0.0                0.0                 0.0   \n",
              "1062                         0.0                0.0                 0.0   \n",
              "1121                         0.0                0.0                 0.0   \n",
              "1312                         0.0                0.0                 1.0   \n",
              "\n",
              "      weekday_is_wednesday  weekday_is_thursday  weekday_is_friday  \\\n",
              "893                    1.0                  0.0                0.0   \n",
              "917                    1.0                  0.0                0.0   \n",
              "1062                   0.0                  0.0                1.0   \n",
              "1121                   0.0                  0.0                0.0   \n",
              "1312                   0.0                  0.0                0.0   \n",
              "\n",
              "      weekday_is_saturday  weekday_is_sunday  is_weekend    LDA_00    LDA_01  \\\n",
              "893                   0.0                0.0         0.0  0.191383  0.028703   \n",
              "917                   0.0                0.0         0.0  0.020362  0.133522   \n",
              "1062                  0.0                0.0         0.0  0.532843  0.022387   \n",
              "1121                  1.0                0.0         1.0  0.885229  0.028718   \n",
              "1312                  0.0                0.0         0.0  0.020977  0.020356   \n",
              "\n",
              "        LDA_02    LDA_03    LDA_04  global_subjectivity  \\\n",
              "893   0.179282  0.572047  0.028586                  0.0   \n",
              "917   0.020019  0.020554  0.805543                  0.0   \n",
              "1062  0.260606  0.023187  0.160977                  0.0   \n",
              "1121  0.028587  0.028866  0.028599                  0.0   \n",
              "1312  0.020075  0.918569  0.020023                  0.0   \n",
              "\n",
              "      global_sentiment_polarity  global_rate_positive_words  \\\n",
              "893                         0.0                         0.0   \n",
              "917                         0.0                         0.0   \n",
              "1062                        0.0                         0.0   \n",
              "1121                        0.0                         0.0   \n",
              "1312                        0.0                         0.0   \n",
              "\n",
              "      global_rate_negative_words  rate_positive_words  rate_negative_words  \\\n",
              "893                          0.0                  0.0                  0.0   \n",
              "917                          0.0                  0.0                  0.0   \n",
              "1062                         0.0                  0.0                  0.0   \n",
              "1121                         0.0                  0.0                  0.0   \n",
              "1312                         0.0                  0.0                  0.0   \n",
              "\n",
              "      avg_positive_polarity  min_positive_polarity  max_positive_polarity  \\\n",
              "893                     0.0                    0.0                    0.0   \n",
              "917                     0.0                    0.0                    0.0   \n",
              "1062                    0.0                    0.0                    0.0   \n",
              "1121                    0.0                    0.0                    0.0   \n",
              "1312                    0.0                    0.0                    0.0   \n",
              "\n",
              "      avg_negative_polarity  min_negative_polarity  max_negative_polarity  \\\n",
              "893                     0.0                    0.0                    0.0   \n",
              "917                     0.0                    0.0                    0.0   \n",
              "1062                    0.0                    0.0                    0.0   \n",
              "1121                    0.0                    0.0                    0.0   \n",
              "1312                    0.0                    0.0                    0.0   \n",
              "\n",
              "      title_subjectivity  title_sentiment_polarity  abs_title_subjectivity  \\\n",
              "893             0.550000                 -0.500000                0.050000   \n",
              "917             0.000000                  0.000000                0.500000   \n",
              "1062            0.000000                  0.000000                0.500000   \n",
              "1121            0.066667                  0.033333                0.433333   \n",
              "1312            0.283333                  0.266667                0.216667   \n",
              "\n",
              "      abs_title_sentiment_polarity  shares  \n",
              "893                       0.500000    2500  \n",
              "917                       0.000000    1700  \n",
              "1062                      0.000000    4500  \n",
              "1121                      0.033333    6800  \n",
              "1312                      0.266667    1000  "
            ]
          },
          "metadata": {},
          "execution_count": 28
        }
      ]
    },
    {
      "cell_type": "markdown",
      "metadata": {
        "id": "u5XP35tEDrt-"
      },
      "source": [
        "The number of articles with a zero avg token is concerning, though at least some of them have other content."
      ]
    },
    {
      "cell_type": "markdown",
      "metadata": {
        "id": "jXZs-hLnWJlS"
      },
      "source": [
        "####num_keywords"
      ]
    },
    {
      "cell_type": "code",
      "metadata": {
        "colab": {
          "base_uri": "https://localhost:8080/",
          "height": 469
        },
        "id": "FAJyJYojVfRx",
        "outputId": "77f14865-db0c-478f-8df6-83055504d88f"
      },
      "source": [
        "#Create a histogram and boxplot side by side for num_keywords\n",
        "j= 12\n",
        "i= df.iloc[:,j]\n",
        "plt.figure(figsize=(8,4))\n",
        "plt.subplot(1,2,1);#Histogram location\n",
        "sns.distplot(i);\n",
        "plt.title(df.columns[j]);\n",
        "plt.subplot(1,2,2);#Boxplot location\n",
        "sns.boxplot(i);\n",
        "plt.title(df.columns[j]);\n",
        "print(\"Skewness: %f\" %i.skew()) #Adds Skew value\n",
        "i.describe() #Adds summary statistics of the variable"
      ],
      "execution_count": null,
      "outputs": [
        {
          "output_type": "stream",
          "name": "stdout",
          "text": [
            "Skewness: -0.147251\n"
          ]
        },
        {
          "output_type": "execute_result",
          "data": {
            "text/plain": [
              "count    39644.000000\n",
              "mean         7.223767\n",
              "std          1.909130\n",
              "min          1.000000\n",
              "25%          6.000000\n",
              "50%          7.000000\n",
              "75%          9.000000\n",
              "max         10.000000\n",
              "Name: num_keywords, dtype: float64"
            ]
          },
          "metadata": {},
          "execution_count": 29
        },
        {
          "output_type": "display_data",
          "data": {
            "image/png": "[encoded data removed]",
            "text/plain": [
              "<Figure size 576x288 with 2 Axes>"
            ]
          },
          "metadata": {
            "needs_background": "light"
          }
        }
      ]
    },
    {
      "cell_type": "markdown",
      "metadata": {
        "id": "TMCD0SKREFmA"
      },
      "source": [
        "Number of keywords in the metadata. These act as tags for the article. The distribution here is relatively normal. It seems there are a few articles that have no keywords, but that isn't very concerning. The distribution seems relatively normal."
      ]
    },
    {
      "cell_type": "markdown",
      "metadata": {
        "id": "F6DBp0x_erhO"
      },
      "source": [
        "####Data channel\n",
        "we will explore doing EDA on data channel as if it was not already dummied "
      ]
    },
    {
      "cell_type": "code",
      "metadata": {
        "colab": {
          "base_uri": "https://localhost:8080/",
          "height": 281
        },
        "id": "bq4advrye3Ow",
        "outputId": "4544f045-b4a5-421f-df6f-17eee91875e7"
      },
      "source": [
        "j= 13 # starting column\n",
        "h= 19 # ending column \n",
        "#assigning columns to a new variable\n",
        "i= df.iloc[:,j:h]\n",
        "# creating sum column to check for multiple values\n",
        "i['sum'] = i.sum(axis=1)\n",
        "# no mulitple values found droping columning and merging values to one column \n",
        "i.drop(columns='sum')\n",
        "dedummied = i.idxmax(axis=1)\n",
        "\n",
        "#parsing out category\n",
        "dedummied = dedummied.str.split('_').apply(lambda x : x[-1])\n",
        "\n",
        "\n",
        "plt.figure(figsize=(8,4))\n",
        "#plt.subplot(1,2,1);#Histogram location\n",
        "plt.title('Data Channel');\n",
        "sns.countplot(dedummied);\n",
        "#plt.subplot(1,2,2);#Boxplot location\n",
        "#sns.boxplot();\n",
        "#plt.title(df.columns[j]);\n",
        "#print(\"Skewness: %f\" %dedummied.skew()) #Adds Skew value\n",
        "#i.describe() #Adds summary statistics of the variable\"\"\"\n",
        "\n",
        "\n"
      ],
      "execution_count": null,
      "outputs": [
        {
          "output_type": "display_data",
          "data": {
            "image/png": "[encoded data removed]",
            "text/plain": [
              "<Figure size 576x288 with 1 Axes>"
            ]
          },
          "metadata": {
            "needs_background": "light"
          }
        }
      ]
    },
    {
      "cell_type": "markdown",
      "metadata": {
        "id": "TldDQxK6pJ1y"
      },
      "source": [
        "The Categorical dummy columns represented here: \n",
        "* data_channel_is_lifestyle: Is data channel 'Lifestyle'?\n",
        "* data_channel_is_entertainment: Is data channel 'Entertainment'?\n",
        "* data_channel_is_bus: Is data channel 'Business'?\n",
        "* data_channel_is_socmed: Is data channel 'Social Media'?\n",
        "* data_channel_is_tech: Is data channel 'Tech'?\n",
        "* data_channel_is_world: Is data channel 'World'?\n",
        "\n",
        "socmed is a signifiganly smaller class but not enough to combine. we will work to ensure it is properly represented in test/train/validation splits"
      ]
    },
    {
      "cell_type": "markdown",
      "metadata": {
        "id": "e4LO0ONkGxts"
      },
      "source": [
        "@jacob Possible that SOCMED/lifestyle are underrepresented?"
      ]
    },
    {
      "cell_type": "markdown",
      "metadata": {
        "id": "l576xd28ZQ8u"
      },
      "source": [
        "####kw_min_min"
      ]
    },
    {
      "cell_type": "code",
      "metadata": {
        "colab": {
          "base_uri": "https://localhost:8080/",
          "height": 469
        },
        "id": "9Hl3Kr0dXjdm",
        "outputId": "9c2ee51f-78a8-467f-d692-c3dc0dd0e7cd"
      },
      "source": [
        "#Create a histogram and boxplot side by side for kw_min_min\n",
        "j= 19\n",
        "i= df.iloc[:,j]\n",
        "plt.figure(figsize=(8,4))\n",
        "plt.subplot(1,2,1);#Histogram location\n",
        "sns.distplot(i);\n",
        "plt.title(df.columns[j]);\n",
        "plt.subplot(1,2,2);#Boxplot location\n",
        "sns.boxplot(i);\n",
        "plt.title(df.columns[j]);\n",
        "print(\"Skewness: %f\" %i.skew()) #Adds Skew value\n",
        "i.describe() #Adds summary statistics of the variable"
      ],
      "execution_count": null,
      "outputs": [
        {
          "output_type": "stream",
          "name": "stdout",
          "text": [
            "Skewness: 2.374947\n"
          ]
        },
        {
          "output_type": "execute_result",
          "data": {
            "text/plain": [
              "count    39644.000000\n",
              "mean        26.106801\n",
              "std         69.633215\n",
              "min         -1.000000\n",
              "25%         -1.000000\n",
              "50%         -1.000000\n",
              "75%          4.000000\n",
              "max        377.000000\n",
              "Name: kw_min_min, dtype: float64"
            ]
          },
          "metadata": {},
          "execution_count": 42
        },
        {
          "output_type": "display_data",
          "data": {
            "image/png": "[encoded data removed]",
            "text/plain": [
              "<Figure size 576x288 with 2 Axes>"
            ]
          },
          "metadata": {
            "needs_background": "light"
          }
        }
      ]
    },
    {
      "cell_type": "markdown",
      "metadata": {
        "id": "yvgibDscIDzo"
      },
      "source": [
        "It isn't clear what this feature represents;  we believe that this finds the keywords on the article, sums the total number of shares for each article tagged with that keyword, and then selects the keyword with the lowest total sum. The feature then displays the lowest recorded share count for any article with that keyword. The majority of the values are -1 though, and it is n't clear what that would represent here. Nevertheless, the distribution is skewed  to the right and would benefit from standardization and normalization."
      ]
    },
    {
      "cell_type": "markdown",
      "metadata": {
        "id": "aD2NKMNGZUUj"
      },
      "source": [
        "####kw_max_min"
      ]
    },
    {
      "cell_type": "code",
      "metadata": {
        "colab": {
          "base_uri": "https://localhost:8080/",
          "height": 469
        },
        "id": "s6OcNC92XoWG",
        "outputId": "46af31f4-7116-4eba-f843-b5e4b9c395e2"
      },
      "source": [
        "#Create a histogram and boxplot side by side for kw_max_min\n",
        "j= 20\n",
        "i= df.iloc[:,j]\n",
        "plt.figure(figsize=(8,4))\n",
        "plt.subplot(1,2,1);#Histogram location\n",
        "sns.distplot(i);\n",
        "plt.title(df.columns[j]);\n",
        "plt.subplot(1,2,2);#Boxplot location\n",
        "sns.boxplot(i);\n",
        "plt.title(df.columns[j]);\n",
        "print(\"Skewness: %f\" %i.skew()) #Adds Skew value\n",
        "i.describe() #Adds summary statistics of the variable"
      ],
      "execution_count": null,
      "outputs": [
        {
          "output_type": "stream",
          "name": "stdout",
          "text": [
            "Skewness: 35.328434\n"
          ]
        },
        {
          "output_type": "execute_result",
          "data": {
            "text/plain": [
              "count     39644.000000\n",
              "mean       1153.951682\n",
              "std        3857.990877\n",
              "min           0.000000\n",
              "25%         445.000000\n",
              "50%         660.000000\n",
              "75%        1000.000000\n",
              "max      298400.000000\n",
              "Name: kw_max_min, dtype: float64"
            ]
          },
          "metadata": {},
          "execution_count": 43
        },
        {
          "output_type": "display_data",
          "data": {
            "image/png": "[encoded data removed]",
            "text/plain": [
              "<Figure size 576x288 with 2 Axes>"
            ]
          },
          "metadata": {
            "needs_background": "light"
          }
        }
      ]
    },
    {
      "cell_type": "markdown",
      "metadata": {
        "id": "qzz9zrvNVj64"
      },
      "source": [
        "This feature seems to be a measure of the greatest number of shares of articles sharing the worst performing keyword on the article in question. It would benefit from normalization and standardization."
      ]
    },
    {
      "cell_type": "markdown",
      "metadata": {
        "id": "wXuCqs3oZXAq"
      },
      "source": [
        "####kw_avg_min"
      ]
    },
    {
      "cell_type": "code",
      "metadata": {
        "colab": {
          "base_uri": "https://localhost:8080/",
          "height": 469
        },
        "id": "2P7uQb2kXsAq",
        "outputId": "abc09124-c34d-44c4-ef4b-7bcc00f9dd44"
      },
      "source": [
        "#Create a histogram and boxplot side by side for kw_avg_min\n",
        "j= 21\n",
        "i= df.iloc[:,j]\n",
        "plt.figure(figsize=(8,4))\n",
        "plt.subplot(1,2,1);#Histogram location\n",
        "sns.distplot(i);\n",
        "plt.title(df.columns[j]);\n",
        "plt.subplot(1,2,2);#Boxplot location\n",
        "sns.boxplot(i);\n",
        "plt.title(df.columns[j]);\n",
        "print(\"Skewness: %f\" %i.skew()) #Adds Skew value\n",
        "i.describe() #Adds summary statistics of the variable"
      ],
      "execution_count": null,
      "outputs": [
        {
          "output_type": "stream",
          "name": "stdout",
          "text": [
            "Skewness: 31.306108\n"
          ]
        },
        {
          "output_type": "execute_result",
          "data": {
            "text/plain": [
              "count    39644.000000\n",
              "mean       312.366967\n",
              "std        620.783887\n",
              "min         -1.000000\n",
              "25%        141.750000\n",
              "50%        235.500000\n",
              "75%        357.000000\n",
              "max      42827.857143\n",
              "Name: kw_avg_min, dtype: float64"
            ]
          },
          "metadata": {},
          "execution_count": 44
        },
        {
          "output_type": "display_data",
          "data": {
            "image/png": "[encoded data removed]",
            "text/plain": [
              "<Figure size 576x288 with 2 Axes>"
            ]
          },
          "metadata": {
            "needs_background": "light"
          }
        }
      ]
    },
    {
      "cell_type": "markdown",
      "metadata": {
        "id": "MFlll1DC8Ljr"
      },
      "source": [
        "This feature seems to be a measure of the average number of shares of articles sharing the worst performing keyword to the article in question. It would benefit from normalization and standardization. "
      ]
    },
    {
      "cell_type": "markdown",
      "metadata": {
        "id": "ROtosTFRZbCU"
      },
      "source": [
        "####kw_min_max"
      ]
    },
    {
      "cell_type": "code",
      "metadata": {
        "colab": {
          "base_uri": "https://localhost:8080/",
          "height": 469
        },
        "id": "TONUz8W1X68w",
        "outputId": "92f5cbe5-644f-425c-e40d-4258138e123b"
      },
      "source": [
        "\n",
        "j= 22\n",
        "i= df.iloc[:,j]\n",
        "plt.figure(figsize=(8,4))\n",
        "plt.subplot(1,2,1);#Histogram location\n",
        "sns.distplot(i);\n",
        "plt.title(df.columns[j]);\n",
        "plt.subplot(1,2,2);#Boxplot location\n",
        "sns.boxplot(i);\n",
        "plt.title(df.columns[j]);\n",
        "print(\"Skewness: %f\" %i.skew()) #Adds Skew value\n",
        "i.describe() #Adds summary statistics of the variable"
      ],
      "execution_count": null,
      "outputs": [
        {
          "output_type": "stream",
          "name": "stdout",
          "text": [
            "Skewness: 10.386372\n"
          ]
        },
        {
          "output_type": "execute_result",
          "data": {
            "text/plain": [
              "count     39644.000000\n",
              "mean      13612.354102\n",
              "std       57986.029357\n",
              "min           0.000000\n",
              "25%           0.000000\n",
              "50%        1400.000000\n",
              "75%        7900.000000\n",
              "max      843300.000000\n",
              "Name: kw_min_max, dtype: float64"
            ]
          },
          "metadata": {},
          "execution_count": 45
        },
        {
          "output_type": "display_data",
          "data": {
            "image/png": "[encoded data removed]",
            "text/plain": [
              "<Figure size 576x288 with 2 Axes>"
            ]
          },
          "metadata": {
            "needs_background": "light"
          }
        }
      ]
    },
    {
      "cell_type": "markdown",
      "metadata": {
        "id": "p57TLWaU8U5x"
      },
      "source": [
        "This feature seems to be a measure of the lowest number of shares of articles sharing the best performing keyword on the article in question. It would benefit from normalization and standardization."
      ]
    },
    {
      "cell_type": "markdown",
      "metadata": {
        "id": "ERt_G1yMZc2N"
      },
      "source": [
        "####kw_max_max"
      ]
    },
    {
      "cell_type": "code",
      "metadata": {
        "colab": {
          "base_uri": "https://localhost:8080/",
          "height": 469
        },
        "id": "9FeaJMn-X-U3",
        "outputId": "78289f84-7a40-4421-df9b-f0d1eba9ec01"
      },
      "source": [
        "j= 23\n",
        "i= df.iloc[:,j]\n",
        "plt.figure(figsize=(8,4))\n",
        "plt.subplot(1,2,1);#Histogram location\n",
        "sns.distplot(i);\n",
        "plt.title(df.columns[j]);\n",
        "plt.subplot(1,2,2);#Boxplot location\n",
        "sns.boxplot(i);\n",
        "plt.title(df.columns[j]);\n",
        "print(\"Skewness: %f\" %i.skew()) #Adds Skew value\n",
        "i.describe() #Adds summary statistics of the variable"
      ],
      "execution_count": null,
      "outputs": [
        {
          "output_type": "stream",
          "name": "stdout",
          "text": [
            "Skewness: -2.644982\n"
          ]
        },
        {
          "output_type": "execute_result",
          "data": {
            "text/plain": [
              "count     39644.000000\n",
              "mean     752324.066694\n",
              "std      214502.129573\n",
              "min           0.000000\n",
              "25%      843300.000000\n",
              "50%      843300.000000\n",
              "75%      843300.000000\n",
              "max      843300.000000\n",
              "Name: kw_max_max, dtype: float64"
            ]
          },
          "metadata": {},
          "execution_count": 46
        },
        {
          "output_type": "display_data",
          "data": {
            "image/png": "[encoded data removed]",
            "text/plain": [
              "<Figure size 576x288 with 2 Axes>"
            ]
          },
          "metadata": {
            "needs_background": "light"
          }
        }
      ]
    },
    {
      "cell_type": "markdown",
      "metadata": {
        "id": "CKyeEuLY8ytE"
      },
      "source": [
        "This feature seems to be a measure of the highest number of shares of articles sharing the best performing keyword on the article in question. It would benefit from normalization and standardization."
      ]
    },
    {
      "cell_type": "markdown",
      "metadata": {
        "id": "YKbcvz2mZizn"
      },
      "source": [
        "####kw_avg_max"
      ]
    },
    {
      "cell_type": "code",
      "metadata": {
        "colab": {
          "base_uri": "https://localhost:8080/",
          "height": 469
        },
        "id": "p5XXhB3wYB0R",
        "outputId": "895b6bc3-e9e3-4068-90d1-cc051377c045"
      },
      "source": [
        "j= 24\n",
        "i= df.iloc[:,j]\n",
        "plt.figure(figsize=(8,4))\n",
        "plt.subplot(1,2,1);#Histogram location\n",
        "sns.distplot(i);\n",
        "plt.title(df.columns[j]);\n",
        "plt.subplot(1,2,2);#Boxplot location\n",
        "sns.boxplot(i);\n",
        "plt.title(df.columns[j]);\n",
        "print(\"Skewness: %f\" %i.skew()) #Adds Skew value\n",
        "i.describe() #Adds summary statistics of the variable"
      ],
      "execution_count": null,
      "outputs": [
        {
          "output_type": "stream",
          "name": "stdout",
          "text": [
            "Skewness: 0.624310\n"
          ]
        },
        {
          "output_type": "execute_result",
          "data": {
            "text/plain": [
              "count     39644.000000\n",
              "mean     259281.938083\n",
              "std      135102.247285\n",
              "min           0.000000\n",
              "25%      172846.875000\n",
              "50%      244572.222223\n",
              "75%      330980.000000\n",
              "max      843300.000000\n",
              "Name: kw_avg_max, dtype: float64"
            ]
          },
          "metadata": {},
          "execution_count": 47
        },
        {
          "output_type": "display_data",
          "data": {
            "image/png": "[encoded data removed]",
            "text/plain": [
              "<Figure size 576x288 with 2 Axes>"
            ]
          },
          "metadata": {
            "needs_background": "light"
          }
        }
      ]
    },
    {
      "cell_type": "markdown",
      "metadata": {
        "id": "qJvIyIOU9AxZ"
      },
      "source": [
        "This feature seems to be a measure of the average number of shares of articles sharing the best performing keyword on the article in question. It would benefit from standardization."
      ]
    },
    {
      "cell_type": "markdown",
      "metadata": {
        "id": "bv1i0BOFZlrV"
      },
      "source": [
        "####kw_min_avg"
      ]
    },
    {
      "cell_type": "code",
      "metadata": {
        "colab": {
          "base_uri": "https://localhost:8080/",
          "height": 469
        },
        "id": "rJqbhlpoYFDa",
        "outputId": "1ace4266-a1bd-4b85-d6c0-84347c1ff13e"
      },
      "source": [
        "j= 25\n",
        "i= df.iloc[:,j]\n",
        "plt.figure(figsize=(8,4))\n",
        "plt.subplot(1,2,1);#Histogram location\n",
        "sns.distplot(i);\n",
        "plt.title(df.columns[j]);\n",
        "plt.subplot(1,2,2);#Boxplot location\n",
        "sns.boxplot(i);\n",
        "plt.title(df.columns[j]);\n",
        "print(\"Skewness: %f\" %i.skew()) #Adds Skew value\n",
        "i.describe() #Adds summary statistics of the variable"
      ],
      "execution_count": null,
      "outputs": [
        {
          "output_type": "stream",
          "name": "stdout",
          "text": [
            "Skewness: 0.467976\n"
          ]
        },
        {
          "output_type": "execute_result",
          "data": {
            "text/plain": [
              "count    39644.000000\n",
              "mean      1117.146610\n",
              "std       1137.456951\n",
              "min         -1.000000\n",
              "25%          0.000000\n",
              "50%       1023.635611\n",
              "75%       2056.781032\n",
              "max       3613.039820\n",
              "Name: kw_min_avg, dtype: float64"
            ]
          },
          "metadata": {},
          "execution_count": 48
        },
        {
          "output_type": "display_data",
          "data": {
            "image/png": "[encoded data removed]",
            "text/plain": [
              "<Figure size 576x288 with 2 Axes>"
            ]
          },
          "metadata": {
            "needs_background": "light"
          }
        }
      ]
    },
    {
      "cell_type": "markdown",
      "metadata": {
        "id": "Rh39pYdq9Pcx"
      },
      "source": [
        "This feature seems to be a measure of the minimum number of shares of articles sharing the most average performing keyword on the article in question. It is unclear what an \"average\" keyword would mean in this context. We will normalize it to keep it in line with the other keyword metrics."
      ]
    },
    {
      "cell_type": "markdown",
      "metadata": {
        "id": "NQHO-uFVZoIC"
      },
      "source": [
        "####kw_max_avg"
      ]
    },
    {
      "cell_type": "code",
      "metadata": {
        "colab": {
          "base_uri": "https://localhost:8080/",
          "height": 469
        },
        "id": "9h9N4H2lYPkd",
        "outputId": "7880207d-e0c8-4d21-b9dd-7e7e737d1f12"
      },
      "source": [
        "j= 26\n",
        "i= df.iloc[:,j]\n",
        "plt.figure(figsize=(8,4))\n",
        "plt.subplot(1,2,1);#Histogram location\n",
        "sns.distplot(i);\n",
        "plt.title(df.columns[j]);\n",
        "plt.subplot(1,2,2);#Boxplot location\n",
        "sns.boxplot(i);\n",
        "plt.title(df.columns[j]);\n",
        "print(\"Skewness: %f\" %i.skew()) #Adds Skew value\n",
        "i.describe() #Adds summary statistics of the variable"
      ],
      "execution_count": null,
      "outputs": [
        {
          "output_type": "stream",
          "name": "stdout",
          "text": [
            "Skewness: 16.411670\n"
          ]
        },
        {
          "output_type": "execute_result",
          "data": {
            "text/plain": [
              "count     39644.000000\n",
              "mean       5657.211151\n",
              "std        6098.871957\n",
              "min           0.000000\n",
              "25%        3562.101631\n",
              "50%        4355.688836\n",
              "75%        6019.953968\n",
              "max      298400.000000\n",
              "Name: kw_max_avg, dtype: float64"
            ]
          },
          "metadata": {},
          "execution_count": 49
        },
        {
          "output_type": "display_data",
          "data": {
            "image/png": "[encoded data removed]",
            "text/plain": [
              "<Figure size 576x288 with 2 Axes>"
            ]
          },
          "metadata": {
            "needs_background": "light"
          }
        }
      ]
    },
    {
      "cell_type": "markdown",
      "metadata": {
        "id": "fDpbuFI39z6E"
      },
      "source": [
        "This feature seems to be a measure of the greatest number of shares of articles sharing the most average performing keyword on the article in question. it would benefit from normalization and standardization."
      ]
    },
    {
      "cell_type": "markdown",
      "metadata": {
        "id": "TITYkF1TZrFH"
      },
      "source": [
        "####kw_avg_avg"
      ]
    },
    {
      "cell_type": "code",
      "metadata": {
        "colab": {
          "base_uri": "https://localhost:8080/",
          "height": 469
        },
        "id": "lLpeceI8YVDb",
        "outputId": "e1e61d28-db51-4ed5-b8ff-aa645fec048d"
      },
      "source": [
        "j= j+1\n",
        "i= df.iloc[:,j]\n",
        "plt.figure(figsize=(8,4))\n",
        "plt.subplot(1,2,1);#Histogram location\n",
        "sns.distplot(i);\n",
        "plt.title(df.columns[j]);\n",
        "plt.subplot(1,2,2);#Boxplot location\n",
        "sns.boxplot(i);\n",
        "plt.title(df.columns[j]);\n",
        "print(\"Skewness: %f\" %i.skew()) #Adds Skew value\n",
        "i.describe() #Adds summary statistics of the variable"
      ],
      "execution_count": null,
      "outputs": [
        {
          "output_type": "stream",
          "name": "stdout",
          "text": [
            "Skewness: 5.760177\n"
          ]
        },
        {
          "output_type": "execute_result",
          "data": {
            "text/plain": [
              "count    39644.000000\n",
              "mean      3135.858639\n",
              "std       1318.150397\n",
              "min          0.000000\n",
              "25%       2382.448566\n",
              "50%       2870.074878\n",
              "75%       3600.229564\n",
              "max      43567.659946\n",
              "Name: kw_avg_avg, dtype: float64"
            ]
          },
          "metadata": {},
          "execution_count": 50
        },
        {
          "output_type": "display_data",
          "data": {
            "image/png": "[encoded data removed]",
            "text/plain": [
              "<Figure size 576x288 with 2 Axes>"
            ]
          },
          "metadata": {
            "needs_background": "light"
          }
        }
      ]
    },
    {
      "cell_type": "markdown",
      "metadata": {
        "id": "d-AFYOyo9_iN"
      },
      "source": [
        "This feature seems to be a measure of the average number of shares of articles sharing the most average performing keyword on the article in question. We will normalize and standardize this feature."
      ]
    },
    {
      "cell_type": "markdown",
      "metadata": {
        "id": "zKbqQhvpZtl9"
      },
      "source": [
        "####self_reference_min_shares"
      ]
    },
    {
      "cell_type": "code",
      "metadata": {
        "colab": {
          "base_uri": "https://localhost:8080/",
          "height": 469
        },
        "id": "gF7zcGrOYU_F",
        "outputId": "3435b7c9-f9f9-42fe-d714-c9ac47a37300"
      },
      "source": [
        "j= j+1\n",
        "i= df.iloc[:,j]\n",
        "plt.figure(figsize=(8,4))\n",
        "plt.subplot(1,2,1);#Histogram location\n",
        "sns.distplot(i);\n",
        "plt.title(df.columns[j]);\n",
        "plt.subplot(1,2,2);#Boxplot location\n",
        "sns.boxplot(i);\n",
        "plt.title(df.columns[j]);\n",
        "print(\"Skewness: %f\" %i.skew()) #Adds Skew value\n",
        "i.describe() #Adds summary statistics of the variable"
      ],
      "execution_count": null,
      "outputs": [
        {
          "output_type": "stream",
          "name": "stdout",
          "text": [
            "Skewness: 26.264364\n"
          ]
        },
        {
          "output_type": "execute_result",
          "data": {
            "text/plain": [
              "count     39644.000000\n",
              "mean       3998.755396\n",
              "std       19738.670516\n",
              "min           0.000000\n",
              "25%         639.000000\n",
              "50%        1200.000000\n",
              "75%        2600.000000\n",
              "max      843300.000000\n",
              "Name: self_reference_min_shares, dtype: float64"
            ]
          },
          "metadata": {},
          "execution_count": 51
        },
        {
          "output_type": "display_data",
          "data": {
            "image/png": "[encoded data removed]",
            "text/plain": [
              "<Figure size 576x288 with 2 Axes>"
            ]
          },
          "metadata": {
            "needs_background": "light"
          }
        }
      ]
    },
    {
      "cell_type": "markdown",
      "metadata": {
        "id": "s5f3gZ1AXs5T"
      },
      "source": [
        "Min. shares of referenced articles in Mashable; ie if the article references other Mashable articles, what is the number of shares of the least shared referenced article. Should be normalized and standardized."
      ]
    },
    {
      "cell_type": "markdown",
      "metadata": {
        "id": "3D8RMoZZZyMa"
      },
      "source": [
        "####self_reference_max_shares"
      ]
    },
    {
      "cell_type": "code",
      "metadata": {
        "colab": {
          "base_uri": "https://localhost:8080/",
          "height": 469
        },
        "id": "iZ8xDFa2YU3v",
        "outputId": "ca36f96f-91a0-4db7-d1d8-e37653ed9733"
      },
      "source": [
        "j= j+1\n",
        "i= df.iloc[:,j]\n",
        "plt.figure(figsize=(8,4))\n",
        "plt.subplot(1,2,1);#Histogram location\n",
        "sns.distplot(i);\n",
        "plt.title(df.columns[j]);\n",
        "plt.subplot(1,2,2);#Boxplot location\n",
        "sns.boxplot(i);\n",
        "plt.title(df.columns[j]);\n",
        "print(\"Skewness: %f\" %i.skew()) #Adds Skew value\n",
        "i.describe() #Adds summary statistics of the variable"
      ],
      "execution_count": null,
      "outputs": [
        {
          "output_type": "stream",
          "name": "stdout",
          "text": [
            "Skewness: 13.870849\n"
          ]
        },
        {
          "output_type": "execute_result",
          "data": {
            "text/plain": [
              "count     39644.000000\n",
              "mean      10329.212662\n",
              "std       41027.576613\n",
              "min           0.000000\n",
              "25%        1100.000000\n",
              "50%        2800.000000\n",
              "75%        8000.000000\n",
              "max      843300.000000\n",
              "Name: self_reference_max_shares, dtype: float64"
            ]
          },
          "metadata": {},
          "execution_count": 52
        },
        {
          "output_type": "display_data",
          "data": {
            "image/png": "[encoded data removed]",
            "text/plain": [
              "<Figure size 576x288 with 2 Axes>"
            ]
          },
          "metadata": {
            "needs_background": "light"
          }
        }
      ]
    },
    {
      "cell_type": "markdown",
      "metadata": {
        "id": "qyHaRrglV-uQ"
      },
      "source": [
        "Max shares of referenced articles in Mashable; ie if the article references other Mashable articles, what is the number of shares of the most shared referenced article. Should be normalized and standardized."
      ]
    },
    {
      "cell_type": "markdown",
      "metadata": {
        "id": "UUoRw-FFZ1sI"
      },
      "source": [
        "####self_reference_avg_shares"
      ]
    },
    {
      "cell_type": "code",
      "metadata": {
        "colab": {
          "base_uri": "https://localhost:8080/",
          "height": 469
        },
        "id": "5-Vg9FbYYUyB",
        "outputId": "ec7633b0-e9c9-488d-b2cc-f2b8dc200091"
      },
      "source": [
        "j= j+1\n",
        "i= df.iloc[:,j]\n",
        "plt.figure(figsize=(8,4))\n",
        "plt.subplot(1,2,1);#Histogram location\n",
        "sns.distplot(i);\n",
        "plt.title(df.columns[j]);\n",
        "plt.subplot(1,2,2);#Boxplot location\n",
        "sns.boxplot(i);\n",
        "plt.title(df.columns[j]);\n",
        "print(\"Skewness: %f\" %i.skew()) #Adds Skew value\n",
        "i.describe() #Adds summary statistics of the variable"
      ],
      "execution_count": null,
      "outputs": [
        {
          "output_type": "stream",
          "name": "stdout",
          "text": [
            "Skewness: 17.914093\n"
          ]
        },
        {
          "output_type": "execute_result",
          "data": {
            "text/plain": [
              "count     39644.000000\n",
              "mean       6401.697580\n",
              "std       24211.332231\n",
              "min           0.000000\n",
              "25%         981.187500\n",
              "50%        2200.000000\n",
              "75%        5200.000000\n",
              "max      843300.000000\n",
              "Name: self_reference_avg_sharess, dtype: float64"
            ]
          },
          "metadata": {},
          "execution_count": 53
        },
        {
          "output_type": "display_data",
          "data": {
            "image/png": "[encoded data removed]",
            "text/plain": [
              "<Figure size 576x288 with 2 Axes>"
            ]
          },
          "metadata": {
            "needs_background": "light"
          }
        }
      ]
    },
    {
      "cell_type": "markdown",
      "metadata": {
        "id": "M9IHVdQjWEJ3"
      },
      "source": [
        "Average shares of referenced articles in Mashable; ie if the article references other Mashable articles, what is theaverage number of shares of the referenced articles. Should be normalized and standardized."
      ]
    },
    {
      "cell_type": "markdown",
      "metadata": {
        "id": "q_e6Wso5oIGO"
      },
      "source": [
        ""
      ]
    },
    {
      "cell_type": "markdown",
      "metadata": {
        "id": "OfNbEEKOoKLG"
      },
      "source": [
        "#### days of the week \n",
        " "
      ]
    },
    {
      "cell_type": "code",
      "metadata": {
        "id": "RvqkU54VoEAu",
        "colab": {
          "base_uri": "https://localhost:8080/",
          "height": 281
        },
        "outputId": "752ee5fa-f7ee-4ba5-cb50-abc3277739c6"
      },
      "source": [
        "j= 31 # starting column\n",
        "h= 38 # ending column \n",
        "#assigning columns to a new variable\n",
        "i= df.iloc[:,j:h]\n",
        "# creating sum column to check for multiple values\n",
        "i['sum'] = i.sum(axis=1)\n",
        "# no mulitple values found droping columning and merging values to one column \n",
        "i.drop(columns='sum')\n",
        "dedummied = i.idxmax(axis=1)\n",
        "\n",
        "#parsing out category\n",
        "dedummied = dedummied.str.split('_').apply(lambda x : x[-1])\n",
        "\n",
        "\n",
        "plt.figure(figsize=(8,4))\n",
        "#plt.subplot(1,2,1);#Histogram location\n",
        "plt.title('Day of the week ');\n",
        "sns.countplot(dedummied);\n",
        "#plt.subplot(1,2,2);#Boxplot location\n",
        "#sns.boxplot();\n",
        "#plt.title(df.columns[j]);\n",
        "#print(\"Skewness: %f\" %dedummied.skew()) #Adds Skew value\n",
        "#i.describe() #Adds summary statistics of the variable\"\"\"\n"
      ],
      "execution_count": null,
      "outputs": [
        {
          "output_type": "display_data",
          "data": {
            "image/png": "[encoded data removed]",
            "text/plain": [
              "<Figure size 576x288 with 1 Axes>"
            ]
          },
          "metadata": {
            "needs_background": "light"
          }
        }
      ]
    },
    {
      "cell_type": "markdown",
      "metadata": {
        "id": "90MkIpH-yJb0"
      },
      "source": [
        "The Categorical dummy columns represented here: \n",
        "31.  weekday_is_monday: Was the article published on a Monday?\n",
        "32.  weekday_is_tuesday: Was the article published on a Tuesday?\n",
        "33.  weekday_is_wednesday: Was the article published on a Wednesday?\n",
        "34.  weekday_is_thursday: Was the article published on a Thursday?\n",
        "35.  weekday_is_friday: Was the article published on a Friday?\n",
        "36.  weekday_is_saturday: Was the article published on a Saturday?\n",
        "37.  weekday_is_sunday: Was the article published on a Sunday?\n",
        "\n",
        "we can see a significant drop of articles being posted on weekends. If it wasn't already created in the next column we would recommend the creation of an indicator variable."
      ]
    },
    {
      "cell_type": "markdown",
      "metadata": {
        "id": "FoNqZ8VHaPSe"
      },
      "source": [
        "####is_weekend"
      ]
    },
    {
      "cell_type": "code",
      "metadata": {
        "colab": {
          "base_uri": "https://localhost:8080/",
          "height": 469
        },
        "id": "K6RRMc0kYUDY",
        "outputId": "41093c1d-e526-4dce-8b55-ab85892bca43"
      },
      "source": [
        "j= 38\n",
        "i= df.iloc[:,j]\n",
        "plt.figure(figsize=(8,4))\n",
        "plt.subplot(1,2,1);#Histogram location\n",
        "sns.distplot(i);\n",
        "plt.title(df.columns[j]);\n",
        "plt.subplot(1,2,2);#Boxplot location\n",
        "sns.boxplot(i);\n",
        "plt.title(df.columns[j]);\n",
        "print(\"Skewness: %f\" %i.skew()) #Adds Skew value\n",
        "i.describe() #Adds summary statistics of the variable"
      ],
      "execution_count": null,
      "outputs": [
        {
          "output_type": "stream",
          "name": "stdout",
          "text": [
            "Skewness: 2.188500\n"
          ]
        },
        {
          "output_type": "execute_result",
          "data": {
            "text/plain": [
              "count    39644.000000\n",
              "mean         0.130915\n",
              "std          0.337312\n",
              "min          0.000000\n",
              "25%          0.000000\n",
              "50%          0.000000\n",
              "75%          0.000000\n",
              "max          1.000000\n",
              "Name: is_weekend, dtype: float64"
            ]
          },
          "metadata": {},
          "execution_count": 129
        },
        {
          "output_type": "display_data",
          "data": {
            "image/png": "[encoded data removed]",
            "text/plain": [
              "<Figure size 576x288 with 2 Axes>"
            ]
          },
          "metadata": {
            "needs_background": "light"
          }
        }
      ]
    },
    {
      "cell_type": "markdown",
      "metadata": {
        "id": "ZsocX_GBaTEz"
      },
      "source": [
        "####LDA_00"
      ]
    },
    {
      "cell_type": "code",
      "metadata": {
        "colab": {
          "base_uri": "https://localhost:8080/",
          "height": 469
        },
        "id": "Qnx-O52eYT8u",
        "outputId": "e4a1196e-dbcd-417c-c5ba-1a11925bce37"
      },
      "source": [
        "j= j+1\n",
        "i= df.iloc[:,j]\n",
        "plt.figure(figsize=(8,4))\n",
        "plt.subplot(1,2,1);#Histogram location\n",
        "sns.distplot(i);\n",
        "plt.title(df.columns[j]);\n",
        "plt.subplot(1,2,2);#Boxplot location\n",
        "sns.boxplot(i);\n",
        "plt.title(df.columns[j]);\n",
        "print(\"Skewness: %f\" %i.skew()) #Adds Skew value\n",
        "i.describe() #Adds summary statistics of the variable"
      ],
      "execution_count": null,
      "outputs": [
        {
          "output_type": "stream",
          "name": "stdout",
          "text": [
            "Skewness: 1.567463\n"
          ]
        },
        {
          "output_type": "execute_result",
          "data": {
            "text/plain": [
              "count    39644.000000\n",
              "mean         0.184599\n",
              "std          0.262975\n",
              "min          0.000000\n",
              "25%          0.025051\n",
              "50%          0.033387\n",
              "75%          0.240958\n",
              "max          0.926994\n",
              "Name: LDA_00, dtype: float64"
            ]
          },
          "metadata": {},
          "execution_count": 62
        },
        {
          "output_type": "display_data",
          "data": {
            "image/png": "[encoded data removed]",
            "text/plain": [
              "<Figure size 576x288 with 2 Axes>"
            ]
          },
          "metadata": {
            "needs_background": "light"
          }
        }
      ]
    },
    {
      "cell_type": "markdown",
      "metadata": {
        "id": "Ibbu50UXWor2"
      },
      "source": [
        "This score is standardized, but not normalized."
      ]
    },
    {
      "cell_type": "markdown",
      "metadata": {
        "id": "2RHHzz2IaXrq"
      },
      "source": [
        "####LDA_01"
      ]
    },
    {
      "cell_type": "code",
      "metadata": {
        "colab": {
          "base_uri": "https://localhost:8080/",
          "height": 469
        },
        "id": "zNOfpt5tYT4D",
        "outputId": "ced92aad-517f-4ee1-fc56-20b21739b24c"
      },
      "source": [
        "j= j+1\n",
        "i= df.iloc[:,j]\n",
        "plt.figure(figsize=(8,4))\n",
        "plt.subplot(1,2,1);#Histogram location\n",
        "sns.distplot(i);\n",
        "plt.title(df.columns[j]);\n",
        "plt.subplot(1,2,2);#Boxplot location\n",
        "sns.boxplot(i);\n",
        "plt.title(df.columns[j]);\n",
        "print(\"Skewness: %f\" %i.skew()) #Adds Skew value\n",
        "i.describe() #Adds summary statistics of the variable"
      ],
      "execution_count": null,
      "outputs": [
        {
          "output_type": "stream",
          "name": "stdout",
          "text": [
            "Skewness: 2.086722\n"
          ]
        },
        {
          "output_type": "execute_result",
          "data": {
            "text/plain": [
              "count    39644.000000\n",
              "mean         0.141256\n",
              "std          0.219707\n",
              "min          0.000000\n",
              "25%          0.025012\n",
              "50%          0.033345\n",
              "75%          0.150831\n",
              "max          0.925947\n",
              "Name: LDA_01, dtype: float64"
            ]
          },
          "metadata": {},
          "execution_count": 63
        },
        {
          "output_type": "display_data",
          "data": {
            "image/png": "[encoded data removed]",
            "text/plain": [
              "<Figure size 576x288 with 2 Axes>"
            ]
          },
          "metadata": {
            "needs_background": "light"
          }
        }
      ]
    },
    {
      "cell_type": "markdown",
      "metadata": {
        "id": "1K_xfo9_W1ru"
      },
      "source": [
        "This score is standardized, but not normalized."
      ]
    },
    {
      "cell_type": "markdown",
      "metadata": {
        "id": "vRsL3ZxWaZ5w"
      },
      "source": [
        "####LDA_02"
      ]
    },
    {
      "cell_type": "code",
      "metadata": {
        "colab": {
          "base_uri": "https://localhost:8080/",
          "height": 469
        },
        "id": "Mtc665hGYT0r",
        "outputId": "40b90977-255c-48ba-c051-d5cc88222542"
      },
      "source": [
        "j= j+1\n",
        "i= df.iloc[:,j]\n",
        "plt.figure(figsize=(8,4))\n",
        "plt.subplot(1,2,1);#Histogram location\n",
        "sns.distplot(i);\n",
        "plt.title(df.columns[j]);\n",
        "plt.subplot(1,2,2);#Boxplot location\n",
        "sns.boxplot(i);\n",
        "plt.title(df.columns[j]);\n",
        "print(\"Skewness: %f\" %i.skew()) #Adds Skew value\n",
        "i.describe() #Adds summary statistics of the variable"
      ],
      "execution_count": null,
      "outputs": [
        {
          "output_type": "stream",
          "name": "stdout",
          "text": [
            "Skewness: 1.311695\n"
          ]
        },
        {
          "output_type": "execute_result",
          "data": {
            "text/plain": [
              "count    39644.000000\n",
              "mean         0.216321\n",
              "std          0.282145\n",
              "min          0.000000\n",
              "25%          0.028571\n",
              "50%          0.040004\n",
              "75%          0.334218\n",
              "max          0.919999\n",
              "Name: LDA_02, dtype: float64"
            ]
          },
          "metadata": {},
          "execution_count": 64
        },
        {
          "output_type": "display_data",
          "data": {
            "image/png": "[encoded data removed]",
            "text/plain": [
              "<Figure size 576x288 with 2 Axes>"
            ]
          },
          "metadata": {
            "needs_background": "light"
          }
        }
      ]
    },
    {
      "cell_type": "markdown",
      "metadata": {
        "id": "NX6kKOOdW3Qi"
      },
      "source": [
        "This score is standardized, but not normalized."
      ]
    },
    {
      "cell_type": "markdown",
      "metadata": {
        "id": "SezTMFLUabyY"
      },
      "source": [
        "####LDA_03"
      ]
    },
    {
      "cell_type": "code",
      "metadata": {
        "colab": {
          "base_uri": "https://localhost:8080/",
          "height": 469
        },
        "id": "FJkACmVXYTtl",
        "outputId": "b3acc530-1c90-4c38-c77c-18d34b01d3ad"
      },
      "source": [
        "j= j+1\n",
        "i= df.iloc[:,j]\n",
        "plt.figure(figsize=(8,4))\n",
        "plt.subplot(1,2,1);#Histogram location\n",
        "sns.distplot(i);\n",
        "plt.title(df.columns[j]);\n",
        "plt.subplot(1,2,2);#Boxplot location\n",
        "sns.boxplot(i);\n",
        "plt.title(df.columns[j]);\n",
        "print(\"Skewness: %f\" %i.skew()) #Adds Skew value\n",
        "i.describe() #Adds summary statistics of the variable"
      ],
      "execution_count": null,
      "outputs": [
        {
          "output_type": "stream",
          "name": "stdout",
          "text": [
            "Skewness: 1.238716\n"
          ]
        },
        {
          "output_type": "execute_result",
          "data": {
            "text/plain": [
              "count    39644.000000\n",
              "mean         0.223770\n",
              "std          0.295191\n",
              "min          0.000000\n",
              "25%          0.028571\n",
              "50%          0.040001\n",
              "75%          0.375763\n",
              "max          0.926534\n",
              "Name: LDA_03, dtype: float64"
            ]
          },
          "metadata": {},
          "execution_count": 65
        },
        {
          "output_type": "display_data",
          "data": {
            "image/png": "[encoded data removed]",
            "text/plain": [
              "<Figure size 576x288 with 2 Axes>"
            ]
          },
          "metadata": {
            "needs_background": "light"
          }
        }
      ]
    },
    {
      "cell_type": "markdown",
      "metadata": {
        "id": "BAki8-FiW4TX"
      },
      "source": [
        "This score is standardized, but not normalized."
      ]
    },
    {
      "cell_type": "markdown",
      "metadata": {
        "id": "VCIwldq6adSH"
      },
      "source": [
        "####LDA_04"
      ]
    },
    {
      "cell_type": "code",
      "metadata": {
        "colab": {
          "base_uri": "https://localhost:8080/",
          "height": 469
        },
        "id": "05wUWlHGYTp3",
        "outputId": "1bf78873-e07f-494f-b153-5d5b82b4a1b4"
      },
      "source": [
        "j= j+1\n",
        "i= df.iloc[:,j]\n",
        "plt.figure(figsize=(8,4))\n",
        "plt.subplot(1,2,1);#Histogram location\n",
        "sns.distplot(i);\n",
        "plt.title(df.columns[j]);\n",
        "plt.subplot(1,2,2);#Boxplot location\n",
        "sns.boxplot(i);\n",
        "plt.title(df.columns[j]);\n",
        "print(\"Skewness: %f\" %i.skew()) #Adds Skew value\n",
        "i.describe() #Adds summary statistics of the variable"
      ],
      "execution_count": null,
      "outputs": [
        {
          "output_type": "stream",
          "name": "stdout",
          "text": [
            "Skewness: 1.173129\n"
          ]
        },
        {
          "output_type": "execute_result",
          "data": {
            "text/plain": [
              "count    39644.000000\n",
              "mean         0.234029\n",
              "std          0.289183\n",
              "min          0.000000\n",
              "25%          0.028574\n",
              "50%          0.040727\n",
              "75%          0.399986\n",
              "max          0.927191\n",
              "Name: LDA_04, dtype: float64"
            ]
          },
          "metadata": {},
          "execution_count": 66
        },
        {
          "output_type": "display_data",
          "data": {
            "image/png": "[encoded data removed]",
            "text/plain": [
              "<Figure size 576x288 with 2 Axes>"
            ]
          },
          "metadata": {
            "needs_background": "light"
          }
        }
      ]
    },
    {
      "cell_type": "markdown",
      "metadata": {
        "id": "A0O80yXJW6Sz"
      },
      "source": [
        "This score is standardized, but not normalized."
      ]
    },
    {
      "cell_type": "markdown",
      "metadata": {
        "id": "r2lM8oQnaesh"
      },
      "source": [
        "####global_subjectivity"
      ]
    },
    {
      "cell_type": "code",
      "metadata": {
        "colab": {
          "base_uri": "https://localhost:8080/",
          "height": 469
        },
        "id": "2mv15WRIYTlA",
        "outputId": "c203ccb7-c4de-4c18-fa20-cad51e5d067e"
      },
      "source": [
        "j= j+1\n",
        "i= df.iloc[:,j]\n",
        "plt.figure(figsize=(8,4))\n",
        "plt.subplot(1,2,1);#Histogram location\n",
        "sns.distplot(i);\n",
        "plt.title(df.columns[j]);\n",
        "plt.subplot(1,2,2);#Boxplot location\n",
        "sns.boxplot(i);\n",
        "plt.title(df.columns[j]);\n",
        "print(\"Skewness: %f\" %i.skew()) #Adds Skew value\n",
        "i.describe() #Adds summary statistics of the variable"
      ],
      "execution_count": null,
      "outputs": [
        {
          "output_type": "stream",
          "name": "stdout",
          "text": [
            "Skewness: -1.372689\n"
          ]
        },
        {
          "output_type": "execute_result",
          "data": {
            "text/plain": [
              "count    39644.000000\n",
              "mean         0.443370\n",
              "std          0.116685\n",
              "min          0.000000\n",
              "25%          0.396167\n",
              "50%          0.453457\n",
              "75%          0.508333\n",
              "max          1.000000\n",
              "Name: global_subjectivity, dtype: float64"
            ]
          },
          "metadata": {},
          "execution_count": 67
        },
        {
          "output_type": "display_data",
          "data": {
            "image/png": "[encoded data removed]",
            "text/plain": [
              "<Figure size 576x288 with 2 Axes>"
            ]
          },
          "metadata": {
            "needs_background": "light"
          }
        }
      ]
    },
    {
      "cell_type": "markdown",
      "metadata": {
        "id": "juVeG8ykyjiT"
      },
      "source": [
        "This column scores an article how subjective (vs objective) an article is. This seems normally distributed, with a small spike of zero values, which would represent fully \"factual\" articles. No data preperation needed."
      ]
    },
    {
      "cell_type": "markdown",
      "metadata": {
        "id": "UiZUGPgKajFC"
      },
      "source": [
        "####global_sentiment_polarity"
      ]
    },
    {
      "cell_type": "code",
      "metadata": {
        "colab": {
          "base_uri": "https://localhost:8080/",
          "height": 469
        },
        "id": "V5Bg-ZDsYTgT",
        "outputId": "fa793a31-4489-4fdf-b17a-60b369fc4073"
      },
      "source": [
        "j= j+1\n",
        "i= df.iloc[:,j]\n",
        "plt.figure(figsize=(8,4))\n",
        "plt.subplot(1,2,1);#Histogram location\n",
        "sns.distplot(i);\n",
        "plt.title(df.columns[j]);\n",
        "plt.subplot(1,2,2);#Boxplot location\n",
        "sns.boxplot(i);\n",
        "plt.title(df.columns[j]);\n",
        "print(\"Skewness: %f\" %i.skew()) #Adds Skew value\n",
        "i.describe() #Adds summary statistics of the variable"
      ],
      "execution_count": null,
      "outputs": [
        {
          "output_type": "stream",
          "name": "stdout",
          "text": [
            "Skewness: 0.105457\n"
          ]
        },
        {
          "output_type": "execute_result",
          "data": {
            "text/plain": [
              "count    39644.000000\n",
              "mean         0.119309\n",
              "std          0.096931\n",
              "min         -0.393750\n",
              "25%          0.057757\n",
              "50%          0.119117\n",
              "75%          0.177832\n",
              "max          0.727841\n",
              "Name: global_sentiment_polarity, dtype: float64"
            ]
          },
          "metadata": {},
          "execution_count": 68
        },
        {
          "output_type": "display_data",
          "data": {
            "image/png": "[encoded data removed]",
            "text/plain": [
              "<Figure size 576x288 with 2 Axes>"
            ]
          },
          "metadata": {
            "needs_background": "light"
          }
        }
      ]
    },
    {
      "cell_type": "markdown",
      "metadata": {
        "id": "T7LK0g070K57"
      },
      "source": [
        "This variable is an analysis of \"public opinion\" as calculated from extracted and weighted text. It seems gaussian, and I would expect a high polarity to be strongly predictive of the number of shares. However, I might expect a more controvertial variable to be shared even more (think flame wars). If there is no variable that directly measures this controvetial score, we will create one."
      ]
    },
    {
      "cell_type": "markdown",
      "metadata": {
        "id": "npt452l4am4H"
      },
      "source": [
        "####global_rate_positive_words"
      ]
    },
    {
      "cell_type": "code",
      "metadata": {
        "colab": {
          "base_uri": "https://localhost:8080/",
          "height": 469
        },
        "id": "DZe5FGH7YTcM",
        "outputId": "4a2a7599-5d3a-4195-b6c0-0fbaf51b8d29"
      },
      "source": [
        "j= j+1\n",
        "i= df.iloc[:,j]\n",
        "plt.figure(figsize=(8,4))\n",
        "plt.subplot(1,2,1);#Histogram location\n",
        "sns.distplot(i);\n",
        "plt.title(df.columns[j]);\n",
        "plt.subplot(1,2,2);#Boxplot location\n",
        "sns.boxplot(i);\n",
        "plt.title(df.columns[j]);\n",
        "print(\"Skewness: %f\" %i.skew()) #Adds Skew value\n",
        "i.describe() #Adds summary statistics of the variable"
      ],
      "execution_count": null,
      "outputs": [
        {
          "output_type": "stream",
          "name": "stdout",
          "text": [
            "Skewness: 0.323047\n"
          ]
        },
        {
          "output_type": "execute_result",
          "data": {
            "text/plain": [
              "count    39644.000000\n",
              "mean         0.039625\n",
              "std          0.017429\n",
              "min          0.000000\n",
              "25%          0.028384\n",
              "50%          0.039023\n",
              "75%          0.050279\n",
              "max          0.155488\n",
              "Name: global_rate_positive_words, dtype: float64"
            ]
          },
          "metadata": {},
          "execution_count": 69
        },
        {
          "output_type": "display_data",
          "data": {
            "image/png": "[encoded data removed]",
            "text/plain": [
              "<Figure size 576x288 with 2 Axes>"
            ]
          },
          "metadata": {
            "needs_background": "light"
          }
        }
      ]
    },
    {
      "cell_type": "markdown",
      "metadata": {
        "id": "EJF2uD7TareP"
      },
      "source": [
        "####global_rate_negative_words"
      ]
    },
    {
      "cell_type": "code",
      "metadata": {
        "colab": {
          "base_uri": "https://localhost:8080/",
          "height": 469
        },
        "id": "18Bo_P-6YTZw",
        "outputId": "7a601406-95a3-4c44-981a-e01e8991797c"
      },
      "source": [
        "j= j+1\n",
        "i= df.iloc[:,j]\n",
        "plt.figure(figsize=(8,4))\n",
        "plt.subplot(1,2,1);#Histogram location\n",
        "sns.distplot(i);\n",
        "plt.title(df.columns[j]);\n",
        "plt.subplot(1,2,2);#Boxplot location\n",
        "sns.boxplot(i);\n",
        "plt.title(df.columns[j]);\n",
        "print(\"Skewness: %f\" %i.skew()) #Adds Skew value\n",
        "i.describe() #Adds summary statistics of the variable"
      ],
      "execution_count": null,
      "outputs": [
        {
          "output_type": "stream",
          "name": "stdout",
          "text": [
            "Skewness: 1.491917\n"
          ]
        },
        {
          "output_type": "execute_result",
          "data": {
            "text/plain": [
              "count    39644.000000\n",
              "mean         0.016612\n",
              "std          0.010828\n",
              "min          0.000000\n",
              "25%          0.009615\n",
              "50%          0.015337\n",
              "75%          0.021739\n",
              "max          0.184932\n",
              "Name: global_rate_negative_words, dtype: float64"
            ]
          },
          "metadata": {},
          "execution_count": 70
        },
        {
          "output_type": "display_data",
          "data": {
            "image/png": "[encoded data removed]",
            "text/plain": [
              "<Figure size 576x288 with 2 Axes>"
            ]
          },
          "metadata": {
            "needs_background": "light"
          }
        }
      ]
    },
    {
      "cell_type": "markdown",
      "metadata": {
        "id": "u-S-m5CSav_6"
      },
      "source": [
        "####rate_positive_words"
      ]
    },
    {
      "cell_type": "code",
      "metadata": {
        "colab": {
          "base_uri": "https://localhost:8080/",
          "height": 469
        },
        "id": "ywdfU79aYTTO",
        "outputId": "4c204afc-c7bb-45b4-b85d-89652fd2ee00"
      },
      "source": [
        "j= j+1\n",
        "i= df.iloc[:,j]\n",
        "plt.figure(figsize=(8,4))\n",
        "plt.subplot(1,2,1);#Histogram location\n",
        "sns.distplot(i);\n",
        "plt.title(df.columns[j]);\n",
        "plt.subplot(1,2,2);#Boxplot location\n",
        "sns.boxplot(i);\n",
        "plt.title(df.columns[j]);\n",
        "print(\"Skewness: %f\" %i.skew()) #Adds Skew value\n",
        "i.describe() #Adds summary statistics of the variable"
      ],
      "execution_count": null,
      "outputs": [
        {
          "output_type": "stream",
          "name": "stdout",
          "text": [
            "Skewness: -1.423106\n"
          ]
        },
        {
          "output_type": "execute_result",
          "data": {
            "text/plain": [
              "count    39644.000000\n",
              "mean         0.682150\n",
              "std          0.190206\n",
              "min          0.000000\n",
              "25%          0.600000\n",
              "50%          0.710526\n",
              "75%          0.800000\n",
              "max          1.000000\n",
              "Name: rate_positive_words, dtype: float64"
            ]
          },
          "metadata": {},
          "execution_count": 71
        },
        {
          "output_type": "display_data",
          "data": {
            "image/png": "[encoded data removed]",
            "text/plain": [
              "<Figure size 576x288 with 2 Axes>"
            ]
          },
          "metadata": {
            "needs_background": "light"
          }
        }
      ]
    },
    {
      "cell_type": "markdown",
      "metadata": {
        "id": "J0xF_mQGazs4"
      },
      "source": [
        "####rate_negative_words"
      ]
    },
    {
      "cell_type": "code",
      "metadata": {
        "colab": {
          "base_uri": "https://localhost:8080/",
          "height": 469
        },
        "id": "C7GYo8OtYTQd",
        "outputId": "80f0c263-f00a-4f40-fc94-bcb705b39bb6"
      },
      "source": [
        "j= j+1\n",
        "i= df.iloc[:,j]\n",
        "plt.figure(figsize=(8,4))\n",
        "plt.subplot(1,2,1);#Histogram location\n",
        "sns.distplot(i);\n",
        "plt.title(df.columns[j]);\n",
        "plt.subplot(1,2,2);#Boxplot location\n",
        "sns.boxplot(i);\n",
        "plt.title(df.columns[j]);\n",
        "print(\"Skewness: %f\" %i.skew()) #Adds Skew value\n",
        "i.describe() #Adds summary statistics of the variable"
      ],
      "execution_count": null,
      "outputs": [
        {
          "output_type": "stream",
          "name": "stdout",
          "text": [
            "Skewness: 0.407241\n"
          ]
        },
        {
          "output_type": "execute_result",
          "data": {
            "text/plain": [
              "count    39644.000000\n",
              "mean         0.287934\n",
              "std          0.156156\n",
              "min          0.000000\n",
              "25%          0.185185\n",
              "50%          0.280000\n",
              "75%          0.384615\n",
              "max          1.000000\n",
              "Name: rate_negative_words, dtype: float64"
            ]
          },
          "metadata": {},
          "execution_count": 72
        },
        {
          "output_type": "display_data",
          "data": {
            "image/png": "[encoded data removed]",
            "text/plain": [
              "<Figure size 576x288 with 2 Axes>"
            ]
          },
          "metadata": {
            "needs_background": "light"
          }
        }
      ]
    },
    {
      "cell_type": "markdown",
      "metadata": {
        "id": "-ssl5r32a1dG"
      },
      "source": [
        "####avg_positive_polarity"
      ]
    },
    {
      "cell_type": "code",
      "metadata": {
        "colab": {
          "base_uri": "https://localhost:8080/",
          "height": 469
        },
        "id": "zO4e3BzDYTMA",
        "outputId": "d1256946-6910-419e-c069-2a2046b2d9de"
      },
      "source": [
        "j= j+1\n",
        "i= df.iloc[:,j]\n",
        "plt.figure(figsize=(8,4))\n",
        "plt.subplot(1,2,1);#Histogram location\n",
        "sns.distplot(i);\n",
        "plt.title(df.columns[j]);\n",
        "plt.subplot(1,2,2);#Boxplot location\n",
        "sns.boxplot(i);\n",
        "plt.title(df.columns[j]);\n",
        "print(\"Skewness: %f\" %i.skew()) #Adds Skew value\n",
        "i.describe() #Adds summary statistics of the variable"
      ],
      "execution_count": null,
      "outputs": [
        {
          "output_type": "stream",
          "name": "stdout",
          "text": [
            "Skewness: -0.724795\n"
          ]
        },
        {
          "output_type": "execute_result",
          "data": {
            "text/plain": [
              "count    39644.000000\n",
              "mean         0.353825\n",
              "std          0.104542\n",
              "min          0.000000\n",
              "25%          0.306244\n",
              "50%          0.358755\n",
              "75%          0.411428\n",
              "max          1.000000\n",
              "Name: avg_positive_polarity, dtype: float64"
            ]
          },
          "metadata": {},
          "execution_count": 73
        },
        {
          "output_type": "display_data",
          "data": {
            "image/png": "[encoded data removed]",
            "text/plain": [
              "<Figure size 576x288 with 2 Axes>"
            ]
          },
          "metadata": {
            "needs_background": "light"
          }
        }
      ]
    },
    {
      "cell_type": "markdown",
      "metadata": {
        "id": "r3EwHzzPa4tt"
      },
      "source": [
        "####min_positive_polarity"
      ]
    },
    {
      "cell_type": "code",
      "metadata": {
        "colab": {
          "base_uri": "https://localhost:8080/",
          "height": 469
        },
        "id": "rcpSnUpSYTH_",
        "outputId": "a46e02fe-3c92-46ab-fa68-c9c188639498"
      },
      "source": [
        "j= j+1\n",
        "i= df.iloc[:,j]\n",
        "plt.figure(figsize=(8,4))\n",
        "plt.subplot(1,2,1);#Histogram location\n",
        "sns.distplot(i);\n",
        "plt.title(df.columns[j]);\n",
        "plt.subplot(1,2,2);#Boxplot location\n",
        "sns.boxplot(i);\n",
        "plt.title(df.columns[j]);\n",
        "print(\"Skewness: %f\" %i.skew()) #Adds Skew value\n",
        "i.describe() #Adds summary statistics of the variable"
      ],
      "execution_count": null,
      "outputs": [
        {
          "output_type": "stream",
          "name": "stdout",
          "text": [
            "Skewness: 3.040468\n"
          ]
        },
        {
          "output_type": "execute_result",
          "data": {
            "text/plain": [
              "count    39644.000000\n",
              "mean         0.095446\n",
              "std          0.071315\n",
              "min          0.000000\n",
              "25%          0.050000\n",
              "50%          0.100000\n",
              "75%          0.100000\n",
              "max          1.000000\n",
              "Name: min_positive_polarity, dtype: float64"
            ]
          },
          "metadata": {},
          "execution_count": 74
        },
        {
          "output_type": "display_data",
          "data": {
            "image/png": "[encoded data removed]",
            "text/plain": [
              "<Figure size 576x288 with 2 Axes>"
            ]
          },
          "metadata": {
            "needs_background": "light"
          }
        }
      ]
    },
    {
      "cell_type": "markdown",
      "metadata": {
        "id": "v9dHxFKEa7PM"
      },
      "source": [
        "####max_positive_polarity"
      ]
    },
    {
      "cell_type": "code",
      "metadata": {
        "colab": {
          "base_uri": "https://localhost:8080/",
          "height": 469
        },
        "id": "U18DJftIYTBG",
        "outputId": "281c9a30-7d4a-451f-d552-29044bbecb1a"
      },
      "source": [
        "j= j+1\n",
        "i= df.iloc[:,j]\n",
        "plt.figure(figsize=(8,4))\n",
        "plt.subplot(1,2,1);#Histogram location\n",
        "sns.distplot(i);\n",
        "plt.title(df.columns[j]);\n",
        "plt.subplot(1,2,2);#Boxplot location\n",
        "sns.boxplot(i);\n",
        "plt.title(df.columns[j]);\n",
        "print(\"Skewness: %f\" %i.skew()) #Adds Skew value\n",
        "i.describe() #Adds summary statistics of the variable"
      ],
      "execution_count": null,
      "outputs": [
        {
          "output_type": "stream",
          "name": "stdout",
          "text": [
            "Skewness: -0.939756\n"
          ]
        },
        {
          "output_type": "execute_result",
          "data": {
            "text/plain": [
              "count    39644.000000\n",
              "mean         0.756728\n",
              "std          0.247786\n",
              "min          0.000000\n",
              "25%          0.600000\n",
              "50%          0.800000\n",
              "75%          1.000000\n",
              "max          1.000000\n",
              "Name: max_positive_polarity, dtype: float64"
            ]
          },
          "metadata": {},
          "execution_count": 75
        },
        {
          "output_type": "display_data",
          "data": {
            "image/png": "[encoded data removed]",
            "text/plain": [
              "<Figure size 576x288 with 2 Axes>"
            ]
          },
          "metadata": {
            "needs_background": "light"
          }
        }
      ]
    },
    {
      "cell_type": "markdown",
      "metadata": {
        "id": "bjQYc6hxa-hI"
      },
      "source": [
        "####avg_negative_polarity"
      ]
    },
    {
      "cell_type": "code",
      "metadata": {
        "colab": {
          "base_uri": "https://localhost:8080/",
          "height": 469
        },
        "id": "U95dyYkTYS6v",
        "outputId": "733ed449-b95d-4b67-9353-b9d2388ce0d5"
      },
      "source": [
        "j= j+1\n",
        "i= df.iloc[:,j]\n",
        "plt.figure(figsize=(8,4))\n",
        "plt.subplot(1,2,1);#Histogram location\n",
        "sns.distplot(i);\n",
        "plt.title(df.columns[j]);\n",
        "plt.subplot(1,2,2);#Boxplot location\n",
        "sns.boxplot(i);\n",
        "plt.title(df.columns[j]);\n",
        "print(\"Skewness: %f\" %i.skew()) #Adds Skew value\n",
        "i.describe() #Adds summary statistics of the variable"
      ],
      "execution_count": null,
      "outputs": [
        {
          "output_type": "stream",
          "name": "stdout",
          "text": [
            "Skewness: -0.551644\n"
          ]
        },
        {
          "output_type": "execute_result",
          "data": {
            "text/plain": [
              "count    39644.000000\n",
              "mean        -0.259524\n",
              "std          0.127726\n",
              "min         -1.000000\n",
              "25%         -0.328383\n",
              "50%         -0.253333\n",
              "75%         -0.186905\n",
              "max          0.000000\n",
              "Name: avg_negative_polarity, dtype: float64"
            ]
          },
          "metadata": {},
          "execution_count": 76
        },
        {
          "output_type": "display_data",
          "data": {
            "image/png": "[encoded data removed]",
            "text/plain": [
              "<Figure size 576x288 with 2 Axes>"
            ]
          },
          "metadata": {
            "needs_background": "light"
          }
        }
      ]
    },
    {
      "cell_type": "markdown",
      "metadata": {
        "id": "SDkeifiGbBV-"
      },
      "source": [
        "####min_negative_polarity"
      ]
    },
    {
      "cell_type": "code",
      "metadata": {
        "colab": {
          "base_uri": "https://localhost:8080/",
          "height": 469
        },
        "id": "xp49-w64YS2v",
        "outputId": "e6d3ee09-9dbe-41c0-cf27-1f2756815704"
      },
      "source": [
        "j= j+1\n",
        "i= df.iloc[:,j]\n",
        "plt.figure(figsize=(8,4))\n",
        "plt.subplot(1,2,1);#Histogram location\n",
        "sns.distplot(i);\n",
        "plt.title(df.columns[j]);\n",
        "plt.subplot(1,2,2);#Boxplot location\n",
        "sns.boxplot(i);\n",
        "plt.title(df.columns[j]);\n",
        "print(\"Skewness: %f\" %i.skew()) #Adds Skew value\n",
        "i.describe() #Adds summary statistics of the variable"
      ],
      "execution_count": null,
      "outputs": [
        {
          "output_type": "stream",
          "name": "stdout",
          "text": [
            "Skewness: -0.073155\n"
          ]
        },
        {
          "output_type": "execute_result",
          "data": {
            "text/plain": [
              "count    39644.000000\n",
              "mean        -0.521944\n",
              "std          0.290290\n",
              "min         -1.000000\n",
              "25%         -0.700000\n",
              "50%         -0.500000\n",
              "75%         -0.300000\n",
              "max          0.000000\n",
              "Name: min_negative_polarity, dtype: float64"
            ]
          },
          "metadata": {},
          "execution_count": 77
        },
        {
          "output_type": "display_data",
          "data": {
            "image/png": "[encoded data removed]",
            "text/plain": [
              "<Figure size 576x288 with 2 Axes>"
            ]
          },
          "metadata": {
            "needs_background": "light"
          }
        }
      ]
    },
    {
      "cell_type": "markdown",
      "metadata": {
        "id": "2R7A43nQbEQi"
      },
      "source": [
        "####max_negative_polarity"
      ]
    },
    {
      "cell_type": "code",
      "metadata": {
        "colab": {
          "base_uri": "https://localhost:8080/",
          "height": 469
        },
        "id": "VJC6OAj1YSys",
        "outputId": "6d62ab8e-64fc-4274-8c15-95d571b8a79b"
      },
      "source": [
        "j= j+1\n",
        "i= df.iloc[:,j]\n",
        "plt.figure(figsize=(8,4))\n",
        "plt.subplot(1,2,1);#Histogram location\n",
        "sns.distplot(i);\n",
        "plt.title(df.columns[j]);\n",
        "plt.subplot(1,2,2);#Boxplot location\n",
        "sns.boxplot(i);\n",
        "plt.title(df.columns[j]);\n",
        "print(\"Skewness: %f\" %i.skew()) #Adds Skew value\n",
        "i.describe() #Adds summary statistics of the variable"
      ],
      "execution_count": null,
      "outputs": [
        {
          "output_type": "stream",
          "name": "stdout",
          "text": [
            "Skewness: -3.459747\n"
          ]
        },
        {
          "output_type": "execute_result",
          "data": {
            "text/plain": [
              "count    39644.000000\n",
              "mean        -0.107500\n",
              "std          0.095373\n",
              "min         -1.000000\n",
              "25%         -0.125000\n",
              "50%         -0.100000\n",
              "75%         -0.050000\n",
              "max          0.000000\n",
              "Name: max_negative_polarity, dtype: float64"
            ]
          },
          "metadata": {},
          "execution_count": 78
        },
        {
          "output_type": "display_data",
          "data": {
            "image/png": "[encoded data removed]",
            "text/plain": [
              "<Figure size 576x288 with 2 Axes>"
            ]
          },
          "metadata": {
            "needs_background": "light"
          }
        }
      ]
    },
    {
      "cell_type": "markdown",
      "metadata": {
        "id": "xfOwbl8ebJWZ"
      },
      "source": [
        "####title_subjectivity"
      ]
    },
    {
      "cell_type": "code",
      "metadata": {
        "colab": {
          "base_uri": "https://localhost:8080/",
          "height": 469
        },
        "id": "h08DE7dAYSvd",
        "outputId": "3b509cab-c877-48a4-e2eb-3c1a5ddc18e6"
      },
      "source": [
        "j= j+1\n",
        "i= df.iloc[:,j]\n",
        "plt.figure(figsize=(8,4))\n",
        "plt.subplot(1,2,1);#Histogram location\n",
        "sns.distplot(i);\n",
        "plt.title(df.columns[j]);\n",
        "plt.subplot(1,2,2);#Boxplot location\n",
        "sns.boxplot(i);\n",
        "plt.title(df.columns[j]);\n",
        "print(\"Skewness: %f\" %i.skew()) #Adds Skew value\n",
        "i.describe() #Adds summary statistics of the variable"
      ],
      "execution_count": null,
      "outputs": [
        {
          "output_type": "stream",
          "name": "stdout",
          "text": [
            "Skewness: 0.816085\n"
          ]
        },
        {
          "output_type": "execute_result",
          "data": {
            "text/plain": [
              "count    39644.000000\n",
              "mean         0.282353\n",
              "std          0.324247\n",
              "min          0.000000\n",
              "25%          0.000000\n",
              "50%          0.150000\n",
              "75%          0.500000\n",
              "max          1.000000\n",
              "Name: title_subjectivity, dtype: float64"
            ]
          },
          "metadata": {},
          "execution_count": 79
        },
        {
          "output_type": "display_data",
          "data": {
            "image/png": "[encoded data removed]",
            "text/plain": [
              "<Figure size 576x288 with 2 Axes>"
            ]
          },
          "metadata": {
            "needs_background": "light"
          }
        }
      ]
    },
    {
      "cell_type": "markdown",
      "metadata": {
        "id": "iX_sBvVKbMML"
      },
      "source": [
        "####title_sentiment_polarity"
      ]
    },
    {
      "cell_type": "code",
      "metadata": {
        "colab": {
          "base_uri": "https://localhost:8080/",
          "height": 469
        },
        "id": "BVQykDyBYSoo",
        "outputId": "de2bfda6-7d82-45fc-dd68-02ceccbdb58e"
      },
      "source": [
        "j= j+1\n",
        "i= df.iloc[:,j]\n",
        "plt.figure(figsize=(8,4))\n",
        "plt.subplot(1,2,1);#Histogram location\n",
        "sns.distplot(i);\n",
        "plt.title(df.columns[j]);\n",
        "plt.subplot(1,2,2);#Boxplot location\n",
        "sns.boxplot(i);\n",
        "plt.title(df.columns[j]);\n",
        "print(\"Skewness: %f\" %i.skew()) #Adds Skew value\n",
        "i.describe() #Adds summary statistics of the variable"
      ],
      "execution_count": null,
      "outputs": [
        {
          "output_type": "stream",
          "name": "stdout",
          "text": [
            "Skewness: 0.396109\n"
          ]
        },
        {
          "output_type": "execute_result",
          "data": {
            "text/plain": [
              "count    39644.000000\n",
              "mean         0.071425\n",
              "std          0.265450\n",
              "min         -1.000000\n",
              "25%          0.000000\n",
              "50%          0.000000\n",
              "75%          0.150000\n",
              "max          1.000000\n",
              "Name: title_sentiment_polarity, dtype: float64"
            ]
          },
          "metadata": {},
          "execution_count": 80
        },
        {
          "output_type": "display_data",
          "data": {
            "image/png": "[encoded data removed]",
            "text/plain": [
              "<Figure size 576x288 with 2 Axes>"
            ]
          },
          "metadata": {
            "needs_background": "light"
          }
        }
      ]
    },
    {
      "cell_type": "markdown",
      "metadata": {
        "id": "2FnO3CpIbSBc"
      },
      "source": [
        "####abs_title_subjectivity"
      ]
    },
    {
      "cell_type": "code",
      "metadata": {
        "colab": {
          "base_uri": "https://localhost:8080/",
          "height": 469
        },
        "id": "g4DsnCNEYSjm",
        "outputId": "d4177adb-10a1-4b06-8267-649c18439762"
      },
      "source": [
        "j= j+1\n",
        "i= df.iloc[:,j]\n",
        "plt.figure(figsize=(8,4))\n",
        "plt.subplot(1,2,1);#Histogram location\n",
        "sns.distplot(i);\n",
        "plt.title(df.columns[j]);\n",
        "plt.subplot(1,2,2);#Boxplot location\n",
        "sns.boxplot(i);\n",
        "plt.title(df.columns[j]);\n",
        "print(\"Skewness: %f\" %i.skew()) #Adds Skew value\n",
        "i.describe() #Adds summary statistics of the variable"
      ],
      "execution_count": null,
      "outputs": [
        {
          "output_type": "stream",
          "name": "stdout",
          "text": [
            "Skewness: -0.624149\n"
          ]
        },
        {
          "output_type": "execute_result",
          "data": {
            "text/plain": [
              "count    39644.000000\n",
              "mean         0.341843\n",
              "std          0.188791\n",
              "min          0.000000\n",
              "25%          0.166667\n",
              "50%          0.500000\n",
              "75%          0.500000\n",
              "max          0.500000\n",
              "Name: abs_title_subjectivity, dtype: float64"
            ]
          },
          "metadata": {},
          "execution_count": 81
        },
        {
          "output_type": "display_data",
          "data": {
            "image/png": "[encoded data removed]",
            "text/plain": [
              "<Figure size 576x288 with 2 Axes>"
            ]
          },
          "metadata": {
            "needs_background": "light"
          }
        }
      ]
    },
    {
      "cell_type": "markdown",
      "metadata": {
        "id": "0ygeXbmYbVVe"
      },
      "source": [
        "####abs_title_sentiment_polarity"
      ]
    },
    {
      "cell_type": "code",
      "metadata": {
        "colab": {
          "base_uri": "https://localhost:8080/",
          "height": 469
        },
        "id": "PjPlQM_jYSgD",
        "outputId": "68f3223e-e872-4172-d483-f538ffe3b87c"
      },
      "source": [
        "j= j+1\n",
        "i= df.iloc[:,j]\n",
        "plt.figure(figsize=(8,4))\n",
        "plt.subplot(1,2,1);#Histogram location\n",
        "sns.distplot(i);\n",
        "plt.title(df.columns[j]);\n",
        "plt.subplot(1,2,2);#Boxplot location\n",
        "sns.boxplot(i);\n",
        "plt.title(df.columns[j]);\n",
        "print(\"Skewness: %f\" %i.skew()) #Adds Skew value\n",
        "i.describe() #Adds summary statistics of the variable"
      ],
      "execution_count": null,
      "outputs": [
        {
          "output_type": "stream",
          "name": "stdout",
          "text": [
            "Skewness: 1.704193\n"
          ]
        },
        {
          "output_type": "execute_result",
          "data": {
            "text/plain": [
              "count    39644.000000\n",
              "mean         0.156064\n",
              "std          0.226294\n",
              "min          0.000000\n",
              "25%          0.000000\n",
              "50%          0.000000\n",
              "75%          0.250000\n",
              "max          1.000000\n",
              "Name: abs_title_sentiment_polarity, dtype: float64"
            ]
          },
          "metadata": {},
          "execution_count": 82
        },
        {
          "output_type": "display_data",
          "data": {
            "image/png": "[encoded data removed]",
            "text/plain": [
              "<Figure size 576x288 with 2 Axes>"
            ]
          },
          "metadata": {
            "needs_background": "light"
          }
        }
      ]
    },
    {
      "cell_type": "markdown",
      "metadata": {
        "id": "H50mj40Jcjqd"
      },
      "source": [
        "###Summary Notes:\n",
        "\n",
        "todo list for nextsteps\n",
        "1. Drop url and timedelta columns\n",
        "2. Drop row 31037 which contains an extreme outlier\n",
        "3. Standardize\n",
        "> *  n_tokens_content\n",
        "> * num_hrefs\n",
        "> * num_self_hrefs\n",
        "> * num_imgs\n",
        "> * num_videos\n",
        "4. Normalize\n",
        "> * num_hrefs\n",
        "> * num_self_hrefs\n",
        "> * num_imgs\n",
        "> * num_videos\n",
        "\n",
        "\n",
        "\n",
        "\n",
        "Jacob eda reviews\n",
        "\n",
        "\n"
      ]
    },
    {
      "cell_type": "markdown",
      "metadata": {
        "id": "Bb4c37zB0i8m"
      },
      "source": [
        "##Feature Selection & Dimensionality Reduction\n",
        "Replace original correlated features with orthogonal (uncorrelated) data. Never apply SVD or PCA to qualitative data (categorical).\n",
        "\n",
        "Use PCA on large numercal feature sets. use other feature selection tools on small numbers of variables, becaus ePCA is computationaly expensive.\n",
        "\n",
        "I should do this first on full (not categorical) dataset.\n",
        "\n",
        "Can use Variance threshold [not correlation] forward/backward and VIF on categorical values"
      ]
    },
    {
      "cell_type": "markdown",
      "metadata": {
        "id": "GFV8iwRA0iUF"
      },
      "source": [
        ""
      ]
    },
    {
      "cell_type": "code",
      "metadata": {
        "id": "oSQND5Mg_yrX"
      },
      "source": [
        ""
      ],
      "execution_count": null,
      "outputs": []
    },
    {
      "cell_type": "markdown",
      "metadata": {
        "id": "on7ZvMxw-LPX"
      },
      "source": [
        "## Train/Cross Validate Regression Model\n",
        "\n",
        "\n"
      ]
    }
  ]
}
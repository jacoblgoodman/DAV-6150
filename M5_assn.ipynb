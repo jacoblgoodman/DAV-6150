{
  "nbformat": 4,
  "nbformat_minor": 0,
  "metadata": {
    "colab": {
      "name": "M5_assn.ipynb",
      "provenance": [],
      "collapsed_sections": [],
      "toc_visible": true,
      "include_colab_link": true
    },
    "kernelspec": {
      "name": "python3",
      "display_name": "Python 3"
    },
    "language_info": {
      "name": "python"
    }
  },
  "cells": [
    {
      "cell_type": "markdown",
      "metadata": {
        "id": "view-in-github",
        "colab_type": "text"
      },
      "source": [
        "<a href=\"https://colab.research.google.com/github/yuleidner/DAV-6150/blob/main/M5_assn.ipynb\" target=\"_parent\"><img src=\"https://colab.research.google.com/assets/colab-badge.svg\" alt=\"Open In Colab\"/></a>"
      ]
    },
    {
      "cell_type": "markdown",
      "metadata": {
        "id": "hkcz4TD9RSou"
      },
      "source": [
        "# Data Science: Module 5\n",
        "## Practical Challenge: Classification Model Performance Metrics\n",
        "### Jacob Goodman & Alan Leidner\n",
        "#### Oct 17, 2021\n",
        "Assignment: https://yu.instructure.com/courses/50398/assignments/191953"
      ]
    },
    {
      "cell_type": "markdown",
      "metadata": {
        "id": "FTF0uZIESpS0"
      },
      "source": [
        "## Introduction\n",
        "\n",
        "The data set we are using for this work is comprised of  181 labeled binary observations (i.e., the classification is binary in nature). A classification model has been used to “predict” the classifications for each observation, and its algorithm works by estimating the probability that the correct classification for each observation is a ‘1’. The data set includes three attributes that we will make use of in our analysis:\n",
        "\n",
        "1. class: the actual classification for the observation\n",
        "\n",
        "2. scored.class: the predicted classification for the observation (can only be ‘0’ or ‘1’; identified by comparing the classification model’s probability score (i.e., the likelihood that the correct classification for an observation is a ‘1’) for the observation against a 0.50 threshold))\n",
        "\n",
        "3. scored.probability: the classification model’s probability score (i.e., the likelihood that the correct classification for an observation is a ‘1’) for the observation\n",
        "\n",
        "We will then create a custom class to measure the model's predictions in a number of ways including;\n",
        "* Accuracy: the proportion of the total number of predictions that were correct\n",
        "* Precision: the proportion of true positive cases that were correctly predicted\n",
        "* Recall (or Sensitivity): the proportion of positive cases which were supposed to be returned\n",
        "* Specificity: the proportion of actual negative cases which are correctly identified      \n",
        "* F1 Score: a single measure that combines precision and recall (higher is better)\n",
        "\n",
        "We will compare our results with the functions provided by sklearn.\n",
        "\n",
        "We will then create a custom funtion to create a custom ROC curve and AUC score, and then compare them to the built-in sklearn functions.\n",
        "\n"
      ]
    },
    {
      "cell_type": "markdown",
      "metadata": {
        "id": "5ZvLdc-3Srui"
      },
      "source": [
        "## Import Dependencies"
      ]
    },
    {
      "cell_type": "code",
      "metadata": {
        "id": "wbxZwkF2S6da"
      },
      "source": [
        "#import packages for data frames \n",
        "import numpy as np\n",
        "import pandas as pd\n",
        "\n",
        "#import functions to assess confusion matrix\n",
        "from sklearn.metrics import confusion_matrix\n",
        "from sklearn.metrics import accuracy_score\n",
        "from sklearn.metrics import precision_score\n",
        "from sklearn.metrics import recall_score\n",
        "from sklearn.metrics import f1_score\n",
        "from sklearn.metrics import classification_report\n",
        "\n",
        "#import for roc visualizations and auc calculations\n",
        "import matplotlib.pyplot as plt \n",
        "import seaborn as sns\n",
        "from sklearn.metrics import roc_curve\n",
        "from sklearn.metrics import plot_roc_curve\n",
        "from sklearn.metrics import auc"
      ],
      "execution_count": 1,
      "outputs": []
    },
    {
      "cell_type": "markdown",
      "metadata": {
        "id": "infhLhFqSweD"
      },
      "source": [
        "## Load Data"
      ]
    },
    {
      "cell_type": "code",
      "metadata": {
        "colab": {
          "base_uri": "https://localhost:8080/",
          "height": 202
        },
        "id": "y43SznJLRQgm",
        "outputId": "044e4c99-f1de-48ee-904a-7cf46052d6ad"
      },
      "source": [
        "# read a set of sample data from github. It contains information related to cars and insurance\n",
        "filename = \"https://raw.githubusercontent.com/yuleidner/DAV-6150/main/M5/M5_Data.csv\"\n",
        "df = pd.read_csv(filename)\n",
        "pd.set_option('display.max_columns', None) #expands df to display all columns\n",
        "df.head()"
      ],
      "execution_count": 2,
      "outputs": [
        {
          "output_type": "execute_result",
          "data": {
            "text/html": [
              "<div>\n",
              "<style scoped>\n",
              "    .dataframe tbody tr th:only-of-type {\n",
              "        vertical-align: middle;\n",
              "    }\n",
              "\n",
              "    .dataframe tbody tr th {\n",
              "        vertical-align: top;\n",
              "    }\n",
              "\n",
              "    .dataframe thead th {\n",
              "        text-align: right;\n",
              "    }\n",
              "</style>\n",
              "<table border=\"1\" class=\"dataframe\">\n",
              "  <thead>\n",
              "    <tr style=\"text-align: right;\">\n",
              "      <th></th>\n",
              "      <th>pregnant</th>\n",
              "      <th>glucose</th>\n",
              "      <th>diastolic</th>\n",
              "      <th>skinfold</th>\n",
              "      <th>insulin</th>\n",
              "      <th>bmi</th>\n",
              "      <th>pedigree</th>\n",
              "      <th>age</th>\n",
              "      <th>class</th>\n",
              "      <th>scored.class</th>\n",
              "      <th>scored.probability</th>\n",
              "    </tr>\n",
              "  </thead>\n",
              "  <tbody>\n",
              "    <tr>\n",
              "      <th>0</th>\n",
              "      <td>7</td>\n",
              "      <td>124</td>\n",
              "      <td>70</td>\n",
              "      <td>33</td>\n",
              "      <td>215</td>\n",
              "      <td>25.5</td>\n",
              "      <td>0.161</td>\n",
              "      <td>37</td>\n",
              "      <td>0</td>\n",
              "      <td>0</td>\n",
              "      <td>0.328452</td>\n",
              "    </tr>\n",
              "    <tr>\n",
              "      <th>1</th>\n",
              "      <td>2</td>\n",
              "      <td>122</td>\n",
              "      <td>76</td>\n",
              "      <td>27</td>\n",
              "      <td>200</td>\n",
              "      <td>35.9</td>\n",
              "      <td>0.483</td>\n",
              "      <td>26</td>\n",
              "      <td>0</td>\n",
              "      <td>0</td>\n",
              "      <td>0.273190</td>\n",
              "    </tr>\n",
              "    <tr>\n",
              "      <th>2</th>\n",
              "      <td>3</td>\n",
              "      <td>107</td>\n",
              "      <td>62</td>\n",
              "      <td>13</td>\n",
              "      <td>48</td>\n",
              "      <td>22.9</td>\n",
              "      <td>0.678</td>\n",
              "      <td>23</td>\n",
              "      <td>1</td>\n",
              "      <td>0</td>\n",
              "      <td>0.109660</td>\n",
              "    </tr>\n",
              "    <tr>\n",
              "      <th>3</th>\n",
              "      <td>1</td>\n",
              "      <td>91</td>\n",
              "      <td>64</td>\n",
              "      <td>24</td>\n",
              "      <td>0</td>\n",
              "      <td>29.2</td>\n",
              "      <td>0.192</td>\n",
              "      <td>21</td>\n",
              "      <td>0</td>\n",
              "      <td>0</td>\n",
              "      <td>0.055998</td>\n",
              "    </tr>\n",
              "    <tr>\n",
              "      <th>4</th>\n",
              "      <td>4</td>\n",
              "      <td>83</td>\n",
              "      <td>86</td>\n",
              "      <td>19</td>\n",
              "      <td>0</td>\n",
              "      <td>29.3</td>\n",
              "      <td>0.317</td>\n",
              "      <td>34</td>\n",
              "      <td>0</td>\n",
              "      <td>0</td>\n",
              "      <td>0.100491</td>\n",
              "    </tr>\n",
              "  </tbody>\n",
              "</table>\n",
              "</div>"
            ],
            "text/plain": [
              "   pregnant  glucose  diastolic  skinfold  insulin   bmi  pedigree  age  \\\n",
              "0         7      124         70        33      215  25.5     0.161   37   \n",
              "1         2      122         76        27      200  35.9     0.483   26   \n",
              "2         3      107         62        13       48  22.9     0.678   23   \n",
              "3         1       91         64        24        0  29.2     0.192   21   \n",
              "4         4       83         86        19        0  29.3     0.317   34   \n",
              "\n",
              "   class  scored.class  scored.probability  \n",
              "0      0             0            0.328452  \n",
              "1      0             0            0.273190  \n",
              "2      1             0            0.109660  \n",
              "3      0             0            0.055998  \n",
              "4      0             0            0.100491  "
            ]
          },
          "metadata": {},
          "execution_count": 2
        }
      ]
    },
    {
      "cell_type": "markdown",
      "metadata": {
        "id": "3k6C9VHA05y5"
      },
      "source": [
        "## Creating Cross Tab\n",
        "\n",
        "1. We will now construct a coefficient matrix utilizing the crosstab() method for use as a input in our functions. For a prettier output we will convert our input data to Boolean format and name our column and index to help users understand what they represent.\n",
        "\n",
        "2. We will also save our y_pred, y_true and scored.probability columns in its own variables for use later in the assignement.\n"
      ]
    },
    {
      "cell_type": "code",
      "metadata": {
        "colab": {
          "base_uri": "https://localhost:8080/",
          "height": 141
        },
        "id": "cheboRNLKyjT",
        "outputId": "335f0a9d-0528-4cd0-f1e6-3681c2cbba7f"
      },
      "source": [
        "#1.creating crosstab\n",
        "df_crosstab = pd.crosstab(df['class'].astype('bool'), df['scored.class'].astype('bool'),\n",
        "                          rownames=['predicted_diabetic'], \n",
        "                          colnames=['true_diabetic'])\n",
        "\n",
        "#2. storing variables\n",
        "scored_probablity = df['scored.probability']\n",
        "y_pred = df['scored.class']\n",
        "y_true = df['class']\n",
        "\n",
        "# sainty check the crosstab\n",
        "df_crosstab"
      ],
      "execution_count": 3,
      "outputs": [
        {
          "output_type": "execute_result",
          "data": {
            "text/html": [
              "<div>\n",
              "<style scoped>\n",
              "    .dataframe tbody tr th:only-of-type {\n",
              "        vertical-align: middle;\n",
              "    }\n",
              "\n",
              "    .dataframe tbody tr th {\n",
              "        vertical-align: top;\n",
              "    }\n",
              "\n",
              "    .dataframe thead th {\n",
              "        text-align: right;\n",
              "    }\n",
              "</style>\n",
              "<table border=\"1\" class=\"dataframe\">\n",
              "  <thead>\n",
              "    <tr style=\"text-align: right;\">\n",
              "      <th>true_diabetic</th>\n",
              "      <th>False</th>\n",
              "      <th>True</th>\n",
              "    </tr>\n",
              "    <tr>\n",
              "      <th>predicted_diabetic</th>\n",
              "      <th></th>\n",
              "      <th></th>\n",
              "    </tr>\n",
              "  </thead>\n",
              "  <tbody>\n",
              "    <tr>\n",
              "      <th>False</th>\n",
              "      <td>119</td>\n",
              "      <td>5</td>\n",
              "    </tr>\n",
              "    <tr>\n",
              "      <th>True</th>\n",
              "      <td>30</td>\n",
              "      <td>27</td>\n",
              "    </tr>\n",
              "  </tbody>\n",
              "</table>\n",
              "</div>"
            ],
            "text/plain": [
              "true_diabetic       False  True \n",
              "predicted_diabetic              \n",
              "False                 119      5\n",
              "True                   30     27"
            ]
          },
          "metadata": {},
          "execution_count": 3
        }
      ]
    },
    {
      "cell_type": "markdown",
      "metadata": {
        "id": "lj1iZJOmEfm-"
      },
      "source": [
        "Our custom coefficient matrix confused us initially: the True/False values in the columns and rows were in the reverse order of classic coefficient matrixes. Be aware the true positives in this matrix are in the bottom right quadrant, false negatives in the top left etc."
      ]
    },
    {
      "cell_type": "markdown",
      "metadata": {
        "id": "agLYTTIbT3Fy"
      },
      "source": [
        "## Create Custom Coefficient Class\n",
        "\n",
        "We will now construct a class that will do the following. \n",
        "1. Store the seperate parts of the confusion matrix\n",
        "2. Provide methods to calculate model statistics\n",
        "\n",
        "> **Input:**\n",
        "\n",
        "* This class should take as input a confusion matrix\n",
        "* Matrix column and row names are expected to be either True/False or 1/0 \n",
        "\n",
        "> **0n Initialization:**\n",
        "\n",
        "* Split confusion matrix into consituent peices\n",
        "  * true positives\n",
        "  * false positives\n",
        "  * true negatives\n",
        "  * false nagatives\n",
        "  * total observations\n",
        "\n",
        "> **Availble Methods:** \n",
        "\n",
        "* accuracy\n",
        "* precision\n",
        "* recall\n",
        "* spcificity\n",
        "* f1\n",
        "* fpr (false positive rate)\n"
      ]
    },
    {
      "cell_type": "code",
      "metadata": {
        "id": "DqUR_EiuclCN"
      },
      "source": [
        "class coefmatrix:\n",
        "    \"\"\" this class takes a Dataframe containing a Coefectiant matrix with column names of either 0,1 or True,False \n",
        "    and provides model stastics for binary models\"\"\"\n",
        "    \n",
        "    def __init__(self,df):\n",
        "        self.crosstab = df\n",
        "        # extract values from table\n",
        "        #true positives\n",
        "        try:\n",
        "          self.TruePositives = df.loc[1,1] # True Positives\n",
        "        except KeyError:\n",
        "          self.TruePositives = 0\n",
        "        #true negatives\n",
        "        try:  \n",
        "          self.TrueNegatives = df.loc[0,0] # True Negatives \n",
        "        except KeyError:\n",
        "          self.TrueNegatives = 0\n",
        "        #False positives\n",
        "        try:  \n",
        "          self.FalsePositives = df.loc[0,1] # False Positives\n",
        "        except KeyError:\n",
        "          self.FalsePositives = 0\n",
        "        #False Negatives\n",
        "        try:\n",
        "          self.FalseNegatives = df.loc[1,0] # False Negatives\n",
        "        except KeyError:\n",
        "          self.FalseNegatives = 0\n",
        "        #total records\n",
        "        self.TotalRecords = df.values.sum()        \n",
        "\n",
        "          \n",
        "    def accuracy(self)  -> int:\n",
        "        return (self.TruePositives+self.TrueNegatives)/self.TotalRecords\n",
        "\n",
        "    def precision(self)  -> int:\n",
        "        return self.TruePositives/(self.TruePositives+self.FalsePositives)\n",
        "    \n",
        "    def recall(self)  -> int: #sometimes called 'sensitivity'\n",
        "        return self.TruePositives/(self.TruePositives+self.FalseNegatives) \n",
        "    \n",
        "    def specificity(self) -> int:\n",
        "        return self.TrueNegatives/(self.TrueNegatives+self.FalsePositives)\n",
        "\n",
        "    def f1(self) -> int:\n",
        "        return 2*self.precision()*self.recall()/(self.precision()+self.recall())\n",
        "\n",
        "    def fpr(self)  -> int: # false positive rate to be utilized in ROC curve function\n",
        "        return self.FalsePositives/(self.TrueNegatives+self.FalsePositives)\n",
        "      \n"
      ],
      "execution_count": 4,
      "outputs": []
    },
    {
      "cell_type": "markdown",
      "metadata": {
        "id": "bFjECPv86Lox"
      },
      "source": [
        "## Comparing class metrics to prebuilt \n",
        "We will now compare our class metrics to prebuild metrics  \n",
        "steps:\n",
        "\n",
        "1. Initialize a member of our new class\n",
        "2. Compare each class method to an sklearn.metrics function\n"
      ]
    },
    {
      "cell_type": "code",
      "metadata": {
        "id": "qzRqfAN992Ss"
      },
      "source": [
        "#initializing class object\n",
        "matrix = coefmatrix(df_crosstab)"
      ],
      "execution_count": 5,
      "outputs": []
    },
    {
      "cell_type": "markdown",
      "metadata": {
        "id": "onDcV_WS6eik"
      },
      "source": [
        "### confusion_matrix()"
      ]
    },
    {
      "cell_type": "code",
      "metadata": {
        "colab": {
          "base_uri": "https://localhost:8080/",
          "height": 212
        },
        "id": "wOWafGUJ6d4O",
        "outputId": "d0d46157-ff7e-4611-f0e1-748285d0bfa4"
      },
      "source": [
        "display(confusion_matrix( df['class'], df['scored.class']))\n",
        "print('\\n')\n",
        "matrix.crosstab"
      ],
      "execution_count": 6,
      "outputs": [
        {
          "output_type": "display_data",
          "data": {
            "text/plain": [
              "array([[119,   5],\n",
              "       [ 30,  27]])"
            ]
          },
          "metadata": {}
        },
        {
          "output_type": "stream",
          "name": "stdout",
          "text": [
            "\n",
            "\n"
          ]
        },
        {
          "output_type": "execute_result",
          "data": {
            "text/html": [
              "<div>\n",
              "<style scoped>\n",
              "    .dataframe tbody tr th:only-of-type {\n",
              "        vertical-align: middle;\n",
              "    }\n",
              "\n",
              "    .dataframe tbody tr th {\n",
              "        vertical-align: top;\n",
              "    }\n",
              "\n",
              "    .dataframe thead th {\n",
              "        text-align: right;\n",
              "    }\n",
              "</style>\n",
              "<table border=\"1\" class=\"dataframe\">\n",
              "  <thead>\n",
              "    <tr style=\"text-align: right;\">\n",
              "      <th>true_diabetic</th>\n",
              "      <th>False</th>\n",
              "      <th>True</th>\n",
              "    </tr>\n",
              "    <tr>\n",
              "      <th>predicted_diabetic</th>\n",
              "      <th></th>\n",
              "      <th></th>\n",
              "    </tr>\n",
              "  </thead>\n",
              "  <tbody>\n",
              "    <tr>\n",
              "      <th>False</th>\n",
              "      <td>119</td>\n",
              "      <td>5</td>\n",
              "    </tr>\n",
              "    <tr>\n",
              "      <th>True</th>\n",
              "      <td>30</td>\n",
              "      <td>27</td>\n",
              "    </tr>\n",
              "  </tbody>\n",
              "</table>\n",
              "</div>"
            ],
            "text/plain": [
              "true_diabetic       False  True \n",
              "predicted_diabetic              \n",
              "False                 119      5\n",
              "True                   30     27"
            ]
          },
          "metadata": {},
          "execution_count": 6
        }
      ]
    },
    {
      "cell_type": "markdown",
      "metadata": {
        "id": "IoVx37GL82pL"
      },
      "source": [
        "**conclusion:**  \n",
        "Our values match and our dataframe provides the more 'sophisticated' output we are used to."
      ]
    },
    {
      "cell_type": "markdown",
      "metadata": {
        "id": "ixfdYknK6LPv"
      },
      "source": [
        "### accuracy_score()\n"
      ]
    },
    {
      "cell_type": "code",
      "metadata": {
        "colab": {
          "base_uri": "https://localhost:8080/"
        },
        "id": "RE1q5peE9hRz",
        "outputId": "734a486e-8234-400c-982e-4882bfa5c424"
      },
      "source": [
        "print(f'sklearn.accuracy_score: {accuracy_score(y_true,y_pred)}')\n",
        "print(f'matrix.accuracy:        {matrix.accuracy()}')"
      ],
      "execution_count": 7,
      "outputs": [
        {
          "output_type": "stream",
          "name": "stdout",
          "text": [
            "sklearn.accuracy_score: 0.8066298342541437\n",
            "matrix.accuracy:        0.8066298342541437\n"
          ]
        }
      ]
    },
    {
      "cell_type": "markdown",
      "metadata": {
        "id": "Loo0mCCc_6Cr"
      },
      "source": [
        "**conclusion:** our function matches sklearns\n",
        "### precision_score()"
      ]
    },
    {
      "cell_type": "code",
      "metadata": {
        "colab": {
          "base_uri": "https://localhost:8080/"
        },
        "id": "n5mCk5uesN3b",
        "outputId": "75a873ae-635a-494f-9a0c-52a956015bf7"
      },
      "source": [
        "print(f'sklearn.precision_score: {precision_score(y_true,y_pred)}')\n",
        "print(f'matrix.precision:        {matrix.precision()}')"
      ],
      "execution_count": 8,
      "outputs": [
        {
          "output_type": "stream",
          "name": "stdout",
          "text": [
            "sklearn.precision_score: 0.84375\n",
            "matrix.precision:        0.84375\n"
          ]
        }
      ]
    },
    {
      "cell_type": "markdown",
      "metadata": {
        "id": "g5Gxw-U_spIQ"
      },
      "source": [
        "**conclusion:** our function matches sklearns"
      ]
    },
    {
      "cell_type": "markdown",
      "metadata": {
        "id": "Wx47abOWACol"
      },
      "source": [
        "### recall() or \"sensitivity\""
      ]
    },
    {
      "cell_type": "code",
      "metadata": {
        "colab": {
          "base_uri": "https://localhost:8080/"
        },
        "id": "ZWw_ED5aAuuI",
        "outputId": "9dcf350d-4a72-4881-8949-d1578ad3b766"
      },
      "source": [
        "print(f'sklearn.recall_score: {recall_score(y_true,y_pred)}')\n",
        "print(f'matrix.recall:        {matrix.recall()}')"
      ],
      "execution_count": 9,
      "outputs": [
        {
          "output_type": "stream",
          "name": "stdout",
          "text": [
            "sklearn.recall_score: 0.47368421052631576\n",
            "matrix.recall:        0.47368421052631576\n"
          ]
        }
      ]
    },
    {
      "cell_type": "markdown",
      "metadata": {
        "id": "5vGhG_d_GnhW"
      },
      "source": [
        "**conclusion:** our function matches sklearns"
      ]
    },
    {
      "cell_type": "markdown",
      "metadata": {
        "id": "Rf6W21hYAr9s"
      },
      "source": [
        "### f1_score()"
      ]
    },
    {
      "cell_type": "code",
      "metadata": {
        "id": "lN0EONKIBMr_",
        "colab": {
          "base_uri": "https://localhost:8080/"
        },
        "outputId": "3361cfbc-9151-4db5-f2bf-7071f986c224"
      },
      "source": [
        "print(f'sklearn.f1_score: {f1_score(y_true,y_pred)}')\n",
        "print(f'matrix.f1:        {matrix.f1()}')"
      ],
      "execution_count": 10,
      "outputs": [
        {
          "output_type": "stream",
          "name": "stdout",
          "text": [
            "sklearn.f1_score: 0.6067415730337079\n",
            "matrix.f1:        0.6067415730337079\n"
          ]
        }
      ]
    },
    {
      "cell_type": "markdown",
      "metadata": {
        "id": "G0VbXQy1GHbL"
      },
      "source": [
        "**conclusion:** our function matches sklearns"
      ]
    },
    {
      "cell_type": "markdown",
      "metadata": {
        "id": "GkNonlVMAJou"
      },
      "source": [
        "### classification_report()"
      ]
    },
    {
      "cell_type": "code",
      "metadata": {
        "colab": {
          "base_uri": "https://localhost:8080/"
        },
        "id": "zQ0yBM9WAK6P",
        "outputId": "9858f326-65b7-4231-ca21-e9e8603b3852"
      },
      "source": [
        "print(classification_report(y_true,y_pred))"
      ],
      "execution_count": 11,
      "outputs": [
        {
          "output_type": "stream",
          "name": "stdout",
          "text": [
            "              precision    recall  f1-score   support\n",
            "\n",
            "           0       0.80      0.96      0.87       124\n",
            "           1       0.84      0.47      0.61        57\n",
            "\n",
            "    accuracy                           0.81       181\n",
            "   macro avg       0.82      0.72      0.74       181\n",
            "weighted avg       0.81      0.81      0.79       181\n",
            "\n"
          ]
        }
      ]
    },
    {
      "cell_type": "markdown",
      "metadata": {
        "id": "S6NIu4OpB1NU"
      },
      "source": [
        "**conclusions:**   \n",
        "Using the Classification report we verify our specificity class function.\n",
        " \n",
        "sklearns classification report has signifignalty less specificiy and a relativaly confusioning output. It can be useful but a lot of care has to be taken to make sure output is being interpreted correctly and an understanding of the limitations is known.\n",
        "\n"
      ]
    },
    {
      "cell_type": "markdown",
      "metadata": {
        "id": "GHJq1wn3Vaya"
      },
      "source": [
        "## ROC/AUC\n"
      ]
    },
    {
      "cell_type": "markdown",
      "metadata": {
        "id": "x6jjx9DCQwZo"
      },
      "source": [
        "**Understanding steps for ROC:**  \n",
        "\n",
        "1. Set the number of thresholds or steps between 0,1 we want to calculate\n",
        "2. For each of those steps calculate the rate at which records would be accurately or inaccurately classified if that step was threshold for a predication counting as true. (recall and false positive rate)\n",
        "3. Store each recall and false positive rate to be plotted to create ROC graphic and to be utlized in AUC calcualtion\n",
        "\n",
        "\n",
        "**Understanding steps for AUC:**\n",
        "\n",
        "reference on the trapexoidal method:\n",
        "https://onlinelibrary.wiley.com/doi/pdf/10.1002/9781119261087.app1\n",
        "\n",
        "\n",
        "Steps it takes:\n",
        "1. Break our threashold encoded data into a series of 2x2 matrixs encoding the 2 points between spots on the ROC graphic as a series of trapaezoids. \n",
        "2. Use numpys np.trapz function to integrate each *trapezoid*\n",
        "3. Sum the totals together to get full area under the curve\n"
      ]
    },
    {
      "cell_type": "markdown",
      "metadata": {
        "id": "sELGtdUeViXC"
      },
      "source": [
        "### Custom Implementation"
      ]
    },
    {
      "cell_type": "markdown",
      "metadata": {
        "id": "WLeY8bBeIes1"
      },
      "source": [
        "#### Function Creation"
      ]
    },
    {
      "cell_type": "code",
      "metadata": {
        "id": "-mjsL41WDmBT"
      },
      "source": [
        "def ROC_curve_AUC(y_true,scored_probablity,number_of_points = 105 ):\n",
        "  \"\"\"\n",
        "  caculates the ROC by caculating recall and false positive rate at all thresholds between .0 -1.04 and returns the results\n",
        "  as a numpy array.\n",
        "\n",
        "  Then calcualtes AUC by utlizing trapizodal method to integrate array.\n",
        "\n",
        "  Return ROC array and AUC\n",
        "  \n",
        "    references ROC:\n",
        "    * https://www.youtube.com/watch?v=afQ_DyKMxUo \n",
        "    * https://towardsdatascience.com/roc-curve-and-auc-from-scratch-in-numpy-visualized-2612bb9459ab\n",
        "  \n",
        "    references AUC:\n",
        "    * https://github.com/akshaykapoor347/Compute-AUC-ROC-from-scratch-python/blob/master/AUCROCPython.ipynb\n",
        "    * https://numpy.org/doc/stable/reference/generated/numpy.trapz.html\n",
        "  \"\"\"\n",
        "\n",
        "  import numpy as np #best practice import deps in functions\n",
        "  roc_point = np.array([]) #initialize ROC array \n",
        "  \n",
        "  #iterate for number of points set as input calculating Recall and FPR for each \n",
        "  for i  in range(0,number_of_points,1):\n",
        "\n",
        "    #create a new predicted array at current threashold\n",
        "     threshold_vector = np.greater_equal(scored_probablity, i / number_of_points).astype(int)\n",
        "     \n",
        "     # initializ a coefficient object ie caculate model stastics\n",
        "     coef = coefmatrix(pd.crosstab(y_true,threshold_vector))\n",
        "\n",
        "      #store recall and false positive rate for threashold \n",
        "     roc_point = np.append(roc_point,[coef.fpr(),coef.recall()])\n",
        "  \n",
        "  #reshape array 2 columns wide -1 here means the # of rows is dynamic/unknown \n",
        "  ROC = roc_point.reshape(-1,2)\n",
        "\n",
        "  # we will now utlize the ROC array to caculate AUC \n",
        "  #initalize calculation arrays\n",
        "  fpr_array = [] \n",
        "  tpr_array = []\n",
        "\n",
        "  #iterate over ROC array to create 2x2 trapezoid matrix's \n",
        "  for i in range(len(ROC)-1):\n",
        "    point1 = ROC[i];\n",
        "    point2 = ROC[i+1]\n",
        "    tpr_array.append([point1[0], point2[0]])\n",
        "    fpr_array.append([point1[1], point2[1]])\n",
        "\n",
        "  #We use Trapezoidal rule to calculate the area under the curve by approximating the intergral \n",
        "  auc = sum(np.trapz(tpr_array,fpr_array))+1  # Don't 100% understand +1 here I get that return is actually area not under cruve +1 to invert but don't grok \n",
        "\n",
        "  return ROC, auc"
      ],
      "execution_count": 12,
      "outputs": []
    },
    {
      "cell_type": "markdown",
      "metadata": {
        "id": "YxDJNCDmIkMA"
      },
      "source": [
        "#### Visualization"
      ]
    },
    {
      "cell_type": "code",
      "metadata": {
        "colab": {
          "base_uri": "https://localhost:8080/",
          "height": 655
        },
        "id": "Et4bPj0QE1IJ",
        "outputId": "104c7894-b8cb-4ac6-e029-b24c34ac2eb9"
      },
      "source": [
        "#ploting utlizing our from scratch function\n",
        "sns.set()\n",
        "plt.figure(figsize=(10,10))\n",
        "\n",
        "ROC, AUC = ROC_curve_AUC(y_true,scored_probablity,number_of_points = 1005)\n",
        "plt.title(f'AUC SCORE = {AUC}', fontsize=24)\n",
        "plt.plot([0,1]);\n",
        "plt.scatter(ROC[:,0],ROC[:,1],color='#0F9D58',s=100);\n",
        "plt.xlabel('False Positive Rate',fontsize=16);\n",
        "plt.ylabel('True Positive Rate',fontsize=16)"
      ],
      "execution_count": 13,
      "outputs": [
        {
          "output_type": "execute_result",
          "data": {
            "text/plain": [
              "Text(0, 0.5, 'True Positive Rate')"
            ]
          },
          "metadata": {},
          "execution_count": 13
        },
        {
          "output_type": "display_data",
          "data": {
            "image/png": "[encoded data removed]",
            "text/plain": [
              "<Figure size 720x720 with 1 Axes>"
            ]
          },
          "metadata": {}
        }
      ]
    },
    {
      "cell_type": "markdown",
      "metadata": {
        "id": "UO-02FrEVfHj"
      },
      "source": [
        "### Scikit-learn Implementation\n",
        "\n",
        "We will now compare our custom roc/auc implementation to sklearn's built in functions.\n"
      ]
    },
    {
      "cell_type": "code",
      "metadata": {
        "colab": {
          "base_uri": "https://localhost:8080/",
          "height": 732
        },
        "id": "CtKNRXqk45zO",
        "outputId": "b19d9256-d47a-4cff-f58e-d75cb8c7dc78"
      },
      "source": [
        "fpr, tpr, _ = roc_curve(y_true, scored_probablity)#defines true positive rate and false positive rates from initial dataset. The - stands in for threshholds, needed for the function, but not needed for our use\n",
        "plt.figure(figsize =(8,8), dpi=100)\n",
        "auc = auc(fpr, tpr)\n",
        "plt.plot(fpr, tpr, linestyle = '--', label='auc (auc = %0.3f)' % auc)\n",
        "plt.plot([0, 1], [0, 1],'k-')\n",
        "plt.title('ROC Graph')\n",
        "plt.xlabel('False Positive Rate')\n",
        "plt.ylabel('True Positive Rate')\n",
        "plt.show()\n",
        "print(f'AUC = {auc}')"
      ],
      "execution_count": 14,
      "outputs": [
        {
          "output_type": "display_data",
          "data": {
            "image/png": "[encoded data removed]",
            "text/plain": [
              "<Figure size 800x800 with 1 Axes>"
            ]
          },
          "metadata": {}
        },
        {
          "output_type": "stream",
          "name": "stdout",
          "text": [
            "AUC = 0.8503112620260327\n"
          ]
        }
      ]
    },
    {
      "cell_type": "markdown",
      "metadata": {
        "id": "Vb0rso7uAhcJ"
      },
      "source": [
        "## Conclusion\n",
        "Our AUC socre differs from the sklearn function at the 5th significant digit. We are not sure exactly what caused this difference, but assume it is due to insignificant differences in the cunstruction of our functions or threshhold groupings. Otherwise our roc curve matches the sklearn built in function very well.\n",
        "\n",
        "We can see the advantages in building our own custom functions (extra nuanced control, and the ability to add functionality) but would likely use sklearn's built in libraries in future work."
      ]
    }
  ]
}
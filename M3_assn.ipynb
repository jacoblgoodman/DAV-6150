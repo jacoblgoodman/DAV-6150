{
  "nbformat": 4,
  "nbformat_minor": 0,
  "metadata": {
    "kernelspec": {
      "display_name": "Python 3",
      "language": "python",
      "name": "python3"
    },
    "language_info": {
      "codemirror_mode": {
        "name": "ipython",
        "version": 3
      },
      "file_extension": ".py",
      "mimetype": "text/x-python",
      "name": "python",
      "nbconvert_exporter": "python",
      "pygments_lexer": "ipython3",
      "version": "3.7.6"
    },
    "colab": {
      "name": "M3_assn.ipynb",
      "provenance": [],
      "collapsed_sections": [],
      "toc_visible": true,
      "include_colab_link": true
    }
  },
  "cells": [
    {
      "cell_type": "markdown",
      "metadata": {
        "id": "view-in-github",
        "colab_type": "text"
      },
      "source": [
        "<a href=\"https://colab.research.google.com/github/yuleidner/DAV-6150/blob/main/M3_assn.ipynb\" target=\"_parent\"><img src=\"https://colab.research.google.com/assets/colab-badge.svg\" alt=\"Open In Colab\"/></a>"
      ]
    },
    {
      "cell_type": "markdown",
      "metadata": {
        "id": "yAF2fZDP4eqJ"
      },
      "source": [
        "<a id='Top'></a>\n",
        "# Data Science: Module 3\n",
        "### M3 Practical Challenge: Cleaning a Messy Data Set\n",
        "#### Alan Leidner working with Jacob Goodman Sep 20, 2021\n",
        "Assignment: https://yu.instructure.com/courses/50398/assignments/191949?module_item_id=704962"
      ]
    },
    {
      "cell_type": "markdown",
      "metadata": {
        "id": "uDGXSI3J4eqb"
      },
      "source": [
        "## Introduction\n",
        "This notebook will explore and clean a dataset of wine attributes that suffers from a variety of data integrity and usability issues.\n",
        "\n",
        "1. [Exploratory Data Analysis](#1)\n",
        "2. [Data Preparation](#2)\n",
        "3. [Re-analyze Modified Data](#3)\n",
        "4. [Conclusion](#4)"
      ]
    },
    {
      "cell_type": "code",
      "metadata": {
        "id": "dPq_QD7Mfs4W"
      },
      "source": [
        "#Import packages for data frames \n",
        "import numpy as np\n",
        "import pandas as pd\n",
        "import missingno as msno\n",
        "\n",
        "# import pyplot and seaborn for graph creating\n",
        "import matplotlib.pyplot as plt\n",
        "import seaborn as sns \n",
        "\n",
        "# load the train_test_split function from the sklearn.model_selection module\n",
        "from sklearn.model_selection import train_test_split\n",
        "from sklearn.impute import SimpleImputer\n",
        "from sklearn.preprocessing import MinMaxScaler\n",
        "\n",
        "# box cox to be utlized in standarization \n",
        "from scipy.stats import boxcox\n",
        "\n",
        "\n",
        "#This ingores depreciation warnings, which will make the code more readable\n",
        "import warnings\n",
        "warnings.filterwarnings(\"ignore\", category=FutureWarning)\n",
        "\n"
      ],
      "execution_count": null,
      "outputs": []
    },
    {
      "cell_type": "markdown",
      "metadata": {
        "id": "Zoz5Cboq4eqe"
      },
      "source": [
        "\n",
        "\n",
        "```\n",
        "# This is formatted as code\n",
        "```\n",
        "\n",
        "Using your Pythonskills, perform exploratory data analysis (EDA) on all of the provided data attributes and document your findings. Your EDA writeup should include any insights you are able to derive from your statistical analysis of the attributes and the accompanying exploratory graphics you create(e.g., bar plots, box plots, histograms, line plots, etc.). It is up to you as the data science practitioner to decide how you go about your EDA, including selecting appropriate statistical metrics to be calculated + which types of exploratory graphics to make use of. You should also identify any and all potential data integrity issues (e.g., missing data values; **invalid data values**; etc.)as well as data distribution issues (e.g., **severe skew that can potentially impede the training/performance of a machinelearning model**)and, based on your analysis, determine whether any data attributes might need to be transformed prior to being used within a machine learning model. Your goal should be to provide an EDA that is thorough and succinct without it being so detailed that a reader will lose interest in it. "
      ]
    },
    {
      "cell_type": "markdown",
      "metadata": {
        "id": "rcLf32Di4eqi"
      },
      "source": [
        "## Exploratory Data Analysis <a id='1'></a>\n",
        "The dataset was loaded into the DAV 6150 Github Repository here: https://raw.githubusercontent.com/yuleidner/DAV-6150/main/M3/M3_Data.csv. This notebook will now load the table into a Pandas dataframe for analysis."
      ]
    },
    {
      "cell_type": "code",
      "metadata": {
        "id": "XpyiOM344eqk",
        "colab": {
          "base_uri": "https://localhost:8080/",
          "height": 242
        },
        "outputId": "ce4c6c62-82d2-4894-dd44-e907ec7a5bf3"
      },
      "source": [
        "# read a set of sample data from github. It contains information related to cars and insurance\n",
        "filename = \"https://raw.githubusercontent.com/yuleidner/DAV-6150/main/M3/M3_Data.csv\"\n",
        "df = pd.read_csv(filename)\n",
        "pd.set_option('display.max_columns', None) #expands df to display all columns\n",
        "df.head()"
      ],
      "execution_count": null,
      "outputs": [
        {
          "output_type": "execute_result",
          "data": {
            "text/html": [
              "<div>\n",
              "<style scoped>\n",
              "    .dataframe tbody tr th:only-of-type {\n",
              "        vertical-align: middle;\n",
              "    }\n",
              "\n",
              "    .dataframe tbody tr th {\n",
              "        vertical-align: top;\n",
              "    }\n",
              "\n",
              "    .dataframe thead th {\n",
              "        text-align: right;\n",
              "    }\n",
              "</style>\n",
              "<table border=\"1\" class=\"dataframe\">\n",
              "  <thead>\n",
              "    <tr style=\"text-align: right;\">\n",
              "      <th></th>\n",
              "      <th>Unnamed: 0</th>\n",
              "      <th>INDEX</th>\n",
              "      <th>TARGET</th>\n",
              "      <th>FixedAcidity</th>\n",
              "      <th>VolatileAcidity</th>\n",
              "      <th>CitricAcid</th>\n",
              "      <th>ResidualSugar</th>\n",
              "      <th>Chlorides</th>\n",
              "      <th>FreeSulfurDioxide</th>\n",
              "      <th>TotalSulfurDioxide</th>\n",
              "      <th>Density</th>\n",
              "      <th>pH</th>\n",
              "      <th>Sulphates</th>\n",
              "      <th>Alcohol</th>\n",
              "      <th>LabelAppeal</th>\n",
              "      <th>AcidIndex</th>\n",
              "      <th>STARS</th>\n",
              "    </tr>\n",
              "  </thead>\n",
              "  <tbody>\n",
              "    <tr>\n",
              "      <th>0</th>\n",
              "      <td>0</td>\n",
              "      <td>1</td>\n",
              "      <td>3</td>\n",
              "      <td>3.2</td>\n",
              "      <td>1.160</td>\n",
              "      <td>0.98</td>\n",
              "      <td>54.2</td>\n",
              "      <td>0.567</td>\n",
              "      <td>NaN</td>\n",
              "      <td>268.0</td>\n",
              "      <td>0.99280</td>\n",
              "      <td>3.33</td>\n",
              "      <td>0.59</td>\n",
              "      <td>9.9</td>\n",
              "      <td>0</td>\n",
              "      <td>8</td>\n",
              "      <td>2.0</td>\n",
              "    </tr>\n",
              "    <tr>\n",
              "      <th>1</th>\n",
              "      <td>1</td>\n",
              "      <td>2</td>\n",
              "      <td>3</td>\n",
              "      <td>4.5</td>\n",
              "      <td>0.160</td>\n",
              "      <td>0.81</td>\n",
              "      <td>26.1</td>\n",
              "      <td>0.425</td>\n",
              "      <td>15.0</td>\n",
              "      <td>327.0</td>\n",
              "      <td>1.02792</td>\n",
              "      <td>3.38</td>\n",
              "      <td>0.70</td>\n",
              "      <td>NaN</td>\n",
              "      <td>-1</td>\n",
              "      <td>7</td>\n",
              "      <td>3.0</td>\n",
              "    </tr>\n",
              "    <tr>\n",
              "      <th>2</th>\n",
              "      <td>2</td>\n",
              "      <td>4</td>\n",
              "      <td>5</td>\n",
              "      <td>7.1</td>\n",
              "      <td>2.640</td>\n",
              "      <td>0.88</td>\n",
              "      <td>14.8</td>\n",
              "      <td>0.037</td>\n",
              "      <td>214.0</td>\n",
              "      <td>142.0</td>\n",
              "      <td>0.99518</td>\n",
              "      <td>3.12</td>\n",
              "      <td>0.48</td>\n",
              "      <td>22.0</td>\n",
              "      <td>-1</td>\n",
              "      <td>8</td>\n",
              "      <td>3.0</td>\n",
              "    </tr>\n",
              "    <tr>\n",
              "      <th>3</th>\n",
              "      <td>3</td>\n",
              "      <td>5</td>\n",
              "      <td>3</td>\n",
              "      <td>5.7</td>\n",
              "      <td>0.385</td>\n",
              "      <td>0.04</td>\n",
              "      <td>18.8</td>\n",
              "      <td>0.425</td>\n",
              "      <td>22.0</td>\n",
              "      <td>115.0</td>\n",
              "      <td>0.99640</td>\n",
              "      <td>2.24</td>\n",
              "      <td>1.83</td>\n",
              "      <td>6.2</td>\n",
              "      <td>-1</td>\n",
              "      <td>6</td>\n",
              "      <td>1.0</td>\n",
              "    </tr>\n",
              "    <tr>\n",
              "      <th>4</th>\n",
              "      <td>4</td>\n",
              "      <td>6</td>\n",
              "      <td>4</td>\n",
              "      <td>8.0</td>\n",
              "      <td>0.330</td>\n",
              "      <td>1.26</td>\n",
              "      <td>9.4</td>\n",
              "      <td>NaN</td>\n",
              "      <td>167.0</td>\n",
              "      <td>108.0</td>\n",
              "      <td>0.99457</td>\n",
              "      <td>3.12</td>\n",
              "      <td>1.77</td>\n",
              "      <td>13.7</td>\n",
              "      <td>0</td>\n",
              "      <td>9</td>\n",
              "      <td>2.0</td>\n",
              "    </tr>\n",
              "  </tbody>\n",
              "</table>\n",
              "</div>"
            ],
            "text/plain": [
              "   Unnamed: 0  INDEX  TARGET  FixedAcidity  VolatileAcidity  CitricAcid  \\\n",
              "0           0      1       3           3.2            1.160        0.98   \n",
              "1           1      2       3           4.5            0.160        0.81   \n",
              "2           2      4       5           7.1            2.640        0.88   \n",
              "3           3      5       3           5.7            0.385        0.04   \n",
              "4           4      6       4           8.0            0.330        1.26   \n",
              "\n",
              "   ResidualSugar  Chlorides  FreeSulfurDioxide  TotalSulfurDioxide  Density  \\\n",
              "0           54.2      0.567                NaN               268.0  0.99280   \n",
              "1           26.1      0.425               15.0               327.0  1.02792   \n",
              "2           14.8      0.037              214.0               142.0  0.99518   \n",
              "3           18.8      0.425               22.0               115.0  0.99640   \n",
              "4            9.4        NaN              167.0               108.0  0.99457   \n",
              "\n",
              "     pH  Sulphates  Alcohol  LabelAppeal  AcidIndex  STARS  \n",
              "0  3.33       0.59      9.9            0          8    2.0  \n",
              "1  3.38       0.70      NaN           -1          7    3.0  \n",
              "2  3.12       0.48     22.0           -1          8    3.0  \n",
              "3  2.24       1.83      6.2           -1          6    1.0  \n",
              "4  3.12       1.77     13.7            0          9    2.0  "
            ]
          },
          "metadata": {},
          "execution_count": 147
        }
      ]
    },
    {
      "cell_type": "markdown",
      "metadata": {
        "id": "xlHjv0vM4eqr"
      },
      "source": [
        "<table>\n",
        "  <thead>\n",
        "    <tr>\n",
        "      <th>Data Set Attribute</th>\n",
        "      <th>Description</th>\n",
        "    </tr>\n",
        "  </thead>\n",
        "  <tbody>\n",
        "    <tr>\n",
        "      <td>INDEX</td>\n",
        "      <td>Unique ID</td>\n",
        "    </tr>\n",
        "    <tr>\n",
        "      <td>TARGET</td>\n",
        "      <td>Response Variable (indicates # of cases of wine sold)</td>\n",
        "    </tr>   \n",
        "    <tr>\n",
        "      <td>FixedAcidity</td>\n",
        "      <td>Acid in the wine which does not evaporate readily</td>\n",
        "    </tr>\n",
        "    <tr>\n",
        "      <td>VolatileAcidity</td>\n",
        "      <td>Volatile acid content of the wine</td>\n",
        "    </tr>\n",
        "    <tr>\n",
        "      <td>CitricAcid</td>\n",
        "      <td>Citric Acid content of the wine</td>\n",
        "    </tr>\n",
        "    <tr>\n",
        "      <td>ResidualSugar</td>\n",
        "      <td>Residual sugar content of the wine</td>\n",
        "    </tr>\n",
        "    <tr>\n",
        "      <td>Chlorides</td>\n",
        "      <td>Chloride content of the wine</td>\n",
        "    </tr>\n",
        "    <tr>\n",
        "      <td>FreeSulfurDioxide</td>\n",
        "      <td>sulfur dioxide content of the wine</td>\n",
        "    </tr>\n",
        "    <tr>\n",
        "      <td>TotalSulfurDioxideTotal</td>\n",
        "      <td>Total sulfur dioxide content of the wine</td>\n",
        "    </tr>\n",
        "    <tr>\n",
        "      <td>Density</td>\n",
        "      <td>Density of the wine</td>\n",
        "    </tr>\n",
        "    <tr>\n",
        "      <td>pH</td>\n",
        "      <td>pH of the wine</td>\n",
        "    </tr>\n",
        "    <tr>\n",
        "      <td>Sulphates</td>\n",
        "      <td>Sulfate content of the wine</td>\n",
        "    </tr>\n",
        "    <tr>\n",
        "      <td>Alcohol</td>\n",
        "      <td>Alcohol Content</td>\n",
        "    </tr>\n",
        "    <tr>\n",
        "      <td>LabelAppeal</td>\n",
        "      <td>Subjective marketing score that indicates the appeal of the design of the label on the bottle</td>\n",
        "    </tr>\n",
        "    <tr>\n",
        "      <td>AcidIndex</td>\n",
        "      <td>Measures total acidity of wine via a weighted average</td>\n",
        "    </tr> \n",
        "    <tr>\n",
        "      <td>STARS</td>\n",
        "      <td>Wine rating as determined by experts (4 = excellent; 1 = Poor)</td>\n",
        "    </tr>\n",
        "  </tbody>\n",
        "</table>\n",
        "\n"
      ]
    },
    {
      "cell_type": "code",
      "metadata": {
        "id": "xiCsk1sO4eqt",
        "colab": {
          "base_uri": "https://localhost:8080/"
        },
        "outputId": "9893f555-e3b0-444e-ea20-fcd864df6fea"
      },
      "source": [
        "## a few methods will now be called to view summaries of this dataframe\n",
        "df.shape"
      ],
      "execution_count": null,
      "outputs": [
        {
          "output_type": "execute_result",
          "data": {
            "text/plain": [
              "(12795, 17)"
            ]
          },
          "metadata": {},
          "execution_count": 148
        }
      ]
    },
    {
      "cell_type": "code",
      "metadata": {
        "id": "vtjoA9AQ4eqw",
        "colab": {
          "base_uri": "https://localhost:8080/"
        },
        "outputId": "e1aa3b75-5d1b-4bea-a3b1-081207086b3f"
      },
      "source": [
        "df.info()"
      ],
      "execution_count": null,
      "outputs": [
        {
          "output_type": "stream",
          "name": "stdout",
          "text": [
            "<class 'pandas.core.frame.DataFrame'>\n",
            "RangeIndex: 12795 entries, 0 to 12794\n",
            "Data columns (total 17 columns):\n",
            " #   Column              Non-Null Count  Dtype  \n",
            "---  ------              --------------  -----  \n",
            " 0   Unnamed: 0          12795 non-null  int64  \n",
            " 1   INDEX               12795 non-null  int64  \n",
            " 2   TARGET              12795 non-null  int64  \n",
            " 3   FixedAcidity        12795 non-null  float64\n",
            " 4   VolatileAcidity     12795 non-null  float64\n",
            " 5   CitricAcid          12795 non-null  float64\n",
            " 6   ResidualSugar       12179 non-null  float64\n",
            " 7   Chlorides           12157 non-null  float64\n",
            " 8   FreeSulfurDioxide   12148 non-null  float64\n",
            " 9   TotalSulfurDioxide  12113 non-null  float64\n",
            " 10  Density             12795 non-null  float64\n",
            " 11  pH                  12400 non-null  float64\n",
            " 12  Sulphates           11585 non-null  float64\n",
            " 13  Alcohol             12142 non-null  float64\n",
            " 14  LabelAppeal         12795 non-null  int64  \n",
            " 15  AcidIndex           12795 non-null  int64  \n",
            " 16  STARS               9436 non-null   float64\n",
            "dtypes: float64(12), int64(5)\n",
            "memory usage: 1.7 MB\n"
          ]
        }
      ]
    },
    {
      "cell_type": "code",
      "metadata": {
        "colab": {
          "base_uri": "https://localhost:8080/"
        },
        "id": "GZwRnE14V5er",
        "outputId": "6019ab04-9627-45fd-8008-cbf116710d08"
      },
      "source": [
        "df.isnull().sum()"
      ],
      "execution_count": null,
      "outputs": [
        {
          "output_type": "execute_result",
          "data": {
            "text/plain": [
              "Unnamed: 0               0\n",
              "INDEX                    0\n",
              "TARGET                   0\n",
              "FixedAcidity             0\n",
              "VolatileAcidity          0\n",
              "CitricAcid               0\n",
              "ResidualSugar          616\n",
              "Chlorides              638\n",
              "FreeSulfurDioxide      647\n",
              "TotalSulfurDioxide     682\n",
              "Density                  0\n",
              "pH                     395\n",
              "Sulphates             1210\n",
              "Alcohol                653\n",
              "LabelAppeal              0\n",
              "AcidIndex                0\n",
              "STARS                 3359\n",
              "dtype: int64"
            ]
          },
          "metadata": {},
          "execution_count": 150
        }
      ]
    },
    {
      "cell_type": "code",
      "metadata": {
        "colab": {
          "base_uri": "https://localhost:8080/",
          "height": 318
        },
        "id": "UIE8E32j4c8J",
        "outputId": "91020c4e-47ad-4c15-87e9-80aa76790672"
      },
      "source": [
        "df.describe()"
      ],
      "execution_count": null,
      "outputs": [
        {
          "output_type": "execute_result",
          "data": {
            "text/html": [
              "<div>\n",
              "<style scoped>\n",
              "    .dataframe tbody tr th:only-of-type {\n",
              "        vertical-align: middle;\n",
              "    }\n",
              "\n",
              "    .dataframe tbody tr th {\n",
              "        vertical-align: top;\n",
              "    }\n",
              "\n",
              "    .dataframe thead th {\n",
              "        text-align: right;\n",
              "    }\n",
              "</style>\n",
              "<table border=\"1\" class=\"dataframe\">\n",
              "  <thead>\n",
              "    <tr style=\"text-align: right;\">\n",
              "      <th></th>\n",
              "      <th>Unnamed: 0</th>\n",
              "      <th>INDEX</th>\n",
              "      <th>TARGET</th>\n",
              "      <th>FixedAcidity</th>\n",
              "      <th>VolatileAcidity</th>\n",
              "      <th>CitricAcid</th>\n",
              "      <th>ResidualSugar</th>\n",
              "      <th>Chlorides</th>\n",
              "      <th>FreeSulfurDioxide</th>\n",
              "      <th>TotalSulfurDioxide</th>\n",
              "      <th>Density</th>\n",
              "      <th>pH</th>\n",
              "      <th>Sulphates</th>\n",
              "      <th>Alcohol</th>\n",
              "      <th>LabelAppeal</th>\n",
              "      <th>AcidIndex</th>\n",
              "      <th>STARS</th>\n",
              "    </tr>\n",
              "  </thead>\n",
              "  <tbody>\n",
              "    <tr>\n",
              "      <th>count</th>\n",
              "      <td>12795.000000</td>\n",
              "      <td>12795.000000</td>\n",
              "      <td>12795.000000</td>\n",
              "      <td>12795.000000</td>\n",
              "      <td>12795.000000</td>\n",
              "      <td>12795.000000</td>\n",
              "      <td>12179.000000</td>\n",
              "      <td>12157.000000</td>\n",
              "      <td>12148.000000</td>\n",
              "      <td>12113.000000</td>\n",
              "      <td>12795.000000</td>\n",
              "      <td>12400.000000</td>\n",
              "      <td>11585.000000</td>\n",
              "      <td>12142.000000</td>\n",
              "      <td>12795.000000</td>\n",
              "      <td>12795.000000</td>\n",
              "      <td>9436.000000</td>\n",
              "    </tr>\n",
              "    <tr>\n",
              "      <th>mean</th>\n",
              "      <td>6397.000000</td>\n",
              "      <td>8069.980305</td>\n",
              "      <td>3.029074</td>\n",
              "      <td>8.063251</td>\n",
              "      <td>0.641086</td>\n",
              "      <td>0.686315</td>\n",
              "      <td>23.367809</td>\n",
              "      <td>0.222559</td>\n",
              "      <td>106.679042</td>\n",
              "      <td>204.319120</td>\n",
              "      <td>0.994203</td>\n",
              "      <td>3.207628</td>\n",
              "      <td>0.846668</td>\n",
              "      <td>10.523778</td>\n",
              "      <td>-0.009066</td>\n",
              "      <td>7.772724</td>\n",
              "      <td>2.041755</td>\n",
              "    </tr>\n",
              "    <tr>\n",
              "      <th>std</th>\n",
              "      <td>3693.742682</td>\n",
              "      <td>4656.905107</td>\n",
              "      <td>1.926368</td>\n",
              "      <td>4.996119</td>\n",
              "      <td>0.555614</td>\n",
              "      <td>0.606005</td>\n",
              "      <td>24.945667</td>\n",
              "      <td>0.234288</td>\n",
              "      <td>108.102694</td>\n",
              "      <td>163.116881</td>\n",
              "      <td>0.026538</td>\n",
              "      <td>0.679687</td>\n",
              "      <td>0.655612</td>\n",
              "      <td>3.629154</td>\n",
              "      <td>0.891089</td>\n",
              "      <td>1.323926</td>\n",
              "      <td>0.902540</td>\n",
              "    </tr>\n",
              "    <tr>\n",
              "      <th>min</th>\n",
              "      <td>0.000000</td>\n",
              "      <td>1.000000</td>\n",
              "      <td>0.000000</td>\n",
              "      <td>0.000000</td>\n",
              "      <td>0.000000</td>\n",
              "      <td>0.000000</td>\n",
              "      <td>0.000000</td>\n",
              "      <td>0.000000</td>\n",
              "      <td>0.000000</td>\n",
              "      <td>0.000000</td>\n",
              "      <td>0.888090</td>\n",
              "      <td>0.480000</td>\n",
              "      <td>0.000000</td>\n",
              "      <td>0.000000</td>\n",
              "      <td>-2.000000</td>\n",
              "      <td>4.000000</td>\n",
              "      <td>1.000000</td>\n",
              "    </tr>\n",
              "    <tr>\n",
              "      <th>25%</th>\n",
              "      <td>3198.500000</td>\n",
              "      <td>4037.500000</td>\n",
              "      <td>2.000000</td>\n",
              "      <td>5.600000</td>\n",
              "      <td>0.250000</td>\n",
              "      <td>0.280000</td>\n",
              "      <td>3.600000</td>\n",
              "      <td>0.046000</td>\n",
              "      <td>28.000000</td>\n",
              "      <td>100.000000</td>\n",
              "      <td>0.987720</td>\n",
              "      <td>2.960000</td>\n",
              "      <td>0.430000</td>\n",
              "      <td>9.000000</td>\n",
              "      <td>-1.000000</td>\n",
              "      <td>7.000000</td>\n",
              "      <td>1.000000</td>\n",
              "    </tr>\n",
              "    <tr>\n",
              "      <th>50%</th>\n",
              "      <td>6397.000000</td>\n",
              "      <td>8110.000000</td>\n",
              "      <td>3.000000</td>\n",
              "      <td>7.000000</td>\n",
              "      <td>0.410000</td>\n",
              "      <td>0.440000</td>\n",
              "      <td>12.900000</td>\n",
              "      <td>0.098000</td>\n",
              "      <td>56.000000</td>\n",
              "      <td>154.000000</td>\n",
              "      <td>0.994490</td>\n",
              "      <td>3.200000</td>\n",
              "      <td>0.590000</td>\n",
              "      <td>10.400000</td>\n",
              "      <td>0.000000</td>\n",
              "      <td>8.000000</td>\n",
              "      <td>2.000000</td>\n",
              "    </tr>\n",
              "    <tr>\n",
              "      <th>75%</th>\n",
              "      <td>9595.500000</td>\n",
              "      <td>12106.500000</td>\n",
              "      <td>4.000000</td>\n",
              "      <td>9.800000</td>\n",
              "      <td>0.910000</td>\n",
              "      <td>0.970000</td>\n",
              "      <td>38.700000</td>\n",
              "      <td>0.368000</td>\n",
              "      <td>172.000000</td>\n",
              "      <td>262.000000</td>\n",
              "      <td>1.000515</td>\n",
              "      <td>3.470000</td>\n",
              "      <td>1.100000</td>\n",
              "      <td>12.400000</td>\n",
              "      <td>1.000000</td>\n",
              "      <td>8.000000</td>\n",
              "      <td>3.000000</td>\n",
              "    </tr>\n",
              "    <tr>\n",
              "      <th>max</th>\n",
              "      <td>12794.000000</td>\n",
              "      <td>16129.000000</td>\n",
              "      <td>8.000000</td>\n",
              "      <td>34.400000</td>\n",
              "      <td>3.680000</td>\n",
              "      <td>3.860000</td>\n",
              "      <td>141.150000</td>\n",
              "      <td>1.351000</td>\n",
              "      <td>623.000000</td>\n",
              "      <td>1057.000000</td>\n",
              "      <td>1.099240</td>\n",
              "      <td>6.130000</td>\n",
              "      <td>4.240000</td>\n",
              "      <td>26.500000</td>\n",
              "      <td>2.000000</td>\n",
              "      <td>17.000000</td>\n",
              "      <td>4.000000</td>\n",
              "    </tr>\n",
              "  </tbody>\n",
              "</table>\n",
              "</div>"
            ],
            "text/plain": [
              "         Unnamed: 0         INDEX        TARGET  FixedAcidity  \\\n",
              "count  12795.000000  12795.000000  12795.000000  12795.000000   \n",
              "mean    6397.000000   8069.980305      3.029074      8.063251   \n",
              "std     3693.742682   4656.905107      1.926368      4.996119   \n",
              "min        0.000000      1.000000      0.000000      0.000000   \n",
              "25%     3198.500000   4037.500000      2.000000      5.600000   \n",
              "50%     6397.000000   8110.000000      3.000000      7.000000   \n",
              "75%     9595.500000  12106.500000      4.000000      9.800000   \n",
              "max    12794.000000  16129.000000      8.000000     34.400000   \n",
              "\n",
              "       VolatileAcidity    CitricAcid  ResidualSugar     Chlorides  \\\n",
              "count     12795.000000  12795.000000   12179.000000  12157.000000   \n",
              "mean          0.641086      0.686315      23.367809      0.222559   \n",
              "std           0.555614      0.606005      24.945667      0.234288   \n",
              "min           0.000000      0.000000       0.000000      0.000000   \n",
              "25%           0.250000      0.280000       3.600000      0.046000   \n",
              "50%           0.410000      0.440000      12.900000      0.098000   \n",
              "75%           0.910000      0.970000      38.700000      0.368000   \n",
              "max           3.680000      3.860000     141.150000      1.351000   \n",
              "\n",
              "       FreeSulfurDioxide  TotalSulfurDioxide       Density            pH  \\\n",
              "count       12148.000000        12113.000000  12795.000000  12400.000000   \n",
              "mean          106.679042          204.319120      0.994203      3.207628   \n",
              "std           108.102694          163.116881      0.026538      0.679687   \n",
              "min             0.000000            0.000000      0.888090      0.480000   \n",
              "25%            28.000000          100.000000      0.987720      2.960000   \n",
              "50%            56.000000          154.000000      0.994490      3.200000   \n",
              "75%           172.000000          262.000000      1.000515      3.470000   \n",
              "max           623.000000         1057.000000      1.099240      6.130000   \n",
              "\n",
              "          Sulphates       Alcohol   LabelAppeal     AcidIndex        STARS  \n",
              "count  11585.000000  12142.000000  12795.000000  12795.000000  9436.000000  \n",
              "mean       0.846668     10.523778     -0.009066      7.772724     2.041755  \n",
              "std        0.655612      3.629154      0.891089      1.323926     0.902540  \n",
              "min        0.000000      0.000000     -2.000000      4.000000     1.000000  \n",
              "25%        0.430000      9.000000     -1.000000      7.000000     1.000000  \n",
              "50%        0.590000     10.400000      0.000000      8.000000     2.000000  \n",
              "75%        1.100000     12.400000      1.000000      8.000000     3.000000  \n",
              "max        4.240000     26.500000      2.000000     17.000000     4.000000  "
            ]
          },
          "metadata": {},
          "execution_count": 151
        }
      ]
    },
    {
      "cell_type": "markdown",
      "metadata": {
        "id": "0nGI6heM_-_t"
      },
      "source": [
        "### Univariate Analysis\n",
        "Column by Column EDA\n",
        "\n",
        "Columns 0&1 can be ignored. Unnamed is an index in the dataset. INDEX functions as the name of the wine in this dataset. They are useful identifiers in different conexts, but provide no predictive data.\n",
        "\n"
      ]
    },
    {
      "cell_type": "code",
      "metadata": {
        "id": "1G8qxFMtq_cB"
      },
      "source": [
        ""
      ],
      "execution_count": null,
      "outputs": []
    },
    {
      "cell_type": "markdown",
      "metadata": {
        "id": "tBDRarD_APcq"
      },
      "source": [
        "####TARGET \n",
        "Response Variable (indicates # of cases of wine sold)\n"
      ]
    },
    {
      "cell_type": "code",
      "metadata": {
        "colab": {
          "base_uri": "https://localhost:8080/"
        },
        "id": "_CMP-yrNWa_v",
        "outputId": "cd435802-07e3-490a-9d2b-09094ee7aa9d"
      },
      "source": [
        "\n",
        "#Create a histogram and boxplot side by side\n",
        "i= df.TARGET\n",
        "sns.set_style();\n",
        "plt.figure(figsize=(16,8))#sets size of plot\n",
        "#Histogram\n",
        "plt.subplot(1,2,1);#sets subplot location left\n",
        "sns.distplot(i);#calls a histogram\n",
        "plt.title('TARGET')#adds title\n",
        "#Boxplot\n",
        "plt.subplot(1,2,2);#sets subplot location right\n",
        "sns.boxplot(i);#calls a boxplot\n",
        "plt.title('TARGET');#adds title\n",
        "\n",
        "print(\"Skewness: %f\" %i.skew()) #Adds Skew (symetry)value https://medium.com/@atanudan/kurtosis-skew-function-in-pandas-aa63d72e20de\n",
        "#· If the skewness is between -0.5 and 0.5, the data are fairly symmetrical\n",
        "#· If the skewness is between -1 and — 0.5 or between 0.5 and 1, the data are moderately skewed\n",
        "#· If the skewness is less than -1 or greater than 1, the data are highly skewed\n",
        "print(\"Kurtosis: %f\" %i.kurt(skipna = True)) #Adds Kurtosis value (tail-ness)\n",
        "#while kurtosis determines the heaviness of the distribution tails.\n",
        "#Kurtosis > 3 thin and not spread\n",
        "# Kurtosis <3 moderate spread\n",
        "i.describe() #Adds summary statistics of the variable"
      ],
      "execution_count": null,
      "outputs": [
        {
          "output_type": "stream",
          "name": "stdout",
          "text": [
            "Skewness: -0.326378\n",
            "Kurtosis: -0.876788\n"
          ]
        },
        {
          "output_type": "execute_result",
          "data": {
            "text/plain": [
              "count    12795.000000\n",
              "mean         3.029074\n",
              "std          1.926368\n",
              "min          0.000000\n",
              "25%          2.000000\n",
              "50%          3.000000\n",
              "75%          4.000000\n",
              "max          8.000000\n",
              "Name: TARGET, dtype: float64"
            ]
          },
          "metadata": {},
          "execution_count": 152
        },
        {
          "output_type": "display_data",
          "data": {
            "image/png": "[encoded data removed]",
            "text/plain": [
              "<Figure size 1152x576 with 2 Axes>"
            ]
          },
          "metadata": {
            "needs_background": "light"
          }
        }
      ]
    },
    {
      "cell_type": "markdown",
      "metadata": {
        "id": "pzNwBG6SPaRt"
      },
      "source": [
        "* Modality: Bimodal with peaks around 0 and 4\n",
        "* Distribution: Left Skewed\n",
        "* Outliers: One to the right\n"
      ]
    },
    {
      "cell_type": "code",
      "metadata": {
        "colab": {
          "base_uri": "https://localhost:8080/"
        },
        "id": "zxFLQJ8ovkbI",
        "outputId": "1fb77b93-7f7a-48fb-8880-4bb75861b2ba"
      },
      "source": [
        "#checking counts of outlier\n",
        "df['TARGET'].value_counts()"
      ],
      "execution_count": null,
      "outputs": [
        {
          "output_type": "execute_result",
          "data": {
            "text/plain": [
              "4    3177\n",
              "0    2734\n",
              "3    2611\n",
              "5    2014\n",
              "2    1091\n",
              "6     765\n",
              "1     244\n",
              "7     142\n",
              "8      17\n",
              "Name: TARGET, dtype: int64"
            ]
          },
          "metadata": {},
          "execution_count": 153
        }
      ]
    },
    {
      "cell_type": "markdown",
      "metadata": {
        "id": "O9lsHlyMwsGP"
      },
      "source": [
        "Discussion: It seems like many wines from this datset are not tried, and the rest are normally distributed. Wines ordered 8 times may be an outlier, through it does trail off from wine ordered 7 times. ??SHOULD THIS DATA BE TRANSFORMED??"
      ]
    },
    {
      "cell_type": "markdown",
      "metadata": {
        "id": "J19UrqDHASck"
      },
      "source": [
        "#### FixedAcidity\n"
      ]
    },
    {
      "cell_type": "code",
      "metadata": {
        "colab": {
          "base_uri": "https://localhost:8080/"
        },
        "id": "pldt0VFwQetL",
        "outputId": "86b5ea27-8da7-4fd4-892e-18850cb7f723"
      },
      "source": [
        "#Create a histogram and boxplot side by side for FixedAcidity\n",
        "i= df.FixedAcidity\n",
        "\n",
        "plt.figure(figsize=(8,4))\n",
        "#Histogram\n",
        "plt.subplot(1,2,1);\n",
        "sns.distplot(i); \n",
        "plt.title('FixedAcidity')\n",
        "#Boxplot\n",
        "plt.subplot(1,2,2);\n",
        "sns.boxplot(i);\n",
        "plt.title('FixedAcidity');\n",
        "print(\"Skewness: %f\" %i.skew()) #Adds Skew value\n",
        "i.describe() #Adds summary statistics of the variable"
      ],
      "execution_count": null,
      "outputs": [
        {
          "output_type": "stream",
          "name": "stdout",
          "text": [
            "Skewness: 1.174556\n"
          ]
        },
        {
          "output_type": "execute_result",
          "data": {
            "text/plain": [
              "count    12795.000000\n",
              "mean         8.063251\n",
              "std          4.996119\n",
              "min          0.000000\n",
              "25%          5.600000\n",
              "50%          7.000000\n",
              "75%          9.800000\n",
              "max         34.400000\n",
              "Name: FixedAcidity, dtype: float64"
            ]
          },
          "metadata": {},
          "execution_count": 154
        },
        {
          "output_type": "display_data",
          "data": {
            "image/png": "[encoded data removed]",
            "text/plain": [
              "<Figure size 576x288 with 2 Axes>"
            ]
          },
          "metadata": {
            "needs_background": "light"
          }
        }
      ]
    },
    {
      "cell_type": "markdown",
      "metadata": {
        "id": "1PCgVV42QxaN"
      },
      "source": [
        "* Modality: Unimodal\n",
        "* Distribution: right skewed\n",
        "* Outliers: Many to the right\n",
        "\n",
        "Discussion:\n",
        "This may benefit from a transformation to make the distribution more gausian."
      ]
    },
    {
      "cell_type": "markdown",
      "metadata": {
        "id": "4GiqhrhaAU-h"
      },
      "source": [
        "#### VolatileAcidity\n"
      ]
    },
    {
      "cell_type": "code",
      "metadata": {
        "colab": {
          "base_uri": "https://localhost:8080/"
        },
        "id": "dTpFHQpITEK7",
        "outputId": "0884a230-357b-4ef8-baba-802d961351af"
      },
      "source": [
        "#Create a histogram and boxplot side by side for VolatileAcidity\n",
        "i= df.VolatileAcidity\n",
        "\n",
        "plt.figure(figsize=(8,4))\n",
        "#Histogram\n",
        "plt.subplot(1,2,1);\n",
        "sns.distplot(i); \n",
        "plt.title('VolatileAcidity')\n",
        "#Boxplot\n",
        "plt.subplot(1,2,2);\n",
        "sns.boxplot(i);\n",
        "plt.title('VolatileAcidity');\n",
        "\n",
        "print(\"Skewness: %f\" %i.skew()) #Adds Skew value\n",
        "i.describe() #Adds summary statistics of the variable"
      ],
      "execution_count": null,
      "outputs": [
        {
          "output_type": "stream",
          "name": "stdout",
          "text": [
            "Skewness: 1.653366\n"
          ]
        },
        {
          "output_type": "execute_result",
          "data": {
            "text/plain": [
              "count    12795.000000\n",
              "mean         0.641086\n",
              "std          0.555614\n",
              "min          0.000000\n",
              "25%          0.250000\n",
              "50%          0.410000\n",
              "75%          0.910000\n",
              "max          3.680000\n",
              "Name: VolatileAcidity, dtype: float64"
            ]
          },
          "metadata": {},
          "execution_count": 155
        },
        {
          "output_type": "display_data",
          "data": {
            "image/png": "[encoded data removed]",
            "text/plain": [
              "<Figure size 576x288 with 2 Axes>"
            ]
          },
          "metadata": {
            "needs_background": "light"
          }
        }
      ]
    },
    {
      "cell_type": "markdown",
      "metadata": {
        "id": "ZfwKIsPlAYqD"
      },
      "source": [
        "VolatileAcidity is a continuous variable with no missing values\n",
        "* Modality: Unimodal\n",
        "* Distribution: right skewed\n",
        "* Outliers: many to the right\n",
        "\n",
        "Discussion\n",
        "This could also benefit from a transformation to make it more guasian."
      ]
    },
    {
      "cell_type": "markdown",
      "metadata": {
        "id": "uZEyGTIm0_qF"
      },
      "source": [
        "#### CitricAcid"
      ]
    },
    {
      "cell_type": "code",
      "metadata": {
        "colab": {
          "base_uri": "https://localhost:8080/"
        },
        "id": "dkAhJg0PTIzg",
        "outputId": "10eacd7d-72c7-4b32-bb89-30f8649849af"
      },
      "source": [
        "#Create a histogram and boxplot side by side for CitricAcid\n",
        "i= df.CitricAcid\n",
        "\n",
        "plt.figure(figsize=(8,4))\n",
        "#Histogram\n",
        "plt.subplot(1,2,1);\n",
        "sns.distplot(i); \n",
        "plt.title('CitricAcid')\n",
        "#Boxplot\n",
        "plt.subplot(1,2,2);\n",
        "sns.boxplot(i);\n",
        "plt.title('CitricAcid');\n",
        "\n",
        "print(\"Skewness: %f\" %i.skew()) #Adds Skew value\n",
        "i.describe() #Adds summary statistics of the variable"
      ],
      "execution_count": null,
      "outputs": [
        {
          "output_type": "stream",
          "name": "stdout",
          "text": [
            "Skewness: 1.643195\n"
          ]
        },
        {
          "output_type": "execute_result",
          "data": {
            "text/plain": [
              "count    12795.000000\n",
              "mean         0.686315\n",
              "std          0.606005\n",
              "min          0.000000\n",
              "25%          0.280000\n",
              "50%          0.440000\n",
              "75%          0.970000\n",
              "max          3.860000\n",
              "Name: CitricAcid, dtype: float64"
            ]
          },
          "metadata": {},
          "execution_count": 156
        },
        {
          "output_type": "display_data",
          "data": {
            "image/png": "[encoded data removed]",
            "text/plain": [
              "<Figure size 576x288 with 2 Axes>"
            ]
          },
          "metadata": {
            "needs_background": "light"
          }
        }
      ]
    },
    {
      "cell_type": "markdown",
      "metadata": {
        "id": "RkQafo6jidfT"
      },
      "source": [
        "CitricAcid is a continuous variable with no missing values\n",
        "* Modality: Unimodal\n",
        "* Distribution: right skewed\n",
        "* Outliers: many to the right\n",
        "\n",
        "Discussion:\n",
        "\n",
        "This may also benefit from a transformation"
      ]
    },
    {
      "cell_type": "markdown",
      "metadata": {
        "id": "wFZaJNKsAbLY"
      },
      "source": [
        "#### ResidualSugar\n"
      ]
    },
    {
      "cell_type": "code",
      "metadata": {
        "colab": {
          "base_uri": "https://localhost:8080/"
        },
        "id": "JTHMR92pTQhj",
        "outputId": "d2a9787d-ec28-4cd9-b03c-47a7ecf94ff0"
      },
      "source": [
        "#Create a histogram and boxplot side by side for ResidualSugar\n",
        "i= df.ResidualSugar\n",
        "\n",
        "plt.figure(figsize=(8,4))\n",
        "#Histogram\n",
        "plt.subplot(1,2,1);\n",
        "sns.distplot(i); \n",
        "plt.title('ResidualSugar')\n",
        "#Boxplot\n",
        "plt.subplot(1,2,2);\n",
        "sns.boxplot(i);\n",
        "plt.title('ResidualSugar');\n",
        "\n",
        "print(\"Skewness: %f\" %i.skew()) #Adds Skew value\n",
        "i.describe() #Adds summary statistics of the variable"
      ],
      "execution_count": null,
      "outputs": [
        {
          "output_type": "stream",
          "name": "stdout",
          "text": [
            "Skewness: 1.469162\n"
          ]
        },
        {
          "output_type": "execute_result",
          "data": {
            "text/plain": [
              "count    12179.000000\n",
              "mean        23.367809\n",
              "std         24.945667\n",
              "min          0.000000\n",
              "25%          3.600000\n",
              "50%         12.900000\n",
              "75%         38.700000\n",
              "max        141.150000\n",
              "Name: ResidualSugar, dtype: float64"
            ]
          },
          "metadata": {},
          "execution_count": 157
        },
        {
          "output_type": "display_data",
          "data": {
            "image/png": "[encoded data removed]",
            "text/plain": [
              "<Figure size 576x288 with 2 Axes>"
            ]
          },
          "metadata": {
            "needs_background": "light"
          }
        }
      ]
    },
    {
      "cell_type": "markdown",
      "metadata": {
        "id": "ivRX4rNHilK1"
      },
      "source": [
        "\n",
        "ResidualSugar is a continuous variable with some missing values\n",
        "* Modality: Unimodal\n",
        "* Distribution: right skewed\n",
        "* Outliers: many to the right\n",
        "\n",
        "Discussion\n",
        "\n",
        "There is some missing data here which will need to be addressed, and the distplot may benefit from a transformation\n"
      ]
    },
    {
      "cell_type": "markdown",
      "metadata": {
        "id": "JZqPTEKVAfGT"
      },
      "source": [
        "#### Chlorides\n"
      ]
    },
    {
      "cell_type": "code",
      "metadata": {
        "colab": {
          "base_uri": "https://localhost:8080/"
        },
        "id": "lPviBqDQTXDS",
        "outputId": "71382d61-4e8f-4d51-df8a-3c15e1144e86"
      },
      "source": [
        "#Create a histogram and boxplot side by side for Chlorides\n",
        "i= df.Chlorides\n",
        "\n",
        "plt.figure(figsize=(8,4))\n",
        "#Histogram\n",
        "plt.subplot(1,2,1);\n",
        "sns.distplot(i); \n",
        "plt.title('Chlorides')\n",
        "#Boxplot\n",
        "plt.subplot(1,2,2);\n",
        "sns.boxplot(i);\n",
        "plt.title('Chlorides');\n",
        "\n",
        "print(\"Skewness: %f\" %i.skew()) #Adds Skew value\n",
        "i.describe() #Adds summary statistics of the variable"
      ],
      "execution_count": null,
      "outputs": [
        {
          "output_type": "stream",
          "name": "stdout",
          "text": [
            "Skewness: 1.481147\n"
          ]
        },
        {
          "output_type": "execute_result",
          "data": {
            "text/plain": [
              "count    12157.000000\n",
              "mean         0.222559\n",
              "std          0.234288\n",
              "min          0.000000\n",
              "25%          0.046000\n",
              "50%          0.098000\n",
              "75%          0.368000\n",
              "max          1.351000\n",
              "Name: Chlorides, dtype: float64"
            ]
          },
          "metadata": {},
          "execution_count": 158
        },
        {
          "output_type": "display_data",
          "data": {
            "image/png": "[encoded data removed]",
            "text/plain": [
              "<Figure size 576x288 with 2 Axes>"
            ]
          },
          "metadata": {
            "needs_background": "light"
          }
        }
      ]
    },
    {
      "cell_type": "markdown",
      "metadata": {
        "id": "nONuUOiCir6W"
      },
      "source": [
        "Chlorides is a continuous variable with some missing values\n",
        "* Modality: Unimodal\n",
        "* Distribution: right skewed\n",
        "* Outliers: many to the right\n",
        "\n",
        "Discussion\n",
        "There is some missing data here which will need to be addressed, and the distplot may benefit from a transformation"
      ]
    },
    {
      "cell_type": "markdown",
      "metadata": {
        "id": "3QVLEzvRAhdh"
      },
      "source": [
        "#### FreeSulfurDioxide"
      ]
    },
    {
      "cell_type": "code",
      "metadata": {
        "colab": {
          "base_uri": "https://localhost:8080/"
        },
        "id": "xsXxxw1pTakH",
        "outputId": "09a2bd98-4684-4aef-cb87-70a73b48c1f8"
      },
      "source": [
        "#Create a histogram and boxplot side by side for FreeSulfurDioxide\n",
        "i= df.FreeSulfurDioxide\n",
        "\n",
        "plt.figure(figsize=(8,4))\n",
        "#Histogram\n",
        "plt.subplot(1,2,1);\n",
        "sns.distplot(i); \n",
        "plt.title('FreeSulfurDioxide')\n",
        "#Boxplot\n",
        "plt.subplot(1,2,2);\n",
        "sns.boxplot(i);\n",
        "plt.title('FreeSulfurDioxide');\n",
        "\n",
        "print(\"Skewness: %f\" %i.skew()) #Adds Skew value\n",
        "i.describe() #Adds summary statistics of the variable"
      ],
      "execution_count": null,
      "outputs": [
        {
          "output_type": "stream",
          "name": "stdout",
          "text": [
            "Skewness: 1.530134\n"
          ]
        },
        {
          "output_type": "execute_result",
          "data": {
            "text/plain": [
              "count    12148.000000\n",
              "mean       106.679042\n",
              "std        108.102694\n",
              "min          0.000000\n",
              "25%         28.000000\n",
              "50%         56.000000\n",
              "75%        172.000000\n",
              "max        623.000000\n",
              "Name: FreeSulfurDioxide, dtype: float64"
            ]
          },
          "metadata": {},
          "execution_count": 159
        },
        {
          "output_type": "display_data",
          "data": {
            "image/png": "[encoded data removed]",
            "text/plain": [
              "<Figure size 576x288 with 2 Axes>"
            ]
          },
          "metadata": {
            "needs_background": "light"
          }
        }
      ]
    },
    {
      "cell_type": "markdown",
      "metadata": {
        "id": "A21SD-e2iwE9"
      },
      "source": [
        "FreeSulfurDioxide is a continuous variable with some missing values\n",
        "* Modality: Unimodal\n",
        "* Distribution: right skewed\n",
        "* Outliers: many to the right\n",
        "\n",
        "Discussion\n",
        "\n",
        "There is some missing data here which will need to be addressed, and the distplot mya benfit from a transformation"
      ]
    },
    {
      "cell_type": "markdown",
      "metadata": {
        "id": "bvOZ_sgVAkzx"
      },
      "source": [
        "#### TotalSulfurDioxide"
      ]
    },
    {
      "cell_type": "code",
      "metadata": {
        "colab": {
          "base_uri": "https://localhost:8080/"
        },
        "id": "02BG9o6LTaNc",
        "outputId": "dbcfbd24-1b26-442e-ba58-759cd1db557c"
      },
      "source": [
        "#Create a histogram and boxplot side by side for TotalSulfurDioxide\n",
        "i= df.TotalSulfurDioxide\n",
        "\n",
        "plt.figure(figsize=(8,4))\n",
        "#Histogram\n",
        "plt.subplot(1,2,1);\n",
        "sns.distplot(i); \n",
        "plt.title('TotalSulfurDioxide')\n",
        "#Boxplot\n",
        "plt.subplot(1,2,2);\n",
        "sns.boxplot(i);\n",
        "plt.title('TotalSulfurDioxide');\n",
        "\n",
        "print(\"Skewness: %f\" %i.skew()) #Adds Skew value\n",
        "i.describe() #Adds summary statistics of the variable"
      ],
      "execution_count": null,
      "outputs": [
        {
          "output_type": "stream",
          "name": "stdout",
          "text": [
            "Skewness: 1.611275\n"
          ]
        },
        {
          "output_type": "execute_result",
          "data": {
            "text/plain": [
              "count    12113.000000\n",
              "mean       204.319120\n",
              "std        163.116881\n",
              "min          0.000000\n",
              "25%        100.000000\n",
              "50%        154.000000\n",
              "75%        262.000000\n",
              "max       1057.000000\n",
              "Name: TotalSulfurDioxide, dtype: float64"
            ]
          },
          "metadata": {},
          "execution_count": 160
        },
        {
          "output_type": "display_data",
          "data": {
            "image/png": "[encoded data removed]",
            "text/plain": [
              "<Figure size 576x288 with 2 Axes>"
            ]
          },
          "metadata": {
            "needs_background": "light"
          }
        }
      ]
    },
    {
      "cell_type": "markdown",
      "metadata": {
        "id": "0lGgp3JTiz0p"
      },
      "source": [
        "TotalSulfurDioxide is a continuous variable with some missing values\n",
        "* Modality: Unimodal\n",
        "* Distribution: right skewed\n",
        "* Outliers: many to the right\n",
        "\n",
        "Discussion\n",
        "\n",
        "There is some missing data here which will need to be addressed, and the distplot may benefit from a transformation\n",
        "Because of the scale of this variable, it may also benefit our model to normalize the values, to prevent an outsised effect"
      ]
    },
    {
      "cell_type": "markdown",
      "metadata": {
        "id": "nmy_OaLZAlwA"
      },
      "source": [
        "####  Density\n"
      ]
    },
    {
      "cell_type": "code",
      "metadata": {
        "colab": {
          "base_uri": "https://localhost:8080/"
        },
        "id": "BRf7BJwWTZ6c",
        "outputId": "bda2fa8d-c2f2-4057-89b5-9b99b0551bed"
      },
      "source": [
        "#Create a histogram and boxplot side by side for Density\n",
        "i= df.Density\n",
        "\n",
        "plt.figure(figsize=(8,4))\n",
        "#Histogram\n",
        "plt.subplot(1,2,1);\n",
        "sns.distplot(i); \n",
        "plt.title('Density')\n",
        "#Boxplot\n",
        "plt.subplot(1,2,2);\n",
        "sns.boxplot(i);\n",
        "plt.title('Density');\n",
        "\n",
        "print(\"Skewness: %f\" %i.skew()) #Adds Skew value\n",
        "i.describe() #Adds summary statistics of the variable"
      ],
      "execution_count": null,
      "outputs": [
        {
          "output_type": "stream",
          "name": "stdout",
          "text": [
            "Skewness: -0.018698\n"
          ]
        },
        {
          "output_type": "execute_result",
          "data": {
            "text/plain": [
              "count    12795.000000\n",
              "mean         0.994203\n",
              "std          0.026538\n",
              "min          0.888090\n",
              "25%          0.987720\n",
              "50%          0.994490\n",
              "75%          1.000515\n",
              "max          1.099240\n",
              "Name: Density, dtype: float64"
            ]
          },
          "metadata": {},
          "execution_count": 161
        },
        {
          "output_type": "display_data",
          "data": {
            "image/png": "[encoded data removed]",
            "text/plain": [
              "<Figure size 576x288 with 2 Axes>"
            ]
          },
          "metadata": {
            "needs_background": "light"
          }
        }
      ]
    },
    {
      "cell_type": "markdown",
      "metadata": {
        "id": "zJbFlV1Pi3i_"
      },
      "source": [
        "Density is a continuous variable with no missing values\n",
        "* Modality: Unimodal\n",
        "* Distribution: Centered\n",
        "* Outliers: many on both sides\n",
        "\n",
        "Discussion: \n",
        "There is some missing data here which will need to be addressed, otherwise it looks fine.\n"
      ]
    },
    {
      "cell_type": "markdown",
      "metadata": {
        "id": "FXJrh9ZsAso3"
      },
      "source": [
        "#### pH"
      ]
    },
    {
      "cell_type": "code",
      "metadata": {
        "colab": {
          "base_uri": "https://localhost:8080/"
        },
        "id": "g5BFSuBPTZmK",
        "outputId": "e6220e26-718f-4285-e1bb-93f44a3576bf"
      },
      "source": [
        "#Create a histogram and boxplot side by side for pH\n",
        "i= df.pH\n",
        "\n",
        "plt.figure(figsize=(8,4))\n",
        "#Histogram\n",
        "plt.subplot(1,2,1);\n",
        "sns.distplot(i); \n",
        "plt.title('pH')\n",
        "#Boxplot\n",
        "plt.subplot(1,2,2);\n",
        "sns.boxplot(i);\n",
        "plt.title('pH');\n",
        "\n",
        "print(\"Skewness: %f\" %i.skew()) #Adds Skew value\n",
        "i.describe() #Adds summary statistics of the variable"
      ],
      "execution_count": null,
      "outputs": [
        {
          "output_type": "stream",
          "name": "stdout",
          "text": [
            "Skewness: 0.044299\n"
          ]
        },
        {
          "output_type": "execute_result",
          "data": {
            "text/plain": [
              "count    12400.000000\n",
              "mean         3.207628\n",
              "std          0.679687\n",
              "min          0.480000\n",
              "25%          2.960000\n",
              "50%          3.200000\n",
              "75%          3.470000\n",
              "max          6.130000\n",
              "Name: pH, dtype: float64"
            ]
          },
          "metadata": {},
          "execution_count": 162
        },
        {
          "output_type": "display_data",
          "data": {
            "image/png": "[encoded data removed]",
            "text/plain": [
              "<Figure size 576x288 with 2 Axes>"
            ]
          },
          "metadata": {
            "needs_background": "light"
          }
        }
      ]
    },
    {
      "cell_type": "markdown",
      "metadata": {
        "id": "_An2HXgli_GR"
      },
      "source": [
        "pH is a continuous variable with some missing values\n",
        "* Modality: Unimodal\n",
        "* Distribution: Centered\n",
        "* Outliers: some missing values\n",
        "\n",
        "Discussion\n",
        "There are some null values here, but more importantly, the outliers are of concern. Lemon Juice has a pH of 2, which is very acidic. it seams unlikely that wines have a true pH less than 2, making me suspect something was wrong with the measurement. Ditto values above 4.6, which are hard to preserve according to the Department of Food Science*\n",
        "\n",
        "*https://fbns.ncsu.edu//extension_program/documents/acidified_formulating_dressings.pdf"
      ]
    },
    {
      "cell_type": "markdown",
      "metadata": {
        "id": "7sSrC0h-AuUS"
      },
      "source": [
        "#### Sulphates\n"
      ]
    },
    {
      "cell_type": "code",
      "metadata": {
        "colab": {
          "base_uri": "https://localhost:8080/",
          "height": 466
        },
        "id": "-AIUxOMFTZO0",
        "outputId": "9c7196fe-3942-4e4b-ee39-c4ed13d83abc"
      },
      "source": [
        "#Create a histogram and boxplot side by side for Sulphates\n",
        "i= df.Sulphates\n",
        "\n",
        "plt.figure(figsize=(8,4))\n",
        "#Histogram\n",
        "plt.subplot(1,2,1);\n",
        "sns.distplot(i); \n",
        "plt.title('Sulphates')\n",
        "#Boxplot\n",
        "plt.subplot(1,2,2);\n",
        "sns.boxplot(i);\n",
        "plt.title('Sulphates');\n",
        "\n",
        "print(\"Skewness: %f\" %i.skew()) #Adds Skew value\n",
        "i.describe() #Adds summary statistics of the variable"
      ],
      "execution_count": null,
      "outputs": [
        {
          "output_type": "stream",
          "name": "stdout",
          "text": [
            "Skewness: 1.691810\n"
          ]
        },
        {
          "output_type": "execute_result",
          "data": {
            "text/plain": [
              "count    11585.000000\n",
              "mean         0.846668\n",
              "std          0.655612\n",
              "min          0.000000\n",
              "25%          0.430000\n",
              "50%          0.590000\n",
              "75%          1.100000\n",
              "max          4.240000\n",
              "Name: Sulphates, dtype: float64"
            ]
          },
          "metadata": {},
          "execution_count": 163
        },
        {
          "output_type": "display_data",
          "data": {
            "image/png": "[encoded data removed]",
            "text/plain": [
              "<Figure size 576x288 with 2 Axes>"
            ]
          },
          "metadata": {
            "needs_background": "light"
          }
        }
      ]
    },
    {
      "cell_type": "markdown",
      "metadata": {
        "id": "4A3E2HRejDsG"
      },
      "source": [
        "Sulphates is a continuous variable with many missing values\n",
        "* Modality: Unimodal\n",
        "* Distribution: right skewed\n",
        "* Outliers: many to the right\n",
        "\n",
        "Discussion\n",
        "??NULL??"
      ]
    },
    {
      "cell_type": "markdown",
      "metadata": {
        "id": "NfYAogenAv9F"
      },
      "source": [
        "#### Alcohol"
      ]
    },
    {
      "cell_type": "code",
      "metadata": {
        "colab": {
          "base_uri": "https://localhost:8080/",
          "height": 466
        },
        "id": "ageueT44TY6f",
        "outputId": "879e1bbe-987c-4c73-e20c-1cbe254e9044"
      },
      "source": [
        "#Create a histogram and boxplot side by side for Alcohol\n",
        "i= df.Alcohol\n",
        "\n",
        "plt.figure(figsize=(8,4))\n",
        "#Histogram\n",
        "plt.subplot(1,2,1);\n",
        "sns.distplot(i); \n",
        "plt.title('Alcohol')\n",
        "#Boxplot\n",
        "plt.subplot(1,2,2);\n",
        "sns.boxplot(i);\n",
        "plt.title('Alcohol');\n",
        "\n",
        "print(\"Skewness: %f\" %i.skew()) #Adds Skew value\n",
        "i.describe() #Adds summary statistics of the variable"
      ],
      "execution_count": null,
      "outputs": [
        {
          "output_type": "stream",
          "name": "stdout",
          "text": [
            "Skewness: 0.182591\n"
          ]
        },
        {
          "output_type": "execute_result",
          "data": {
            "text/plain": [
              "count    12142.000000\n",
              "mean        10.523778\n",
              "std          3.629154\n",
              "min          0.000000\n",
              "25%          9.000000\n",
              "50%         10.400000\n",
              "75%         12.400000\n",
              "max         26.500000\n",
              "Name: Alcohol, dtype: float64"
            ]
          },
          "metadata": {},
          "execution_count": 164
        },
        {
          "output_type": "display_data",
          "data": {
            "image/png": "[encoded data removed]",
            "text/plain": [
              "<Figure size 576x288 with 2 Axes>"
            ]
          },
          "metadata": {
            "needs_background": "light"
          }
        }
      ]
    },
    {
      "cell_type": "markdown",
      "metadata": {
        "id": "asqM3APEjINU"
      },
      "source": [
        "Alchohol is a continuous variable with some missing values\n",
        "* Modality: Unimodal\n",
        "* Distribution: Centered\n",
        "* Outliers: many on both sides\n",
        "\n",
        "Discussion\n",
        "There are missing values here. Also, some of the values violate the FAA definitions; \"Wine is defined in the Federal Alcohol Administration Act (FAA Act) as, among other things, containing not less than 7 and not more than 24 percent alcohol by volume.\"*\n",
        "\n",
        "https://www.fda.gov/regulatory-information/search-fda-guidance-documents/cpg-sec-510400-dealcoholized-wine-and-malt-beverages-labeling\n"
      ]
    },
    {
      "cell_type": "markdown",
      "metadata": {
        "id": "7PB8Ihg1Axgy"
      },
      "source": [
        "#### LabelAppeal\n"
      ]
    },
    {
      "cell_type": "code",
      "metadata": {
        "colab": {
          "base_uri": "https://localhost:8080/",
          "height": 466
        },
        "id": "I_ZLcUHLTYpc",
        "outputId": "48bd59e6-a449-459e-e50d-10a59ca8bab7"
      },
      "source": [
        "#Create a histogram and boxplot side by side for LabelAppeal\n",
        "i= df.LabelAppeal\n",
        "\n",
        "plt.figure(figsize=(8,4))\n",
        "#Histogram\n",
        "plt.subplot(1,2,1);\n",
        "sns.distplot(i); \n",
        "plt.title('LabelAppeal')\n",
        "#Boxplot\n",
        "plt.subplot(1,2,2);\n",
        "sns.boxplot(i);\n",
        "plt.title('LabelAppeal');\n",
        "\n",
        "print(\"Skewness: %f\" %i.skew()) #Adds Skew value\n",
        "i.describe() #Adds summary statistics of the variable"
      ],
      "execution_count": null,
      "outputs": [
        {
          "output_type": "stream",
          "name": "stdout",
          "text": [
            "Skewness: 0.008431\n"
          ]
        },
        {
          "output_type": "execute_result",
          "data": {
            "text/plain": [
              "count    12795.000000\n",
              "mean        -0.009066\n",
              "std          0.891089\n",
              "min         -2.000000\n",
              "25%         -1.000000\n",
              "50%          0.000000\n",
              "75%          1.000000\n",
              "max          2.000000\n",
              "Name: LabelAppeal, dtype: float64"
            ]
          },
          "metadata": {},
          "execution_count": 165
        },
        {
          "output_type": "display_data",
          "data": {
            "image/png": "[encoded data removed]",
            "text/plain": [
              "<Figure size 576x288 with 2 Axes>"
            ]
          },
          "metadata": {
            "needs_background": "light"
          }
        }
      ]
    },
    {
      "cell_type": "markdown",
      "metadata": {
        "id": "5pdNIbMSjON9"
      },
      "source": [
        "LabelAppeal is a categroical variable with no missing values\n",
        "* Modality: Unimodal\n",
        "* Distribution: Centered\n",
        "* Outliers: None\n",
        "\n",
        "Discussion \\\\\n",
        "No changes necessary\n"
      ]
    },
    {
      "cell_type": "markdown",
      "metadata": {
        "id": "KfYBe-cyA2WX"
      },
      "source": [
        "#### AcidIndex"
      ]
    },
    {
      "cell_type": "code",
      "metadata": {
        "colab": {
          "base_uri": "https://localhost:8080/",
          "height": 466
        },
        "id": "0qKdTEpdTYVv",
        "outputId": "96daf91d-e507-401c-9209-ff8af2d129a2"
      },
      "source": [
        "#Create a histogram and boxplot side by side for AcidIndex\n",
        "i= df.AcidIndex\n",
        "\n",
        "plt.figure(figsize=(8,4))\n",
        "#Histogram\n",
        "plt.subplot(1,2,1);\n",
        "sns.distplot(i); \n",
        "plt.title('AcidIndex')\n",
        "#Boxplot\n",
        "plt.subplot(1,2,2);\n",
        "sns.boxplot(i);\n",
        "plt.title('AcidIndex');\n",
        "\n",
        "print(\"Skewness: %f\" %i.skew()) #Adds Skew value\n",
        "i.describe() #Adds summary statistics of the variable"
      ],
      "execution_count": null,
      "outputs": [
        {
          "output_type": "stream",
          "name": "stdout",
          "text": [
            "Skewness: 1.648883\n"
          ]
        },
        {
          "output_type": "execute_result",
          "data": {
            "text/plain": [
              "count    12795.000000\n",
              "mean         7.772724\n",
              "std          1.323926\n",
              "min          4.000000\n",
              "25%          7.000000\n",
              "50%          8.000000\n",
              "75%          8.000000\n",
              "max         17.000000\n",
              "Name: AcidIndex, dtype: float64"
            ]
          },
          "metadata": {},
          "execution_count": 166
        },
        {
          "output_type": "display_data",
          "data": {
            "image/png": "[encoded data removed]",
            "text/plain": [
              "<Figure size 576x288 with 2 Axes>"
            ]
          },
          "metadata": {
            "needs_background": "light"
          }
        }
      ]
    },
    {
      "cell_type": "markdown",
      "metadata": {
        "id": "iRF2akbLjVej"
      },
      "source": [
        "LabelAppeal is a actegroical variable with no missing values\n",
        "* Modality: Unimodal\n",
        "* Distribution: Right Skewed\n",
        "* Outliers: Some on both sides, more to the right\n",
        "\n",
        "Discussion\n",
        "The outliers are regular. I should investigate them"
      ]
    },
    {
      "cell_type": "markdown",
      "metadata": {
        "id": "pPId-XgIA4PV"
      },
      "source": [
        "#### STARS"
      ]
    },
    {
      "cell_type": "code",
      "metadata": {
        "colab": {
          "base_uri": "https://localhost:8080/"
        },
        "id": "fYP-ozICTYFp",
        "outputId": "e598d7d1-1b0d-4bca-88e0-b1f0a1623ab5"
      },
      "source": [
        "#Create a histogram and boxplot side by side for STARS\n",
        "i= df.STARS\n",
        "\n",
        "plt.figure(figsize=(8,4))\n",
        "#Histogram\n",
        "plt.subplot(1,2,1);\n",
        "sns.distplot(i); \n",
        "plt.title('STARS')\n",
        "#Boxplot\n",
        "plt.subplot(1,2,2);\n",
        "sns.boxplot(i);\n",
        "plt.title('STARS');\n",
        "\n",
        "print(\"Skewness: %f\" %i.skew()) #Adds Skew value\n",
        "i.describe() #Adds summary statistics of the variable"
      ],
      "execution_count": null,
      "outputs": [
        {
          "output_type": "stream",
          "name": "stdout",
          "text": [
            "Skewness: 0.447378\n"
          ]
        },
        {
          "output_type": "execute_result",
          "data": {
            "text/plain": [
              "count    9436.000000\n",
              "mean        2.041755\n",
              "std         0.902540\n",
              "min         1.000000\n",
              "25%         1.000000\n",
              "50%         2.000000\n",
              "75%         3.000000\n",
              "max         4.000000\n",
              "Name: STARS, dtype: float64"
            ]
          },
          "metadata": {},
          "execution_count": 167
        },
        {
          "output_type": "display_data",
          "data": {
            "image/png": "[encoded data removed]",
            "text/plain": [
              "<Figure size 576x288 with 2 Axes>"
            ]
          },
          "metadata": {
            "needs_background": "light"
          }
        }
      ]
    },
    {
      "cell_type": "markdown",
      "metadata": {
        "id": "XuSJoLdVjZ46"
      },
      "source": [
        "STARS is a categorical variable with many missing values\n",
        "* Modality: Unimodal\n",
        "* Distribution: right skewed\n",
        "* Outliers: None\n",
        "\n",
        "Discussion:\n",
        "\n",
        "Maybe we can assume all missing values are 0 stars? see how that affects correlation and skewness etc"
      ]
    },
    {
      "cell_type": "markdown",
      "metadata": {
        "id": "st_9-PEAAmTe"
      },
      "source": [
        "### Correlation Analysis"
      ]
    },
    {
      "cell_type": "code",
      "metadata": {
        "colab": {
          "base_uri": "https://localhost:8080/",
          "height": 567
        },
        "id": "vYHmFEITyI68",
        "outputId": "3ade5949-46e1-4ff0-bfcc-d0c16b33a9b4"
      },
      "source": [
        "dfc = df.iloc[:, 2:]\n",
        "plt.figure(figsize=(16,8))#.suptitle('distributions',fontsize=16)\n",
        "sns.heatmap(dfc.corr(),cmap='coolwarm',annot=True);"
      ],
      "execution_count": null,
      "outputs": [
        {
          "output_type": "display_data",
          "data": {
            "image/png": "[encoded data removed]",
            "text/plain": [
              "<Figure size 1152x576 with 2 Axes>"
            ]
          },
          "metadata": {
            "needs_background": "light"
          }
        }
      ]
    },
    {
      "cell_type": "markdown",
      "metadata": {
        "id": "B7rFT8eB5GNE"
      },
      "source": [
        "## Data Preparation <a id='2'></a>\n",
        "1. handle nulls or bad data: have you deleted any observations? Used imputation to fill missing data values?\n",
        " * svd or other model based approach?\n",
        "\n",
        "2. dummy variables or other categoryial transofrmations\n",
        "3. Transform\n",
        " 1. interaction features\n",
        " 2. handle sparse classes\n",
        " 3. drop features\n",
        "  * colinear features \n",
        "  * drop none helpful features\n",
        "  "
      ]
    },
    {
      "cell_type": "markdown",
      "metadata": {
        "id": "xKGyWxVY685J"
      },
      "source": [
        "\n",
        "\n",
        "----- Using your Python skills, perform appropriate data preparation tasks relative to the data integrity + usability issues you identified via your EDA work. Describe the ways in which you have transformed / prepared the data for use within a machine learning algorithm, e.g., have you deleted any observations? Used imputation to fill missing data values? **Created any new variables**? **Transformed data distributions via mathematical transforms (e.g., Box-Cox, logarithms, etc.) or binningto make the data more “usable”for model training?** etc. Be sure to explain your justification for each adjustment you have made to the data. ---------\n",
        "###Examine Null Values for Patterns"
      ]
    },
    {
      "cell_type": "code",
      "metadata": {
        "id": "8sg-gwJ7Dsfk",
        "colab": {
          "base_uri": "https://localhost:8080/"
        },
        "outputId": "eb9e3aee-a20e-4728-83f9-4dce18979cfa"
      },
      "source": [
        "#create a dataframe to easily view missing values\n",
        "df_null = df[df.columns[~df.notnull().all()]]\n",
        "df_null.describe()"
      ],
      "execution_count": null,
      "outputs": [
        {
          "output_type": "execute_result",
          "data": {
            "text/html": [
              "<div>\n",
              "<style scoped>\n",
              "    .dataframe tbody tr th:only-of-type {\n",
              "        vertical-align: middle;\n",
              "    }\n",
              "\n",
              "    .dataframe tbody tr th {\n",
              "        vertical-align: top;\n",
              "    }\n",
              "\n",
              "    .dataframe thead th {\n",
              "        text-align: right;\n",
              "    }\n",
              "</style>\n",
              "<table border=\"1\" class=\"dataframe\">\n",
              "  <thead>\n",
              "    <tr style=\"text-align: right;\">\n",
              "      <th></th>\n",
              "      <th>ResidualSugar</th>\n",
              "      <th>Chlorides</th>\n",
              "      <th>FreeSulfurDioxide</th>\n",
              "      <th>TotalSulfurDioxide</th>\n",
              "      <th>pH</th>\n",
              "      <th>Sulphates</th>\n",
              "      <th>Alcohol</th>\n",
              "      <th>STARS</th>\n",
              "    </tr>\n",
              "  </thead>\n",
              "  <tbody>\n",
              "    <tr>\n",
              "      <th>count</th>\n",
              "      <td>12179.000000</td>\n",
              "      <td>12157.000000</td>\n",
              "      <td>12148.000000</td>\n",
              "      <td>12113.000000</td>\n",
              "      <td>12400.000000</td>\n",
              "      <td>11585.000000</td>\n",
              "      <td>12142.000000</td>\n",
              "      <td>9436.000000</td>\n",
              "    </tr>\n",
              "    <tr>\n",
              "      <th>mean</th>\n",
              "      <td>23.367809</td>\n",
              "      <td>0.222559</td>\n",
              "      <td>106.679042</td>\n",
              "      <td>204.319120</td>\n",
              "      <td>3.207628</td>\n",
              "      <td>0.846668</td>\n",
              "      <td>10.523778</td>\n",
              "      <td>2.041755</td>\n",
              "    </tr>\n",
              "    <tr>\n",
              "      <th>std</th>\n",
              "      <td>24.945667</td>\n",
              "      <td>0.234288</td>\n",
              "      <td>108.102694</td>\n",
              "      <td>163.116881</td>\n",
              "      <td>0.679687</td>\n",
              "      <td>0.655612</td>\n",
              "      <td>3.629154</td>\n",
              "      <td>0.902540</td>\n",
              "    </tr>\n",
              "    <tr>\n",
              "      <th>min</th>\n",
              "      <td>0.000000</td>\n",
              "      <td>0.000000</td>\n",
              "      <td>0.000000</td>\n",
              "      <td>0.000000</td>\n",
              "      <td>0.480000</td>\n",
              "      <td>0.000000</td>\n",
              "      <td>0.000000</td>\n",
              "      <td>1.000000</td>\n",
              "    </tr>\n",
              "    <tr>\n",
              "      <th>25%</th>\n",
              "      <td>3.600000</td>\n",
              "      <td>0.046000</td>\n",
              "      <td>28.000000</td>\n",
              "      <td>100.000000</td>\n",
              "      <td>2.960000</td>\n",
              "      <td>0.430000</td>\n",
              "      <td>9.000000</td>\n",
              "      <td>1.000000</td>\n",
              "    </tr>\n",
              "    <tr>\n",
              "      <th>50%</th>\n",
              "      <td>12.900000</td>\n",
              "      <td>0.098000</td>\n",
              "      <td>56.000000</td>\n",
              "      <td>154.000000</td>\n",
              "      <td>3.200000</td>\n",
              "      <td>0.590000</td>\n",
              "      <td>10.400000</td>\n",
              "      <td>2.000000</td>\n",
              "    </tr>\n",
              "    <tr>\n",
              "      <th>75%</th>\n",
              "      <td>38.700000</td>\n",
              "      <td>0.368000</td>\n",
              "      <td>172.000000</td>\n",
              "      <td>262.000000</td>\n",
              "      <td>3.470000</td>\n",
              "      <td>1.100000</td>\n",
              "      <td>12.400000</td>\n",
              "      <td>3.000000</td>\n",
              "    </tr>\n",
              "    <tr>\n",
              "      <th>max</th>\n",
              "      <td>141.150000</td>\n",
              "      <td>1.351000</td>\n",
              "      <td>623.000000</td>\n",
              "      <td>1057.000000</td>\n",
              "      <td>6.130000</td>\n",
              "      <td>4.240000</td>\n",
              "      <td>26.500000</td>\n",
              "      <td>4.000000</td>\n",
              "    </tr>\n",
              "  </tbody>\n",
              "</table>\n",
              "</div>"
            ],
            "text/plain": [
              "       ResidualSugar     Chlorides  FreeSulfurDioxide  TotalSulfurDioxide  \\\n",
              "count   12179.000000  12157.000000       12148.000000        12113.000000   \n",
              "mean       23.367809      0.222559         106.679042          204.319120   \n",
              "std        24.945667      0.234288         108.102694          163.116881   \n",
              "min         0.000000      0.000000           0.000000            0.000000   \n",
              "25%         3.600000      0.046000          28.000000          100.000000   \n",
              "50%        12.900000      0.098000          56.000000          154.000000   \n",
              "75%        38.700000      0.368000         172.000000          262.000000   \n",
              "max       141.150000      1.351000         623.000000         1057.000000   \n",
              "\n",
              "                 pH     Sulphates       Alcohol        STARS  \n",
              "count  12400.000000  11585.000000  12142.000000  9436.000000  \n",
              "mean       3.207628      0.846668     10.523778     2.041755  \n",
              "std        0.679687      0.655612      3.629154     0.902540  \n",
              "min        0.480000      0.000000      0.000000     1.000000  \n",
              "25%        2.960000      0.430000      9.000000     1.000000  \n",
              "50%        3.200000      0.590000     10.400000     2.000000  \n",
              "75%        3.470000      1.100000     12.400000     3.000000  \n",
              "max        6.130000      4.240000     26.500000     4.000000  "
            ]
          },
          "metadata": {},
          "execution_count": 169
        }
      ]
    },
    {
      "cell_type": "code",
      "metadata": {
        "colab": {
          "base_uri": "https://localhost:8080/"
        },
        "id": "P979kYx2dHCO",
        "outputId": "010f44b2-c51b-4c3b-bcd5-1b0b54864c3d"
      },
      "source": [
        "#to see if there are any patterns we can fix in the missing data we will utlize the missingno library \n",
        "ax = msno.matrix(df_null.sample(500))\n"
      ],
      "execution_count": null,
      "outputs": [
        {
          "output_type": "display_data",
          "data": {
            "image/png": "[encoded data removed]",
            "text/plain": [
              "<Figure size 1800x720 with 2 Axes>"
            ]
          },
          "metadata": {
            "needs_background": "light"
          }
        }
      ]
    },
    {
      "cell_type": "markdown",
      "metadata": {
        "id": "9q6l1-v6n2Kn"
      },
      "source": [
        "There doesn't seem to be any pattern to the missing values. "
      ]
    },
    {
      "cell_type": "code",
      "metadata": {
        "colab": {
          "base_uri": "https://localhost:8080/"
        },
        "id": "jbduhWs7c1IG",
        "outputId": "43d00166-3acf-466e-9354-f319568f5060"
      },
      "source": [
        "#let's check the percent of missing data \n",
        "df_null.isnull().mean() * 100"
      ],
      "execution_count": null,
      "outputs": [
        {
          "output_type": "execute_result",
          "data": {
            "text/plain": [
              "ResidualSugar          4.814381\n",
              "Chlorides              4.986323\n",
              "FreeSulfurDioxide      5.056663\n",
              "TotalSulfurDioxide     5.330207\n",
              "pH                     3.087143\n",
              "Sulphates              9.456819\n",
              "Alcohol                5.103556\n",
              "STARS                 26.252442\n",
              "dtype: float64"
            ]
          },
          "metadata": {},
          "execution_count": 171
        }
      ]
    },
    {
      "cell_type": "markdown",
      "metadata": {
        "id": "DfV_Z1fjdvF_"
      },
      "source": [
        "### Null Impute\n",
        "We'll now turn toward filling in missing data. Our first step will be to create a new dataframe that we can attempt to transform, while preserving the initial dataset in case it is needed later."
      ]
    },
    {
      "cell_type": "code",
      "metadata": {
        "colab": {
          "base_uri": "https://localhost:8080/"
        },
        "id": "mnKbxgyoaf08",
        "outputId": "28272eb5-1f11-42fb-e1a3-dee32f98b861"
      },
      "source": [
        "#create a new datafram that we will modify values of, leaving the original in place to compare against\n",
        "df_prep = df\n",
        "df_prep.drop(['Unnamed: 0'], axis=1, inplace=True, errors='ignore')#drop column as it holds no value for us. \n",
        "df_prep.drop(['INDEX'], axis=1, inplace=True, errors='ignore')\n",
        "df_prep.head()\n",
        "df_prep.head()"
      ],
      "execution_count": null,
      "outputs": [
        {
          "output_type": "execute_result",
          "data": {
            "text/html": [
              "<div>\n",
              "<style scoped>\n",
              "    .dataframe tbody tr th:only-of-type {\n",
              "        vertical-align: middle;\n",
              "    }\n",
              "\n",
              "    .dataframe tbody tr th {\n",
              "        vertical-align: top;\n",
              "    }\n",
              "\n",
              "    .dataframe thead th {\n",
              "        text-align: right;\n",
              "    }\n",
              "</style>\n",
              "<table border=\"1\" class=\"dataframe\">\n",
              "  <thead>\n",
              "    <tr style=\"text-align: right;\">\n",
              "      <th></th>\n",
              "      <th>TARGET</th>\n",
              "      <th>FixedAcidity</th>\n",
              "      <th>VolatileAcidity</th>\n",
              "      <th>CitricAcid</th>\n",
              "      <th>ResidualSugar</th>\n",
              "      <th>Chlorides</th>\n",
              "      <th>FreeSulfurDioxide</th>\n",
              "      <th>TotalSulfurDioxide</th>\n",
              "      <th>Density</th>\n",
              "      <th>pH</th>\n",
              "      <th>Sulphates</th>\n",
              "      <th>Alcohol</th>\n",
              "      <th>LabelAppeal</th>\n",
              "      <th>AcidIndex</th>\n",
              "      <th>STARS</th>\n",
              "    </tr>\n",
              "  </thead>\n",
              "  <tbody>\n",
              "    <tr>\n",
              "      <th>0</th>\n",
              "      <td>3</td>\n",
              "      <td>3.2</td>\n",
              "      <td>1.160</td>\n",
              "      <td>0.98</td>\n",
              "      <td>54.2</td>\n",
              "      <td>0.567</td>\n",
              "      <td>NaN</td>\n",
              "      <td>268.0</td>\n",
              "      <td>0.99280</td>\n",
              "      <td>3.33</td>\n",
              "      <td>0.59</td>\n",
              "      <td>9.9</td>\n",
              "      <td>0</td>\n",
              "      <td>8</td>\n",
              "      <td>2.0</td>\n",
              "    </tr>\n",
              "    <tr>\n",
              "      <th>1</th>\n",
              "      <td>3</td>\n",
              "      <td>4.5</td>\n",
              "      <td>0.160</td>\n",
              "      <td>0.81</td>\n",
              "      <td>26.1</td>\n",
              "      <td>0.425</td>\n",
              "      <td>15.0</td>\n",
              "      <td>327.0</td>\n",
              "      <td>1.02792</td>\n",
              "      <td>3.38</td>\n",
              "      <td>0.70</td>\n",
              "      <td>NaN</td>\n",
              "      <td>-1</td>\n",
              "      <td>7</td>\n",
              "      <td>3.0</td>\n",
              "    </tr>\n",
              "    <tr>\n",
              "      <th>2</th>\n",
              "      <td>5</td>\n",
              "      <td>7.1</td>\n",
              "      <td>2.640</td>\n",
              "      <td>0.88</td>\n",
              "      <td>14.8</td>\n",
              "      <td>0.037</td>\n",
              "      <td>214.0</td>\n",
              "      <td>142.0</td>\n",
              "      <td>0.99518</td>\n",
              "      <td>3.12</td>\n",
              "      <td>0.48</td>\n",
              "      <td>22.0</td>\n",
              "      <td>-1</td>\n",
              "      <td>8</td>\n",
              "      <td>3.0</td>\n",
              "    </tr>\n",
              "    <tr>\n",
              "      <th>3</th>\n",
              "      <td>3</td>\n",
              "      <td>5.7</td>\n",
              "      <td>0.385</td>\n",
              "      <td>0.04</td>\n",
              "      <td>18.8</td>\n",
              "      <td>0.425</td>\n",
              "      <td>22.0</td>\n",
              "      <td>115.0</td>\n",
              "      <td>0.99640</td>\n",
              "      <td>2.24</td>\n",
              "      <td>1.83</td>\n",
              "      <td>6.2</td>\n",
              "      <td>-1</td>\n",
              "      <td>6</td>\n",
              "      <td>1.0</td>\n",
              "    </tr>\n",
              "    <tr>\n",
              "      <th>4</th>\n",
              "      <td>4</td>\n",
              "      <td>8.0</td>\n",
              "      <td>0.330</td>\n",
              "      <td>1.26</td>\n",
              "      <td>9.4</td>\n",
              "      <td>NaN</td>\n",
              "      <td>167.0</td>\n",
              "      <td>108.0</td>\n",
              "      <td>0.99457</td>\n",
              "      <td>3.12</td>\n",
              "      <td>1.77</td>\n",
              "      <td>13.7</td>\n",
              "      <td>0</td>\n",
              "      <td>9</td>\n",
              "      <td>2.0</td>\n",
              "    </tr>\n",
              "  </tbody>\n",
              "</table>\n",
              "</div>"
            ],
            "text/plain": [
              "   TARGET  FixedAcidity  VolatileAcidity  CitricAcid  ResidualSugar  \\\n",
              "0       3           3.2            1.160        0.98           54.2   \n",
              "1       3           4.5            0.160        0.81           26.1   \n",
              "2       5           7.1            2.640        0.88           14.8   \n",
              "3       3           5.7            0.385        0.04           18.8   \n",
              "4       4           8.0            0.330        1.26            9.4   \n",
              "\n",
              "   Chlorides  FreeSulfurDioxide  TotalSulfurDioxide  Density    pH  Sulphates  \\\n",
              "0      0.567                NaN               268.0  0.99280  3.33       0.59   \n",
              "1      0.425               15.0               327.0  1.02792  3.38       0.70   \n",
              "2      0.037              214.0               142.0  0.99518  3.12       0.48   \n",
              "3      0.425               22.0               115.0  0.99640  2.24       1.83   \n",
              "4        NaN              167.0               108.0  0.99457  3.12       1.77   \n",
              "\n",
              "   Alcohol  LabelAppeal  AcidIndex  STARS  \n",
              "0      9.9            0          8    2.0  \n",
              "1      NaN           -1          7    3.0  \n",
              "2     22.0           -1          8    3.0  \n",
              "3      6.2           -1          6    1.0  \n",
              "4     13.7            0          9    2.0  "
            ]
          },
          "metadata": {},
          "execution_count": 172
        }
      ]
    },
    {
      "cell_type": "markdown",
      "metadata": {
        "id": "AI85O91mmDH3"
      },
      "source": [
        "If we impute a variable missing more than 10% of its records, the risk to biasing the feature as a whole increases. The only variable we have to worry about in this regard is STARS. Let us take a closer look at this feature now to see what we can do."
      ]
    },
    {
      "cell_type": "code",
      "metadata": {
        "id": "KXfPbTK2ufPj",
        "colab": {
          "base_uri": "https://localhost:8080/"
        },
        "outputId": "b1e749f4-8b55-41fa-c291-52a59a41d93c"
      },
      "source": [
        "#\n",
        "i= df.STARS\n",
        "\n",
        "plt.figure(figsize=(8,4))\n",
        "#Histogram\n",
        "plt.subplot(1,2,1);\n",
        "sns.distplot(i); \n",
        "plt.title('STARS')\n",
        "#Boxplot\n",
        "plt.subplot(1,2,2);\n",
        "sns.boxplot(i);\n",
        "plt.title('STARS');\n",
        "\n",
        "print(\"Skewness: %f\" %i.skew()) #Adds Skew value\n",
        "i.describe() #Adds summary statistics of the variable"
      ],
      "execution_count": null,
      "outputs": [
        {
          "output_type": "stream",
          "name": "stdout",
          "text": [
            "Skewness: 0.447378\n"
          ]
        },
        {
          "output_type": "execute_result",
          "data": {
            "text/plain": [
              "count    9436.000000\n",
              "mean        2.041755\n",
              "std         0.902540\n",
              "min         1.000000\n",
              "25%         1.000000\n",
              "50%         2.000000\n",
              "75%         3.000000\n",
              "max         4.000000\n",
              "Name: STARS, dtype: float64"
            ]
          },
          "metadata": {},
          "execution_count": 173
        },
        {
          "output_type": "display_data",
          "data": {
            "image/png": "[encoded data removed]",
            "text/plain": [
              "<Figure size 576x288 with 2 Axes>"
            ]
          },
          "metadata": {
            "needs_background": "light"
          }
        }
      ]
    },
    {
      "cell_type": "markdown",
      "metadata": {
        "id": "fRXQEpwQqPxM"
      },
      "source": [
        "#### fillna\n",
        "We can see that none of the wines were rated 5 stars, adn none were rated 0 stars. We can also see from above that the review system is correlated with the ammount of wine purchased. Although I am not a subject matter expert (and I would consult an SME and the originators of the data to double check) I believe replacing missing values with a 0 value will fix our null data problem without affecting our model unduly.\n",
        "\n",
        " "
      ]
    },
    {
      "cell_type": "code",
      "metadata": {
        "colab": {
          "base_uri": "https://localhost:8080/"
        },
        "id": "b9Hc7MpJp6id",
        "outputId": "aa8e299c-e7bb-4cba-b13f-c952b41ba3dc"
      },
      "source": [
        "df_prep['STARS'].fillna(0, inplace = True)\n",
        "df_prep.head(10)"
      ],
      "execution_count": null,
      "outputs": [
        {
          "output_type": "execute_result",
          "data": {
            "text/html": [
              "<div>\n",
              "<style scoped>\n",
              "    .dataframe tbody tr th:only-of-type {\n",
              "        vertical-align: middle;\n",
              "    }\n",
              "\n",
              "    .dataframe tbody tr th {\n",
              "        vertical-align: top;\n",
              "    }\n",
              "\n",
              "    .dataframe thead th {\n",
              "        text-align: right;\n",
              "    }\n",
              "</style>\n",
              "<table border=\"1\" class=\"dataframe\">\n",
              "  <thead>\n",
              "    <tr style=\"text-align: right;\">\n",
              "      <th></th>\n",
              "      <th>TARGET</th>\n",
              "      <th>FixedAcidity</th>\n",
              "      <th>VolatileAcidity</th>\n",
              "      <th>CitricAcid</th>\n",
              "      <th>ResidualSugar</th>\n",
              "      <th>Chlorides</th>\n",
              "      <th>FreeSulfurDioxide</th>\n",
              "      <th>TotalSulfurDioxide</th>\n",
              "      <th>Density</th>\n",
              "      <th>pH</th>\n",
              "      <th>Sulphates</th>\n",
              "      <th>Alcohol</th>\n",
              "      <th>LabelAppeal</th>\n",
              "      <th>AcidIndex</th>\n",
              "      <th>STARS</th>\n",
              "    </tr>\n",
              "  </thead>\n",
              "  <tbody>\n",
              "    <tr>\n",
              "      <th>0</th>\n",
              "      <td>3</td>\n",
              "      <td>3.2</td>\n",
              "      <td>1.160</td>\n",
              "      <td>0.98</td>\n",
              "      <td>54.20</td>\n",
              "      <td>0.567</td>\n",
              "      <td>NaN</td>\n",
              "      <td>268.0</td>\n",
              "      <td>0.99280</td>\n",
              "      <td>3.33</td>\n",
              "      <td>0.59</td>\n",
              "      <td>9.9</td>\n",
              "      <td>0</td>\n",
              "      <td>8</td>\n",
              "      <td>2.0</td>\n",
              "    </tr>\n",
              "    <tr>\n",
              "      <th>1</th>\n",
              "      <td>3</td>\n",
              "      <td>4.5</td>\n",
              "      <td>0.160</td>\n",
              "      <td>0.81</td>\n",
              "      <td>26.10</td>\n",
              "      <td>0.425</td>\n",
              "      <td>15.0</td>\n",
              "      <td>327.0</td>\n",
              "      <td>1.02792</td>\n",
              "      <td>3.38</td>\n",
              "      <td>0.70</td>\n",
              "      <td>NaN</td>\n",
              "      <td>-1</td>\n",
              "      <td>7</td>\n",
              "      <td>3.0</td>\n",
              "    </tr>\n",
              "    <tr>\n",
              "      <th>2</th>\n",
              "      <td>5</td>\n",
              "      <td>7.1</td>\n",
              "      <td>2.640</td>\n",
              "      <td>0.88</td>\n",
              "      <td>14.80</td>\n",
              "      <td>0.037</td>\n",
              "      <td>214.0</td>\n",
              "      <td>142.0</td>\n",
              "      <td>0.99518</td>\n",
              "      <td>3.12</td>\n",
              "      <td>0.48</td>\n",
              "      <td>22.0</td>\n",
              "      <td>-1</td>\n",
              "      <td>8</td>\n",
              "      <td>3.0</td>\n",
              "    </tr>\n",
              "    <tr>\n",
              "      <th>3</th>\n",
              "      <td>3</td>\n",
              "      <td>5.7</td>\n",
              "      <td>0.385</td>\n",
              "      <td>0.04</td>\n",
              "      <td>18.80</td>\n",
              "      <td>0.425</td>\n",
              "      <td>22.0</td>\n",
              "      <td>115.0</td>\n",
              "      <td>0.99640</td>\n",
              "      <td>2.24</td>\n",
              "      <td>1.83</td>\n",
              "      <td>6.2</td>\n",
              "      <td>-1</td>\n",
              "      <td>6</td>\n",
              "      <td>1.0</td>\n",
              "    </tr>\n",
              "    <tr>\n",
              "      <th>4</th>\n",
              "      <td>4</td>\n",
              "      <td>8.0</td>\n",
              "      <td>0.330</td>\n",
              "      <td>1.26</td>\n",
              "      <td>9.40</td>\n",
              "      <td>NaN</td>\n",
              "      <td>167.0</td>\n",
              "      <td>108.0</td>\n",
              "      <td>0.99457</td>\n",
              "      <td>3.12</td>\n",
              "      <td>1.77</td>\n",
              "      <td>13.7</td>\n",
              "      <td>0</td>\n",
              "      <td>9</td>\n",
              "      <td>2.0</td>\n",
              "    </tr>\n",
              "    <tr>\n",
              "      <th>5</th>\n",
              "      <td>0</td>\n",
              "      <td>11.3</td>\n",
              "      <td>0.320</td>\n",
              "      <td>0.59</td>\n",
              "      <td>2.20</td>\n",
              "      <td>0.556</td>\n",
              "      <td>37.0</td>\n",
              "      <td>15.0</td>\n",
              "      <td>0.99940</td>\n",
              "      <td>3.20</td>\n",
              "      <td>1.29</td>\n",
              "      <td>15.4</td>\n",
              "      <td>0</td>\n",
              "      <td>11</td>\n",
              "      <td>0.0</td>\n",
              "    </tr>\n",
              "    <tr>\n",
              "      <th>6</th>\n",
              "      <td>0</td>\n",
              "      <td>7.7</td>\n",
              "      <td>0.290</td>\n",
              "      <td>0.40</td>\n",
              "      <td>21.50</td>\n",
              "      <td>0.060</td>\n",
              "      <td>287.0</td>\n",
              "      <td>156.0</td>\n",
              "      <td>0.99572</td>\n",
              "      <td>3.49</td>\n",
              "      <td>1.21</td>\n",
              "      <td>10.3</td>\n",
              "      <td>0</td>\n",
              "      <td>8</td>\n",
              "      <td>0.0</td>\n",
              "    </tr>\n",
              "    <tr>\n",
              "      <th>7</th>\n",
              "      <td>4</td>\n",
              "      <td>6.5</td>\n",
              "      <td>1.220</td>\n",
              "      <td>0.34</td>\n",
              "      <td>1.40</td>\n",
              "      <td>0.040</td>\n",
              "      <td>523.0</td>\n",
              "      <td>551.0</td>\n",
              "      <td>1.03236</td>\n",
              "      <td>3.20</td>\n",
              "      <td>NaN</td>\n",
              "      <td>11.6</td>\n",
              "      <td>1</td>\n",
              "      <td>7</td>\n",
              "      <td>3.0</td>\n",
              "    </tr>\n",
              "    <tr>\n",
              "      <th>8</th>\n",
              "      <td>3</td>\n",
              "      <td>14.8</td>\n",
              "      <td>0.270</td>\n",
              "      <td>1.05</td>\n",
              "      <td>11.25</td>\n",
              "      <td>0.007</td>\n",
              "      <td>213.0</td>\n",
              "      <td>NaN</td>\n",
              "      <td>0.99620</td>\n",
              "      <td>4.93</td>\n",
              "      <td>0.26</td>\n",
              "      <td>15.0</td>\n",
              "      <td>0</td>\n",
              "      <td>6</td>\n",
              "      <td>0.0</td>\n",
              "    </tr>\n",
              "    <tr>\n",
              "      <th>9</th>\n",
              "      <td>6</td>\n",
              "      <td>5.5</td>\n",
              "      <td>0.220</td>\n",
              "      <td>0.39</td>\n",
              "      <td>1.80</td>\n",
              "      <td>0.277</td>\n",
              "      <td>62.0</td>\n",
              "      <td>180.0</td>\n",
              "      <td>0.94724</td>\n",
              "      <td>3.09</td>\n",
              "      <td>0.75</td>\n",
              "      <td>12.6</td>\n",
              "      <td>0</td>\n",
              "      <td>8</td>\n",
              "      <td>4.0</td>\n",
              "    </tr>\n",
              "  </tbody>\n",
              "</table>\n",
              "</div>"
            ],
            "text/plain": [
              "   TARGET  FixedAcidity  VolatileAcidity  CitricAcid  ResidualSugar  \\\n",
              "0       3           3.2            1.160        0.98          54.20   \n",
              "1       3           4.5            0.160        0.81          26.10   \n",
              "2       5           7.1            2.640        0.88          14.80   \n",
              "3       3           5.7            0.385        0.04          18.80   \n",
              "4       4           8.0            0.330        1.26           9.40   \n",
              "5       0          11.3            0.320        0.59           2.20   \n",
              "6       0           7.7            0.290        0.40          21.50   \n",
              "7       4           6.5            1.220        0.34           1.40   \n",
              "8       3          14.8            0.270        1.05          11.25   \n",
              "9       6           5.5            0.220        0.39           1.80   \n",
              "\n",
              "   Chlorides  FreeSulfurDioxide  TotalSulfurDioxide  Density    pH  Sulphates  \\\n",
              "0      0.567                NaN               268.0  0.99280  3.33       0.59   \n",
              "1      0.425               15.0               327.0  1.02792  3.38       0.70   \n",
              "2      0.037              214.0               142.0  0.99518  3.12       0.48   \n",
              "3      0.425               22.0               115.0  0.99640  2.24       1.83   \n",
              "4        NaN              167.0               108.0  0.99457  3.12       1.77   \n",
              "5      0.556               37.0                15.0  0.99940  3.20       1.29   \n",
              "6      0.060              287.0               156.0  0.99572  3.49       1.21   \n",
              "7      0.040              523.0               551.0  1.03236  3.20        NaN   \n",
              "8      0.007              213.0                 NaN  0.99620  4.93       0.26   \n",
              "9      0.277               62.0               180.0  0.94724  3.09       0.75   \n",
              "\n",
              "   Alcohol  LabelAppeal  AcidIndex  STARS  \n",
              "0      9.9            0          8    2.0  \n",
              "1      NaN           -1          7    3.0  \n",
              "2     22.0           -1          8    3.0  \n",
              "3      6.2           -1          6    1.0  \n",
              "4     13.7            0          9    2.0  \n",
              "5     15.4            0         11    0.0  \n",
              "6     10.3            0          8    0.0  \n",
              "7     11.6            1          7    3.0  \n",
              "8     15.0            0          6    0.0  \n",
              "9     12.6            0          8    4.0  "
            ]
          },
          "metadata": {},
          "execution_count": 174
        }
      ]
    },
    {
      "cell_type": "code",
      "metadata": {
        "colab": {
          "base_uri": "https://localhost:8080/"
        },
        "id": "5QMSpXLTrkD1",
        "outputId": "da0c9420-6c7a-43e8-b648-6e41d1631290"
      },
      "source": [
        "i= df_prep.STARS\n",
        "\n",
        "plt.figure(figsize=(8,4))\n",
        "plt.subplot(1,2,1);#Histogram\n",
        "sns.distplot(i); \n",
        "plt.title('STARS')\n",
        "plt.subplot(1,2,2);#Boxplot\n",
        "sns.boxplot(i);\n",
        "plt.title('STARS');\n",
        "\n",
        "print(\"Skewness: %f\" %i.skew()) #Adds Skew value\n",
        "i.describe() #Adds summary statistics of the variable"
      ],
      "execution_count": null,
      "outputs": [
        {
          "output_type": "stream",
          "name": "stdout",
          "text": [
            "Skewness: 0.254900\n"
          ]
        },
        {
          "output_type": "execute_result",
          "data": {
            "text/plain": [
              "count    12795.000000\n",
              "mean         1.505744\n",
              "std          1.186538\n",
              "min          0.000000\n",
              "25%          0.000000\n",
              "50%          1.000000\n",
              "75%          2.000000\n",
              "max          4.000000\n",
              "Name: STARS, dtype: float64"
            ]
          },
          "metadata": {},
          "execution_count": 175
        },
        {
          "output_type": "display_data",
          "data": {
            "image/png": "[encoded data removed]",
            "text/plain": [
              "<Figure size 576x288 with 2 Axes>"
            ]
          },
          "metadata": {
            "needs_background": "light"
          }
        }
      ]
    },
    {
      "cell_type": "markdown",
      "metadata": {
        "id": "JyEEmv-7sPLn"
      },
      "source": [
        "The skew decreased with this imputation, which is generally good for predictive models. Though the standard deviation increased, it is slight, and expected when adding an extra value past the previous minimum. It doesnt seem to have shifted the boxplot, so I belive we can call this a success!\n",
        "\n",
        "The remaining features are all continuous and have fewer than 10% of their values missing. They are good candidates for an imputation method. Univariate imputation is forwned upon when multi-variate imputation is available, though knowing which method to chose can be confusing. Here we will try using the K-Nearest-Neighbor method and the IterativeImputer and use a regression model to identify which has better performance. We will start with a simple imputer using the median value though, to demonstrate the priciple, and give us something to compare against.\n",
        "\n",
        "#### Simple Imputer"
      ]
    },
    {
      "cell_type": "code",
      "metadata": {
        "id": "ABr2cGzr25eN",
        "colab": {
          "base_uri": "https://localhost:8080/"
        },
        "outputId": "d75a86b9-4b05-4b1e-8a06-ab6d4381e7f7"
      },
      "source": [
        "#split response variable from data set so we do not leak data in imputation\n",
        "df_simple = df_prep.values#changing this to a numpy array in order to impute\n",
        "X_simple = df_simple[:,1:]#all rows, everything but the response variable\n",
        "y_simple = df_simple[:,0]#all rows, only the first column (response variable)\n",
        "X_simple"
      ],
      "execution_count": null,
      "outputs": [
        {
          "output_type": "execute_result",
          "data": {
            "text/plain": [
              "array([[ 3.2 ,  1.16,  0.98, ...,  0.  ,  8.  ,  2.  ],\n",
              "       [ 4.5 ,  0.16,  0.81, ..., -1.  ,  7.  ,  3.  ],\n",
              "       [ 7.1 ,  2.64,  0.88, ..., -1.  ,  8.  ,  3.  ],\n",
              "       ...,\n",
              "       [ 6.  ,  0.17,  1.1 , ...,  0.  ,  6.  ,  2.  ],\n",
              "       [ 7.7 ,  0.32,  0.12, ..., -1.  ,  6.  ,  2.  ],\n",
              "       [ 5.2 ,  0.04,  0.81, ...,  0.  ,  7.  ,  2.  ]])"
            ]
          },
          "metadata": {},
          "execution_count": 176
        }
      ]
    },
    {
      "cell_type": "code",
      "metadata": {
        "colab": {
          "base_uri": "https://localhost:8080/"
        },
        "id": "mdyqsCdnPcMk",
        "outputId": "3219d269-1a91-4598-bfb7-c684be0e9eec"
      },
      "source": [
        "y_simple"
      ],
      "execution_count": null,
      "outputs": [
        {
          "output_type": "execute_result",
          "data": {
            "text/plain": [
              "array([3., 3., 5., ..., 4., 3., 4.])"
            ]
          },
          "metadata": {},
          "execution_count": 177
        }
      ]
    },
    {
      "cell_type": "markdown",
      "metadata": {
        "id": "19hYMABVv4N1"
      },
      "source": [
        "now we need to split into a test/training set. first impute training set then the test set in order to prevent leaking data from the training set to the testing sest. "
      ]
    },
    {
      "cell_type": "code",
      "metadata": {
        "id": "2R_ScCc7R9Oy"
      },
      "source": [
        "X_simple_train, X_simple_test, y_simple_train, y_simple_test = train_test_split(X_simple, \n",
        "                                                                                y_simple, \n",
        "                                                                                test_size=0.2, #why 20 percent???!?!??!?!?!?!?!?!?!?!?!?!?\n",
        "                                                                                random_state=42)\n",
        "\n"
      ],
      "execution_count": null,
      "outputs": []
    },
    {
      "cell_type": "code",
      "metadata": {
        "id": "mnKKClbAR9Rf",
        "colab": {
          "base_uri": "https://localhost:8080/"
        },
        "outputId": "283c6a60-95ae-466d-c1bd-95190b56e779"
      },
      "source": [
        "\n",
        "# imputer from sklearn.impute simple imputer \n",
        "imputer_median = SimpleImputer(missing_values = np.nan, strategy ='median')#Simple Imputer which replaces missing values with the median of the column\n",
        "imputer_median.fit(X_simple_train)#first train the imputer only on training data, not testing or vaildating to prevent data leak\n"
      ],
      "execution_count": null,
      "outputs": [
        {
          "output_type": "execute_result",
          "data": {
            "text/plain": [
              "SimpleImputer(add_indicator=False, copy=True, fill_value=None,\n",
              "              missing_values=nan, strategy='median', verbose=0)"
            ]
          },
          "metadata": {},
          "execution_count": 179
        }
      ]
    },
    {
      "cell_type": "code",
      "metadata": {
        "id": "t0wgqphP8b0c"
      },
      "source": [
        "#we can now transform the training set and testing set with the median calculated from only the training set, preventing data leakage\n",
        "X_simple_train = imputer_median.transform(X_simple_train)\n",
        "X_simple_test  = imputer_median.transform(X_simple_test)"
      ],
      "execution_count": null,
      "outputs": []
    },
    {
      "cell_type": "code",
      "metadata": {
        "id": "vrNXS3m4AY9z",
        "colab": {
          "base_uri": "https://localhost:8080/"
        },
        "outputId": "8fbe0e40-d063-4f85-b322-c36d5ecd6282"
      },
      "source": [
        "#sanity check to see if any values are missing\n",
        "'Missing: {}'.format(sum(np.isnan(X_simple_train).flatten()))"
      ],
      "execution_count": null,
      "outputs": [
        {
          "output_type": "execute_result",
          "data": {
            "application/vnd.google.colaboratory.intrinsic+json": {
              "type": "string"
            },
            "text/plain": [
              "'Missing: 0'"
            ]
          },
          "metadata": {},
          "execution_count": 181
        }
      ]
    },
    {
      "cell_type": "code",
      "metadata": {
        "id": "AA7JZrEV6M_l",
        "colab": {
          "base_uri": "https://localhost:8080/"
        },
        "outputId": "983acb54-4fb5-4d5d-d4b1-ebfb61ac0544"
      },
      "source": [
        "#Now testing\n",
        "from sklearn.linear_model import LinearRegression# load the LinearRegression() function from sklearn's 'linear_model' sub-library\n",
        "from sklearn.model_selection import cross_val_score# load the cross_val_score function from the sklearn.model_selection module\n",
        "\n",
        "model = LinearRegression()# choose the model function you want to use to a variable\n",
        "\n",
        "# fit the model using 10-fold cross validation. WHY 10 FOLDS?!?!?!?!?!!?!?!?!?!?!?!?!?!?!?!?!?!?!?!?!?!?!?!?!?!?!?!?!?!?!?!?\n",
        "scores = cross_val_score(model, X_simple_train, y_simple_train, cv=10)\n",
        "\n",
        "# print out the R^2 metrics derived from the K-fold cross validation of our linear regression model\n",
        "print (scores)\n",
        "print (np.mean(scores))"
      ],
      "execution_count": null,
      "outputs": [
        {
          "output_type": "stream",
          "name": "stdout",
          "text": [
            "[0.53126077 0.4854879  0.50316036 0.5345579  0.51074556 0.54707103\n",
            " 0.51390665 0.56000699 0.54156149 0.52996627]\n",
            "0.5257724932269527\n"
          ]
        }
      ]
    },
    {
      "cell_type": "markdown",
      "metadata": {
        "id": "6cvvtmdRJtgl"
      },
      "source": [
        "#### KNN vs IterativeImputer"
      ]
    },
    {
      "cell_type": "code",
      "metadata": {
        "id": "osAXLMrl-g_W"
      },
      "source": [
        "#split response variable from data set so we do not leak data in imputation?\n",
        "df_knn = df_prep.values #changing this to a numpy array in order to impute\n",
        "X_knn = df_knn[:,1:]#all rows, everything but the response variable\n",
        "y_knn = df_knn[:,0]#all rows, only the first column (response variable)"
      ],
      "execution_count": null,
      "outputs": []
    },
    {
      "cell_type": "code",
      "metadata": {
        "id": "hVlTt9k6OIF8"
      },
      "source": [
        "# Now split the data into training and testing subsets. \n",
        "# set aside 20% of the data for testing purposes, specifying a value for the inital random_state WHY 20?!?!?!?!\n",
        "# to have the ability to reproduce the exact same training + testing subsets repeatedly\n",
        "X_knn_train, X_knn_test, y_knn_train, y_knn_test = train_test_split(X_knn, y_knn, test_size=0.2, random_state=42)"
      ],
      "execution_count": null,
      "outputs": []
    },
    {
      "cell_type": "code",
      "metadata": {
        "id": "7EnNLNZU9_yl"
      },
      "source": [
        "# source: https://www.youtube.com/watch?v=m_qKhnaYZlc\n",
        "#simple imbputer is univariate. knn (most similar rows) and iterative (regression model) imputer are multivariate, so should give better impution\n",
        "from sklearn.impute import KNNImputer\n",
        "\n",
        "impute_knn = KNNImputer(n_neighbors=2)#why 2?!??!?!?!?!?!?!?!?!?!?!?!?!?\n",
        "X_knn_train = impute_knn.fit_transform(X_knn_train)#fiting on the training data first to prevent data leak to test set. the fit_transform method is a combination of fit() and transform()\n",
        "X_knn_test  = impute_knn.transform(X_knn_test)"
      ],
      "execution_count": null,
      "outputs": []
    },
    {
      "cell_type": "code",
      "metadata": {
        "id": "ttqwOYh_OdyY",
        "colab": {
          "base_uri": "https://localhost:8080/"
        },
        "outputId": "1dda9401-553d-441e-ed1b-383693107681"
      },
      "source": [
        "# The training set will be divided into 10 folds for K-fold cross-validation based on generalized experimentation suggestion.\n",
        "# Each fold will have a chance to be the validation fold to assess the accuracy. Total 10 times. Then the final accuracy will be calculated as the mean value of each validation accuracy.\n",
        "scores = cross_val_score(model, X_knn_train, y_knn_train, cv=10)\n",
        "\n",
        "# print out the R^2 metrics derived from the K-fold cross validation of our linear regression model\n",
        "print (scores)\n",
        "print (np.mean(scores))"
      ],
      "execution_count": null,
      "outputs": [
        {
          "output_type": "stream",
          "name": "stdout",
          "text": [
            "[0.53116604 0.48538574 0.50296267 0.53448029 0.51045718 0.54737075\n",
            " 0.51375696 0.56014641 0.54200806 0.53063032]\n",
            "0.5258364420551509\n"
          ]
        }
      ]
    },
    {
      "cell_type": "code",
      "metadata": {
        "id": "_3tYdF6yIK-L",
        "colab": {
          "base_uri": "https://localhost:8080/"
        },
        "outputId": "241a5107-5dcd-4550-c10a-90f3990ddc54"
      },
      "source": [
        "from sklearn.experimental import enable_iterative_imputer #because it is experimental, it needs to be explicitly enabled\n",
        "from sklearn.impute import IterativeImputer#loading IterativeImputer package\n",
        "\n",
        "#split response variable from data set so we do not leak data in imputation?\n",
        "df_itim = df_prep.values #changing this to a numpy array in order to impute\n",
        "X_itim = df_itim[:,1:]#all rows, everything but the response variable\n",
        "y_itim = df_itim[:,0]#all rows, only the first column (response variable)\n",
        "\n",
        "X_itim_train, X_itim_test, y_itim_train, y_itim_test = train_test_split(X_itim, y_itim, test_size=0.2, random_state=42)\n",
        "\n",
        "impute_it = IterativeImputer()\n",
        "X_itim_train = impute_it.fit_transform(X_itim_train)\n",
        "X_itim_test  = impute_knn.transform(X_itim_test)\n",
        "# The training set will be divided into 10 folds for K-fold cross-validation based on generalized experimentation suggestion.\n",
        "# Each fold will have a chance to be the validation fold to assess the accuracy. Total 10 times. Then the final accuracy will be calculated as the mean value of each validation accuracy.\n",
        "scores = cross_val_score(model, X_itim_train, y_itim_train, cv=10)\n",
        "# print out the R^2 metrics derived from the K-fold cross validation of our linear regression model\n",
        "print (scores)\n",
        "print (np.mean(scores))"
      ],
      "execution_count": null,
      "outputs": [
        {
          "output_type": "stream",
          "name": "stdout",
          "text": [
            "[0.53117284 0.48555308 0.50318568 0.5345238  0.51088579 0.54724131\n",
            " 0.51373576 0.56015641 0.54171478 0.52999502]\n",
            "0.5258164470057624\n"
          ]
        }
      ]
    },
    {
      "cell_type": "markdown",
      "metadata": {
        "id": "b9AjfcncydzP"
      },
      "source": [
        "It looks like none of the models are all that different from each other. This may be because many of the values are skewed, and training models benefit from bell shaped data. Let's now turn toward noarmalizing these features, before revisiting machine learning models. I chose Linear Regression above, but there is no free lunch after all.At this point, I will stop applying ML functions and building Models. It is helpful to understand how our changes can affect models, but it is outside the scope of this assignment."
      ]
    },
    {
      "cell_type": "code",
      "metadata": {
        "colab": {
          "base_uri": "https://localhost:8080/"
        },
        "id": "P2P2qbwGNQJK",
        "outputId": "90b4ae24-d85d-4dfe-a4b0-68674db29f6a"
      },
      "source": [
        "#sanity check to see if any values are missing\n",
        "df_prep.isnull().mean() * 100"
      ],
      "execution_count": null,
      "outputs": [
        {
          "output_type": "execute_result",
          "data": {
            "text/plain": [
              "TARGET                0.000000\n",
              "FixedAcidity          0.000000\n",
              "VolatileAcidity       0.000000\n",
              "CitricAcid            0.000000\n",
              "ResidualSugar         4.814381\n",
              "Chlorides             4.986323\n",
              "FreeSulfurDioxide     5.056663\n",
              "TotalSulfurDioxide    5.330207\n",
              "Density               0.000000\n",
              "pH                    3.087143\n",
              "Sulphates             9.456819\n",
              "Alcohol               5.103556\n",
              "LabelAppeal           0.000000\n",
              "AcidIndex             0.000000\n",
              "STARS                 0.000000\n",
              "dtype: float64"
            ]
          },
          "metadata": {},
          "execution_count": 188
        }
      ]
    },
    {
      "cell_type": "code",
      "metadata": {
        "id": "gwv6v09EM0gh"
      },
      "source": [
        "impute_it.fit_transform(df_prep)\n",
        "df_prep = pd.DataFrame(df_prep, columns = ['TARGET','FixedAcidity','VolatileAcidity','CitricAcid','ResidualSugar','Chlorides',\n",
        "                                           'FreeSulfurDioxide','TotalSulfurDioxide','Density','pH','Sulphates','Alcohol',\n",
        "                                           'LabelAppeal','AcidIndex','STARS'])\n"
      ],
      "execution_count": null,
      "outputs": []
    },
    {
      "cell_type": "code",
      "metadata": {
        "colab": {
          "base_uri": "https://localhost:8080/"
        },
        "id": "EECHg4W6NQsP",
        "outputId": "921f986c-538a-4659-c865-c33e8d04b6d6"
      },
      "source": [
        "#sanity check to see if any values are missing\n",
        "df_prep.isnull().mean() * 100"
      ],
      "execution_count": null,
      "outputs": [
        {
          "output_type": "execute_result",
          "data": {
            "text/plain": [
              "TARGET                0.000000\n",
              "FixedAcidity          0.000000\n",
              "VolatileAcidity       0.000000\n",
              "CitricAcid            0.000000\n",
              "ResidualSugar         4.814381\n",
              "Chlorides             4.986323\n",
              "FreeSulfurDioxide     5.056663\n",
              "TotalSulfurDioxide    5.330207\n",
              "Density               0.000000\n",
              "pH                    3.087143\n",
              "Sulphates             9.456819\n",
              "Alcohol               5.103556\n",
              "LabelAppeal           0.000000\n",
              "AcidIndex             0.000000\n",
              "STARS                 0.000000\n",
              "dtype: float64"
            ]
          },
          "metadata": {},
          "execution_count": 190
        }
      ]
    },
    {
      "cell_type": "markdown",
      "metadata": {
        "id": "ZO9NP4e2J_aI"
      },
      "source": [
        "### Normalizing Skewed Data\n",
        "\n",
        "Notes on Transformations\n",
        "\n",
        "\n",
        "Square Root: \n",
        "\n",
        "> The square root method is typically used when your data is moderately skewed. Now using the square root (e.g., sqrt(x)) is  a transformation that has a moderate effect on distribution shape. It is generally used to reduce right skewed data. Finally, the square root can be applied on zero values and is most commonly used on counted data.\n",
        "\n",
        "Logarithmic:\n",
        "\n",
        "> The logarithmic is a strong transformation that has a major effect on distribution shape. This technique is, as the square root method, oftenly used for reducing right skewness. Worth noting, however, is that it can not be applied to zero or negative values.\n",
        "\n",
        "Box Cox:\n",
        "\n",
        "> The Box-Cox transformation is, as you probably understand, also a technique to transform non-normal data into normal shape. This is a procedure to identify a suitable exponent (Lambda = l) to use to transform skewed data.*\n",
        "\n",
        "Yeo-Johnson:\n",
        "\n",
        ">Similar supports both positive or negative data.\n",
        "\n",
        "https://www.marsja.se/transform-skewed-data-using-square-root-log-box-cox-methods-in-python/"
      ]
    },
    {
      "cell_type": "code",
      "metadata": {
        "colab": {
          "base_uri": "https://localhost:8080/"
        },
        "id": "oiKv8PJpzsD-",
        "outputId": "9400469f-20a3-4243-eebe-29d79d284f16"
      },
      "source": [
        "#first we will quickly loop over the dataframe to remind ourselves which of our feaures are skewed\n",
        "for (columnName, columnData) in df_prep.iteritems():\n",
        "  if columnData.abs().skew() > 1:\n",
        "    print('Column Name : ', columnName)\n",
        "    print('Column Contents : ', columnData.skew())"
      ],
      "execution_count": null,
      "outputs": [
        {
          "output_type": "stream",
          "name": "stdout",
          "text": [
            "Column Name :  FixedAcidity\n",
            "Column Contents :  1.1745560033933498\n",
            "Column Name :  VolatileAcidity\n",
            "Column Contents :  1.6533658263962545\n",
            "Column Name :  CitricAcid\n",
            "Column Contents :  1.6431953805614938\n",
            "Column Name :  ResidualSugar\n",
            "Column Contents :  1.4691617785223794\n",
            "Column Name :  Chlorides\n",
            "Column Contents :  1.4811472572110147\n",
            "Column Name :  FreeSulfurDioxide\n",
            "Column Contents :  1.5301340771090322\n",
            "Column Name :  TotalSulfurDioxide\n",
            "Column Contents :  1.6112748631226705\n",
            "Column Name :  Sulphates\n",
            "Column Contents :  1.6918104897568227\n",
            "Column Name :  AcidIndex\n",
            "Column Contents :  1.6488825330155508\n"
          ]
        }
      ]
    },
    {
      "cell_type": "code",
      "metadata": {
        "colab": {
          "base_uri": "https://localhost:8080/",
          "height": 298
        },
        "id": "ytEPsK-U3CkE",
        "outputId": "9c1c6de4-e983-44cb-d6bf-0f7e2d9657af"
      },
      "source": [
        "#refreshing ourselves on the scale and attributes of our skewed columns\n",
        "df_prep[['FixedAcidity','VolatileAcidity','CitricAcid','ResidualSugar','Chlorides',\n",
        "        'FreeSulfurDioxide','TotalSulfurDioxide','Sulphates','AcidIndex']].describe()"
      ],
      "execution_count": null,
      "outputs": [
        {
          "output_type": "execute_result",
          "data": {
            "text/html": [
              "<div>\n",
              "<style scoped>\n",
              "    .dataframe tbody tr th:only-of-type {\n",
              "        vertical-align: middle;\n",
              "    }\n",
              "\n",
              "    .dataframe tbody tr th {\n",
              "        vertical-align: top;\n",
              "    }\n",
              "\n",
              "    .dataframe thead th {\n",
              "        text-align: right;\n",
              "    }\n",
              "</style>\n",
              "<table border=\"1\" class=\"dataframe\">\n",
              "  <thead>\n",
              "    <tr style=\"text-align: right;\">\n",
              "      <th></th>\n",
              "      <th>FixedAcidity</th>\n",
              "      <th>VolatileAcidity</th>\n",
              "      <th>CitricAcid</th>\n",
              "      <th>ResidualSugar</th>\n",
              "      <th>Chlorides</th>\n",
              "      <th>FreeSulfurDioxide</th>\n",
              "      <th>TotalSulfurDioxide</th>\n",
              "      <th>Sulphates</th>\n",
              "      <th>AcidIndex</th>\n",
              "    </tr>\n",
              "  </thead>\n",
              "  <tbody>\n",
              "    <tr>\n",
              "      <th>count</th>\n",
              "      <td>12795.000000</td>\n",
              "      <td>12795.000000</td>\n",
              "      <td>12795.000000</td>\n",
              "      <td>12179.000000</td>\n",
              "      <td>12157.000000</td>\n",
              "      <td>12148.000000</td>\n",
              "      <td>12113.000000</td>\n",
              "      <td>11585.000000</td>\n",
              "      <td>12795.000000</td>\n",
              "    </tr>\n",
              "    <tr>\n",
              "      <th>mean</th>\n",
              "      <td>8.063251</td>\n",
              "      <td>0.641086</td>\n",
              "      <td>0.686315</td>\n",
              "      <td>23.367809</td>\n",
              "      <td>0.222559</td>\n",
              "      <td>106.679042</td>\n",
              "      <td>204.319120</td>\n",
              "      <td>0.846668</td>\n",
              "      <td>7.772724</td>\n",
              "    </tr>\n",
              "    <tr>\n",
              "      <th>std</th>\n",
              "      <td>4.996119</td>\n",
              "      <td>0.555614</td>\n",
              "      <td>0.606005</td>\n",
              "      <td>24.945667</td>\n",
              "      <td>0.234288</td>\n",
              "      <td>108.102694</td>\n",
              "      <td>163.116881</td>\n",
              "      <td>0.655612</td>\n",
              "      <td>1.323926</td>\n",
              "    </tr>\n",
              "    <tr>\n",
              "      <th>min</th>\n",
              "      <td>0.000000</td>\n",
              "      <td>0.000000</td>\n",
              "      <td>0.000000</td>\n",
              "      <td>0.000000</td>\n",
              "      <td>0.000000</td>\n",
              "      <td>0.000000</td>\n",
              "      <td>0.000000</td>\n",
              "      <td>0.000000</td>\n",
              "      <td>4.000000</td>\n",
              "    </tr>\n",
              "    <tr>\n",
              "      <th>25%</th>\n",
              "      <td>5.600000</td>\n",
              "      <td>0.250000</td>\n",
              "      <td>0.280000</td>\n",
              "      <td>3.600000</td>\n",
              "      <td>0.046000</td>\n",
              "      <td>28.000000</td>\n",
              "      <td>100.000000</td>\n",
              "      <td>0.430000</td>\n",
              "      <td>7.000000</td>\n",
              "    </tr>\n",
              "    <tr>\n",
              "      <th>50%</th>\n",
              "      <td>7.000000</td>\n",
              "      <td>0.410000</td>\n",
              "      <td>0.440000</td>\n",
              "      <td>12.900000</td>\n",
              "      <td>0.098000</td>\n",
              "      <td>56.000000</td>\n",
              "      <td>154.000000</td>\n",
              "      <td>0.590000</td>\n",
              "      <td>8.000000</td>\n",
              "    </tr>\n",
              "    <tr>\n",
              "      <th>75%</th>\n",
              "      <td>9.800000</td>\n",
              "      <td>0.910000</td>\n",
              "      <td>0.970000</td>\n",
              "      <td>38.700000</td>\n",
              "      <td>0.368000</td>\n",
              "      <td>172.000000</td>\n",
              "      <td>262.000000</td>\n",
              "      <td>1.100000</td>\n",
              "      <td>8.000000</td>\n",
              "    </tr>\n",
              "    <tr>\n",
              "      <th>max</th>\n",
              "      <td>34.400000</td>\n",
              "      <td>3.680000</td>\n",
              "      <td>3.860000</td>\n",
              "      <td>141.150000</td>\n",
              "      <td>1.351000</td>\n",
              "      <td>623.000000</td>\n",
              "      <td>1057.000000</td>\n",
              "      <td>4.240000</td>\n",
              "      <td>17.000000</td>\n",
              "    </tr>\n",
              "  </tbody>\n",
              "</table>\n",
              "</div>"
            ],
            "text/plain": [
              "       FixedAcidity  VolatileAcidity    CitricAcid  ResidualSugar  \\\n",
              "count  12795.000000     12795.000000  12795.000000   12179.000000   \n",
              "mean       8.063251         0.641086      0.686315      23.367809   \n",
              "std        4.996119         0.555614      0.606005      24.945667   \n",
              "min        0.000000         0.000000      0.000000       0.000000   \n",
              "25%        5.600000         0.250000      0.280000       3.600000   \n",
              "50%        7.000000         0.410000      0.440000      12.900000   \n",
              "75%        9.800000         0.910000      0.970000      38.700000   \n",
              "max       34.400000         3.680000      3.860000     141.150000   \n",
              "\n",
              "          Chlorides  FreeSulfurDioxide  TotalSulfurDioxide     Sulphates  \\\n",
              "count  12157.000000       12148.000000        12113.000000  11585.000000   \n",
              "mean       0.222559         106.679042          204.319120      0.846668   \n",
              "std        0.234288         108.102694          163.116881      0.655612   \n",
              "min        0.000000           0.000000            0.000000      0.000000   \n",
              "25%        0.046000          28.000000          100.000000      0.430000   \n",
              "50%        0.098000          56.000000          154.000000      0.590000   \n",
              "75%        0.368000         172.000000          262.000000      1.100000   \n",
              "max        1.351000         623.000000         1057.000000      4.240000   \n",
              "\n",
              "          AcidIndex  \n",
              "count  12795.000000  \n",
              "mean       7.772724  \n",
              "std        1.323926  \n",
              "min        4.000000  \n",
              "25%        7.000000  \n",
              "50%        8.000000  \n",
              "75%        8.000000  \n",
              "max       17.000000  "
            ]
          },
          "metadata": {},
          "execution_count": 192
        }
      ]
    },
    {
      "cell_type": "markdown",
      "metadata": {
        "id": "dCmFAGVP1NLF"
      },
      "source": [
        "starting with LOG FixedAcidity because why not?\n",
        "\n",
        "  jacob - the simplest way to log trans form is just to start by taking the natural log of the column if that doesn't get you what you want then log 10 \n",
        "\n",
        "difference between BOXCOX and LOG transformations?\n",
        "  alan - BoxCox may be a better fit in our scenario. We want to make our feature more gausian to benefit our predictive models and reduce outliers. While log can help with that, Box-Cox also standardizes the features, preventing the Sulfur Dioxide columns having an outsized wheight. Our data also fit the positive values requirement of BoxCox"
      ]
    },
    {
      "cell_type": "markdown",
      "metadata": {
        "id": "hawrLg2CcWmo"
      },
      "source": [
        "#### FixedAcidity"
      ]
    },
    {
      "cell_type": "code",
      "metadata": {
        "colab": {
          "base_uri": "https://localhost:8080/"
        },
        "id": "j9uvfvQpIBYz",
        "outputId": "ad0dda2c-831b-4ddf-d8c1-d1832914ca14"
      },
      "source": [
        "df_fa = df_prep['FixedAcidity']#define a new dataframe that we can play around with, without messing up our work so far\n",
        "df_fa = np.log10(df_fa)#natural log and log10 were attempted, but resulted in infinite values\n",
        "df_fa.describe()"
      ],
      "execution_count": null,
      "outputs": [
        {
          "output_type": "stream",
          "name": "stderr",
          "text": [
            "/usr/local/lib/python3.7/dist-packages/pandas/core/series.py:726: RuntimeWarning: divide by zero encountered in log10\n",
            "  result = getattr(ufunc, method)(*inputs, **kwargs)\n"
          ]
        },
        {
          "output_type": "execute_result",
          "data": {
            "text/plain": [
              "count    1.279500e+04\n",
              "mean             -inf\n",
              "std               NaN\n",
              "min              -inf\n",
              "25%      7.481880e-01\n",
              "50%      8.450980e-01\n",
              "75%      9.912261e-01\n",
              "max      1.536558e+00\n",
              "Name: FixedAcidity, dtype: float64"
            ]
          },
          "metadata": {},
          "execution_count": 193
        }
      ]
    },
    {
      "cell_type": "markdown",
      "metadata": {
        "id": "PCTiWZX8JjYI"
      },
      "source": [
        "We tried logarythmic transformations (natural log was also attempted) without much success. Infinite values will not help us in Machine Learning. We will now toward the BoxCox scaler, which can help normalize values.\n",
        "\n",
        "> Indented block\n",
        "\n"
      ]
    },
    {
      "cell_type": "code",
      "metadata": {
        "colab": {
          "base_uri": "https://localhost:8080/"
        },
        "id": "x9DeaB_i62id",
        "outputId": "3e4ae9fb-0e42-4f87-d95b-82c007296a08"
      },
      "source": [
        "df_fa = df_prep['FixedAcidity']#repairing our dataframe\n",
        "df_fa.head()#sanity check"
      ],
      "execution_count": null,
      "outputs": [
        {
          "output_type": "execute_result",
          "data": {
            "text/plain": [
              "0    3.2\n",
              "1    4.5\n",
              "2    7.1\n",
              "3    5.7\n",
              "4    8.0\n",
              "Name: FixedAcidity, dtype: float64"
            ]
          },
          "metadata": {},
          "execution_count": 194
        }
      ]
    },
    {
      "cell_type": "code",
      "metadata": {
        "colab": {
          "base_uri": "https://localhost:8080/"
        },
        "id": "yGSrGFHNhwaw",
        "outputId": "40d889b8-e171-4921-a32e-155f288aca2d"
      },
      "source": [
        "# boxcox function from scipy.stats\n",
        "\n",
        "a = df_fa + 1#The BoxCox transformation requires positive values. Adding 1 ensures the 0 values to not prevent the function from working\n",
        "transformed_data, best_lambda = boxcox(a)# transform training data & save lambda value\n",
        "\n",
        "sns.distplot(transformed_data, hist=False, kde=True)#plot the distribution of the transformed data values"
      ],
      "execution_count": null,
      "outputs": [
        {
          "output_type": "execute_result",
          "data": {
            "text/plain": [
              "<matplotlib.axes._subplots.AxesSubplot at 0x7fe085ae0b90>"
            ]
          },
          "metadata": {},
          "execution_count": 195
        },
        {
          "output_type": "display_data",
          "data": {
            "image/png": "[encoded data removed]",
            "text/plain": [
              "<Figure size 432x288 with 1 Axes>"
            ]
          },
          "metadata": {
            "needs_background": "light"
          }
        }
      ]
    },
    {
      "cell_type": "code",
      "metadata": {
        "id": "62oAHXQG8pYA"
      },
      "source": [
        "df_prep['FixedAcidity'] = transformed_data#moves transformed data back into the dataframe we are preparing"
      ],
      "execution_count": null,
      "outputs": []
    },
    {
      "cell_type": "markdown",
      "metadata": {
        "id": "lfGFzPRHjHr0"
      },
      "source": [
        "#### VolatileAcidity"
      ]
    },
    {
      "cell_type": "code",
      "metadata": {
        "colab": {
          "base_uri": "https://localhost:8080/"
        },
        "id": "VkNAPrs38hzi",
        "outputId": "3bdb3c53-50d9-46ca-ed12-ad3f1cbc5d82"
      },
      "source": [
        "a = df_prep['VolatileAcidity'] + 1#The BoxCox transformation requires positive values. Adding 1 ensures the 0 values to not prevent the function from working\n",
        "transformed_data, best_lambda = boxcox(a)# transform training data & save lambda value\n",
        "\n",
        "plt.figure(figsize=(8,4))\n",
        "#Histogram\n",
        "plt.subplot(1,2,1);\n",
        "sns.distplot(transformed_data, hist=False, kde=True);#plot the distribution of the transformed data values\n",
        "plt.title('VolatileAcidity')\n",
        "#Boxplot\n",
        "plt.subplot(1,2,2);\n",
        "sns.boxplot(transformed_data);#plot the distribution of the transformed data values\n",
        "plt.title('VolatileAcidity');"
      ],
      "execution_count": null,
      "outputs": [
        {
          "output_type": "display_data",
          "data": {
            "image/png": "[encoded data removed]",
            "text/plain": [
              "<Figure size 576x288 with 2 Axes>"
            ]
          },
          "metadata": {
            "needs_background": "light"
          }
        }
      ]
    },
    {
      "cell_type": "code",
      "metadata": {
        "id": "y08vwIGs97Xu"
      },
      "source": [
        "df_prep['VolatileAcidity'] = transformed_data#moves transformed data back into the dataframe we are preparing"
      ],
      "execution_count": null,
      "outputs": []
    },
    {
      "cell_type": "markdown",
      "metadata": {
        "id": "XUtuE2EI-DDp"
      },
      "source": [
        "#### CitricAcid"
      ]
    },
    {
      "cell_type": "code",
      "metadata": {
        "colab": {
          "base_uri": "https://localhost:8080/"
        },
        "id": "Df52eH1d-9Rh",
        "outputId": "4608786b-3b67-43bb-f45f-2bc257b29349"
      },
      "source": [
        "a = df_prep['CitricAcid'] + 1#The BoxCox transformation requires positive values. Adding 1 ensures the 0 values to not prevent the function from working\n",
        "transformed_data, best_lambda = boxcox(a)# transform training data & save lambda value\n",
        "\n",
        "plt.figure(figsize=(8,4))\n",
        "#Histogram\n",
        "plt.subplot(1,2,1);\n",
        "sns.distplot(transformed_data, hist=False, kde=True);#plot the distribution of the transformed data values\n",
        "plt.title('CitricAcid')\n",
        "#Boxplot\n",
        "plt.subplot(1,2,2);\n",
        "sns.boxplot(transformed_data);#plot the distribution of the transformed data values\n",
        "plt.title('CitricAcid');"
      ],
      "execution_count": null,
      "outputs": [
        {
          "output_type": "display_data",
          "data": {
            "image/png": "[encoded data removed]",
            "text/plain": [
              "<Figure size 576x288 with 2 Axes>"
            ]
          },
          "metadata": {
            "needs_background": "light"
          }
        }
      ]
    },
    {
      "cell_type": "code",
      "metadata": {
        "id": "SjHHgU4f_FkG"
      },
      "source": [
        "df_prep['CitricAcid'] = transformed_data#moves transformed data back into the dataframe we are preparing"
      ],
      "execution_count": null,
      "outputs": []
    },
    {
      "cell_type": "markdown",
      "metadata": {
        "id": "IGhp3YDp-Grn"
      },
      "source": [
        "#### ResidualSugar\n",
        "\n",
        "To handle of the skewness of the residualsugar attribute we will normalize it. \n",
        "because residualsugar is on the boarder between the levels of skewd'd ness defined above we we utlize multiple techniques:  \n",
        "\n",
        "**steps:**  \n",
        "1. since most normilization techinques have issues with 0 and our min value is 0 we will add +1 to the entire set.\n",
        "2. normalization techinques tried\n",
        "  1. boxcox - \n",
        "  2. square root - \n",
        "  3. log transform\n",
        "3. we will add our best transformaiton back to the prepared dataframe\n",
        "\n"
      ]
    },
    {
      "cell_type": "markdown",
      "metadata": {
        "id": "Y_PWMupUYuH9"
      },
      "source": [
        "##### box-cox:"
      ]
    },
    {
      "cell_type": "code",
      "metadata": {
        "colab": {
          "base_uri": "https://localhost:8080/",
          "height": 448
        },
        "id": "S5MVFZuH_RxZ",
        "outputId": "a6a01273-1568-4064-a474-7db3f8ccdd8c"
      },
      "source": [
        "a = df_prep['ResidualSugar'] + 1#The BoxCox transformation requires positive values. Adding 1 ensures the 0 values to not prevent the function from working\n",
        "transformed_data, best_lambda = boxcox(a)# transform training data & save lambda value\n",
        "\n",
        "plt.figure(figsize=(8,4))\n",
        "plt.subplot(1,2,1);#Histogram\n",
        "sns.distplot(transformed_data, hist=True, kde=True);#plot the distribution of the transformed data values\n",
        "plt.title('ResidualSugar_boxcox')\n",
        "plt.subplot(1,2,2);#Boxplot\n",
        "sns.boxplot(transformed_data);#plot the distribution of the transformed data values\n",
        "plt.title('ResidualSugar_boxcox');\n",
        "sqrt_a.describe()"
      ],
      "execution_count": null,
      "outputs": [
        {
          "output_type": "execute_result",
          "data": {
            "text/plain": [
              "count    12157.000000\n",
              "mean         1.101123\n",
              "std          0.100435\n",
              "min          1.000000\n",
              "25%          1.022741\n",
              "50%          1.047855\n",
              "75%          1.169615\n",
              "max          1.533297\n",
              "Name: Chlorides, dtype: float64"
            ]
          },
          "metadata": {},
          "execution_count": 201
        },
        {
          "output_type": "display_data",
          "data": {
            "image/png": "[encoded data removed]",
            "text/plain": [
              "<Figure size 576x288 with 2 Axes>"
            ]
          },
          "metadata": {
            "needs_background": "light"
          }
        }
      ]
    },
    {
      "cell_type": "markdown",
      "metadata": {
        "id": "YiP732Io_cdS"
      },
      "source": [
        "ResidualSugar didn't like a BoxCox Transformation at all.   \n",
        "next we will try a sqrt transformation\n",
        "\n",
        "##### square root:"
      ]
    },
    {
      "cell_type": "code",
      "metadata": {
        "colab": {
          "base_uri": "https://localhost:8080/",
          "height": 449
        },
        "id": "PyFo5oevVHKu",
        "outputId": "bc3d9074-0f9e-4b89-aa65-89b47bc18d6e"
      },
      "source": [
        "sqrt_a = a.apply(np.sqrt) # using the same +1 transformed data for conistancy we \n",
        "\n",
        "plt.figure(figsize=(8,4))\n",
        "plt.subplot(1,2,1);#Histogram\n",
        "sns.distplot(sqrt_a, hist=True, kde=True);#plot the distribution of the transformed data values\n",
        "plt.title('ResidualSugar_sqrt')\n",
        "plt.subplot(1,2,2);#Boxplot\n",
        "sns.boxplot(sqrt_a);#plot the distribution of the transformed data values\n",
        "plt.title('ResidualSugar_sqrt');\n",
        "sqrt_a.describe()"
      ],
      "execution_count": null,
      "outputs": [
        {
          "output_type": "execute_result",
          "data": {
            "text/plain": [
              "count    12179.000000\n",
              "mean         4.318447\n",
              "std          2.391505\n",
              "min          1.000000\n",
              "25%          2.144761\n",
              "50%          3.728270\n",
              "75%          6.300794\n",
              "max         11.922667\n",
              "Name: ResidualSugar, dtype: float64"
            ]
          },
          "metadata": {},
          "execution_count": 202
        },
        {
          "output_type": "display_data",
          "data": {
            "image/png": "[encoded data removed]",
            "text/plain": [
              "<Figure size 576x288 with 2 Axes>"
            ]
          },
          "metadata": {
            "needs_background": "light"
          }
        }
      ]
    },
    {
      "cell_type": "markdown",
      "metadata": {
        "id": "jbuSVvLgVcZD"
      },
      "source": [
        "Square root transformation was signifigantly better in normalizing but still not evenly distributed/normally distributed mean 4.1 median 3.6 \n",
        "\n",
        "our final transformation will be a \n",
        "\n",
        "##### Log transform:"
      ]
    },
    {
      "cell_type": "code",
      "metadata": {
        "colab": {
          "base_uri": "https://localhost:8080/",
          "height": 449
        },
        "id": "9MKqB3E6_Z5-",
        "outputId": "6eed50ce-c577-4755-d6ca-82c5599ca4de"
      },
      "source": [
        "log_a = a.apply(np.log) #natural log and log10 were attempted with simmilar results\n",
        "plt.figure(figsize=(8,4));\n",
        "plt.subplot(1,2,1);#Histogram\n",
        "sns.distplot(log_a, hist=True, kde=True);#plot the distribution of the transformed data values\n",
        "plt.title('ResidualSugar_log')\n",
        "plt.subplot(1,2,2);#Boxplot\n",
        "sns.boxplot(log_a);#plot the distribution of the transformed data values\n",
        "plt.title('ResidualSugar_log');\n",
        "log_a.describe()"
      ],
      "execution_count": null,
      "outputs": [
        {
          "output_type": "execute_result",
          "data": {
            "text/plain": [
              "count    12179.000000\n",
              "mean         2.599841\n",
              "std          1.169793\n",
              "min          0.000000\n",
              "25%          1.526056\n",
              "50%          2.631889\n",
              "75%          3.681351\n",
              "max          4.956883\n",
              "Name: ResidualSugar, dtype: float64"
            ]
          },
          "metadata": {},
          "execution_count": 203
        },
        {
          "output_type": "display_data",
          "data": {
            "image/png": "[encoded data removed]",
            "text/plain": [
              "<Figure size 576x288 with 2 Axes>"
            ]
          },
          "metadata": {
            "needs_background": "light"
          }
        }
      ]
    },
    {
      "cell_type": "markdown",
      "metadata": {
        "id": "mX23wn5Z_3xD"
      },
      "source": [
        "log appears to do the best job of normalizing the distribution we will add it back to df prep.\n",
        "\n",
        "##### adding back to df_prep:"
      ]
    },
    {
      "cell_type": "code",
      "metadata": {
        "id": "Vm8lg1DDjbzI"
      },
      "source": [
        "df_prep['ResidualSugar'] = log_a"
      ],
      "execution_count": null,
      "outputs": []
    },
    {
      "cell_type": "markdown",
      "metadata": {
        "id": "-cKBXLT8-MZA"
      },
      "source": [
        "#### Chlorides\n",
        "\n",
        "To handle of the skewness of the Chlorides attribute we will normalize it. \n",
        "\n",
        "**steps:**  \n",
        "1. since most normilization techinques have issues with 0 and our min value is 0 we will add +1 to the entire set.\n",
        "2. normalization techinques tried\n",
        "  1. box-cox - \n",
        "  2. square root - \n",
        "  3. log transform\n",
        "3. we will add our best transformaiton back to the prepared dataframe\n",
        "\n"
      ]
    },
    {
      "cell_type": "markdown",
      "metadata": {
        "id": "mHzx4PIXlu3W"
      },
      "source": [
        "\n",
        "##### box-cox:"
      ]
    },
    {
      "cell_type": "code",
      "metadata": {
        "colab": {
          "base_uri": "https://localhost:8080/",
          "height": 435
        },
        "id": "8td5_gxGd29p",
        "outputId": "2c85a934-e979-4f1c-8b4d-3e9e7decd2c7"
      },
      "source": [
        "a = df_prep['Chlorides'] + 1#The Box-Cox transformation requires positive values. Adding 1 ensures the 0 values to not prevent the function from working\n",
        "transformed_data, best_lambda = boxcox(a)# transform training data & save lambda value\n",
        "\n",
        "plt.figure(figsize=(8,4))\n",
        "plt.subplot(1,2,1);#Histogram\n",
        "sns.distplot(transformed_data, hist=True, kde=True);#plot the distribution of the transformed data values\n",
        "plt.title('Chlorides')\n",
        "plt.subplot(1,2,2);#Boxplot\n",
        "sns.boxplot(transformed_data);#plot the distribution of the transformed data values\n",
        "plt.title('Chlorides');\n",
        "sqrt_a.describe()"
      ],
      "execution_count": null,
      "outputs": [
        {
          "output_type": "execute_result",
          "data": {
            "text/plain": [
              "count    12179.000000\n",
              "mean         4.318447\n",
              "std          2.391505\n",
              "min          1.000000\n",
              "25%          2.144761\n",
              "50%          3.728270\n",
              "75%          6.300794\n",
              "max         11.922667\n",
              "Name: ResidualSugar, dtype: float64"
            ]
          },
          "metadata": {},
          "execution_count": 205
        },
        {
          "output_type": "display_data",
          "data": {
            "image/png": "[encoded data removed]",
            "text/plain": [
              "<Figure size 576x288 with 2 Axes>"
            ]
          },
          "metadata": {
            "needs_background": "light"
          }
        }
      ]
    },
    {
      "cell_type": "markdown",
      "metadata": {
        "id": "DGiFUmlUh4cD"
      },
      "source": [
        "the boxcox transformaion still is still signifigantly right skewed next we will try square root\n",
        "\n",
        "##### Square root:"
      ]
    },
    {
      "cell_type": "code",
      "metadata": {
        "colab": {
          "base_uri": "https://localhost:8080/",
          "height": 449
        },
        "id": "JBAUZhFMnAPc",
        "outputId": "bf9d3093-372c-44a9-a35b-5269dc7f1e20"
      },
      "source": [
        "sqrt_a = a.apply(np.sqrt) # using the same +1 transformed data for conistancy we \n",
        "\n",
        "plt.figure(figsize=(8,4))\n",
        "plt.subplot(1,2,1);#Histogram\n",
        "sns.distplot(sqrt_a, hist=True, kde=True);#plot the distribution of the transformed data values\n",
        "plt.title('ResidualSugar_sqrt')\n",
        "plt.subplot(1,2,2);#Boxplot\n",
        "sns.boxplot(sqrt_a);#plot the distribution of the transformed data values\n",
        "plt.title('ResidualSugar_sqrt');\n",
        "sqrt_a.describe()"
      ],
      "execution_count": null,
      "outputs": [
        {
          "output_type": "execute_result",
          "data": {
            "text/plain": [
              "count    12157.000000\n",
              "mean         1.101123\n",
              "std          0.100435\n",
              "min          1.000000\n",
              "25%          1.022741\n",
              "50%          1.047855\n",
              "75%          1.169615\n",
              "max          1.533297\n",
              "Name: Chlorides, dtype: float64"
            ]
          },
          "metadata": {},
          "execution_count": 206
        },
        {
          "output_type": "display_data",
          "data": {
            "image/png": "[encoded data removed]",
            "text/plain": [
              "<Figure size 576x288 with 2 Axes>"
            ]
          },
          "metadata": {
            "needs_background": "light"
          }
        }
      ]
    },
    {
      "cell_type": "markdown",
      "metadata": {
        "id": "w00Nk0Pdh4GX"
      },
      "source": [
        "square root does a better job of handling outliers but not a complete job and their is still a right skew our final atempt will be with a log transform\n",
        "\n",
        "##### Log transform"
      ]
    },
    {
      "cell_type": "code",
      "metadata": {
        "colab": {
          "base_uri": "https://localhost:8080/",
          "height": 449
        },
        "id": "EPbR6vYgnjps",
        "outputId": "d0020dcd-f59f-49bb-c49d-2b5ec4cf22c7"
      },
      "source": [
        "log_a = a.apply(np.log) #natural log \n",
        "plt.figure(figsize=(8,4));\n",
        "plt.subplot(1,2,1);#Histogram\n",
        "sns.distplot(log_a, hist=True, kde=True);#plot the distribution of the transformed data values\n",
        "plt.title('ResidualSugar_log')\n",
        "plt.subplot(1,2,2);#Boxplot\n",
        "sns.boxplot(log_a);#plot the distribution of the transformed data values\n",
        "plt.title('ResidualSugar_log');\n",
        "log_a.describe()"
      ],
      "execution_count": null,
      "outputs": [
        {
          "output_type": "execute_result",
          "data": {
            "text/plain": [
              "count    12157.000000\n",
              "mean         0.184862\n",
              "std          0.173901\n",
              "min          0.000000\n",
              "25%          0.044973\n",
              "50%          0.093490\n",
              "75%          0.313350\n",
              "max          0.854841\n",
              "Name: Chlorides, dtype: float64"
            ]
          },
          "metadata": {},
          "execution_count": 207
        },
        {
          "output_type": "display_data",
          "data": {
            "image/png": "[encoded data removed]",
            "text/plain": [
              "<Figure size 576x288 with 2 Axes>"
            ]
          },
          "metadata": {
            "needs_background": "light"
          }
        }
      ]
    },
    {
      "cell_type": "markdown",
      "metadata": {
        "id": "06ePiHYYowDx"
      },
      "source": [
        "square root  appears to do the best job of normalizing the distribution as defined by comparing the mean and median we will add it back to df prep.\n",
        "\n",
        "##### adding back to df_prep:"
      ]
    },
    {
      "cell_type": "code",
      "metadata": {
        "id": "vCJ98WF8owDx"
      },
      "source": [
        "df_prep['ResidualSugar'] = sqrt_a"
      ],
      "execution_count": null,
      "outputs": []
    },
    {
      "cell_type": "markdown",
      "metadata": {
        "id": "I8OGwEiq-MU1"
      },
      "source": [
        "#### FreeSulfurDioxide \n",
        "\n",
        "Because of the scale and size of the outliers present here we will standardize this feature. depending on the effect will normalize them after. \n",
        "\n",
        "we will try two aproaches and select the best fit.\n",
        "\n",
        "**steps**\n",
        " 1. standardize \n",
        "   1. min max\n",
        "   2. standard\n",
        " 2. normalize\n",
        " 3. \n"
      ]
    },
    {
      "cell_type": "code",
      "metadata": {
        "colab": {
          "base_uri": "https://localhost:8080/"
        },
        "id": "zO8O3PUbr-Dr",
        "outputId": "f6a2454f-e5f1-41bf-fbed-c508ebc3bfef"
      },
      "source": [
        "from sklearn.preprocessing import MinMaxScaler\n",
        "\n",
        "a = df_prep[['FreeSulfurDioxide']]\n",
        "scaler = MinMaxScaler()\n",
        "x_scaler = scaler.fit_transform(a)\n",
        "\n",
        "\n"
      ],
      "execution_count": null,
      "outputs": [
        {
          "output_type": "stream",
          "name": "stdout",
          "text": [
            "[[       nan]\n",
            " [0.02407705]\n",
            " [0.3434992 ]\n",
            " ...\n",
            " [0.04012841]\n",
            " [0.04173355]\n",
            " [0.17014446]]\n"
          ]
        }
      ]
    },
    {
      "cell_type": "code",
      "metadata": {
        "id": "E38LQwYer-Dr"
      },
      "source": [
        "#StandardScaler example that works\n",
        "from sklearn import preprocessing\n",
        "\n",
        "\n",
        "features = X_itim_train[:,[0]]\n",
        "\n",
        "sca = preprocessing.StandardScaler()\n",
        "\n",
        "x_scaler = sca.fit_transform(features)\n",
        "\n",
        "print(x_scaler)"
      ],
      "execution_count": null,
      "outputs": []
    },
    {
      "cell_type": "markdown",
      "metadata": {
        "id": "vWqQBiUu-MPy"
      },
      "source": [
        "#### TotalSulfurDioxide"
      ]
    },
    {
      "cell_type": "markdown",
      "metadata": {
        "id": "xKHRk7fA-L-3"
      },
      "source": [
        "#### pH"
      ]
    },
    {
      "cell_type": "markdown",
      "metadata": {
        "id": "vgft7Ltv-eo9"
      },
      "source": [
        "#### Sulphates"
      ]
    },
    {
      "cell_type": "markdown",
      "metadata": {
        "id": "aR_k7qlU-g9i"
      },
      "source": [
        "#### Alchohol"
      ]
    },
    {
      "cell_type": "markdown",
      "metadata": {
        "id": "LeB24nsC-pp5"
      },
      "source": [
        "#### AcidIndex"
      ]
    },
    {
      "cell_type": "markdown",
      "metadata": {
        "id": "ISWBaIDl1Bx-"
      },
      "source": [
        "\n",
        "## Other things to check/add if I have time*\n",
        "*referencing class notes\n",
        "\n",
        "### !!?? I can also create new data why not??!!\n",
        "?look for dummy variables I can add and interaction features?\n",
        "\n",
        "Adding 'Derived' Data: Add new attributes to a data set based on calculations or other analyses that are applied to some subset of the original set of attributes.\n",
        "\n",
        "#### Outliers: How to detect and filter them?\n",
        "\n",
        "#### Discretization & Binning\n",
        "\n",
        "Separating data into \"bins\" or ranges of values is often necessary for analysis purposes.\n",
        "\n",
        "How you select your \"bin\" sizes / ranges can significantly impact the results of your analysis. Bins that are too wide can hide pertinent details. Bins that are too narrow can potentially introduce unnecessary \"noise\".\n",
        "\n",
        "Ideally, bin widths should be equal in size\n",
        "\n",
        "Simplistic rule of thumb: binwidth = (max(values) - min(values)) / sqrt(n) where n = number of data values\n",
        "\n",
        "Simplistic rule of thumb: number of bins = sqrt(n) where n = number of data values\n",
        "\n",
        "In general, use fewer bins for small amounts of data; use more bins for large amounts of data.\n",
        "\n",
        "Once you've identified your outliers, decide what to do with them: leave them alone? Remove them? Replace with another non-outlier value? You need to decide on the appropriate action based on your domain knowledge. Remember: outliers are not always invalid, but they can have a noticeable effect on your analysis. There is no single \"rule\" that applies to how outliers should be dealt with.\n",
        "\n",
        "Remember: After altering your data, be sure to re-run your EDA\n",
        "Alterations you make to your original data set for putposes of addressing data quality issues are VERY likely to have a tangible impact on the metrics + summarial information resulting from your EDA work.\n",
        "Therefore it is imperative that you re-run your EDA after each cycle of data preparation work. Compare the results of your original EDA against those of your \"post-modification\" EDA to determine whether the modifications you have made have achieved their desired results. If not, why not??? Are modifications of your data preparation efforts required? If so, implement your modified data preparation methods and re-run your EDA. Continue this iterative process until you are satisfied with the results.\n",
        "When re-running your EDA, be sure to check for the following:\n",
        "\n",
        "Have the distributions of any of the variables changed?\n",
        "Have the relationships between any of the variables changed (e.g., correlation metrics, etc.)\n",
        "Have any of your preliminary inferences regarding which variables might be more \"predictive\" of a response variable changed?\n",
        "etc.\n",
        "\n",
        "\n",
        "Imbalanced Classes in a Response Variable¶\n",
        "#### standard scaler example"
      ]
    },
    {
      "cell_type": "code",
      "metadata": {
        "colab": {
          "base_uri": "https://localhost:8080/",
          "height": 233
        },
        "id": "0M-T7RuyaY2r",
        "outputId": "82ffe739-7425-407b-810b-cc5828ceaf56"
      },
      "source": [
        "#this is extra code that i should delete\n",
        "\n",
        "#Create a histogram and boxplot side by side for FixedAcidity\n",
        "i= X_imsca_train\n",
        "\n",
        "plt.figure(figsize=(8,4))\n",
        "#Histogram\n",
        "plt.subplot(1,2,1);\n",
        "sns.distplot(i); \n",
        "plt.title('FixedAcidity')\n",
        "#Boxplot\n",
        "plt.subplot(1,2,2);\n",
        "sns.boxplot(data = i.melt());#pivoting data otherwise I run into an unusual error\n",
        "plt.title('FixedAcidity');\n",
        "print(\"Skewness: %f\" %i.skew()) #Adds Skew value\n",
        "i.describe() #Adds summary statistics of the variable"
      ],
      "execution_count": null,
      "outputs": [
        {
          "output_type": "error",
          "ename": "NameError",
          "evalue": "ignored",
          "traceback": [
            "\u001b[0;31m---------------------------------------------------------------------------\u001b[0m",
            "\u001b[0;31mNameError\u001b[0m                                 Traceback (most recent call last)",
            "\u001b[0;32m<ipython-input-209-852f35d3afdd>\u001b[0m in \u001b[0;36m<module>\u001b[0;34m()\u001b[0m\n\u001b[1;32m      2\u001b[0m \u001b[0;34m\u001b[0m\u001b[0m\n\u001b[1;32m      3\u001b[0m \u001b[0;31m#Create a histogram and boxplot side by side for FixedAcidity\u001b[0m\u001b[0;34m\u001b[0m\u001b[0;34m\u001b[0m\u001b[0;34m\u001b[0m\u001b[0m\n\u001b[0;32m----> 4\u001b[0;31m \u001b[0mi\u001b[0m\u001b[0;34m=\u001b[0m \u001b[0mX_imsca_train\u001b[0m\u001b[0;34m\u001b[0m\u001b[0;34m\u001b[0m\u001b[0m\n\u001b[0m\u001b[1;32m      5\u001b[0m \u001b[0;34m\u001b[0m\u001b[0m\n\u001b[1;32m      6\u001b[0m \u001b[0mplt\u001b[0m\u001b[0;34m.\u001b[0m\u001b[0mfigure\u001b[0m\u001b[0;34m(\u001b[0m\u001b[0mfigsize\u001b[0m\u001b[0;34m=\u001b[0m\u001b[0;34m(\u001b[0m\u001b[0;36m8\u001b[0m\u001b[0;34m,\u001b[0m\u001b[0;36m4\u001b[0m\u001b[0;34m)\u001b[0m\u001b[0;34m)\u001b[0m\u001b[0;34m\u001b[0m\u001b[0;34m\u001b[0m\u001b[0m\n",
            "\u001b[0;31mNameError\u001b[0m: name 'X_imsca_train' is not defined"
          ]
        }
      ]
    },
    {
      "cell_type": "code",
      "metadata": {
        "id": "6VKhiZFwdZCC"
      },
      "source": [
        "#extra code This normalizes it, but doesnt fix the skew..... I dont understand this well enough I guess... Im now going to try a BoxCox transformation, after adding1 to all values ensuring positive\n",
        "from sklearn.preprocessing import MinMaxScaler\n",
        "\n",
        "features = X_itim_train[:,[0]]\n",
        "\n",
        "sca = preprocessing.MinMaxScaler()\n",
        "\n",
        "x_scaler = sca.fit_transform(features)\n",
        "\n",
        "print(x_scaler)\n",
        "\n"
      ],
      "execution_count": null,
      "outputs": []
    },
    {
      "cell_type": "code",
      "metadata": {
        "id": "bBB16whdJI55"
      },
      "source": [
        "#StandardScaler example that works\n",
        "from sklearn import preprocessing\n",
        "\n",
        "\n",
        "features = X_itim_train[:,[0]]\n",
        "\n",
        "sca = preprocessing.StandardScaler()\n",
        "\n",
        "x_scaler = sca.fit_transform(features)\n",
        "\n",
        "print(x_scaler)"
      ],
      "execution_count": null,
      "outputs": []
    },
    {
      "cell_type": "markdown",
      "metadata": {
        "id": "387rEruYs-0-"
      },
      "source": [
        "## Re-analyze Modified Data\n"
      ]
    },
    {
      "cell_type": "markdown",
      "metadata": {
        "id": "3LUuxbM44eq6"
      },
      "source": [
        "\n",
        "\n",
        "5. Using Python, re-run your EDA analysis on any variables you have adjusted during Data Preparation and compare / contrast your results to those you saw prior to performing your Data Preparation adjustments. Describe how each of your Data Preparation adjustments have improved the data set for purposes of using it within a machine learning algorithm."
      ]
    },
    {
      "cell_type": "markdown",
      "metadata": {
        "id": "TLZafqAztFc4"
      },
      "source": [
        "## Conclusion"
      ]
    },
    {
      "cell_type": "markdown",
      "metadata": {
        "id": "Bnrx8o9s4eq7"
      },
      "source": [
        "Your deliverable for this assignmentis your Jupyter Notebook. It should contain a combination of Python code cells and explanatory narratives contained within properly formatted Markdown cells. The Notebook should contain (at a minimum) the following sections (including the relevant Python code for each section):\n",
        "1. Introduction (5 Points):  Summarize the problem + explain the steps you plan to take to address the problem\n",
        "2. Exploratory Data Analysis (35 Points): Explain + present your EDA work including any conclusions you draw from your analysis regarding the integrity + usability of the data in its raw state. This section should include any Python code used for the EDA\n",
        "3. Data Preparation (45 Points): Describe + show the steps you have taken to address the data integrity + usability issues you identified in your EDA. This section should include any Python code used for Data Preparation\n",
        "\n",
        "4. Prepped Data Review (10 Points): Explain + present your post-Data Prep EDA analysis. This section should include any Python code used for re-running your EDA on the variables adjusted during your Data Preparation work.\n",
        "\n",
        "5. Conclusions (5 Points) Small groups should identity all group members at the start of the Jupyter Notebook and each team member should submit their own copy of the team’s work within Canvas."
      ]
    }
  ]
}
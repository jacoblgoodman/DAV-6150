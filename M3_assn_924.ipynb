{
  "nbformat": 4,
  "nbformat_minor": 0,
  "metadata": {
    "kernelspec": {
      "display_name": "Python 3",
      "language": "python",
      "name": "python3"
    },
    "language_info": {
      "codemirror_mode": {
        "name": "ipython",
        "version": 3
      },
      "file_extension": ".py",
      "mimetype": "text/x-python",
      "name": "python",
      "nbconvert_exporter": "python",
      "pygments_lexer": "ipython3",
      "version": "3.7.6"
    },
    "colab": {
      "name": "M3_assn.ipynb",
      "provenance": [],
      "collapsed_sections": [],
      "toc_visible": true,
      "include_colab_link": true
    }
  },
  "cells": [
    {
      "cell_type": "markdown",
      "metadata": {
        "id": "view-in-github",
        "colab_type": "text"
      },
      "source": [
        "<a href=\"https://colab.research.google.com/github/yuleidner/DAV-6150/blob/main/M3_assn_924.ipynb\" target=\"_parent\"><img src=\"https://colab.research.google.com/assets/colab-badge.svg\" alt=\"Open In Colab\"/></a>"
      ]
    },
    {
      "cell_type": "markdown",
      "metadata": {
        "id": "yAF2fZDP4eqJ"
      },
      "source": [
        "<a id='Top'></a>\n",
        "# Data Science: Module 3\n",
        "### M3 Practical Challenge: Cleaning a Messy Data Set\n",
        "#### Alan Leidner working with Jacob Goodman Sep 20, 2021\n",
        "Assignment: https://yu.instructure.com/courses/50398/assignments/191949?module_item_id=704962"
      ]
    },
    {
      "cell_type": "markdown",
      "metadata": {
        "id": "uDGXSI3J4eqb"
      },
      "source": [
        "## Introduction\n",
        "This notebook will explore and clean a dataset of wine attributes that suffers from a variety of data integrity and usability issues.\n",
        "\n",
        "1. [Exploratory Data Analysis](#1)\n",
        "2. [Data Preparation](#2)\n",
        "3. [Re-analyze Modified Data](#3)\n",
        "4. [Conclusion](#4)"
      ]
    },
    {
      "cell_type": "markdown",
      "metadata": {
        "id": "Zoz5Cboq4eqe"
      },
      "source": [
        "\n",
        "\n",
        "```\n",
        "# This is formatted as code\n",
        "```\n",
        "\n",
        "Using your Pythonskills, perform exploratory data analysis (EDA) on all of the provided data attributes and document your findings. Your EDA writeup should include any insights you are able to derive from your statistical analysis of the attributes and the accompanying exploratory graphics you create(e.g., bar plots, box plots, histograms, line plots, etc.). It is up to you as the data science practitioner to decide how you go about your EDA, including selecting appropriate statistical metrics to be calculated + which types of exploratory graphics to make use of. You should also identify any and all potential data integrity issues (e.g., missing data values; **invalid data values**; etc.)as well as data distribution issues (e.g., **severe skew that can potentially impede the training/performance of a machinelearning model**)and, based on your analysis, determine whether any data attributes might need to be transformed prior to being used within a machine learning model. Your goal should be to provide an EDA that is thorough and succinct without it being so detailed that a reader will lose interest in it. "
      ]
    },
    {
      "cell_type": "markdown",
      "metadata": {
        "id": "rcLf32Di4eqi"
      },
      "source": [
        "## Exploratory Data Analysis <a id='1'></a>\n",
        "The dataset was loaded into the DAV 6150 Github Repository here: https://raw.githubusercontent.com/yuleidner/DAV-6150/main/M3/M3_Data.csv. This notebook will now load the table into a Pandas dataframe for analysis."
      ]
    },
    {
      "cell_type": "code",
      "metadata": {
        "id": "XpyiOM344eqk",
        "colab": {
          "base_uri": "https://localhost:8080/",
          "height": 238
        },
        "outputId": "c6d4579c-b403-45c1-bd5d-22ec11564809"
      },
      "source": [
        "# load the pandas library\n",
        "import pandas as pd\n",
        "\n",
        "# load the train_test_split function from the sklearn.model_selection module\n",
        "from sklearn.model_selection import train_test_split\n",
        "\n",
        "# read a set of sample data from github. It contains information related to cars and insurance\n",
        "filename = \"https://raw.githubusercontent.com/yuleidner/DAV-6150/main/M3/M3_Data.csv\"\n",
        "df = pd.read_csv(filename)\n",
        "pd.set_option('display.max_columns', None) #expands df to display all columns\n",
        "df.head()"
      ],
      "execution_count": 1,
      "outputs": [
        {
          "output_type": "execute_result",
          "data": {
            "text/html": [
              "<div>\n",
              "<style scoped>\n",
              "    .dataframe tbody tr th:only-of-type {\n",
              "        vertical-align: middle;\n",
              "    }\n",
              "\n",
              "    .dataframe tbody tr th {\n",
              "        vertical-align: top;\n",
              "    }\n",
              "\n",
              "    .dataframe thead th {\n",
              "        text-align: right;\n",
              "    }\n",
              "</style>\n",
              "<table border=\"1\" class=\"dataframe\">\n",
              "  <thead>\n",
              "    <tr style=\"text-align: right;\">\n",
              "      <th></th>\n",
              "      <th>Unnamed: 0</th>\n",
              "      <th>INDEX</th>\n",
              "      <th>TARGET</th>\n",
              "      <th>FixedAcidity</th>\n",
              "      <th>VolatileAcidity</th>\n",
              "      <th>CitricAcid</th>\n",
              "      <th>ResidualSugar</th>\n",
              "      <th>Chlorides</th>\n",
              "      <th>FreeSulfurDioxide</th>\n",
              "      <th>TotalSulfurDioxide</th>\n",
              "      <th>Density</th>\n",
              "      <th>pH</th>\n",
              "      <th>Sulphates</th>\n",
              "      <th>Alcohol</th>\n",
              "      <th>LabelAppeal</th>\n",
              "      <th>AcidIndex</th>\n",
              "      <th>STARS</th>\n",
              "    </tr>\n",
              "  </thead>\n",
              "  <tbody>\n",
              "    <tr>\n",
              "      <th>0</th>\n",
              "      <td>0</td>\n",
              "      <td>1</td>\n",
              "      <td>3</td>\n",
              "      <td>3.2</td>\n",
              "      <td>1.160</td>\n",
              "      <td>0.98</td>\n",
              "      <td>54.2</td>\n",
              "      <td>0.567</td>\n",
              "      <td>NaN</td>\n",
              "      <td>268.0</td>\n",
              "      <td>0.99280</td>\n",
              "      <td>3.33</td>\n",
              "      <td>0.59</td>\n",
              "      <td>9.9</td>\n",
              "      <td>0</td>\n",
              "      <td>8</td>\n",
              "      <td>2.0</td>\n",
              "    </tr>\n",
              "    <tr>\n",
              "      <th>1</th>\n",
              "      <td>1</td>\n",
              "      <td>2</td>\n",
              "      <td>3</td>\n",
              "      <td>4.5</td>\n",
              "      <td>0.160</td>\n",
              "      <td>0.81</td>\n",
              "      <td>26.1</td>\n",
              "      <td>0.425</td>\n",
              "      <td>15.0</td>\n",
              "      <td>327.0</td>\n",
              "      <td>1.02792</td>\n",
              "      <td>3.38</td>\n",
              "      <td>0.70</td>\n",
              "      <td>NaN</td>\n",
              "      <td>-1</td>\n",
              "      <td>7</td>\n",
              "      <td>3.0</td>\n",
              "    </tr>\n",
              "    <tr>\n",
              "      <th>2</th>\n",
              "      <td>2</td>\n",
              "      <td>4</td>\n",
              "      <td>5</td>\n",
              "      <td>7.1</td>\n",
              "      <td>2.640</td>\n",
              "      <td>0.88</td>\n",
              "      <td>14.8</td>\n",
              "      <td>0.037</td>\n",
              "      <td>214.0</td>\n",
              "      <td>142.0</td>\n",
              "      <td>0.99518</td>\n",
              "      <td>3.12</td>\n",
              "      <td>0.48</td>\n",
              "      <td>22.0</td>\n",
              "      <td>-1</td>\n",
              "      <td>8</td>\n",
              "      <td>3.0</td>\n",
              "    </tr>\n",
              "    <tr>\n",
              "      <th>3</th>\n",
              "      <td>3</td>\n",
              "      <td>5</td>\n",
              "      <td>3</td>\n",
              "      <td>5.7</td>\n",
              "      <td>0.385</td>\n",
              "      <td>0.04</td>\n",
              "      <td>18.8</td>\n",
              "      <td>0.425</td>\n",
              "      <td>22.0</td>\n",
              "      <td>115.0</td>\n",
              "      <td>0.99640</td>\n",
              "      <td>2.24</td>\n",
              "      <td>1.83</td>\n",
              "      <td>6.2</td>\n",
              "      <td>-1</td>\n",
              "      <td>6</td>\n",
              "      <td>1.0</td>\n",
              "    </tr>\n",
              "    <tr>\n",
              "      <th>4</th>\n",
              "      <td>4</td>\n",
              "      <td>6</td>\n",
              "      <td>4</td>\n",
              "      <td>8.0</td>\n",
              "      <td>0.330</td>\n",
              "      <td>1.26</td>\n",
              "      <td>9.4</td>\n",
              "      <td>NaN</td>\n",
              "      <td>167.0</td>\n",
              "      <td>108.0</td>\n",
              "      <td>0.99457</td>\n",
              "      <td>3.12</td>\n",
              "      <td>1.77</td>\n",
              "      <td>13.7</td>\n",
              "      <td>0</td>\n",
              "      <td>9</td>\n",
              "      <td>2.0</td>\n",
              "    </tr>\n",
              "  </tbody>\n",
              "</table>\n",
              "</div>"
            ],
            "text/plain": [
              "   Unnamed: 0  INDEX  TARGET  FixedAcidity  VolatileAcidity  CitricAcid  \\\n",
              "0           0      1       3           3.2            1.160        0.98   \n",
              "1           1      2       3           4.5            0.160        0.81   \n",
              "2           2      4       5           7.1            2.640        0.88   \n",
              "3           3      5       3           5.7            0.385        0.04   \n",
              "4           4      6       4           8.0            0.330        1.26   \n",
              "\n",
              "   ResidualSugar  Chlorides  FreeSulfurDioxide  TotalSulfurDioxide  Density  \\\n",
              "0           54.2      0.567                NaN               268.0  0.99280   \n",
              "1           26.1      0.425               15.0               327.0  1.02792   \n",
              "2           14.8      0.037              214.0               142.0  0.99518   \n",
              "3           18.8      0.425               22.0               115.0  0.99640   \n",
              "4            9.4        NaN              167.0               108.0  0.99457   \n",
              "\n",
              "     pH  Sulphates  Alcohol  LabelAppeal  AcidIndex  STARS  \n",
              "0  3.33       0.59      9.9            0          8    2.0  \n",
              "1  3.38       0.70      NaN           -1          7    3.0  \n",
              "2  3.12       0.48     22.0           -1          8    3.0  \n",
              "3  2.24       1.83      6.2           -1          6    1.0  \n",
              "4  3.12       1.77     13.7            0          9    2.0  "
            ]
          },
          "metadata": {},
          "execution_count": 1
        }
      ]
    },
    {
      "cell_type": "markdown",
      "metadata": {
        "id": "xlHjv0vM4eqr"
      },
      "source": [
        "<table>\n",
        "  <thead>\n",
        "    <tr>\n",
        "      <th>Data Set Attribute</th>\n",
        "      <th>Description</th>\n",
        "    </tr>\n",
        "  </thead>\n",
        "  <tbody>\n",
        "    <tr>\n",
        "      <td>INDEX</td>\n",
        "      <td>Unique ID</td>\n",
        "    </tr>\n",
        "    <tr>\n",
        "      <td>TARGET</td>\n",
        "      <td>Response Variable (indicates # of cases of wine sold)</td>\n",
        "    </tr>   \n",
        "    <tr>\n",
        "      <td>FixedAcidity</td>\n",
        "      <td>Fixed Acidity of the wine</td>\n",
        "    </tr>\n",
        "    <tr>\n",
        "      <td>VolatileAcidity</td>\n",
        "      <td>Volatile acid content of the wine</td>\n",
        "    </tr>\n",
        "    <tr>\n",
        "      <td>CitricAcid</td>\n",
        "      <td>Citric Acid content of the wine</td>\n",
        "    </tr>\n",
        "    <tr>\n",
        "      <td>ResidualSugar</td>\n",
        "      <td>Residual sugar content of the wine</td>\n",
        "    </tr>\n",
        "    <tr>\n",
        "      <td>Chlorides</td>\n",
        "      <td>Chloride content of the wine</td>\n",
        "    </tr>\n",
        "    <tr>\n",
        "      <td>FreeSulfurDioxide</td>\n",
        "      <td>sulfur dioxide content of the wine</td>\n",
        "    </tr>\n",
        "    <tr>\n",
        "      <td>TotalSulfurDioxideTotal</td>\n",
        "      <td>Total sulfur dioxide content of the wine</td>\n",
        "    </tr>\n",
        "    <tr>\n",
        "      <td>Density</td>\n",
        "      <td>Density of the wine</td>\n",
        "    </tr>\n",
        "    <tr>\n",
        "      <td>pH</td>\n",
        "      <td>pH of the wine</td>\n",
        "    </tr>\n",
        "    <tr>\n",
        "      <td>Sulphates</td>\n",
        "      <td>Sulfate content of the wine</td>\n",
        "    </tr>\n",
        "    <tr>\n",
        "      <td>Alcohol</td>\n",
        "      <td>Alcohol Content</td>\n",
        "    </tr>\n",
        "    <tr>\n",
        "      <td>LabelAppeal</td>\n",
        "      <td>Subjective marketing score that indicates the appeal of the design of the label on the bottle</td>\n",
        "    </tr>\n",
        "    <tr>\n",
        "      <td>AcidIndex</td>\n",
        "      <td>Measures total acidity of wine via a weighted average</td>\n",
        "    </tr> \n",
        "    <tr>\n",
        "      <td>STARS</td>\n",
        "      <td>Wine rating as determined by experts (4 = excellent; 1 = Poor)</td>\n",
        "    </tr>\n",
        "  </tbody>\n",
        "</table>\n",
        "\n"
      ]
    },
    {
      "cell_type": "code",
      "metadata": {
        "id": "xiCsk1sO4eqt",
        "colab": {
          "base_uri": "https://localhost:8080/"
        },
        "outputId": "d31577d5-aca8-4400-fe38-b6a55daa24a4"
      },
      "source": [
        "## a few methods will now be called to view summaries of this dataframe\n",
        "df.shape"
      ],
      "execution_count": 2,
      "outputs": [
        {
          "output_type": "execute_result",
          "data": {
            "text/plain": [
              "(12795, 17)"
            ]
          },
          "metadata": {},
          "execution_count": 2
        }
      ]
    },
    {
      "cell_type": "code",
      "metadata": {
        "id": "vtjoA9AQ4eqw",
        "colab": {
          "base_uri": "https://localhost:8080/"
        },
        "outputId": "b4f31756-3fc2-4150-9f60-edcea2e43fca"
      },
      "source": [
        "df.info()"
      ],
      "execution_count": 3,
      "outputs": [
        {
          "output_type": "stream",
          "name": "stdout",
          "text": [
            "<class 'pandas.core.frame.DataFrame'>\n",
            "RangeIndex: 12795 entries, 0 to 12794\n",
            "Data columns (total 17 columns):\n",
            " #   Column              Non-Null Count  Dtype  \n",
            "---  ------              --------------  -----  \n",
            " 0   Unnamed: 0          12795 non-null  int64  \n",
            " 1   INDEX               12795 non-null  int64  \n",
            " 2   TARGET              12795 non-null  int64  \n",
            " 3   FixedAcidity        12795 non-null  float64\n",
            " 4   VolatileAcidity     12795 non-null  float64\n",
            " 5   CitricAcid          12795 non-null  float64\n",
            " 6   ResidualSugar       12179 non-null  float64\n",
            " 7   Chlorides           12157 non-null  float64\n",
            " 8   FreeSulfurDioxide   12148 non-null  float64\n",
            " 9   TotalSulfurDioxide  12113 non-null  float64\n",
            " 10  Density             12795 non-null  float64\n",
            " 11  pH                  12400 non-null  float64\n",
            " 12  Sulphates           11585 non-null  float64\n",
            " 13  Alcohol             12142 non-null  float64\n",
            " 14  LabelAppeal         12795 non-null  int64  \n",
            " 15  AcidIndex           12795 non-null  int64  \n",
            " 16  STARS               9436 non-null   float64\n",
            "dtypes: float64(12), int64(5)\n",
            "memory usage: 1.7 MB\n"
          ]
        }
      ]
    },
    {
      "cell_type": "code",
      "metadata": {
        "colab": {
          "base_uri": "https://localhost:8080/"
        },
        "id": "GZwRnE14V5er",
        "outputId": "0d6561cb-0b8a-41b5-b0e8-3b1abd8e0b94"
      },
      "source": [
        "df.isnull().sum()"
      ],
      "execution_count": 4,
      "outputs": [
        {
          "output_type": "execute_result",
          "data": {
            "text/plain": [
              "Unnamed: 0               0\n",
              "INDEX                    0\n",
              "TARGET                   0\n",
              "FixedAcidity             0\n",
              "VolatileAcidity          0\n",
              "CitricAcid               0\n",
              "ResidualSugar          616\n",
              "Chlorides              638\n",
              "FreeSulfurDioxide      647\n",
              "TotalSulfurDioxide     682\n",
              "Density                  0\n",
              "pH                     395\n",
              "Sulphates             1210\n",
              "Alcohol                653\n",
              "LabelAppeal              0\n",
              "AcidIndex                0\n",
              "STARS                 3359\n",
              "dtype: int64"
            ]
          },
          "metadata": {},
          "execution_count": 4
        }
      ]
    },
    {
      "cell_type": "code",
      "metadata": {
        "colab": {
          "base_uri": "https://localhost:8080/",
          "height": 314
        },
        "id": "UIE8E32j4c8J",
        "outputId": "d4ed7976-d84f-424a-aafa-5378d67ab337"
      },
      "source": [
        "df.describe()"
      ],
      "execution_count": 5,
      "outputs": [
        {
          "output_type": "execute_result",
          "data": {
            "text/html": [
              "<div>\n",
              "<style scoped>\n",
              "    .dataframe tbody tr th:only-of-type {\n",
              "        vertical-align: middle;\n",
              "    }\n",
              "\n",
              "    .dataframe tbody tr th {\n",
              "        vertical-align: top;\n",
              "    }\n",
              "\n",
              "    .dataframe thead th {\n",
              "        text-align: right;\n",
              "    }\n",
              "</style>\n",
              "<table border=\"1\" class=\"dataframe\">\n",
              "  <thead>\n",
              "    <tr style=\"text-align: right;\">\n",
              "      <th></th>\n",
              "      <th>Unnamed: 0</th>\n",
              "      <th>INDEX</th>\n",
              "      <th>TARGET</th>\n",
              "      <th>FixedAcidity</th>\n",
              "      <th>VolatileAcidity</th>\n",
              "      <th>CitricAcid</th>\n",
              "      <th>ResidualSugar</th>\n",
              "      <th>Chlorides</th>\n",
              "      <th>FreeSulfurDioxide</th>\n",
              "      <th>TotalSulfurDioxide</th>\n",
              "      <th>Density</th>\n",
              "      <th>pH</th>\n",
              "      <th>Sulphates</th>\n",
              "      <th>Alcohol</th>\n",
              "      <th>LabelAppeal</th>\n",
              "      <th>AcidIndex</th>\n",
              "      <th>STARS</th>\n",
              "    </tr>\n",
              "  </thead>\n",
              "  <tbody>\n",
              "    <tr>\n",
              "      <th>count</th>\n",
              "      <td>12795.000000</td>\n",
              "      <td>12795.000000</td>\n",
              "      <td>12795.000000</td>\n",
              "      <td>12795.000000</td>\n",
              "      <td>12795.000000</td>\n",
              "      <td>12795.000000</td>\n",
              "      <td>12179.000000</td>\n",
              "      <td>12157.000000</td>\n",
              "      <td>12148.000000</td>\n",
              "      <td>12113.000000</td>\n",
              "      <td>12795.000000</td>\n",
              "      <td>12400.000000</td>\n",
              "      <td>11585.000000</td>\n",
              "      <td>12142.000000</td>\n",
              "      <td>12795.000000</td>\n",
              "      <td>12795.000000</td>\n",
              "      <td>9436.000000</td>\n",
              "    </tr>\n",
              "    <tr>\n",
              "      <th>mean</th>\n",
              "      <td>6397.000000</td>\n",
              "      <td>8069.980305</td>\n",
              "      <td>3.029074</td>\n",
              "      <td>8.063251</td>\n",
              "      <td>0.641086</td>\n",
              "      <td>0.686315</td>\n",
              "      <td>23.367809</td>\n",
              "      <td>0.222559</td>\n",
              "      <td>106.679042</td>\n",
              "      <td>204.319120</td>\n",
              "      <td>0.994203</td>\n",
              "      <td>3.207628</td>\n",
              "      <td>0.846668</td>\n",
              "      <td>10.523778</td>\n",
              "      <td>-0.009066</td>\n",
              "      <td>7.772724</td>\n",
              "      <td>2.041755</td>\n",
              "    </tr>\n",
              "    <tr>\n",
              "      <th>std</th>\n",
              "      <td>3693.742682</td>\n",
              "      <td>4656.905107</td>\n",
              "      <td>1.926368</td>\n",
              "      <td>4.996119</td>\n",
              "      <td>0.555614</td>\n",
              "      <td>0.606005</td>\n",
              "      <td>24.945667</td>\n",
              "      <td>0.234288</td>\n",
              "      <td>108.102694</td>\n",
              "      <td>163.116881</td>\n",
              "      <td>0.026538</td>\n",
              "      <td>0.679687</td>\n",
              "      <td>0.655612</td>\n",
              "      <td>3.629154</td>\n",
              "      <td>0.891089</td>\n",
              "      <td>1.323926</td>\n",
              "      <td>0.902540</td>\n",
              "    </tr>\n",
              "    <tr>\n",
              "      <th>min</th>\n",
              "      <td>0.000000</td>\n",
              "      <td>1.000000</td>\n",
              "      <td>0.000000</td>\n",
              "      <td>0.000000</td>\n",
              "      <td>0.000000</td>\n",
              "      <td>0.000000</td>\n",
              "      <td>0.000000</td>\n",
              "      <td>0.000000</td>\n",
              "      <td>0.000000</td>\n",
              "      <td>0.000000</td>\n",
              "      <td>0.888090</td>\n",
              "      <td>0.480000</td>\n",
              "      <td>0.000000</td>\n",
              "      <td>0.000000</td>\n",
              "      <td>-2.000000</td>\n",
              "      <td>4.000000</td>\n",
              "      <td>1.000000</td>\n",
              "    </tr>\n",
              "    <tr>\n",
              "      <th>25%</th>\n",
              "      <td>3198.500000</td>\n",
              "      <td>4037.500000</td>\n",
              "      <td>2.000000</td>\n",
              "      <td>5.600000</td>\n",
              "      <td>0.250000</td>\n",
              "      <td>0.280000</td>\n",
              "      <td>3.600000</td>\n",
              "      <td>0.046000</td>\n",
              "      <td>28.000000</td>\n",
              "      <td>100.000000</td>\n",
              "      <td>0.987720</td>\n",
              "      <td>2.960000</td>\n",
              "      <td>0.430000</td>\n",
              "      <td>9.000000</td>\n",
              "      <td>-1.000000</td>\n",
              "      <td>7.000000</td>\n",
              "      <td>1.000000</td>\n",
              "    </tr>\n",
              "    <tr>\n",
              "      <th>50%</th>\n",
              "      <td>6397.000000</td>\n",
              "      <td>8110.000000</td>\n",
              "      <td>3.000000</td>\n",
              "      <td>7.000000</td>\n",
              "      <td>0.410000</td>\n",
              "      <td>0.440000</td>\n",
              "      <td>12.900000</td>\n",
              "      <td>0.098000</td>\n",
              "      <td>56.000000</td>\n",
              "      <td>154.000000</td>\n",
              "      <td>0.994490</td>\n",
              "      <td>3.200000</td>\n",
              "      <td>0.590000</td>\n",
              "      <td>10.400000</td>\n",
              "      <td>0.000000</td>\n",
              "      <td>8.000000</td>\n",
              "      <td>2.000000</td>\n",
              "    </tr>\n",
              "    <tr>\n",
              "      <th>75%</th>\n",
              "      <td>9595.500000</td>\n",
              "      <td>12106.500000</td>\n",
              "      <td>4.000000</td>\n",
              "      <td>9.800000</td>\n",
              "      <td>0.910000</td>\n",
              "      <td>0.970000</td>\n",
              "      <td>38.700000</td>\n",
              "      <td>0.368000</td>\n",
              "      <td>172.000000</td>\n",
              "      <td>262.000000</td>\n",
              "      <td>1.000515</td>\n",
              "      <td>3.470000</td>\n",
              "      <td>1.100000</td>\n",
              "      <td>12.400000</td>\n",
              "      <td>1.000000</td>\n",
              "      <td>8.000000</td>\n",
              "      <td>3.000000</td>\n",
              "    </tr>\n",
              "    <tr>\n",
              "      <th>max</th>\n",
              "      <td>12794.000000</td>\n",
              "      <td>16129.000000</td>\n",
              "      <td>8.000000</td>\n",
              "      <td>34.400000</td>\n",
              "      <td>3.680000</td>\n",
              "      <td>3.860000</td>\n",
              "      <td>141.150000</td>\n",
              "      <td>1.351000</td>\n",
              "      <td>623.000000</td>\n",
              "      <td>1057.000000</td>\n",
              "      <td>1.099240</td>\n",
              "      <td>6.130000</td>\n",
              "      <td>4.240000</td>\n",
              "      <td>26.500000</td>\n",
              "      <td>2.000000</td>\n",
              "      <td>17.000000</td>\n",
              "      <td>4.000000</td>\n",
              "    </tr>\n",
              "  </tbody>\n",
              "</table>\n",
              "</div>"
            ],
            "text/plain": [
              "         Unnamed: 0         INDEX        TARGET  FixedAcidity  \\\n",
              "count  12795.000000  12795.000000  12795.000000  12795.000000   \n",
              "mean    6397.000000   8069.980305      3.029074      8.063251   \n",
              "std     3693.742682   4656.905107      1.926368      4.996119   \n",
              "min        0.000000      1.000000      0.000000      0.000000   \n",
              "25%     3198.500000   4037.500000      2.000000      5.600000   \n",
              "50%     6397.000000   8110.000000      3.000000      7.000000   \n",
              "75%     9595.500000  12106.500000      4.000000      9.800000   \n",
              "max    12794.000000  16129.000000      8.000000     34.400000   \n",
              "\n",
              "       VolatileAcidity    CitricAcid  ResidualSugar     Chlorides  \\\n",
              "count     12795.000000  12795.000000   12179.000000  12157.000000   \n",
              "mean          0.641086      0.686315      23.367809      0.222559   \n",
              "std           0.555614      0.606005      24.945667      0.234288   \n",
              "min           0.000000      0.000000       0.000000      0.000000   \n",
              "25%           0.250000      0.280000       3.600000      0.046000   \n",
              "50%           0.410000      0.440000      12.900000      0.098000   \n",
              "75%           0.910000      0.970000      38.700000      0.368000   \n",
              "max           3.680000      3.860000     141.150000      1.351000   \n",
              "\n",
              "       FreeSulfurDioxide  TotalSulfurDioxide       Density            pH  \\\n",
              "count       12148.000000        12113.000000  12795.000000  12400.000000   \n",
              "mean          106.679042          204.319120      0.994203      3.207628   \n",
              "std           108.102694          163.116881      0.026538      0.679687   \n",
              "min             0.000000            0.000000      0.888090      0.480000   \n",
              "25%            28.000000          100.000000      0.987720      2.960000   \n",
              "50%            56.000000          154.000000      0.994490      3.200000   \n",
              "75%           172.000000          262.000000      1.000515      3.470000   \n",
              "max           623.000000         1057.000000      1.099240      6.130000   \n",
              "\n",
              "          Sulphates       Alcohol   LabelAppeal     AcidIndex        STARS  \n",
              "count  11585.000000  12142.000000  12795.000000  12795.000000  9436.000000  \n",
              "mean       0.846668     10.523778     -0.009066      7.772724     2.041755  \n",
              "std        0.655612      3.629154      0.891089      1.323926     0.902540  \n",
              "min        0.000000      0.000000     -2.000000      4.000000     1.000000  \n",
              "25%        0.430000      9.000000     -1.000000      7.000000     1.000000  \n",
              "50%        0.590000     10.400000      0.000000      8.000000     2.000000  \n",
              "75%        1.100000     12.400000      1.000000      8.000000     3.000000  \n",
              "max        4.240000     26.500000      2.000000     17.000000     4.000000  "
            ]
          },
          "metadata": {},
          "execution_count": 5
        }
      ]
    },
    {
      "cell_type": "markdown",
      "metadata": {
        "id": "0nGI6heM_-_t"
      },
      "source": [
        "Column by Column EDA\n",
        "\n",
        "Columns 0&1 can be ignored. Unnamed is an index in the dataset. INDEX functions as the name of the wine in this dataset. They are useful identifiers in different conexts, but provide no predictive data.\n",
        "\n"
      ]
    },
    {
      "cell_type": "code",
      "metadata": {
        "id": "1G8qxFMtq_cB"
      },
      "source": [
        "#This ingores depreciation warnings, which will make the code more readable\n",
        "import warnings\n",
        "warnings.filterwarnings(\"ignore\", category=FutureWarning)"
      ],
      "execution_count": 6,
      "outputs": []
    },
    {
      "cell_type": "markdown",
      "metadata": {
        "id": "tBDRarD_APcq"
      },
      "source": [
        "###TARGET \n",
        "Response Variable (indicates # of cases of wine sold)\n"
      ]
    },
    {
      "cell_type": "code",
      "metadata": {
        "colab": {
          "base_uri": "https://localhost:8080/",
          "height": 708
        },
        "id": "_CMP-yrNWa_v",
        "outputId": "7980460d-d779-421e-c3c7-2c9cc03035a7"
      },
      "source": [
        "# import pyplot and seaborn for graph creating\n",
        "import matplotlib.pyplot as plt\n",
        "import seaborn as sns \n",
        "\n",
        "#Create a histogram and boxplot side by side\n",
        "i= df.TARGET\n",
        "sns.set_style();\n",
        "plt.figure(figsize=(16,8))#sets size of plot\n",
        "#Histogram\n",
        "plt.subplot(1,2,1);#sets subplot location left\n",
        "sns.distplot(i);#calls a histogram\n",
        "plt.title('TARGET')#adds title\n",
        "#Boxplot\n",
        "plt.subplot(1,2,2);#sets subplot location right\n",
        "sns.boxplot(i);#calls a boxplot\n",
        "plt.title('TARGET');#adds title\n",
        "\n",
        "print(\"Skewness: %f\" %i.skew()) #Adds Skew (symetry)value https://medium.com/@atanudan/kurtosis-skew-function-in-pandas-aa63d72e20de\n",
        "#· If the skewness is between -0.5 and 0.5, the data are fairly symmetrical\n",
        "#· If the skewness is between -1 and — 0.5 or between 0.5 and 1, the data are moderately skewed\n",
        "#· If the skewness is less than -1 or greater than 1, the data are highly skewed\n",
        "print(\"Kurtosis: %f\" %i.kurt(skipna = True)) #Adds Kurtosis value (tail-ness)\n",
        "#while kurtosis determines the heaviness of the distribution tails.\n",
        "#Kurtosis > 3 thin and not spread\n",
        "# Kurtosis <3 moderate spread\n",
        "i.describe() #Adds summary statistics of the variable"
      ],
      "execution_count": 7,
      "outputs": [
        {
          "output_type": "stream",
          "name": "stdout",
          "text": [
            "Skewness: -0.326378\n",
            "Kurtosis: -0.876788\n"
          ]
        },
        {
          "output_type": "execute_result",
          "data": {
            "text/plain": [
              "count    12795.000000\n",
              "mean         3.029074\n",
              "std          1.926368\n",
              "min          0.000000\n",
              "25%          2.000000\n",
              "50%          3.000000\n",
              "75%          4.000000\n",
              "max          8.000000\n",
              "Name: TARGET, dtype: float64"
            ]
          },
          "metadata": {},
          "execution_count": 7
        },
        {
          "output_type": "display_data",
          "data": {
            "image/png": "[encoded data removed]",
            "text/plain": [
              "<Figure size 1152x576 with 2 Axes>"
            ]
          },
          "metadata": {
            "needs_background": "light"
          }
        }
      ]
    },
    {
      "cell_type": "markdown",
      "metadata": {
        "id": "pzNwBG6SPaRt"
      },
      "source": [
        "* Modality: Bimodal with peaks around 0 and 4\n",
        "* Distribution: Left Skewed\n",
        "* Outliers: One to the right\n"
      ]
    },
    {
      "cell_type": "code",
      "metadata": {
        "colab": {
          "base_uri": "https://localhost:8080/"
        },
        "id": "zxFLQJ8ovkbI",
        "outputId": "a68171fd-dd0e-4f98-b40a-0774ad18e583"
      },
      "source": [
        "#checking counts of outlier\n",
        "df['TARGET'].value_counts()"
      ],
      "execution_count": 8,
      "outputs": [
        {
          "output_type": "execute_result",
          "data": {
            "text/plain": [
              "4    3177\n",
              "0    2734\n",
              "3    2611\n",
              "5    2014\n",
              "2    1091\n",
              "6     765\n",
              "1     244\n",
              "7     142\n",
              "8      17\n",
              "Name: TARGET, dtype: int64"
            ]
          },
          "metadata": {},
          "execution_count": 8
        }
      ]
    },
    {
      "cell_type": "markdown",
      "metadata": {
        "id": "O9lsHlyMwsGP"
      },
      "source": [
        "Discussion: It seems like many wines from this datset are not tried, and the rest are normally distributed. Wines ordered 8 times may be an outlier, through it does trail off from wine ordered 7 times. ??SHOULD THIS DATA BE TRANSFORMED??"
      ]
    },
    {
      "cell_type": "markdown",
      "metadata": {
        "id": "J19UrqDHASck"
      },
      "source": [
        "### FixedAcidity\n"
      ]
    },
    {
      "cell_type": "code",
      "metadata": {
        "colab": {
          "base_uri": "https://localhost:8080/",
          "height": 472
        },
        "id": "pldt0VFwQetL",
        "outputId": "8fc3db48-c545-4870-d75c-98d1118d1b0c"
      },
      "source": [
        "#Create a histogram and boxplot side by side for FixedAcidity\n",
        "i= df.FixedAcidity\n",
        "\n",
        "plt.figure(figsize=(8,4))\n",
        "#Histogram\n",
        "plt.subplot(1,2,1);\n",
        "sns.distplot(i); \n",
        "plt.title('FixedAcidity')\n",
        "#Boxplot\n",
        "plt.subplot(1,2,2);\n",
        "sns.boxplot(i);\n",
        "plt.title('FixedAcidity');\n",
        "print(\"Skewness: %f\" %i.skew()) #Adds Skew value\n",
        "i.describe() #Adds summary statistics of the variable"
      ],
      "execution_count": 9,
      "outputs": [
        {
          "output_type": "stream",
          "name": "stdout",
          "text": [
            "Skewness: 1.174556\n"
          ]
        },
        {
          "output_type": "execute_result",
          "data": {
            "text/plain": [
              "count    12795.000000\n",
              "mean         8.063251\n",
              "std          4.996119\n",
              "min          0.000000\n",
              "25%          5.600000\n",
              "50%          7.000000\n",
              "75%          9.800000\n",
              "max         34.400000\n",
              "Name: FixedAcidity, dtype: float64"
            ]
          },
          "metadata": {},
          "execution_count": 9
        },
        {
          "output_type": "display_data",
          "data": {
            "image/png": "[encoded data removed]",
            "text/plain": [
              "<Figure size 576x288 with 2 Axes>"
            ]
          },
          "metadata": {
            "needs_background": "light"
          }
        }
      ]
    },
    {
      "cell_type": "markdown",
      "metadata": {
        "id": "1PCgVV42QxaN"
      },
      "source": [
        "* Modality: Unimodal\n",
        "* Distribution: right skewed\n",
        "* Outliers: Many to the right\n",
        "\n",
        "Discussion:\n",
        "The frequency of response porportionally decreases with larger values, which may indicate that this is a log distribution. FES page 69"
      ]
    },
    {
      "cell_type": "markdown",
      "metadata": {
        "id": "4GiqhrhaAU-h"
      },
      "source": [
        "### VolatileAcidity\n"
      ]
    },
    {
      "cell_type": "code",
      "metadata": {
        "colab": {
          "base_uri": "https://localhost:8080/",
          "height": 472
        },
        "id": "dTpFHQpITEK7",
        "outputId": "8b3dc4d3-0aaf-468f-d610-1eb3490c5305"
      },
      "source": [
        "#Create a histogram and boxplot side by side for VolatileAcidity\n",
        "i= df.VolatileAcidity\n",
        "\n",
        "plt.figure(figsize=(8,4))\n",
        "#Histogram\n",
        "plt.subplot(1,2,1);\n",
        "sns.distplot(i); \n",
        "plt.title('VolatileAcidity')\n",
        "#Boxplot\n",
        "plt.subplot(1,2,2);\n",
        "sns.boxplot(i);\n",
        "plt.title('VolatileAcidity');\n",
        "\n",
        "print(\"Skewness: %f\" %i.skew()) #Adds Skew value\n",
        "i.describe() #Adds summary statistics of the variable"
      ],
      "execution_count": 10,
      "outputs": [
        {
          "output_type": "stream",
          "name": "stdout",
          "text": [
            "Skewness: 1.653366\n"
          ]
        },
        {
          "output_type": "execute_result",
          "data": {
            "text/plain": [
              "count    12795.000000\n",
              "mean         0.641086\n",
              "std          0.555614\n",
              "min          0.000000\n",
              "25%          0.250000\n",
              "50%          0.410000\n",
              "75%          0.910000\n",
              "max          3.680000\n",
              "Name: VolatileAcidity, dtype: float64"
            ]
          },
          "metadata": {},
          "execution_count": 10
        },
        {
          "output_type": "display_data",
          "data": {
            "image/png": "[encoded data removed]",
            "text/plain": [
              "<Figure size 576x288 with 2 Axes>"
            ]
          },
          "metadata": {
            "needs_background": "light"
          }
        }
      ]
    },
    {
      "cell_type": "markdown",
      "metadata": {
        "id": "ZfwKIsPlAYqD"
      },
      "source": [
        "VolatileAcidity is a continuous variable with no missing values\n",
        "* Modality: Unimodal\n",
        "* Distribution: right skewed\n",
        "* Outliers: many to the right\n",
        "\n",
        "Discussion\n",
        "The frequency of response porportionally decreases with larger values, which may indicate that this is a log distribution. FES page 69"
      ]
    },
    {
      "cell_type": "markdown",
      "metadata": {
        "id": "uZEyGTIm0_qF"
      },
      "source": [
        "### CitricAcid"
      ]
    },
    {
      "cell_type": "code",
      "metadata": {
        "colab": {
          "base_uri": "https://localhost:8080/",
          "height": 472
        },
        "id": "dkAhJg0PTIzg",
        "outputId": "1268f9f2-bdf7-45bb-bc03-d6225b66d498"
      },
      "source": [
        "#Create a histogram and boxplot side by side for CitricAcid\n",
        "i= df.CitricAcid\n",
        "\n",
        "plt.figure(figsize=(8,4))\n",
        "#Histogram\n",
        "plt.subplot(1,2,1);\n",
        "sns.distplot(i); \n",
        "plt.title('CitricAcid')\n",
        "#Boxplot\n",
        "plt.subplot(1,2,2);\n",
        "sns.boxplot(i);\n",
        "plt.title('CitricAcid');\n",
        "\n",
        "print(\"Skewness: %f\" %i.skew()) #Adds Skew value\n",
        "i.describe() #Adds summary statistics of the variable"
      ],
      "execution_count": 11,
      "outputs": [
        {
          "output_type": "stream",
          "name": "stdout",
          "text": [
            "Skewness: 1.643195\n"
          ]
        },
        {
          "output_type": "execute_result",
          "data": {
            "text/plain": [
              "count    12795.000000\n",
              "mean         0.686315\n",
              "std          0.606005\n",
              "min          0.000000\n",
              "25%          0.280000\n",
              "50%          0.440000\n",
              "75%          0.970000\n",
              "max          3.860000\n",
              "Name: CitricAcid, dtype: float64"
            ]
          },
          "metadata": {},
          "execution_count": 11
        },
        {
          "output_type": "display_data",
          "data": {
            "image/png": "[encoded data removed]",
            "text/plain": [
              "<Figure size 576x288 with 2 Axes>"
            ]
          },
          "metadata": {
            "needs_background": "light"
          }
        }
      ]
    },
    {
      "cell_type": "markdown",
      "metadata": {
        "id": "RkQafo6jidfT"
      },
      "source": [
        "CitricAcid is a continuous variable with no missing values\n",
        "* Modality: Unimodal\n",
        "* Distribution: right skewed\n",
        "* Outliers: many to the right\n",
        "\n",
        "Discussion:\n",
        "\n",
        "The frequency of response porportionally decreases with larger values, which may indicate that this is a log distribution. FES page 69"
      ]
    },
    {
      "cell_type": "markdown",
      "metadata": {
        "id": "wFZaJNKsAbLY"
      },
      "source": [
        "### ResidualSugar\n"
      ]
    },
    {
      "cell_type": "code",
      "metadata": {
        "colab": {
          "base_uri": "https://localhost:8080/",
          "height": 472
        },
        "id": "JTHMR92pTQhj",
        "outputId": "6348ff3b-e937-4353-ef8f-66ac0244bbfb"
      },
      "source": [
        "#Create a histogram and boxplot side by side for ResidualSugar\n",
        "i= df.ResidualSugar\n",
        "\n",
        "plt.figure(figsize=(8,4))\n",
        "#Histogram\n",
        "plt.subplot(1,2,1);\n",
        "sns.distplot(i); \n",
        "plt.title('ResidualSugar')\n",
        "#Boxplot\n",
        "plt.subplot(1,2,2);\n",
        "sns.boxplot(i);\n",
        "plt.title('ResidualSugar');\n",
        "\n",
        "print(\"Skewness: %f\" %i.skew()) #Adds Skew value\n",
        "i.describe() #Adds summary statistics of the variable"
      ],
      "execution_count": 12,
      "outputs": [
        {
          "output_type": "stream",
          "name": "stdout",
          "text": [
            "Skewness: 1.469162\n"
          ]
        },
        {
          "output_type": "execute_result",
          "data": {
            "text/plain": [
              "count    12179.000000\n",
              "mean        23.367809\n",
              "std         24.945667\n",
              "min          0.000000\n",
              "25%          3.600000\n",
              "50%         12.900000\n",
              "75%         38.700000\n",
              "max        141.150000\n",
              "Name: ResidualSugar, dtype: float64"
            ]
          },
          "metadata": {},
          "execution_count": 12
        },
        {
          "output_type": "display_data",
          "data": {
            "image/png": "[encoded data removed]",
            "text/plain": [
              "<Figure size 576x288 with 2 Axes>"
            ]
          },
          "metadata": {
            "needs_background": "light"
          }
        }
      ]
    },
    {
      "cell_type": "markdown",
      "metadata": {
        "id": "ivRX4rNHilK1"
      },
      "source": [
        "\n",
        "ResidualSugar is a continuous variable with some missing values\n",
        "* Modality: Unimodal\n",
        "* Distribution: right skewed\n",
        "* Outliers: many to the right\n",
        "\n",
        "Discussion\n",
        "\n",
        "??NULL DATA??\n",
        "\n",
        "The frequency of response porportionally decreases with larger values, which may indicate that this is a log distribution. FES page 69\n"
      ]
    },
    {
      "cell_type": "markdown",
      "metadata": {
        "id": "JZqPTEKVAfGT"
      },
      "source": [
        "### Chlorides\n"
      ]
    },
    {
      "cell_type": "code",
      "metadata": {
        "colab": {
          "base_uri": "https://localhost:8080/",
          "height": 472
        },
        "id": "lPviBqDQTXDS",
        "outputId": "56aa8c4d-573b-4704-8af8-0f081058a055"
      },
      "source": [
        "#Create a histogram and boxplot side by side for Chlorides\n",
        "i= df.Chlorides\n",
        "\n",
        "plt.figure(figsize=(8,4))\n",
        "#Histogram\n",
        "plt.subplot(1,2,1);\n",
        "sns.distplot(i); \n",
        "plt.title('Chlorides')\n",
        "#Boxplot\n",
        "plt.subplot(1,2,2);\n",
        "sns.boxplot(i);\n",
        "plt.title('Chlorides');\n",
        "\n",
        "print(\"Skewness: %f\" %i.skew()) #Adds Skew value\n",
        "i.describe() #Adds summary statistics of the variable"
      ],
      "execution_count": 13,
      "outputs": [
        {
          "output_type": "stream",
          "name": "stdout",
          "text": [
            "Skewness: 1.481147\n"
          ]
        },
        {
          "output_type": "execute_result",
          "data": {
            "text/plain": [
              "count    12157.000000\n",
              "mean         0.222559\n",
              "std          0.234288\n",
              "min          0.000000\n",
              "25%          0.046000\n",
              "50%          0.098000\n",
              "75%          0.368000\n",
              "max          1.351000\n",
              "Name: Chlorides, dtype: float64"
            ]
          },
          "metadata": {},
          "execution_count": 13
        },
        {
          "output_type": "display_data",
          "data": {
            "image/png": "[encoded data removed]",
            "text/plain": [
              "<Figure size 576x288 with 2 Axes>"
            ]
          },
          "metadata": {
            "needs_background": "light"
          }
        }
      ]
    },
    {
      "cell_type": "markdown",
      "metadata": {
        "id": "nONuUOiCir6W"
      },
      "source": [
        "Chlorides is a continuous variable with some missing values\n",
        "* Modality: Unimodal\n",
        "* Distribution: right skewed\n",
        "* Outliers: many to the right\n",
        "\n",
        "Discussion\n",
        "\n",
        "??NULL DATA??\n",
        "\n",
        "The frequency of response porportionally decreases with larger values, which may indicate that this is a log distribution. FES page 69"
      ]
    },
    {
      "cell_type": "markdown",
      "metadata": {
        "id": "3QVLEzvRAhdh"
      },
      "source": [
        "### FreeSulfurDioxide"
      ]
    },
    {
      "cell_type": "code",
      "metadata": {
        "colab": {
          "base_uri": "https://localhost:8080/",
          "height": 472
        },
        "id": "xsXxxw1pTakH",
        "outputId": "116e1fa4-6a86-4426-e1f0-34e84956cd56"
      },
      "source": [
        "#Create a histogram and boxplot side by side for FreeSulfurDioxide\n",
        "i= df.FreeSulfurDioxide\n",
        "\n",
        "plt.figure(figsize=(8,4))\n",
        "#Histogram\n",
        "plt.subplot(1,2,1);\n",
        "sns.distplot(i); \n",
        "plt.title('FreeSulfurDioxide')\n",
        "#Boxplot\n",
        "plt.subplot(1,2,2);\n",
        "sns.boxplot(i);\n",
        "plt.title('FreeSulfurDioxide');\n",
        "\n",
        "print(\"Skewness: %f\" %i.skew()) #Adds Skew value\n",
        "i.describe() #Adds summary statistics of the variable"
      ],
      "execution_count": 14,
      "outputs": [
        {
          "output_type": "stream",
          "name": "stdout",
          "text": [
            "Skewness: 1.530134\n"
          ]
        },
        {
          "output_type": "execute_result",
          "data": {
            "text/plain": [
              "count    12148.000000\n",
              "mean       106.679042\n",
              "std        108.102694\n",
              "min          0.000000\n",
              "25%         28.000000\n",
              "50%         56.000000\n",
              "75%        172.000000\n",
              "max        623.000000\n",
              "Name: FreeSulfurDioxide, dtype: float64"
            ]
          },
          "metadata": {},
          "execution_count": 14
        },
        {
          "output_type": "display_data",
          "data": {
            "image/png": "[encoded data removed]",
            "text/plain": [
              "<Figure size 576x288 with 2 Axes>"
            ]
          },
          "metadata": {
            "needs_background": "light"
          }
        }
      ]
    },
    {
      "cell_type": "markdown",
      "metadata": {
        "id": "A21SD-e2iwE9"
      },
      "source": [
        "FreeSulfurDioxide is a continuous variable with some missing values\n",
        "* Modality: Unimodal\n",
        "* Distribution: right skewed\n",
        "* Outliers: many to the right\n",
        "\n",
        "Discussion\n",
        "\n",
        "??NULL DATA??\n",
        "\n",
        "The frequency of response porportionally decreases with larger values, which may indicate that this is a log distribution. FES page 69"
      ]
    },
    {
      "cell_type": "markdown",
      "metadata": {
        "id": "bvOZ_sgVAkzx"
      },
      "source": [
        "\n",
        "### TotalSulfurDioxide"
      ]
    },
    {
      "cell_type": "code",
      "metadata": {
        "colab": {
          "base_uri": "https://localhost:8080/",
          "height": 472
        },
        "id": "02BG9o6LTaNc",
        "outputId": "29fe7b2c-4794-416d-acea-087566ceb285"
      },
      "source": [
        "#Create a histogram and boxplot side by side for TotalSulfurDioxide\n",
        "i= df.TotalSulfurDioxide\n",
        "\n",
        "plt.figure(figsize=(8,4))\n",
        "#Histogram\n",
        "plt.subplot(1,2,1);\n",
        "sns.distplot(i); \n",
        "plt.title('TotalSulfurDioxide')\n",
        "#Boxplot\n",
        "plt.subplot(1,2,2);\n",
        "sns.boxplot(i);\n",
        "plt.title('TotalSulfurDioxide');\n",
        "\n",
        "print(\"Skewness: %f\" %i.skew()) #Adds Skew value\n",
        "i.describe() #Adds summary statistics of the variable"
      ],
      "execution_count": 15,
      "outputs": [
        {
          "output_type": "stream",
          "name": "stdout",
          "text": [
            "Skewness: 1.611275\n"
          ]
        },
        {
          "output_type": "execute_result",
          "data": {
            "text/plain": [
              "count    12113.000000\n",
              "mean       204.319120\n",
              "std        163.116881\n",
              "min          0.000000\n",
              "25%        100.000000\n",
              "50%        154.000000\n",
              "75%        262.000000\n",
              "max       1057.000000\n",
              "Name: TotalSulfurDioxide, dtype: float64"
            ]
          },
          "metadata": {},
          "execution_count": 15
        },
        {
          "output_type": "display_data",
          "data": {
            "image/png": "[encoded data removed]",
            "text/plain": [
              "<Figure size 576x288 with 2 Axes>"
            ]
          },
          "metadata": {
            "needs_background": "light"
          }
        }
      ]
    },
    {
      "cell_type": "markdown",
      "metadata": {
        "id": "0lGgp3JTiz0p"
      },
      "source": [
        "TotalSulfurDioxide is a continuous variable with some missing values\n",
        "* Modality: Unimodal\n",
        "* Distribution: right skewed\n",
        "* Outliers: many to the right\n",
        "\n",
        "Discussion\n",
        "\n",
        "??NULL DATA??\n",
        "\n",
        "The frequency of response porportionally decreases with larger values, which may indicate that this is a log distribution. FES page 69"
      ]
    },
    {
      "cell_type": "markdown",
      "metadata": {
        "id": "nmy_OaLZAlwA"
      },
      "source": [
        " ###  Density\n"
      ]
    },
    {
      "cell_type": "code",
      "metadata": {
        "colab": {
          "base_uri": "https://localhost:8080/",
          "height": 472
        },
        "id": "BRf7BJwWTZ6c",
        "outputId": "02c96451-75cb-4c67-a603-5bf0f39541cd"
      },
      "source": [
        "#Create a histogram and boxplot side by side for Density\n",
        "i= df.Density\n",
        "\n",
        "plt.figure(figsize=(8,4))\n",
        "#Histogram\n",
        "plt.subplot(1,2,1);\n",
        "sns.distplot(i); \n",
        "plt.title('Density')\n",
        "#Boxplot\n",
        "plt.subplot(1,2,2);\n",
        "sns.boxplot(i);\n",
        "plt.title('Density');\n",
        "\n",
        "print(\"Skewness: %f\" %i.skew()) #Adds Skew value\n",
        "i.describe() #Adds summary statistics of the variable"
      ],
      "execution_count": 16,
      "outputs": [
        {
          "output_type": "stream",
          "name": "stdout",
          "text": [
            "Skewness: -0.018698\n"
          ]
        },
        {
          "output_type": "execute_result",
          "data": {
            "text/plain": [
              "count    12795.000000\n",
              "mean         0.994203\n",
              "std          0.026538\n",
              "min          0.888090\n",
              "25%          0.987720\n",
              "50%          0.994490\n",
              "75%          1.000515\n",
              "max          1.099240\n",
              "Name: Density, dtype: float64"
            ]
          },
          "metadata": {},
          "execution_count": 16
        },
        {
          "output_type": "display_data",
          "data": {
            "image/png": "[encoded data removed]",
            "text/plain": [
              "<Figure size 576x288 with 2 Axes>"
            ]
          },
          "metadata": {
            "needs_background": "light"
          }
        }
      ]
    },
    {
      "cell_type": "markdown",
      "metadata": {
        "id": "zJbFlV1Pi3i_"
      },
      "source": [
        "Density is a continuous variable with no missing values\n",
        "* Modality: Unimodal\n",
        "* Distribution: Centered\n",
        "* Outliers: many on both sides\n",
        "\n",
        "Discussion\n",
        "\n",
        "??NULL DATA??\n",
        "\n",
        "??OUTLIERS??\n"
      ]
    },
    {
      "cell_type": "markdown",
      "metadata": {
        "id": "FXJrh9ZsAso3"
      },
      "source": [
        "### pH"
      ]
    },
    {
      "cell_type": "code",
      "metadata": {
        "colab": {
          "base_uri": "https://localhost:8080/",
          "height": 472
        },
        "id": "g5BFSuBPTZmK",
        "outputId": "a4e91b9b-5535-46ec-93bd-bfb04a253824"
      },
      "source": [
        "#Create a histogram and boxplot side by side for pH\n",
        "i= df.pH\n",
        "\n",
        "plt.figure(figsize=(8,4))\n",
        "#Histogram\n",
        "plt.subplot(1,2,1);\n",
        "sns.distplot(i); \n",
        "plt.title('pH')\n",
        "#Boxplot\n",
        "plt.subplot(1,2,2);\n",
        "sns.boxplot(i);\n",
        "plt.title('pH');\n",
        "\n",
        "print(\"Skewness: %f\" %i.skew()) #Adds Skew value\n",
        "i.describe() #Adds summary statistics of the variable"
      ],
      "execution_count": 17,
      "outputs": [
        {
          "output_type": "stream",
          "name": "stdout",
          "text": [
            "Skewness: 0.044299\n"
          ]
        },
        {
          "output_type": "execute_result",
          "data": {
            "text/plain": [
              "count    12400.000000\n",
              "mean         3.207628\n",
              "std          0.679687\n",
              "min          0.480000\n",
              "25%          2.960000\n",
              "50%          3.200000\n",
              "75%          3.470000\n",
              "max          6.130000\n",
              "Name: pH, dtype: float64"
            ]
          },
          "metadata": {},
          "execution_count": 17
        },
        {
          "output_type": "display_data",
          "data": {
            "image/png": "[encoded data removed]",
            "text/plain": [
              "<Figure size 576x288 with 2 Axes>"
            ]
          },
          "metadata": {
            "needs_background": "light"
          }
        }
      ]
    },
    {
      "cell_type": "markdown",
      "metadata": {
        "id": "_An2HXgli_GR"
      },
      "source": [
        "pH is a continuous variable with some missing values\n",
        "* Modality: Unimodal\n",
        "* Distribution: Centered\n",
        "* Outliers: some missing values\n",
        "\n",
        "Discussion\n",
        "\n",
        "??OUTLIERS??"
      ]
    },
    {
      "cell_type": "markdown",
      "metadata": {
        "id": "7sSrC0h-AuUS"
      },
      "source": [
        "### Sulphates\n"
      ]
    },
    {
      "cell_type": "code",
      "metadata": {
        "colab": {
          "base_uri": "https://localhost:8080/",
          "height": 472
        },
        "id": "-AIUxOMFTZO0",
        "outputId": "5bc3e3b1-f142-45de-d850-56a133b4042c"
      },
      "source": [
        "#Create a histogram and boxplot side by side for Sulphates\n",
        "i= df.Sulphates\n",
        "\n",
        "plt.figure(figsize=(8,4))\n",
        "#Histogram\n",
        "plt.subplot(1,2,1);\n",
        "sns.distplot(i); \n",
        "plt.title('Sulphates')\n",
        "#Boxplot\n",
        "plt.subplot(1,2,2);\n",
        "sns.boxplot(i);\n",
        "plt.title('Sulphates');\n",
        "\n",
        "print(\"Skewness: %f\" %i.skew()) #Adds Skew value\n",
        "i.describe() #Adds summary statistics of the variable"
      ],
      "execution_count": 18,
      "outputs": [
        {
          "output_type": "stream",
          "name": "stdout",
          "text": [
            "Skewness: 1.691810\n"
          ]
        },
        {
          "output_type": "execute_result",
          "data": {
            "text/plain": [
              "count    11585.000000\n",
              "mean         0.846668\n",
              "std          0.655612\n",
              "min          0.000000\n",
              "25%          0.430000\n",
              "50%          0.590000\n",
              "75%          1.100000\n",
              "max          4.240000\n",
              "Name: Sulphates, dtype: float64"
            ]
          },
          "metadata": {},
          "execution_count": 18
        },
        {
          "output_type": "display_data",
          "data": {
            "image/png": "[encoded data removed]",
            "text/plain": [
              "<Figure size 576x288 with 2 Axes>"
            ]
          },
          "metadata": {
            "needs_background": "light"
          }
        }
      ]
    },
    {
      "cell_type": "markdown",
      "metadata": {
        "id": "4A3E2HRejDsG"
      },
      "source": [
        "Sulphates is a continuous variable with many missing values\n",
        "* Modality: Unimodal\n",
        "* Distribution: right skewed\n",
        "* Outliers: many to the right\n",
        "\n",
        "Discussion\n",
        "??NULL??"
      ]
    },
    {
      "cell_type": "markdown",
      "metadata": {
        "id": "NfYAogenAv9F"
      },
      "source": [
        "### Alcohol"
      ]
    },
    {
      "cell_type": "code",
      "metadata": {
        "colab": {
          "base_uri": "https://localhost:8080/",
          "height": 472
        },
        "id": "ageueT44TY6f",
        "outputId": "a4e13228-98fa-426b-84ff-edebad45660e"
      },
      "source": [
        "#Create a histogram and boxplot side by side for Alcohol\n",
        "i= df.Alcohol\n",
        "\n",
        "plt.figure(figsize=(8,4))\n",
        "#Histogram\n",
        "plt.subplot(1,2,1);\n",
        "sns.distplot(i); \n",
        "plt.title('Alcohol')\n",
        "#Boxplot\n",
        "plt.subplot(1,2,2);\n",
        "sns.boxplot(i);\n",
        "plt.title('Alcohol');\n",
        "\n",
        "print(\"Skewness: %f\" %i.skew()) #Adds Skew value\n",
        "i.describe() #Adds summary statistics of the variable"
      ],
      "execution_count": 19,
      "outputs": [
        {
          "output_type": "stream",
          "name": "stdout",
          "text": [
            "Skewness: 0.182591\n"
          ]
        },
        {
          "output_type": "execute_result",
          "data": {
            "text/plain": [
              "count    12142.000000\n",
              "mean        10.523778\n",
              "std          3.629154\n",
              "min          0.000000\n",
              "25%          9.000000\n",
              "50%         10.400000\n",
              "75%         12.400000\n",
              "max         26.500000\n",
              "Name: Alcohol, dtype: float64"
            ]
          },
          "metadata": {},
          "execution_count": 19
        },
        {
          "output_type": "display_data",
          "data": {
            "image/png": "[encoded data removed]",
            "text/plain": [
              "<Figure size 576x288 with 2 Axes>"
            ]
          },
          "metadata": {
            "needs_background": "light"
          }
        }
      ]
    },
    {
      "cell_type": "markdown",
      "metadata": {
        "id": "asqM3APEjINU"
      },
      "source": [
        "Alchohol is a continuous variable with some missing values\n",
        "* Modality: Unimodal\n",
        "* Distribution: Centered\n",
        "* Outliers: many on both sides\n",
        "\n",
        "Discussion\n",
        "??NULL??\n"
      ]
    },
    {
      "cell_type": "markdown",
      "metadata": {
        "id": "7PB8Ihg1Axgy"
      },
      "source": [
        "### LabelAppeal\n"
      ]
    },
    {
      "cell_type": "code",
      "metadata": {
        "colab": {
          "base_uri": "https://localhost:8080/",
          "height": 472
        },
        "id": "I_ZLcUHLTYpc",
        "outputId": "b0367af6-da7f-40d1-91df-c8d77955e489"
      },
      "source": [
        "#Create a histogram and boxplot side by side for LabelAppeal\n",
        "i= df.LabelAppeal\n",
        "\n",
        "plt.figure(figsize=(8,4))\n",
        "#Histogram\n",
        "plt.subplot(1,2,1);\n",
        "sns.distplot(i); \n",
        "plt.title('LabelAppeal')\n",
        "#Boxplot\n",
        "plt.subplot(1,2,2);\n",
        "sns.boxplot(i);\n",
        "plt.title('LabelAppeal');\n",
        "\n",
        "print(\"Skewness: %f\" %i.skew()) #Adds Skew value\n",
        "i.describe() #Adds summary statistics of the variable"
      ],
      "execution_count": 20,
      "outputs": [
        {
          "output_type": "stream",
          "name": "stdout",
          "text": [
            "Skewness: 0.008431\n"
          ]
        },
        {
          "output_type": "execute_result",
          "data": {
            "text/plain": [
              "count    12795.000000\n",
              "mean        -0.009066\n",
              "std          0.891089\n",
              "min         -2.000000\n",
              "25%         -1.000000\n",
              "50%          0.000000\n",
              "75%          1.000000\n",
              "max          2.000000\n",
              "Name: LabelAppeal, dtype: float64"
            ]
          },
          "metadata": {},
          "execution_count": 20
        },
        {
          "output_type": "display_data",
          "data": {
            "image/png": "[encoded data removed]",
            "text/plain": [
              "<Figure size 576x288 with 2 Axes>"
            ]
          },
          "metadata": {
            "needs_background": "light"
          }
        }
      ]
    },
    {
      "cell_type": "markdown",
      "metadata": {
        "id": "5pdNIbMSjON9"
      },
      "source": [
        "LabelAppeal is a actegroical variable with no missing values\n",
        "* Modality: Unimodal\n",
        "* Distribution: Centered\n",
        "* Outliers: None\n",
        "\n",
        "Discussion \\\\\n",
        "No changes necessary\n"
      ]
    },
    {
      "cell_type": "markdown",
      "metadata": {
        "id": "KfYBe-cyA2WX"
      },
      "source": [
        "### AcidIndex"
      ]
    },
    {
      "cell_type": "code",
      "metadata": {
        "colab": {
          "base_uri": "https://localhost:8080/",
          "height": 472
        },
        "id": "0qKdTEpdTYVv",
        "outputId": "d0a1d65b-09eb-4308-e356-2f930dc233c8"
      },
      "source": [
        "#Create a histogram and boxplot side by side for AcidIndex\n",
        "i= df.AcidIndex\n",
        "\n",
        "plt.figure(figsize=(8,4))\n",
        "#Histogram\n",
        "plt.subplot(1,2,1);\n",
        "sns.distplot(i); \n",
        "plt.title('AcidIndex')\n",
        "#Boxplot\n",
        "plt.subplot(1,2,2);\n",
        "sns.boxplot(i);\n",
        "plt.title('AcidIndex');\n",
        "\n",
        "print(\"Skewness: %f\" %i.skew()) #Adds Skew value\n",
        "i.describe() #Adds summary statistics of the variable"
      ],
      "execution_count": 21,
      "outputs": [
        {
          "output_type": "stream",
          "name": "stdout",
          "text": [
            "Skewness: 1.648883\n"
          ]
        },
        {
          "output_type": "execute_result",
          "data": {
            "text/plain": [
              "count    12795.000000\n",
              "mean         7.772724\n",
              "std          1.323926\n",
              "min          4.000000\n",
              "25%          7.000000\n",
              "50%          8.000000\n",
              "75%          8.000000\n",
              "max         17.000000\n",
              "Name: AcidIndex, dtype: float64"
            ]
          },
          "metadata": {},
          "execution_count": 21
        },
        {
          "output_type": "display_data",
          "data": {
            "image/png": "[encoded data removed]",
            "text/plain": [
              "<Figure size 576x288 with 2 Axes>"
            ]
          },
          "metadata": {
            "needs_background": "light"
          }
        }
      ]
    },
    {
      "cell_type": "markdown",
      "metadata": {
        "id": "iRF2akbLjVej"
      },
      "source": [
        "LabelAppeal is a actegroical variable with no missing values\n",
        "* Modality: Unimodal\n",
        "* Distribution: Right Skewed\n",
        "* Outliers: Some on both sides, more to the right\n",
        "\n",
        "Discussion\n"
      ]
    },
    {
      "cell_type": "markdown",
      "metadata": {
        "id": "pPId-XgIA4PV"
      },
      "source": [
        "### STARS"
      ]
    },
    {
      "cell_type": "code",
      "metadata": {
        "colab": {
          "base_uri": "https://localhost:8080/",
          "height": 472
        },
        "id": "fYP-ozICTYFp",
        "outputId": "1c524f9f-0ae2-4662-fef5-a8ddd23fbeef"
      },
      "source": [
        "#Create a histogram and boxplot side by side for STARS\n",
        "i= df.STARS\n",
        "\n",
        "plt.figure(figsize=(8,4))\n",
        "#Histogram\n",
        "plt.subplot(1,2,1);\n",
        "sns.distplot(i); \n",
        "plt.title('STARS')\n",
        "#Boxplot\n",
        "plt.subplot(1,2,2);\n",
        "sns.boxplot(i);\n",
        "plt.title('STARS');\n",
        "\n",
        "print(\"Skewness: %f\" %i.skew()) #Adds Skew value\n",
        "i.describe() #Adds summary statistics of the variable"
      ],
      "execution_count": 22,
      "outputs": [
        {
          "output_type": "stream",
          "name": "stdout",
          "text": [
            "Skewness: 0.447378\n"
          ]
        },
        {
          "output_type": "execute_result",
          "data": {
            "text/plain": [
              "count    9436.000000\n",
              "mean        2.041755\n",
              "std         0.902540\n",
              "min         1.000000\n",
              "25%         1.000000\n",
              "50%         2.000000\n",
              "75%         3.000000\n",
              "max         4.000000\n",
              "Name: STARS, dtype: float64"
            ]
          },
          "metadata": {},
          "execution_count": 22
        },
        {
          "output_type": "display_data",
          "data": {
            "image/png": "[encoded data removed]",
            "text/plain": [
              "<Figure size 576x288 with 2 Axes>"
            ]
          },
          "metadata": {
            "needs_background": "light"
          }
        }
      ]
    },
    {
      "cell_type": "markdown",
      "metadata": {
        "id": "XuSJoLdVjZ46"
      },
      "source": [
        "STARS is a categorical variable with many missing values\n",
        "* Modality: Unimodal\n",
        "* Distribution: right skewed\n",
        "* Outliers: None\n",
        "\n",
        "Discussion:\n",
        "\n",
        "Maybe we can assume all missing values are 0 stars? see how that affects correlation and skewness etc"
      ]
    },
    {
      "cell_type": "markdown",
      "metadata": {
        "id": "st_9-PEAAmTe"
      },
      "source": [
        "Correlation Analysis"
      ]
    },
    {
      "cell_type": "code",
      "metadata": {
        "colab": {
          "base_uri": "https://localhost:8080/",
          "height": 566
        },
        "id": "vYHmFEITyI68",
        "outputId": "5f20b076-46d6-49a4-d030-2f4bf5bad0a6"
      },
      "source": [
        "dfc = df.iloc[:, 2:]\n",
        "plt.figure(figsize=(16,8))#.suptitle('distributions',fontsize=16)\n",
        "sns.heatmap(dfc.corr(),cmap='coolwarm',annot=True);"
      ],
      "execution_count": 23,
      "outputs": [
        {
          "output_type": "display_data",
          "data": {
            "image/png": "[encoded data removed]",
            "text/plain": [
              "<Figure size 1152x576 with 2 Axes>"
            ]
          },
          "metadata": {
            "needs_background": "light"
          }
        }
      ]
    },
    {
      "cell_type": "markdown",
      "metadata": {
        "id": "B7rFT8eB5GNE"
      },
      "source": [
        "## Data Preparation <a id='2'></a>\n",
        "1. handle nulls or bad data: have you deleted any observations? Used imputation to fill missing data values?\n",
        " * svd or other model based approach?\n",
        "\n",
        "2. dummy variables or other categoryial transofrmations\n",
        "3. Transform\n",
        " 1. interaction features\n",
        " 2. handle sparse classes\n",
        " 3. drop features\n",
        "  * colinear features \n",
        "  * drop none helpful features\n",
        "  "
      ]
    },
    {
      "cell_type": "markdown",
      "metadata": {
        "id": "xKGyWxVY685J"
      },
      "source": [
        "\n",
        "\n",
        "----- Using your Python skills, perform appropriate data preparation tasks relative to the data integrity + usability issues you identified via your EDA work. Describe the ways in which you have transformed / prepared the data for use within a machine learning algorithm, e.g., have you deleted any observations? Used imputation to fill missing data values? **Created any new variables**? **Transformed data distributions via mathematical transforms (e.g., Box-Cox, logarithms, etc.) or binningto make the data more “usable”for model training?** etc. Be sure to explain your justification for each adjustment you have made to the data. ---------\n",
        "###Examine Null Patterns"
      ]
    },
    {
      "cell_type": "code",
      "metadata": {
        "id": "8sg-gwJ7Dsfk",
        "colab": {
          "base_uri": "https://localhost:8080/",
          "height": 294
        },
        "outputId": "1bb1fe27-17ec-4708-ea41-69670585108b"
      },
      "source": [
        "#create a dataframe to easily view missing values\n",
        "df_null = df[df.columns[~df.notnull().all()]]\n",
        "df_null.describe()"
      ],
      "execution_count": 24,
      "outputs": [
        {
          "output_type": "execute_result",
          "data": {
            "text/html": [
              "<div>\n",
              "<style scoped>\n",
              "    .dataframe tbody tr th:only-of-type {\n",
              "        vertical-align: middle;\n",
              "    }\n",
              "\n",
              "    .dataframe tbody tr th {\n",
              "        vertical-align: top;\n",
              "    }\n",
              "\n",
              "    .dataframe thead th {\n",
              "        text-align: right;\n",
              "    }\n",
              "</style>\n",
              "<table border=\"1\" class=\"dataframe\">\n",
              "  <thead>\n",
              "    <tr style=\"text-align: right;\">\n",
              "      <th></th>\n",
              "      <th>ResidualSugar</th>\n",
              "      <th>Chlorides</th>\n",
              "      <th>FreeSulfurDioxide</th>\n",
              "      <th>TotalSulfurDioxide</th>\n",
              "      <th>pH</th>\n",
              "      <th>Sulphates</th>\n",
              "      <th>Alcohol</th>\n",
              "      <th>STARS</th>\n",
              "    </tr>\n",
              "  </thead>\n",
              "  <tbody>\n",
              "    <tr>\n",
              "      <th>count</th>\n",
              "      <td>12179.000000</td>\n",
              "      <td>12157.000000</td>\n",
              "      <td>12148.000000</td>\n",
              "      <td>12113.000000</td>\n",
              "      <td>12400.000000</td>\n",
              "      <td>11585.000000</td>\n",
              "      <td>12142.000000</td>\n",
              "      <td>9436.000000</td>\n",
              "    </tr>\n",
              "    <tr>\n",
              "      <th>mean</th>\n",
              "      <td>23.367809</td>\n",
              "      <td>0.222559</td>\n",
              "      <td>106.679042</td>\n",
              "      <td>204.319120</td>\n",
              "      <td>3.207628</td>\n",
              "      <td>0.846668</td>\n",
              "      <td>10.523778</td>\n",
              "      <td>2.041755</td>\n",
              "    </tr>\n",
              "    <tr>\n",
              "      <th>std</th>\n",
              "      <td>24.945667</td>\n",
              "      <td>0.234288</td>\n",
              "      <td>108.102694</td>\n",
              "      <td>163.116881</td>\n",
              "      <td>0.679687</td>\n",
              "      <td>0.655612</td>\n",
              "      <td>3.629154</td>\n",
              "      <td>0.902540</td>\n",
              "    </tr>\n",
              "    <tr>\n",
              "      <th>min</th>\n",
              "      <td>0.000000</td>\n",
              "      <td>0.000000</td>\n",
              "      <td>0.000000</td>\n",
              "      <td>0.000000</td>\n",
              "      <td>0.480000</td>\n",
              "      <td>0.000000</td>\n",
              "      <td>0.000000</td>\n",
              "      <td>1.000000</td>\n",
              "    </tr>\n",
              "    <tr>\n",
              "      <th>25%</th>\n",
              "      <td>3.600000</td>\n",
              "      <td>0.046000</td>\n",
              "      <td>28.000000</td>\n",
              "      <td>100.000000</td>\n",
              "      <td>2.960000</td>\n",
              "      <td>0.430000</td>\n",
              "      <td>9.000000</td>\n",
              "      <td>1.000000</td>\n",
              "    </tr>\n",
              "    <tr>\n",
              "      <th>50%</th>\n",
              "      <td>12.900000</td>\n",
              "      <td>0.098000</td>\n",
              "      <td>56.000000</td>\n",
              "      <td>154.000000</td>\n",
              "      <td>3.200000</td>\n",
              "      <td>0.590000</td>\n",
              "      <td>10.400000</td>\n",
              "      <td>2.000000</td>\n",
              "    </tr>\n",
              "    <tr>\n",
              "      <th>75%</th>\n",
              "      <td>38.700000</td>\n",
              "      <td>0.368000</td>\n",
              "      <td>172.000000</td>\n",
              "      <td>262.000000</td>\n",
              "      <td>3.470000</td>\n",
              "      <td>1.100000</td>\n",
              "      <td>12.400000</td>\n",
              "      <td>3.000000</td>\n",
              "    </tr>\n",
              "    <tr>\n",
              "      <th>max</th>\n",
              "      <td>141.150000</td>\n",
              "      <td>1.351000</td>\n",
              "      <td>623.000000</td>\n",
              "      <td>1057.000000</td>\n",
              "      <td>6.130000</td>\n",
              "      <td>4.240000</td>\n",
              "      <td>26.500000</td>\n",
              "      <td>4.000000</td>\n",
              "    </tr>\n",
              "  </tbody>\n",
              "</table>\n",
              "</div>"
            ],
            "text/plain": [
              "       ResidualSugar     Chlorides  FreeSulfurDioxide  TotalSulfurDioxide  \\\n",
              "count   12179.000000  12157.000000       12148.000000        12113.000000   \n",
              "mean       23.367809      0.222559         106.679042          204.319120   \n",
              "std        24.945667      0.234288         108.102694          163.116881   \n",
              "min         0.000000      0.000000           0.000000            0.000000   \n",
              "25%         3.600000      0.046000          28.000000          100.000000   \n",
              "50%        12.900000      0.098000          56.000000          154.000000   \n",
              "75%        38.700000      0.368000         172.000000          262.000000   \n",
              "max       141.150000      1.351000         623.000000         1057.000000   \n",
              "\n",
              "                 pH     Sulphates       Alcohol        STARS  \n",
              "count  12400.000000  11585.000000  12142.000000  9436.000000  \n",
              "mean       3.207628      0.846668     10.523778     2.041755  \n",
              "std        0.679687      0.655612      3.629154     0.902540  \n",
              "min        0.480000      0.000000      0.000000     1.000000  \n",
              "25%        2.960000      0.430000      9.000000     1.000000  \n",
              "50%        3.200000      0.590000     10.400000     2.000000  \n",
              "75%        3.470000      1.100000     12.400000     3.000000  \n",
              "max        6.130000      4.240000     26.500000     4.000000  "
            ]
          },
          "metadata": {},
          "execution_count": 24
        }
      ]
    },
    {
      "cell_type": "code",
      "metadata": {
        "colab": {
          "base_uri": "https://localhost:8080/",
          "height": 572
        },
        "id": "P979kYx2dHCO",
        "outputId": "fb4ef0f0-7e87-47ba-ea54-3a80e2a3e466"
      },
      "source": [
        "#this allows us to visualize the missing values, to see if there are any patterns we can fix in the missing data\n",
        "import missingno as msno\n",
        "ax = msno.matrix(df_null.sample(500))\n",
        "#this is a really nice library -j "
      ],
      "execution_count": 25,
      "outputs": [
        {
          "output_type": "display_data",
          "data": {
            "image/png": "[encoded data removed]",
            "text/plain": [
              "<Figure size 1800x720 with 2 Axes>"
            ]
          },
          "metadata": {
            "needs_background": "light"
          }
        }
      ]
    },
    {
      "cell_type": "markdown",
      "metadata": {
        "id": "9q6l1-v6n2Kn"
      },
      "source": [
        "There doesn't seem to be any pattern to the missing values. "
      ]
    },
    {
      "cell_type": "code",
      "metadata": {
        "colab": {
          "base_uri": "https://localhost:8080/"
        },
        "id": "jbduhWs7c1IG",
        "outputId": "39c46435-2a42-431e-b5a5-771220539777"
      },
      "source": [
        "#let's check the percent of missing data \n",
        "df_null.isnull().mean() * 100"
      ],
      "execution_count": 26,
      "outputs": [
        {
          "output_type": "execute_result",
          "data": {
            "text/plain": [
              "ResidualSugar          4.814381\n",
              "Chlorides              4.986323\n",
              "FreeSulfurDioxide      5.056663\n",
              "TotalSulfurDioxide     5.330207\n",
              "pH                     3.087143\n",
              "Sulphates              9.456819\n",
              "Alcohol                5.103556\n",
              "STARS                 26.252442\n",
              "dtype: float64"
            ]
          },
          "metadata": {},
          "execution_count": 26
        }
      ]
    },
    {
      "cell_type": "markdown",
      "metadata": {
        "id": "DfV_Z1fjdvF_"
      },
      "source": [
        "### Null Impute\n",
        "We'll now turn toward filling in missing data. Our first step will be to create a new dataframe that we can attempt to transform, while preserving the initial dataset in case it is needed later."
      ]
    },
    {
      "cell_type": "code",
      "metadata": {
        "colab": {
          "base_uri": "https://localhost:8080/",
          "height": 238
        },
        "id": "mnKbxgyoaf08",
        "outputId": "2cea317e-c026-4c4c-f052-8e005f2b6f74"
      },
      "source": [
        "#create a new datafram that we will modify values of, leaving the original in place to compare against\n",
        "df_prep = df\n",
        "df_prep.head()"
      ],
      "execution_count": 27,
      "outputs": [
        {
          "output_type": "execute_result",
          "data": {
            "text/html": [
              "<div>\n",
              "<style scoped>\n",
              "    .dataframe tbody tr th:only-of-type {\n",
              "        vertical-align: middle;\n",
              "    }\n",
              "\n",
              "    .dataframe tbody tr th {\n",
              "        vertical-align: top;\n",
              "    }\n",
              "\n",
              "    .dataframe thead th {\n",
              "        text-align: right;\n",
              "    }\n",
              "</style>\n",
              "<table border=\"1\" class=\"dataframe\">\n",
              "  <thead>\n",
              "    <tr style=\"text-align: right;\">\n",
              "      <th></th>\n",
              "      <th>Unnamed: 0</th>\n",
              "      <th>INDEX</th>\n",
              "      <th>TARGET</th>\n",
              "      <th>FixedAcidity</th>\n",
              "      <th>VolatileAcidity</th>\n",
              "      <th>CitricAcid</th>\n",
              "      <th>ResidualSugar</th>\n",
              "      <th>Chlorides</th>\n",
              "      <th>FreeSulfurDioxide</th>\n",
              "      <th>TotalSulfurDioxide</th>\n",
              "      <th>Density</th>\n",
              "      <th>pH</th>\n",
              "      <th>Sulphates</th>\n",
              "      <th>Alcohol</th>\n",
              "      <th>LabelAppeal</th>\n",
              "      <th>AcidIndex</th>\n",
              "      <th>STARS</th>\n",
              "    </tr>\n",
              "  </thead>\n",
              "  <tbody>\n",
              "    <tr>\n",
              "      <th>0</th>\n",
              "      <td>0</td>\n",
              "      <td>1</td>\n",
              "      <td>3</td>\n",
              "      <td>3.2</td>\n",
              "      <td>1.160</td>\n",
              "      <td>0.98</td>\n",
              "      <td>54.2</td>\n",
              "      <td>0.567</td>\n",
              "      <td>NaN</td>\n",
              "      <td>268.0</td>\n",
              "      <td>0.99280</td>\n",
              "      <td>3.33</td>\n",
              "      <td>0.59</td>\n",
              "      <td>9.9</td>\n",
              "      <td>0</td>\n",
              "      <td>8</td>\n",
              "      <td>2.0</td>\n",
              "    </tr>\n",
              "    <tr>\n",
              "      <th>1</th>\n",
              "      <td>1</td>\n",
              "      <td>2</td>\n",
              "      <td>3</td>\n",
              "      <td>4.5</td>\n",
              "      <td>0.160</td>\n",
              "      <td>0.81</td>\n",
              "      <td>26.1</td>\n",
              "      <td>0.425</td>\n",
              "      <td>15.0</td>\n",
              "      <td>327.0</td>\n",
              "      <td>1.02792</td>\n",
              "      <td>3.38</td>\n",
              "      <td>0.70</td>\n",
              "      <td>NaN</td>\n",
              "      <td>-1</td>\n",
              "      <td>7</td>\n",
              "      <td>3.0</td>\n",
              "    </tr>\n",
              "    <tr>\n",
              "      <th>2</th>\n",
              "      <td>2</td>\n",
              "      <td>4</td>\n",
              "      <td>5</td>\n",
              "      <td>7.1</td>\n",
              "      <td>2.640</td>\n",
              "      <td>0.88</td>\n",
              "      <td>14.8</td>\n",
              "      <td>0.037</td>\n",
              "      <td>214.0</td>\n",
              "      <td>142.0</td>\n",
              "      <td>0.99518</td>\n",
              "      <td>3.12</td>\n",
              "      <td>0.48</td>\n",
              "      <td>22.0</td>\n",
              "      <td>-1</td>\n",
              "      <td>8</td>\n",
              "      <td>3.0</td>\n",
              "    </tr>\n",
              "    <tr>\n",
              "      <th>3</th>\n",
              "      <td>3</td>\n",
              "      <td>5</td>\n",
              "      <td>3</td>\n",
              "      <td>5.7</td>\n",
              "      <td>0.385</td>\n",
              "      <td>0.04</td>\n",
              "      <td>18.8</td>\n",
              "      <td>0.425</td>\n",
              "      <td>22.0</td>\n",
              "      <td>115.0</td>\n",
              "      <td>0.99640</td>\n",
              "      <td>2.24</td>\n",
              "      <td>1.83</td>\n",
              "      <td>6.2</td>\n",
              "      <td>-1</td>\n",
              "      <td>6</td>\n",
              "      <td>1.0</td>\n",
              "    </tr>\n",
              "    <tr>\n",
              "      <th>4</th>\n",
              "      <td>4</td>\n",
              "      <td>6</td>\n",
              "      <td>4</td>\n",
              "      <td>8.0</td>\n",
              "      <td>0.330</td>\n",
              "      <td>1.26</td>\n",
              "      <td>9.4</td>\n",
              "      <td>NaN</td>\n",
              "      <td>167.0</td>\n",
              "      <td>108.0</td>\n",
              "      <td>0.99457</td>\n",
              "      <td>3.12</td>\n",
              "      <td>1.77</td>\n",
              "      <td>13.7</td>\n",
              "      <td>0</td>\n",
              "      <td>9</td>\n",
              "      <td>2.0</td>\n",
              "    </tr>\n",
              "  </tbody>\n",
              "</table>\n",
              "</div>"
            ],
            "text/plain": [
              "   Unnamed: 0  INDEX  TARGET  FixedAcidity  VolatileAcidity  CitricAcid  \\\n",
              "0           0      1       3           3.2            1.160        0.98   \n",
              "1           1      2       3           4.5            0.160        0.81   \n",
              "2           2      4       5           7.1            2.640        0.88   \n",
              "3           3      5       3           5.7            0.385        0.04   \n",
              "4           4      6       4           8.0            0.330        1.26   \n",
              "\n",
              "   ResidualSugar  Chlorides  FreeSulfurDioxide  TotalSulfurDioxide  Density  \\\n",
              "0           54.2      0.567                NaN               268.0  0.99280   \n",
              "1           26.1      0.425               15.0               327.0  1.02792   \n",
              "2           14.8      0.037              214.0               142.0  0.99518   \n",
              "3           18.8      0.425               22.0               115.0  0.99640   \n",
              "4            9.4        NaN              167.0               108.0  0.99457   \n",
              "\n",
              "     pH  Sulphates  Alcohol  LabelAppeal  AcidIndex  STARS  \n",
              "0  3.33       0.59      9.9            0          8    2.0  \n",
              "1  3.38       0.70      NaN           -1          7    3.0  \n",
              "2  3.12       0.48     22.0           -1          8    3.0  \n",
              "3  2.24       1.83      6.2           -1          6    1.0  \n",
              "4  3.12       1.77     13.7            0          9    2.0  "
            ]
          },
          "metadata": {},
          "execution_count": 27
        }
      ]
    },
    {
      "cell_type": "code",
      "metadata": {
        "colab": {
          "base_uri": "https://localhost:8080/",
          "height": 222
        },
        "id": "-bSLqE3JazkY",
        "outputId": "4dc3c60a-d1c8-4b7c-d1ca-5312698f4944"
      },
      "source": [
        "#drop Unnamed column and local index, as it holds no value for us\n",
        "df_prep.drop(['Unnamed: 0'], axis=1, inplace=True)\n",
        "df_prep.drop(['INDEX'], axis=1, inplace=True)\n",
        "df_prep.head()"
      ],
      "execution_count": 28,
      "outputs": [
        {
          "output_type": "execute_result",
          "data": {
            "text/html": [
              "<div>\n",
              "<style scoped>\n",
              "    .dataframe tbody tr th:only-of-type {\n",
              "        vertical-align: middle;\n",
              "    }\n",
              "\n",
              "    .dataframe tbody tr th {\n",
              "        vertical-align: top;\n",
              "    }\n",
              "\n",
              "    .dataframe thead th {\n",
              "        text-align: right;\n",
              "    }\n",
              "</style>\n",
              "<table border=\"1\" class=\"dataframe\">\n",
              "  <thead>\n",
              "    <tr style=\"text-align: right;\">\n",
              "      <th></th>\n",
              "      <th>TARGET</th>\n",
              "      <th>FixedAcidity</th>\n",
              "      <th>VolatileAcidity</th>\n",
              "      <th>CitricAcid</th>\n",
              "      <th>ResidualSugar</th>\n",
              "      <th>Chlorides</th>\n",
              "      <th>FreeSulfurDioxide</th>\n",
              "      <th>TotalSulfurDioxide</th>\n",
              "      <th>Density</th>\n",
              "      <th>pH</th>\n",
              "      <th>Sulphates</th>\n",
              "      <th>Alcohol</th>\n",
              "      <th>LabelAppeal</th>\n",
              "      <th>AcidIndex</th>\n",
              "      <th>STARS</th>\n",
              "    </tr>\n",
              "  </thead>\n",
              "  <tbody>\n",
              "    <tr>\n",
              "      <th>0</th>\n",
              "      <td>3</td>\n",
              "      <td>3.2</td>\n",
              "      <td>1.160</td>\n",
              "      <td>0.98</td>\n",
              "      <td>54.2</td>\n",
              "      <td>0.567</td>\n",
              "      <td>NaN</td>\n",
              "      <td>268.0</td>\n",
              "      <td>0.99280</td>\n",
              "      <td>3.33</td>\n",
              "      <td>0.59</td>\n",
              "      <td>9.9</td>\n",
              "      <td>0</td>\n",
              "      <td>8</td>\n",
              "      <td>2.0</td>\n",
              "    </tr>\n",
              "    <tr>\n",
              "      <th>1</th>\n",
              "      <td>3</td>\n",
              "      <td>4.5</td>\n",
              "      <td>0.160</td>\n",
              "      <td>0.81</td>\n",
              "      <td>26.1</td>\n",
              "      <td>0.425</td>\n",
              "      <td>15.0</td>\n",
              "      <td>327.0</td>\n",
              "      <td>1.02792</td>\n",
              "      <td>3.38</td>\n",
              "      <td>0.70</td>\n",
              "      <td>NaN</td>\n",
              "      <td>-1</td>\n",
              "      <td>7</td>\n",
              "      <td>3.0</td>\n",
              "    </tr>\n",
              "    <tr>\n",
              "      <th>2</th>\n",
              "      <td>5</td>\n",
              "      <td>7.1</td>\n",
              "      <td>2.640</td>\n",
              "      <td>0.88</td>\n",
              "      <td>14.8</td>\n",
              "      <td>0.037</td>\n",
              "      <td>214.0</td>\n",
              "      <td>142.0</td>\n",
              "      <td>0.99518</td>\n",
              "      <td>3.12</td>\n",
              "      <td>0.48</td>\n",
              "      <td>22.0</td>\n",
              "      <td>-1</td>\n",
              "      <td>8</td>\n",
              "      <td>3.0</td>\n",
              "    </tr>\n",
              "    <tr>\n",
              "      <th>3</th>\n",
              "      <td>3</td>\n",
              "      <td>5.7</td>\n",
              "      <td>0.385</td>\n",
              "      <td>0.04</td>\n",
              "      <td>18.8</td>\n",
              "      <td>0.425</td>\n",
              "      <td>22.0</td>\n",
              "      <td>115.0</td>\n",
              "      <td>0.99640</td>\n",
              "      <td>2.24</td>\n",
              "      <td>1.83</td>\n",
              "      <td>6.2</td>\n",
              "      <td>-1</td>\n",
              "      <td>6</td>\n",
              "      <td>1.0</td>\n",
              "    </tr>\n",
              "    <tr>\n",
              "      <th>4</th>\n",
              "      <td>4</td>\n",
              "      <td>8.0</td>\n",
              "      <td>0.330</td>\n",
              "      <td>1.26</td>\n",
              "      <td>9.4</td>\n",
              "      <td>NaN</td>\n",
              "      <td>167.0</td>\n",
              "      <td>108.0</td>\n",
              "      <td>0.99457</td>\n",
              "      <td>3.12</td>\n",
              "      <td>1.77</td>\n",
              "      <td>13.7</td>\n",
              "      <td>0</td>\n",
              "      <td>9</td>\n",
              "      <td>2.0</td>\n",
              "    </tr>\n",
              "  </tbody>\n",
              "</table>\n",
              "</div>"
            ],
            "text/plain": [
              "   TARGET  FixedAcidity  VolatileAcidity  CitricAcid  ResidualSugar  \\\n",
              "0       3           3.2            1.160        0.98           54.2   \n",
              "1       3           4.5            0.160        0.81           26.1   \n",
              "2       5           7.1            2.640        0.88           14.8   \n",
              "3       3           5.7            0.385        0.04           18.8   \n",
              "4       4           8.0            0.330        1.26            9.4   \n",
              "\n",
              "   Chlorides  FreeSulfurDioxide  TotalSulfurDioxide  Density    pH  Sulphates  \\\n",
              "0      0.567                NaN               268.0  0.99280  3.33       0.59   \n",
              "1      0.425               15.0               327.0  1.02792  3.38       0.70   \n",
              "2      0.037              214.0               142.0  0.99518  3.12       0.48   \n",
              "3      0.425               22.0               115.0  0.99640  2.24       1.83   \n",
              "4        NaN              167.0               108.0  0.99457  3.12       1.77   \n",
              "\n",
              "   Alcohol  LabelAppeal  AcidIndex  STARS  \n",
              "0      9.9            0          8    2.0  \n",
              "1      NaN           -1          7    3.0  \n",
              "2     22.0           -1          8    3.0  \n",
              "3      6.2           -1          6    1.0  \n",
              "4     13.7            0          9    2.0  "
            ]
          },
          "metadata": {},
          "execution_count": 28
        }
      ]
    },
    {
      "cell_type": "markdown",
      "metadata": {
        "id": "AI85O91mmDH3"
      },
      "source": [
        "If we impute a variable missing more than 10% of its records, the risk to biasing the feature as a whole increases. The only variable we have to worry about in this regard is STARS. Let us take a closer look at this feature now to see what we can do."
      ]
    },
    {
      "cell_type": "code",
      "metadata": {
        "id": "KXfPbTK2ufPj",
        "colab": {
          "base_uri": "https://localhost:8080/",
          "height": 472
        },
        "outputId": "9c4b80cc-fe3e-4a6a-8f2f-315d48bf6b5e"
      },
      "source": [
        "#i= df.STARS\n",
        "\n",
        "plt.figure(figsize=(8,4))\n",
        "#Histogram\n",
        "plt.subplot(1,2,1);\n",
        "sns.distplot(i); \n",
        "plt.title('STARS')\n",
        "#Boxplot\n",
        "plt.subplot(1,2,2);\n",
        "sns.boxplot(i);\n",
        "plt.title('STARS');\n",
        "\n",
        "print(\"Skewness: %f\" %i.skew()) #Adds Skew value\n",
        "i.describe() #Adds summary statistics of the variable"
      ],
      "execution_count": 29,
      "outputs": [
        {
          "output_type": "stream",
          "name": "stdout",
          "text": [
            "Skewness: 0.447378\n"
          ]
        },
        {
          "output_type": "execute_result",
          "data": {
            "text/plain": [
              "count    9436.000000\n",
              "mean        2.041755\n",
              "std         0.902540\n",
              "min         1.000000\n",
              "25%         1.000000\n",
              "50%         2.000000\n",
              "75%         3.000000\n",
              "max         4.000000\n",
              "Name: STARS, dtype: float64"
            ]
          },
          "metadata": {},
          "execution_count": 29
        },
        {
          "output_type": "display_data",
          "data": {
            "image/png": "[encoded data removed]",
            "text/plain": [
              "<Figure size 576x288 with 2 Axes>"
            ]
          },
          "metadata": {
            "needs_background": "light"
          }
        }
      ]
    },
    {
      "cell_type": "markdown",
      "metadata": {
        "id": "fRXQEpwQqPxM"
      },
      "source": [
        "#### fillna\n",
        "We can see that none of the wines were rated 5 stars, adn none were rated 0 stars. We can also see from above that the review system is correlated with the ammount of wine purchased. Although I am not a subject matter expert (and I would consult an SME and the originators of the data to double check) I believe replacing missing values with a 0 value will fix our null data problem without affecting our model unduly.\n",
        "\n",
        " "
      ]
    },
    {
      "cell_type": "code",
      "metadata": {
        "colab": {
          "base_uri": "https://localhost:8080/",
          "height": 375
        },
        "id": "b9Hc7MpJp6id",
        "outputId": "f508255e-e21c-4c15-a4f6-c46edf8d03d2"
      },
      "source": [
        "df_prep['STARS'].fillna(0, inplace = True)\n",
        "df_prep.head(10)"
      ],
      "execution_count": 30,
      "outputs": [
        {
          "output_type": "execute_result",
          "data": {
            "text/html": [
              "<div>\n",
              "<style scoped>\n",
              "    .dataframe tbody tr th:only-of-type {\n",
              "        vertical-align: middle;\n",
              "    }\n",
              "\n",
              "    .dataframe tbody tr th {\n",
              "        vertical-align: top;\n",
              "    }\n",
              "\n",
              "    .dataframe thead th {\n",
              "        text-align: right;\n",
              "    }\n",
              "</style>\n",
              "<table border=\"1\" class=\"dataframe\">\n",
              "  <thead>\n",
              "    <tr style=\"text-align: right;\">\n",
              "      <th></th>\n",
              "      <th>TARGET</th>\n",
              "      <th>FixedAcidity</th>\n",
              "      <th>VolatileAcidity</th>\n",
              "      <th>CitricAcid</th>\n",
              "      <th>ResidualSugar</th>\n",
              "      <th>Chlorides</th>\n",
              "      <th>FreeSulfurDioxide</th>\n",
              "      <th>TotalSulfurDioxide</th>\n",
              "      <th>Density</th>\n",
              "      <th>pH</th>\n",
              "      <th>Sulphates</th>\n",
              "      <th>Alcohol</th>\n",
              "      <th>LabelAppeal</th>\n",
              "      <th>AcidIndex</th>\n",
              "      <th>STARS</th>\n",
              "    </tr>\n",
              "  </thead>\n",
              "  <tbody>\n",
              "    <tr>\n",
              "      <th>0</th>\n",
              "      <td>3</td>\n",
              "      <td>3.2</td>\n",
              "      <td>1.160</td>\n",
              "      <td>0.98</td>\n",
              "      <td>54.20</td>\n",
              "      <td>0.567</td>\n",
              "      <td>NaN</td>\n",
              "      <td>268.0</td>\n",
              "      <td>0.99280</td>\n",
              "      <td>3.33</td>\n",
              "      <td>0.59</td>\n",
              "      <td>9.9</td>\n",
              "      <td>0</td>\n",
              "      <td>8</td>\n",
              "      <td>2.0</td>\n",
              "    </tr>\n",
              "    <tr>\n",
              "      <th>1</th>\n",
              "      <td>3</td>\n",
              "      <td>4.5</td>\n",
              "      <td>0.160</td>\n",
              "      <td>0.81</td>\n",
              "      <td>26.10</td>\n",
              "      <td>0.425</td>\n",
              "      <td>15.0</td>\n",
              "      <td>327.0</td>\n",
              "      <td>1.02792</td>\n",
              "      <td>3.38</td>\n",
              "      <td>0.70</td>\n",
              "      <td>NaN</td>\n",
              "      <td>-1</td>\n",
              "      <td>7</td>\n",
              "      <td>3.0</td>\n",
              "    </tr>\n",
              "    <tr>\n",
              "      <th>2</th>\n",
              "      <td>5</td>\n",
              "      <td>7.1</td>\n",
              "      <td>2.640</td>\n",
              "      <td>0.88</td>\n",
              "      <td>14.80</td>\n",
              "      <td>0.037</td>\n",
              "      <td>214.0</td>\n",
              "      <td>142.0</td>\n",
              "      <td>0.99518</td>\n",
              "      <td>3.12</td>\n",
              "      <td>0.48</td>\n",
              "      <td>22.0</td>\n",
              "      <td>-1</td>\n",
              "      <td>8</td>\n",
              "      <td>3.0</td>\n",
              "    </tr>\n",
              "    <tr>\n",
              "      <th>3</th>\n",
              "      <td>3</td>\n",
              "      <td>5.7</td>\n",
              "      <td>0.385</td>\n",
              "      <td>0.04</td>\n",
              "      <td>18.80</td>\n",
              "      <td>0.425</td>\n",
              "      <td>22.0</td>\n",
              "      <td>115.0</td>\n",
              "      <td>0.99640</td>\n",
              "      <td>2.24</td>\n",
              "      <td>1.83</td>\n",
              "      <td>6.2</td>\n",
              "      <td>-1</td>\n",
              "      <td>6</td>\n",
              "      <td>1.0</td>\n",
              "    </tr>\n",
              "    <tr>\n",
              "      <th>4</th>\n",
              "      <td>4</td>\n",
              "      <td>8.0</td>\n",
              "      <td>0.330</td>\n",
              "      <td>1.26</td>\n",
              "      <td>9.40</td>\n",
              "      <td>NaN</td>\n",
              "      <td>167.0</td>\n",
              "      <td>108.0</td>\n",
              "      <td>0.99457</td>\n",
              "      <td>3.12</td>\n",
              "      <td>1.77</td>\n",
              "      <td>13.7</td>\n",
              "      <td>0</td>\n",
              "      <td>9</td>\n",
              "      <td>2.0</td>\n",
              "    </tr>\n",
              "    <tr>\n",
              "      <th>5</th>\n",
              "      <td>0</td>\n",
              "      <td>11.3</td>\n",
              "      <td>0.320</td>\n",
              "      <td>0.59</td>\n",
              "      <td>2.20</td>\n",
              "      <td>0.556</td>\n",
              "      <td>37.0</td>\n",
              "      <td>15.0</td>\n",
              "      <td>0.99940</td>\n",
              "      <td>3.20</td>\n",
              "      <td>1.29</td>\n",
              "      <td>15.4</td>\n",
              "      <td>0</td>\n",
              "      <td>11</td>\n",
              "      <td>0.0</td>\n",
              "    </tr>\n",
              "    <tr>\n",
              "      <th>6</th>\n",
              "      <td>0</td>\n",
              "      <td>7.7</td>\n",
              "      <td>0.290</td>\n",
              "      <td>0.40</td>\n",
              "      <td>21.50</td>\n",
              "      <td>0.060</td>\n",
              "      <td>287.0</td>\n",
              "      <td>156.0</td>\n",
              "      <td>0.99572</td>\n",
              "      <td>3.49</td>\n",
              "      <td>1.21</td>\n",
              "      <td>10.3</td>\n",
              "      <td>0</td>\n",
              "      <td>8</td>\n",
              "      <td>0.0</td>\n",
              "    </tr>\n",
              "    <tr>\n",
              "      <th>7</th>\n",
              "      <td>4</td>\n",
              "      <td>6.5</td>\n",
              "      <td>1.220</td>\n",
              "      <td>0.34</td>\n",
              "      <td>1.40</td>\n",
              "      <td>0.040</td>\n",
              "      <td>523.0</td>\n",
              "      <td>551.0</td>\n",
              "      <td>1.03236</td>\n",
              "      <td>3.20</td>\n",
              "      <td>NaN</td>\n",
              "      <td>11.6</td>\n",
              "      <td>1</td>\n",
              "      <td>7</td>\n",
              "      <td>3.0</td>\n",
              "    </tr>\n",
              "    <tr>\n",
              "      <th>8</th>\n",
              "      <td>3</td>\n",
              "      <td>14.8</td>\n",
              "      <td>0.270</td>\n",
              "      <td>1.05</td>\n",
              "      <td>11.25</td>\n",
              "      <td>0.007</td>\n",
              "      <td>213.0</td>\n",
              "      <td>NaN</td>\n",
              "      <td>0.99620</td>\n",
              "      <td>4.93</td>\n",
              "      <td>0.26</td>\n",
              "      <td>15.0</td>\n",
              "      <td>0</td>\n",
              "      <td>6</td>\n",
              "      <td>0.0</td>\n",
              "    </tr>\n",
              "    <tr>\n",
              "      <th>9</th>\n",
              "      <td>6</td>\n",
              "      <td>5.5</td>\n",
              "      <td>0.220</td>\n",
              "      <td>0.39</td>\n",
              "      <td>1.80</td>\n",
              "      <td>0.277</td>\n",
              "      <td>62.0</td>\n",
              "      <td>180.0</td>\n",
              "      <td>0.94724</td>\n",
              "      <td>3.09</td>\n",
              "      <td>0.75</td>\n",
              "      <td>12.6</td>\n",
              "      <td>0</td>\n",
              "      <td>8</td>\n",
              "      <td>4.0</td>\n",
              "    </tr>\n",
              "  </tbody>\n",
              "</table>\n",
              "</div>"
            ],
            "text/plain": [
              "   TARGET  FixedAcidity  VolatileAcidity  CitricAcid  ResidualSugar  \\\n",
              "0       3           3.2            1.160        0.98          54.20   \n",
              "1       3           4.5            0.160        0.81          26.10   \n",
              "2       5           7.1            2.640        0.88          14.80   \n",
              "3       3           5.7            0.385        0.04          18.80   \n",
              "4       4           8.0            0.330        1.26           9.40   \n",
              "5       0          11.3            0.320        0.59           2.20   \n",
              "6       0           7.7            0.290        0.40          21.50   \n",
              "7       4           6.5            1.220        0.34           1.40   \n",
              "8       3          14.8            0.270        1.05          11.25   \n",
              "9       6           5.5            0.220        0.39           1.80   \n",
              "\n",
              "   Chlorides  FreeSulfurDioxide  TotalSulfurDioxide  Density    pH  Sulphates  \\\n",
              "0      0.567                NaN               268.0  0.99280  3.33       0.59   \n",
              "1      0.425               15.0               327.0  1.02792  3.38       0.70   \n",
              "2      0.037              214.0               142.0  0.99518  3.12       0.48   \n",
              "3      0.425               22.0               115.0  0.99640  2.24       1.83   \n",
              "4        NaN              167.0               108.0  0.99457  3.12       1.77   \n",
              "5      0.556               37.0                15.0  0.99940  3.20       1.29   \n",
              "6      0.060              287.0               156.0  0.99572  3.49       1.21   \n",
              "7      0.040              523.0               551.0  1.03236  3.20        NaN   \n",
              "8      0.007              213.0                 NaN  0.99620  4.93       0.26   \n",
              "9      0.277               62.0               180.0  0.94724  3.09       0.75   \n",
              "\n",
              "   Alcohol  LabelAppeal  AcidIndex  STARS  \n",
              "0      9.9            0          8    2.0  \n",
              "1      NaN           -1          7    3.0  \n",
              "2     22.0           -1          8    3.0  \n",
              "3      6.2           -1          6    1.0  \n",
              "4     13.7            0          9    2.0  \n",
              "5     15.4            0         11    0.0  \n",
              "6     10.3            0          8    0.0  \n",
              "7     11.6            1          7    3.0  \n",
              "8     15.0            0          6    0.0  \n",
              "9     12.6            0          8    4.0  "
            ]
          },
          "metadata": {},
          "execution_count": 30
        }
      ]
    },
    {
      "cell_type": "code",
      "metadata": {
        "colab": {
          "base_uri": "https://localhost:8080/",
          "height": 472
        },
        "id": "5QMSpXLTrkD1",
        "outputId": "9a9b21f9-f6d9-4d2c-d39e-b9b90dcb5108"
      },
      "source": [
        "#\n",
        "i= df_prep.STARS\n",
        "\n",
        "plt.figure(figsize=(8,4))\n",
        "plt.subplot(1,2,1);#Histogram\n",
        "sns.distplot(i); \n",
        "plt.title('STARS')\n",
        "plt.subplot(1,2,2);#Boxplot\n",
        "sns.boxplot(i);\n",
        "plt.title('STARS');\n",
        "\n",
        "print(\"Skewness: %f\" %i.skew()) #Adds Skew value\n",
        "i.describe() #Adds summary statistics of the variable"
      ],
      "execution_count": 31,
      "outputs": [
        {
          "output_type": "stream",
          "name": "stdout",
          "text": [
            "Skewness: 0.254900\n"
          ]
        },
        {
          "output_type": "execute_result",
          "data": {
            "text/plain": [
              "count    12795.000000\n",
              "mean         1.505744\n",
              "std          1.186538\n",
              "min          0.000000\n",
              "25%          0.000000\n",
              "50%          1.000000\n",
              "75%          2.000000\n",
              "max          4.000000\n",
              "Name: STARS, dtype: float64"
            ]
          },
          "metadata": {},
          "execution_count": 31
        },
        {
          "output_type": "display_data",
          "data": {
            "image/png": "[encoded data removed]",
            "text/plain": [
              "<Figure size 576x288 with 2 Axes>"
            ]
          },
          "metadata": {
            "needs_background": "light"
          }
        }
      ]
    },
    {
      "cell_type": "markdown",
      "metadata": {
        "id": "JyEEmv-7sPLn"
      },
      "source": [
        "The skew decreased with this imputation, which is generally good for predictive models. Though the standard deviation increased, it is slight, and expected when adding an extra value past the previous minimum. It doesnt seem to have shifted the boxplot, so I belive we can call this a success!\n",
        "\n",
        "The remaining features are all continuous and have fewer than 10% of their values missing. They are good candidates for an imputation method. Univariate imputation is forwned upon when multi-variate imputation is available, though knowing which method to chose can be confusing. Here we will try using the K-Nearest-Neighbor method and the IterativeImputer and use a regression model to identify which has better performance. We will start with a simple imputer using the median value though, to demonstrate the priciple, and give us something to compare against.\n",
        "\n",
        "#### Simple Imputer"
      ]
    },
    {
      "cell_type": "code",
      "metadata": {
        "id": "ABr2cGzr25eN",
        "colab": {
          "base_uri": "https://localhost:8080/"
        },
        "outputId": "5c7a7e15-3700-4fb6-a9f2-207802738e27"
      },
      "source": [
        "#split response variable from data set so we do not leak data in imputation\n",
        "df_simple = df_prep.values#changing this to a numpy array in order to impute\n",
        "X_simple = df_simple[:,1:]#all rows, everything but the response variable\n",
        "y_simple = df_simple[:,0]#all rows, only the first column (response variable)\n",
        "X_simple"
      ],
      "execution_count": 32,
      "outputs": [
        {
          "output_type": "execute_result",
          "data": {
            "text/plain": [
              "array([[ 3.2 ,  1.16,  0.98, ...,  0.  ,  8.  ,  2.  ],\n",
              "       [ 4.5 ,  0.16,  0.81, ..., -1.  ,  7.  ,  3.  ],\n",
              "       [ 7.1 ,  2.64,  0.88, ..., -1.  ,  8.  ,  3.  ],\n",
              "       ...,\n",
              "       [ 6.  ,  0.17,  1.1 , ...,  0.  ,  6.  ,  2.  ],\n",
              "       [ 7.7 ,  0.32,  0.12, ..., -1.  ,  6.  ,  2.  ],\n",
              "       [ 5.2 ,  0.04,  0.81, ...,  0.  ,  7.  ,  2.  ]])"
            ]
          },
          "metadata": {},
          "execution_count": 32
        }
      ]
    },
    {
      "cell_type": "code",
      "metadata": {
        "colab": {
          "base_uri": "https://localhost:8080/"
        },
        "id": "mdyqsCdnPcMk",
        "outputId": "69283cb2-ed71-4cb1-9bdd-34e2ce901ed6"
      },
      "source": [
        "y_simple"
      ],
      "execution_count": 33,
      "outputs": [
        {
          "output_type": "execute_result",
          "data": {
            "text/plain": [
              "array([3., 3., 5., ..., 4., 3., 4.])"
            ]
          },
          "metadata": {},
          "execution_count": 33
        }
      ]
    },
    {
      "cell_type": "markdown",
      "metadata": {
        "id": "19hYMABVv4N1"
      },
      "source": [
        "now we need to split into a test/training set. first impute training set then the test set in order to prevent leaking data from the training set to the testing sest. "
      ]
    },
    {
      "cell_type": "code",
      "metadata": {
        "id": "2R_ScCc7R9Oy"
      },
      "source": [
        "X_simple_train, X_simple_test, y_simple_train, y_simple_test = train_test_split(X_simple, \n",
        "                                                                                y_simple, \n",
        "                                                                                test_size=0.2, #why 20 percent???!?!??!?!?!?!?!?!?!?!?!?!?\n",
        "                                                                                random_state=42)\n",
        "\n"
      ],
      "execution_count": 34,
      "outputs": []
    },
    {
      "cell_type": "code",
      "metadata": {
        "id": "mnKKClbAR9Rf",
        "colab": {
          "base_uri": "https://localhost:8080/"
        },
        "outputId": "de15b63e-f9b9-4361-94dc-f4af10d7035a"
      },
      "source": [
        "import numpy as np\n",
        "from sklearn.impute import SimpleImputer\n",
        "\n",
        "imputer_median = SimpleImputer(missing_values = np.nan, strategy ='median')#Simple Imputer which replaces missing values with the median of the column\n",
        "imputer_median.fit(X_simple_train)#first train the imputer only on training data, not testing or vaildating to prevent data leak\n"
      ],
      "execution_count": 35,
      "outputs": [
        {
          "output_type": "execute_result",
          "data": {
            "text/plain": [
              "SimpleImputer(add_indicator=False, copy=True, fill_value=None,\n",
              "              missing_values=nan, strategy='median', verbose=0)"
            ]
          },
          "metadata": {},
          "execution_count": 35
        }
      ]
    },
    {
      "cell_type": "code",
      "metadata": {
        "id": "t0wgqphP8b0c"
      },
      "source": [
        "#we can now transform the training set and testing set with the median calculated from only the training set, preventing data leakage\n",
        "X_simple_train = imputer_median.transform(X_simple_train)\n",
        "X_simple_test  = imputer_median.transform(X_simple_test)"
      ],
      "execution_count": 36,
      "outputs": []
    },
    {
      "cell_type": "code",
      "metadata": {
        "id": "vrNXS3m4AY9z",
        "colab": {
          "base_uri": "https://localhost:8080/",
          "height": 35
        },
        "outputId": "30863d11-28bb-4349-b9e7-4f6de9bec691"
      },
      "source": [
        "#sanity check to see if any values are missing\n",
        "'Missing: {}'.format(sum(np.isnan(X_simple_train).flatten()))"
      ],
      "execution_count": 37,
      "outputs": [
        {
          "output_type": "execute_result",
          "data": {
            "application/vnd.google.colaboratory.intrinsic+json": {
              "type": "string"
            },
            "text/plain": [
              "'Missing: 0'"
            ]
          },
          "metadata": {},
          "execution_count": 37
        }
      ]
    },
    {
      "cell_type": "code",
      "metadata": {
        "id": "AA7JZrEV6M_l",
        "colab": {
          "base_uri": "https://localhost:8080/"
        },
        "outputId": "56f8ee88-8321-4ba9-c99c-7d5a39c374e1"
      },
      "source": [
        "#Now testing\n",
        "from sklearn.linear_model import LinearRegression# load the LinearRegression() function from sklearn's 'linear_model' sub-library\n",
        "from sklearn.model_selection import cross_val_score# load the cross_val_score function from the sklearn.model_selection module\n",
        "\n",
        "model = LinearRegression()# choose the model function you want to use to a variable\n",
        "\n",
        "# fit the model using 10-fold cross validation. WHY 10 FOLDS?!?!?!?!?!!?!?!?!?!?!?!?!?!?!?!?!?!?!?!?!?!?!?!?!?!?!?!?!?!?!?!?\n",
        "scores = cross_val_score(model, X_simple_train, y_simple_train, cv=10)\n",
        "\n",
        "# print out the R^2 metrics derived from the K-fold cross validation of our linear regression model\n",
        "print (scores)\n",
        "print (np.mean(scores))"
      ],
      "execution_count": 38,
      "outputs": [
        {
          "output_type": "stream",
          "name": "stdout",
          "text": [
            "[0.53126077 0.4854879  0.50316036 0.5345579  0.51074556 0.54707103\n",
            " 0.51390665 0.56000699 0.54156149 0.52996627]\n",
            "0.5257724932269527\n"
          ]
        }
      ]
    },
    {
      "cell_type": "markdown",
      "metadata": {
        "id": "6cvvtmdRJtgl"
      },
      "source": [
        "#### KNN vs IterativeImputer"
      ]
    },
    {
      "cell_type": "code",
      "metadata": {
        "id": "osAXLMrl-g_W"
      },
      "source": [
        "#split response variable from data set so we do not leak data in imputation?\n",
        "df_knn = df_prep.values #changing this to a numpy array in order to impute\n",
        "X_knn = df_knn[:,1:]#all rows, everything but the response variable\n",
        "y_knn = df_knn[:,0]#all rows, only the first column (response variable)"
      ],
      "execution_count": 39,
      "outputs": []
    },
    {
      "cell_type": "code",
      "metadata": {
        "id": "hVlTt9k6OIF8"
      },
      "source": [
        "# Now split the data into training and testing subsets. \n",
        "# set aside 20% of the data for testing purposes, specifying a value for the inital random_state WHY 20?!?!?!?!\n",
        "# to have the ability to reproduce the exact same training + testing subsets repeatedly\n",
        "X_knn_train, X_knn_test, y_knn_train, y_knn_test = train_test_split(X_knn, y_knn, test_size=0.2, random_state=42)"
      ],
      "execution_count": 40,
      "outputs": []
    },
    {
      "cell_type": "code",
      "metadata": {
        "id": "7EnNLNZU9_yl"
      },
      "source": [
        "# source: https://www.youtube.com/watch?v=m_qKhnaYZlc\n",
        "#simple imbputer is univariate. knn (most similar rows) and iterative (regression model) imputer are multivariate, so should give better impution\n",
        "from sklearn.impute import KNNImputer\n",
        "\n",
        "impute_knn = KNNImputer(n_neighbors=2)#why 2?!??!?!?!?!?!?!?!?!?!?!?!?!?\n",
        "X_knn_train = impute_knn.fit_transform(X_knn_train)#fiting on the training data first to prevent data leak to test set. the fit_transform method is a combination of fit() and transform()\n",
        "X_knn_test  = impute_knn.transform(X_knn_test)"
      ],
      "execution_count": 41,
      "outputs": []
    },
    {
      "cell_type": "code",
      "metadata": {
        "id": "ttqwOYh_OdyY",
        "colab": {
          "base_uri": "https://localhost:8080/"
        },
        "outputId": "7ea5deb0-3b80-404f-a827-c9b00568e51f"
      },
      "source": [
        "# The training set will be divided into 10 folds for K-fold cross-validation based on generalized experimentation suggestion.\n",
        "# Each fold will have a chance to be the validation fold to assess the accuracy. Total 10 times. Then the final accuracy will be calculated as the mean value of each validation accuracy.\n",
        "scores = cross_val_score(model, X_knn_train, y_knn_train, cv=10)\n",
        "\n",
        "# print out the R^2 metrics derived from the K-fold cross validation of our linear regression model\n",
        "print (scores)\n",
        "print (np.mean(scores))"
      ],
      "execution_count": 42,
      "outputs": [
        {
          "output_type": "stream",
          "name": "stdout",
          "text": [
            "[0.53116604 0.48538574 0.50296267 0.53448029 0.51045718 0.54737075\n",
            " 0.51375696 0.56014641 0.54200806 0.53063032]\n",
            "0.5258364420551509\n"
          ]
        }
      ]
    },
    {
      "cell_type": "code",
      "metadata": {
        "id": "_3tYdF6yIK-L",
        "colab": {
          "base_uri": "https://localhost:8080/"
        },
        "outputId": "2f66e3cb-1e68-4005-d1b0-62681e6803ef"
      },
      "source": [
        "from sklearn.experimental import enable_iterative_imputer #because it is experimental, it needs to be explicitly enabled\n",
        "from sklearn.impute import IterativeImputer#loading IterativeImputer package\n",
        "\n",
        "#split response variable from data set so we do not leak data in imputation?\n",
        "df_itim = df_prep.values #changing this to a numpy array in order to impute\n",
        "X_itim = df_itim[:,1:]#all rows, everything but the response variable\n",
        "y_itim = df_itim[:,0]#all rows, only the first column (response variable)\n",
        "\n",
        "X_itim_train, X_itim_test, y_itim_train, y_itim_test = train_test_split(X_itim, y_itim, test_size=0.2, random_state=42)\n",
        "\n",
        "impute_it = IterativeImputer()\n",
        "X_itim_train = impute_it.fit_transform(X_itim_train)\n",
        "X_itim_test  = impute_knn.transform(X_itim_test)\n",
        "# The training set will be divided into 10 folds for K-fold cross-validation based on generalized experimentation suggestion.\n",
        "# Each fold will have a chance to be the validation fold to assess the accuracy. Total 10 times. Then the final accuracy will be calculated as the mean value of each validation accuracy.\n",
        "scores = cross_val_score(model, X_itim_train, y_itim_train, cv=10)\n",
        "# print out the R^2 metrics derived from the K-fold cross validation of our linear regression model\n",
        "print (scores)\n",
        "print (np.mean(scores))"
      ],
      "execution_count": 43,
      "outputs": [
        {
          "output_type": "stream",
          "name": "stdout",
          "text": [
            "[0.53117284 0.48555308 0.50318568 0.5345238  0.51088579 0.54724131\n",
            " 0.51373576 0.56015641 0.54171478 0.52999502]\n",
            "0.5258164470057624\n"
          ]
        }
      ]
    },
    {
      "cell_type": "markdown",
      "metadata": {
        "id": "b9AjfcncydzP"
      },
      "source": [
        "It looks like none of the models are all that different from each other. This may be because many of the values are skewed, and training models benefit from bell shaped data. Let's now turn toward noarmalizing these features, before revisiting machine learning models. I chose Linear Regression above, but there is no free lunch after all."
      ]
    },
    {
      "cell_type": "markdown",
      "metadata": {
        "id": "ZO9NP4e2J_aI"
      },
      "source": [
        "### Normalizing Skewed Data\n"
      ]
    },
    {
      "cell_type": "code",
      "metadata": {
        "colab": {
          "base_uri": "https://localhost:8080/"
        },
        "id": "oiKv8PJpzsD-",
        "outputId": "b3519fbc-46c5-4cf1-e0b3-b9436b125ea7"
      },
      "source": [
        "#Alan to Jacob: should we normalize based on an imputed set, or back to df_prep. im not sure it makes a difference.\n",
        "#first we will quickly loop over the dataframe to remind ourselves which of our feaures are skewed\n",
        "for (columnName, columnData) in df_prep.iteritems():\n",
        "  if columnData.abs().skew() > 1:\n",
        "    print('Column Name : ', columnName)\n",
        "    print('Column Contents : ', columnData.skew())"
      ],
      "execution_count": 44,
      "outputs": [
        {
          "output_type": "stream",
          "name": "stdout",
          "text": [
            "Column Name :  FixedAcidity\n",
            "Column Contents :  1.1745560033933498\n",
            "Column Name :  VolatileAcidity\n",
            "Column Contents :  1.6533658263962545\n",
            "Column Name :  CitricAcid\n",
            "Column Contents :  1.6431953805614938\n",
            "Column Name :  ResidualSugar\n",
            "Column Contents :  1.4691617785223794\n",
            "Column Name :  Chlorides\n",
            "Column Contents :  1.4811472572110147\n",
            "Column Name :  FreeSulfurDioxide\n",
            "Column Contents :  1.5301340771090322\n",
            "Column Name :  TotalSulfurDioxide\n",
            "Column Contents :  1.6112748631226705\n",
            "Column Name :  Sulphates\n",
            "Column Contents :  1.6918104897568227\n",
            "Column Name :  AcidIndex\n",
            "Column Contents :  1.6488825330155508\n"
          ]
        }
      ]
    },
    {
      "cell_type": "code",
      "metadata": {
        "colab": {
          "base_uri": "https://localhost:8080/",
          "height": 294
        },
        "id": "ytEPsK-U3CkE",
        "outputId": "192cf300-6463-46f8-e8fe-ce3831f40f23"
      },
      "source": [
        "#refreshing ourselves on the scale and attributes of our skewed columns\n",
        "df_prep[['FixedAcidity','VolatileAcidity','CitricAcid','ResidualSugar','Chlorides',\n",
        "        'FreeSulfurDioxide','TotalSulfurDioxide','Sulphates','AcidIndex']].describe()"
      ],
      "execution_count": 48,
      "outputs": [
        {
          "output_type": "execute_result",
          "data": {
            "text/html": [
              "<div>\n",
              "<style scoped>\n",
              "    .dataframe tbody tr th:only-of-type {\n",
              "        vertical-align: middle;\n",
              "    }\n",
              "\n",
              "    .dataframe tbody tr th {\n",
              "        vertical-align: top;\n",
              "    }\n",
              "\n",
              "    .dataframe thead th {\n",
              "        text-align: right;\n",
              "    }\n",
              "</style>\n",
              "<table border=\"1\" class=\"dataframe\">\n",
              "  <thead>\n",
              "    <tr style=\"text-align: right;\">\n",
              "      <th></th>\n",
              "      <th>FixedAcidity</th>\n",
              "      <th>VolatileAcidity</th>\n",
              "      <th>CitricAcid</th>\n",
              "      <th>ResidualSugar</th>\n",
              "      <th>Chlorides</th>\n",
              "      <th>FreeSulfurDioxide</th>\n",
              "      <th>TotalSulfurDioxide</th>\n",
              "      <th>Sulphates</th>\n",
              "      <th>AcidIndex</th>\n",
              "    </tr>\n",
              "  </thead>\n",
              "  <tbody>\n",
              "    <tr>\n",
              "      <th>count</th>\n",
              "      <td>12795.000000</td>\n",
              "      <td>12795.000000</td>\n",
              "      <td>12795.000000</td>\n",
              "      <td>12179.000000</td>\n",
              "      <td>12157.000000</td>\n",
              "      <td>12148.000000</td>\n",
              "      <td>12113.000000</td>\n",
              "      <td>11585.000000</td>\n",
              "      <td>12795.000000</td>\n",
              "    </tr>\n",
              "    <tr>\n",
              "      <th>mean</th>\n",
              "      <td>8.063251</td>\n",
              "      <td>0.641086</td>\n",
              "      <td>0.686315</td>\n",
              "      <td>23.367809</td>\n",
              "      <td>0.222559</td>\n",
              "      <td>106.679042</td>\n",
              "      <td>204.319120</td>\n",
              "      <td>0.846668</td>\n",
              "      <td>7.772724</td>\n",
              "    </tr>\n",
              "    <tr>\n",
              "      <th>std</th>\n",
              "      <td>4.996119</td>\n",
              "      <td>0.555614</td>\n",
              "      <td>0.606005</td>\n",
              "      <td>24.945667</td>\n",
              "      <td>0.234288</td>\n",
              "      <td>108.102694</td>\n",
              "      <td>163.116881</td>\n",
              "      <td>0.655612</td>\n",
              "      <td>1.323926</td>\n",
              "    </tr>\n",
              "    <tr>\n",
              "      <th>min</th>\n",
              "      <td>0.000000</td>\n",
              "      <td>0.000000</td>\n",
              "      <td>0.000000</td>\n",
              "      <td>0.000000</td>\n",
              "      <td>0.000000</td>\n",
              "      <td>0.000000</td>\n",
              "      <td>0.000000</td>\n",
              "      <td>0.000000</td>\n",
              "      <td>4.000000</td>\n",
              "    </tr>\n",
              "    <tr>\n",
              "      <th>25%</th>\n",
              "      <td>5.600000</td>\n",
              "      <td>0.250000</td>\n",
              "      <td>0.280000</td>\n",
              "      <td>3.600000</td>\n",
              "      <td>0.046000</td>\n",
              "      <td>28.000000</td>\n",
              "      <td>100.000000</td>\n",
              "      <td>0.430000</td>\n",
              "      <td>7.000000</td>\n",
              "    </tr>\n",
              "    <tr>\n",
              "      <th>50%</th>\n",
              "      <td>7.000000</td>\n",
              "      <td>0.410000</td>\n",
              "      <td>0.440000</td>\n",
              "      <td>12.900000</td>\n",
              "      <td>0.098000</td>\n",
              "      <td>56.000000</td>\n",
              "      <td>154.000000</td>\n",
              "      <td>0.590000</td>\n",
              "      <td>8.000000</td>\n",
              "    </tr>\n",
              "    <tr>\n",
              "      <th>75%</th>\n",
              "      <td>9.800000</td>\n",
              "      <td>0.910000</td>\n",
              "      <td>0.970000</td>\n",
              "      <td>38.700000</td>\n",
              "      <td>0.368000</td>\n",
              "      <td>172.000000</td>\n",
              "      <td>262.000000</td>\n",
              "      <td>1.100000</td>\n",
              "      <td>8.000000</td>\n",
              "    </tr>\n",
              "    <tr>\n",
              "      <th>max</th>\n",
              "      <td>34.400000</td>\n",
              "      <td>3.680000</td>\n",
              "      <td>3.860000</td>\n",
              "      <td>141.150000</td>\n",
              "      <td>1.351000</td>\n",
              "      <td>623.000000</td>\n",
              "      <td>1057.000000</td>\n",
              "      <td>4.240000</td>\n",
              "      <td>17.000000</td>\n",
              "    </tr>\n",
              "  </tbody>\n",
              "</table>\n",
              "</div>"
            ],
            "text/plain": [
              "       FixedAcidity  VolatileAcidity    CitricAcid  ResidualSugar  \\\n",
              "count  12795.000000     12795.000000  12795.000000   12179.000000   \n",
              "mean       8.063251         0.641086      0.686315      23.367809   \n",
              "std        4.996119         0.555614      0.606005      24.945667   \n",
              "min        0.000000         0.000000      0.000000       0.000000   \n",
              "25%        5.600000         0.250000      0.280000       3.600000   \n",
              "50%        7.000000         0.410000      0.440000      12.900000   \n",
              "75%        9.800000         0.910000      0.970000      38.700000   \n",
              "max       34.400000         3.680000      3.860000     141.150000   \n",
              "\n",
              "          Chlorides  FreeSulfurDioxide  TotalSulfurDioxide     Sulphates  \\\n",
              "count  12157.000000       12148.000000        12113.000000  11585.000000   \n",
              "mean       0.222559         106.679042          204.319120      0.846668   \n",
              "std        0.234288         108.102694          163.116881      0.655612   \n",
              "min        0.000000           0.000000            0.000000      0.000000   \n",
              "25%        0.046000          28.000000          100.000000      0.430000   \n",
              "50%        0.098000          56.000000          154.000000      0.590000   \n",
              "75%        0.368000         172.000000          262.000000      1.100000   \n",
              "max        1.351000         623.000000         1057.000000      4.240000   \n",
              "\n",
              "          AcidIndex  \n",
              "count  12795.000000  \n",
              "mean       7.772724  \n",
              "std        1.323926  \n",
              "min        4.000000  \n",
              "25%        7.000000  \n",
              "50%        8.000000  \n",
              "75%        8.000000  \n",
              "max       17.000000  "
            ]
          },
          "metadata": {},
          "execution_count": 48
        }
      ]
    },
    {
      "cell_type": "markdown",
      "metadata": {
        "id": "dCmFAGVP1NLF"
      },
      "source": [
        "starting with LOG FixedAcidity because why not?\n",
        "\n",
        "  jacob - the simplest way to log trans form is just to start by taking the natural log of the column if that doesn't get you what you want then log 10 \n",
        "\n",
        "difference between BOXCOX and LOG transformations?\n",
        "  alan - BoxCox may be a better fit in our scenario. We want to make our feature more gausian to benefit our predictive models and reduce outliers. While log can help with that, Box-Cox also standardizes the features, preventing the Sulfur Dioxide columns having an outsized wheight. Our data also fit the positive values requirement of BoxCox"
      ]
    },
    {
      "cell_type": "code",
      "metadata": {
        "colab": {
          "base_uri": "https://localhost:8080/"
        },
        "id": "j9uvfvQpIBYz",
        "outputId": "3e7bce44-e573-4f99-ed0e-424038804997"
      },
      "source": [
        "df_fa_transformed= np.log10(df_prep['FixedAcidity'])#natural log and log10 were attempted, but resulted in infinite values\n",
        "df_fa_transformed.describe()"
      ],
      "execution_count": 66,
      "outputs": [
        {
          "output_type": "stream",
          "name": "stderr",
          "text": [
            "/usr/local/lib/python3.7/dist-packages/pandas/core/series.py:726: RuntimeWarning: divide by zero encountered in log10\n",
            "  result = getattr(ufunc, method)(*inputs, **kwargs)\n"
          ]
        },
        {
          "output_type": "execute_result",
          "data": {
            "text/plain": [
              "count    1.279500e+04\n",
              "mean             -inf\n",
              "std               NaN\n",
              "min              -inf\n",
              "25%      7.481880e-01\n",
              "50%      8.450980e-01\n",
              "75%      9.912261e-01\n",
              "max      1.536558e+00\n",
              "Name: FixedAcidity, dtype: float64"
            ]
          },
          "metadata": {},
          "execution_count": 66
        }
      ]
    },
    {
      "cell_type": "markdown",
      "metadata": {
        "id": "PCTiWZX8JjYI"
      },
      "source": [
        "We tried logarythmic transformation without much success. We will now turn toward the StandardScaler whichstandardizes the data witha mean of 0 and a standard deviation of 1 as described in MLPR page 27."
      ]
    },
    {
      "cell_type": "code",
      "metadata": {
        "colab": {
          "base_uri": "https://localhost:8080/",
          "height": 222
        },
        "id": "fmrcsZviN58r",
        "outputId": "50a0f4f3-d0cf-4fa2-9efc-af46a3326203"
      },
      "source": [
        "df_prep.head()"
      ],
      "execution_count": 76,
      "outputs": [
        {
          "output_type": "execute_result",
          "data": {
            "text/html": [
              "<div>\n",
              "<style scoped>\n",
              "    .dataframe tbody tr th:only-of-type {\n",
              "        vertical-align: middle;\n",
              "    }\n",
              "\n",
              "    .dataframe tbody tr th {\n",
              "        vertical-align: top;\n",
              "    }\n",
              "\n",
              "    .dataframe thead th {\n",
              "        text-align: right;\n",
              "    }\n",
              "</style>\n",
              "<table border=\"1\" class=\"dataframe\">\n",
              "  <thead>\n",
              "    <tr style=\"text-align: right;\">\n",
              "      <th></th>\n",
              "      <th>TARGET</th>\n",
              "      <th>FixedAcidity</th>\n",
              "      <th>VolatileAcidity</th>\n",
              "      <th>CitricAcid</th>\n",
              "      <th>ResidualSugar</th>\n",
              "      <th>Chlorides</th>\n",
              "      <th>FreeSulfurDioxide</th>\n",
              "      <th>TotalSulfurDioxide</th>\n",
              "      <th>Density</th>\n",
              "      <th>pH</th>\n",
              "      <th>Sulphates</th>\n",
              "      <th>Alcohol</th>\n",
              "      <th>LabelAppeal</th>\n",
              "      <th>AcidIndex</th>\n",
              "      <th>STARS</th>\n",
              "    </tr>\n",
              "  </thead>\n",
              "  <tbody>\n",
              "    <tr>\n",
              "      <th>0</th>\n",
              "      <td>3</td>\n",
              "      <td>3.2</td>\n",
              "      <td>1.160</td>\n",
              "      <td>0.98</td>\n",
              "      <td>54.2</td>\n",
              "      <td>0.567</td>\n",
              "      <td>NaN</td>\n",
              "      <td>268.0</td>\n",
              "      <td>0.99280</td>\n",
              "      <td>3.33</td>\n",
              "      <td>0.59</td>\n",
              "      <td>9.9</td>\n",
              "      <td>0</td>\n",
              "      <td>8</td>\n",
              "      <td>2.0</td>\n",
              "    </tr>\n",
              "    <tr>\n",
              "      <th>1</th>\n",
              "      <td>3</td>\n",
              "      <td>4.5</td>\n",
              "      <td>0.160</td>\n",
              "      <td>0.81</td>\n",
              "      <td>26.1</td>\n",
              "      <td>0.425</td>\n",
              "      <td>15.0</td>\n",
              "      <td>327.0</td>\n",
              "      <td>1.02792</td>\n",
              "      <td>3.38</td>\n",
              "      <td>0.70</td>\n",
              "      <td>NaN</td>\n",
              "      <td>-1</td>\n",
              "      <td>7</td>\n",
              "      <td>3.0</td>\n",
              "    </tr>\n",
              "    <tr>\n",
              "      <th>2</th>\n",
              "      <td>5</td>\n",
              "      <td>7.1</td>\n",
              "      <td>2.640</td>\n",
              "      <td>0.88</td>\n",
              "      <td>14.8</td>\n",
              "      <td>0.037</td>\n",
              "      <td>214.0</td>\n",
              "      <td>142.0</td>\n",
              "      <td>0.99518</td>\n",
              "      <td>3.12</td>\n",
              "      <td>0.48</td>\n",
              "      <td>22.0</td>\n",
              "      <td>-1</td>\n",
              "      <td>8</td>\n",
              "      <td>3.0</td>\n",
              "    </tr>\n",
              "    <tr>\n",
              "      <th>3</th>\n",
              "      <td>3</td>\n",
              "      <td>5.7</td>\n",
              "      <td>0.385</td>\n",
              "      <td>0.04</td>\n",
              "      <td>18.8</td>\n",
              "      <td>0.425</td>\n",
              "      <td>22.0</td>\n",
              "      <td>115.0</td>\n",
              "      <td>0.99640</td>\n",
              "      <td>2.24</td>\n",
              "      <td>1.83</td>\n",
              "      <td>6.2</td>\n",
              "      <td>-1</td>\n",
              "      <td>6</td>\n",
              "      <td>1.0</td>\n",
              "    </tr>\n",
              "    <tr>\n",
              "      <th>4</th>\n",
              "      <td>4</td>\n",
              "      <td>8.0</td>\n",
              "      <td>0.330</td>\n",
              "      <td>1.26</td>\n",
              "      <td>9.4</td>\n",
              "      <td>NaN</td>\n",
              "      <td>167.0</td>\n",
              "      <td>108.0</td>\n",
              "      <td>0.99457</td>\n",
              "      <td>3.12</td>\n",
              "      <td>1.77</td>\n",
              "      <td>13.7</td>\n",
              "      <td>0</td>\n",
              "      <td>9</td>\n",
              "      <td>2.0</td>\n",
              "    </tr>\n",
              "  </tbody>\n",
              "</table>\n",
              "</div>"
            ],
            "text/plain": [
              "   TARGET  FixedAcidity  VolatileAcidity  CitricAcid  ResidualSugar  \\\n",
              "0       3           3.2            1.160        0.98           54.2   \n",
              "1       3           4.5            0.160        0.81           26.1   \n",
              "2       5           7.1            2.640        0.88           14.8   \n",
              "3       3           5.7            0.385        0.04           18.8   \n",
              "4       4           8.0            0.330        1.26            9.4   \n",
              "\n",
              "   Chlorides  FreeSulfurDioxide  TotalSulfurDioxide  Density    pH  Sulphates  \\\n",
              "0      0.567                NaN               268.0  0.99280  3.33       0.59   \n",
              "1      0.425               15.0               327.0  1.02792  3.38       0.70   \n",
              "2      0.037              214.0               142.0  0.99518  3.12       0.48   \n",
              "3      0.425               22.0               115.0  0.99640  2.24       1.83   \n",
              "4        NaN              167.0               108.0  0.99457  3.12       1.77   \n",
              "\n",
              "   Alcohol  LabelAppeal  AcidIndex  STARS  \n",
              "0      9.9            0          8    2.0  \n",
              "1      NaN           -1          7    3.0  \n",
              "2     22.0           -1          8    3.0  \n",
              "3      6.2           -1          6    1.0  \n",
              "4     13.7            0          9    2.0  "
            ]
          },
          "metadata": {},
          "execution_count": 76
        }
      ]
    },
    {
      "cell_type": "code",
      "metadata": {
        "colab": {
          "base_uri": "https://localhost:8080/"
        },
        "id": "AVK1HJk_YgUz",
        "outputId": "410e671b-0716-4b52-a405-899ac48c23c0"
      },
      "source": [
        "X_itim_train[:,[0]]"
      ],
      "execution_count": 100,
      "outputs": [
        {
          "output_type": "execute_result",
          "data": {
            "text/plain": [
              "array([[6.3],\n",
              "       [2.4],\n",
              "       [6.4],\n",
              "       ...,\n",
              "       [4.2],\n",
              "       [5.8],\n",
              "       [8.8]])"
            ]
          },
          "metadata": {},
          "execution_count": 100
        }
      ]
    },
    {
      "cell_type": "code",
      "metadata": {
        "colab": {
          "base_uri": "https://localhost:8080/"
        },
        "id": "bBB16whdJI55",
        "outputId": "0cd24f13-b07f-4414-acc5-4f4e1cf4b7d5"
      },
      "source": [
        "from sklearn import preprocessing\n",
        "\n",
        "#X_train_it_sca = sca.fit_transform(X_itim_train)\n",
        "#X_train_it_sca = pd.DataFrame(X_train_it_sca,columns=['FixedAcidity','VolatileAcidity','CitricAcid','ResidualSugar','Chlorides','FreeSulfurDioxide','TotalSulfurDioxide','Density','pH','Sulphates','AcidIndex'])\n",
        "#X_train_it_sca.describe()\n",
        "\n",
        "features = X_itim_train[:,[0]]\n",
        "\n",
        "sca = preprocessing.StandardScaler()\n",
        "\n",
        "x_scaler = sca.fit_transform(features)\n",
        "\n",
        "print(x_scaler)"
      ],
      "execution_count": 89,
      "outputs": [
        {
          "output_type": "stream",
          "name": "stdout",
          "text": [
            "[[-0.35035458]\n",
            " [-1.12891727]\n",
            " [-0.33039143]\n",
            " ...\n",
            " [-0.76958065]\n",
            " [-0.45017031]\n",
            " [ 0.14872407]]\n"
          ]
        }
      ]
    },
    {
      "cell_type": "code",
      "metadata": {
        "colab": {
          "base_uri": "https://localhost:8080/",
          "height": 202
        },
        "id": "jJuqn8vPY_QD",
        "outputId": "347245be-ca96-44ea-dc06-c22646d4d698"
      },
      "source": [
        "#sanity check\n",
        "X_imsca_train = pd.DataFrame(x_scaler,columns=['FixedAcidity'])\n",
        "X_imsca_train.head()"
      ],
      "execution_count": 92,
      "outputs": [
        {
          "output_type": "execute_result",
          "data": {
            "text/html": [
              "<div>\n",
              "<style scoped>\n",
              "    .dataframe tbody tr th:only-of-type {\n",
              "        vertical-align: middle;\n",
              "    }\n",
              "\n",
              "    .dataframe tbody tr th {\n",
              "        vertical-align: top;\n",
              "    }\n",
              "\n",
              "    .dataframe thead th {\n",
              "        text-align: right;\n",
              "    }\n",
              "</style>\n",
              "<table border=\"1\" class=\"dataframe\">\n",
              "  <thead>\n",
              "    <tr style=\"text-align: right;\">\n",
              "      <th></th>\n",
              "      <th>FixedAcidity</th>\n",
              "    </tr>\n",
              "  </thead>\n",
              "  <tbody>\n",
              "    <tr>\n",
              "      <th>0</th>\n",
              "      <td>-0.350355</td>\n",
              "    </tr>\n",
              "    <tr>\n",
              "      <th>1</th>\n",
              "      <td>-1.128917</td>\n",
              "    </tr>\n",
              "    <tr>\n",
              "      <th>2</th>\n",
              "      <td>-0.330391</td>\n",
              "    </tr>\n",
              "    <tr>\n",
              "      <th>3</th>\n",
              "      <td>0.907324</td>\n",
              "    </tr>\n",
              "    <tr>\n",
              "      <th>4</th>\n",
              "      <td>0.468134</td>\n",
              "    </tr>\n",
              "  </tbody>\n",
              "</table>\n",
              "</div>"
            ],
            "text/plain": [
              "   FixedAcidity\n",
              "0     -0.350355\n",
              "1     -1.128917\n",
              "2     -0.330391\n",
              "3      0.907324\n",
              "4      0.468134"
            ]
          },
          "metadata": {},
          "execution_count": 92
        }
      ]
    },
    {
      "cell_type": "code",
      "metadata": {
        "colab": {
          "base_uri": "https://localhost:8080/",
          "height": 294
        },
        "id": "_Lkvy8FQaS61",
        "outputId": "4c8368a1-a278-45a3-defa-b59c2709fa62"
      },
      "source": [
        "X_imsca_train.describe()"
      ],
      "execution_count": 93,
      "outputs": [
        {
          "output_type": "execute_result",
          "data": {
            "text/html": [
              "<div>\n",
              "<style scoped>\n",
              "    .dataframe tbody tr th:only-of-type {\n",
              "        vertical-align: middle;\n",
              "    }\n",
              "\n",
              "    .dataframe tbody tr th {\n",
              "        vertical-align: top;\n",
              "    }\n",
              "\n",
              "    .dataframe thead th {\n",
              "        text-align: right;\n",
              "    }\n",
              "</style>\n",
              "<table border=\"1\" class=\"dataframe\">\n",
              "  <thead>\n",
              "    <tr style=\"text-align: right;\">\n",
              "      <th></th>\n",
              "      <th>FixedAcidity</th>\n",
              "    </tr>\n",
              "  </thead>\n",
              "  <tbody>\n",
              "    <tr>\n",
              "      <th>count</th>\n",
              "      <td>1.023600e+04</td>\n",
              "    </tr>\n",
              "    <tr>\n",
              "      <th>mean</th>\n",
              "      <td>-2.364593e-16</td>\n",
              "    </tr>\n",
              "    <tr>\n",
              "      <th>std</th>\n",
              "      <td>1.000049e+00</td>\n",
              "    </tr>\n",
              "    <tr>\n",
              "      <th>min</th>\n",
              "      <td>-1.608033e+00</td>\n",
              "    </tr>\n",
              "    <tr>\n",
              "      <th>25%</th>\n",
              "      <td>-4.900966e-01</td>\n",
              "    </tr>\n",
              "    <tr>\n",
              "      <th>50%</th>\n",
              "      <td>-2.106126e-01</td>\n",
              "    </tr>\n",
              "    <tr>\n",
              "      <th>75%</th>\n",
              "      <td>3.483555e-01</td>\n",
              "    </tr>\n",
              "    <tr>\n",
              "      <th>max</th>\n",
              "      <td>5.199400e+00</td>\n",
              "    </tr>\n",
              "  </tbody>\n",
              "</table>\n",
              "</div>"
            ],
            "text/plain": [
              "       FixedAcidity\n",
              "count  1.023600e+04\n",
              "mean  -2.364593e-16\n",
              "std    1.000049e+00\n",
              "min   -1.608033e+00\n",
              "25%   -4.900966e-01\n",
              "50%   -2.106126e-01\n",
              "75%    3.483555e-01\n",
              "max    5.199400e+00"
            ]
          },
          "metadata": {},
          "execution_count": 93
        }
      ]
    },
    {
      "cell_type": "markdown",
      "metadata": {
        "id": "hawrLg2CcWmo"
      },
      "source": [
        "### FixedAcidity"
      ]
    },
    {
      "cell_type": "code",
      "metadata": {
        "colab": {
          "base_uri": "https://localhost:8080/",
          "height": 575
        },
        "id": "0M-T7RuyaY2r",
        "outputId": "34824a7a-111d-406e-8ab2-5cf1b6f51bf2"
      },
      "source": [
        "#Create a histogram and boxplot side by side for FixedAcidity\n",
        "i= X_imsca_train\n",
        "\n",
        "plt.figure(figsize=(8,4))\n",
        "#Histogram\n",
        "plt.subplot(1,2,1);\n",
        "sns.distplot(i); \n",
        "plt.title('FixedAcidity')\n",
        "#Boxplot\n",
        "plt.subplot(1,2,2);\n",
        "sns.boxplot(data = i.melt());#pivoting data otherwise I run into an unusual error\n",
        "plt.title('FixedAcidity');\n",
        "print(\"Skewness: %f\" %i.skew()) #Adds Skew value\n",
        "i.describe() #Adds summary statistics of the variable"
      ],
      "execution_count": 99,
      "outputs": [
        {
          "output_type": "stream",
          "name": "stdout",
          "text": [
            "Skewness: 1.179836\n"
          ]
        },
        {
          "output_type": "execute_result",
          "data": {
            "text/html": [
              "<div>\n",
              "<style scoped>\n",
              "    .dataframe tbody tr th:only-of-type {\n",
              "        vertical-align: middle;\n",
              "    }\n",
              "\n",
              "    .dataframe tbody tr th {\n",
              "        vertical-align: top;\n",
              "    }\n",
              "\n",
              "    .dataframe thead th {\n",
              "        text-align: right;\n",
              "    }\n",
              "</style>\n",
              "<table border=\"1\" class=\"dataframe\">\n",
              "  <thead>\n",
              "    <tr style=\"text-align: right;\">\n",
              "      <th></th>\n",
              "      <th>FixedAcidity</th>\n",
              "    </tr>\n",
              "  </thead>\n",
              "  <tbody>\n",
              "    <tr>\n",
              "      <th>count</th>\n",
              "      <td>1.023600e+04</td>\n",
              "    </tr>\n",
              "    <tr>\n",
              "      <th>mean</th>\n",
              "      <td>-2.364593e-16</td>\n",
              "    </tr>\n",
              "    <tr>\n",
              "      <th>std</th>\n",
              "      <td>1.000049e+00</td>\n",
              "    </tr>\n",
              "    <tr>\n",
              "      <th>min</th>\n",
              "      <td>-1.608033e+00</td>\n",
              "    </tr>\n",
              "    <tr>\n",
              "      <th>25%</th>\n",
              "      <td>-4.900966e-01</td>\n",
              "    </tr>\n",
              "    <tr>\n",
              "      <th>50%</th>\n",
              "      <td>-2.106126e-01</td>\n",
              "    </tr>\n",
              "    <tr>\n",
              "      <th>75%</th>\n",
              "      <td>3.483555e-01</td>\n",
              "    </tr>\n",
              "    <tr>\n",
              "      <th>max</th>\n",
              "      <td>5.199400e+00</td>\n",
              "    </tr>\n",
              "  </tbody>\n",
              "</table>\n",
              "</div>"
            ],
            "text/plain": [
              "       FixedAcidity\n",
              "count  1.023600e+04\n",
              "mean  -2.364593e-16\n",
              "std    1.000049e+00\n",
              "min   -1.608033e+00\n",
              "25%   -4.900966e-01\n",
              "50%   -2.106126e-01\n",
              "75%    3.483555e-01\n",
              "max    5.199400e+00"
            ]
          },
          "metadata": {},
          "execution_count": 99
        },
        {
          "output_type": "display_data",
          "data": {
            "image/png": "[encoded data removed]",
            "text/plain": [
              "<Figure size 576x288 with 2 Axes>"
            ]
          },
          "metadata": {
            "needs_background": "light"
          }
        }
      ]
    },
    {
      "cell_type": "markdown",
      "metadata": {
        "id": "HiYKJrS1dLij"
      },
      "source": [
        "That didnt improve anything. BoxCox scaler instead?"
      ]
    },
    {
      "cell_type": "code",
      "metadata": {
        "colab": {
          "base_uri": "https://localhost:8080/",
          "height": 364
        },
        "id": "hrZ-pdgh1iQF",
        "outputId": "499f8d3c-a0b7-4641-9a65-b5f6e8c25358"
      },
      "source": [
        "\"\"\"from scipy.stats import boxcox \n",
        "\n",
        "#perform Box-Cox transformation on original data\n",
        "transformed_data, best_lambda = boxcox(X_itim_train[:,0])\n",
        "\n",
        "#plot the distribution of the transformed data values\n",
        "sns.distplot(transformed_data, hist=False, kde=True) \n",
        "\"\"\"\n",
        "#boxcox fails when values are not positive. THAT INCLUDES 0!!! boxcox doesnt work\n",
        "#simplest log transform just take the log of the column, and we will star with FixedAcidity"
      ],
      "execution_count": 47,
      "outputs": [
        {
          "output_type": "error",
          "ename": "ValueError",
          "evalue": "ignored",
          "traceback": [
            "\u001b[0;31m---------------------------------------------------------------------------\u001b[0m",
            "\u001b[0;31mValueError\u001b[0m                                Traceback (most recent call last)",
            "\u001b[0;32m<ipython-input-47-001afe90ea16>\u001b[0m in \u001b[0;36m<module>\u001b[0;34m()\u001b[0m\n\u001b[1;32m      2\u001b[0m \u001b[0;34m\u001b[0m\u001b[0m\n\u001b[1;32m      3\u001b[0m \u001b[0;31m#perform Box-Cox transformation on original data\u001b[0m\u001b[0;34m\u001b[0m\u001b[0;34m\u001b[0m\u001b[0;34m\u001b[0m\u001b[0m\n\u001b[0;32m----> 4\u001b[0;31m \u001b[0mtransformed_data\u001b[0m\u001b[0;34m,\u001b[0m \u001b[0mbest_lambda\u001b[0m \u001b[0;34m=\u001b[0m \u001b[0mboxcox\u001b[0m\u001b[0;34m(\u001b[0m\u001b[0mX_itim_train\u001b[0m\u001b[0;34m[\u001b[0m\u001b[0;34m:\u001b[0m\u001b[0;34m,\u001b[0m\u001b[0;36m0\u001b[0m\u001b[0;34m]\u001b[0m\u001b[0;34m)\u001b[0m\u001b[0;34m\u001b[0m\u001b[0;34m\u001b[0m\u001b[0m\n\u001b[0m\u001b[1;32m      5\u001b[0m \u001b[0;34m\u001b[0m\u001b[0m\n\u001b[1;32m      6\u001b[0m \u001b[0;31m#plot the distribution of the transformed data values\u001b[0m\u001b[0;34m\u001b[0m\u001b[0;34m\u001b[0m\u001b[0;34m\u001b[0m\u001b[0m\n",
            "\u001b[0;32m/usr/local/lib/python3.7/dist-packages/scipy/stats/morestats.py\u001b[0m in \u001b[0;36mboxcox\u001b[0;34m(x, lmbda, alpha)\u001b[0m\n\u001b[1;32m   1043\u001b[0m \u001b[0;34m\u001b[0m\u001b[0m\n\u001b[1;32m   1044\u001b[0m     \u001b[0;32mif\u001b[0m \u001b[0many\u001b[0m\u001b[0;34m(\u001b[0m\u001b[0mx\u001b[0m \u001b[0;34m<=\u001b[0m \u001b[0;36m0\u001b[0m\u001b[0;34m)\u001b[0m\u001b[0;34m:\u001b[0m\u001b[0;34m\u001b[0m\u001b[0;34m\u001b[0m\u001b[0m\n\u001b[0;32m-> 1045\u001b[0;31m         \u001b[0;32mraise\u001b[0m \u001b[0mValueError\u001b[0m\u001b[0;34m(\u001b[0m\u001b[0;34m\"Data must be positive.\"\u001b[0m\u001b[0;34m)\u001b[0m\u001b[0;34m\u001b[0m\u001b[0;34m\u001b[0m\u001b[0m\n\u001b[0m\u001b[1;32m   1046\u001b[0m \u001b[0;34m\u001b[0m\u001b[0m\n\u001b[1;32m   1047\u001b[0m     \u001b[0;32mif\u001b[0m \u001b[0mlmbda\u001b[0m \u001b[0;32mis\u001b[0m \u001b[0;32mnot\u001b[0m \u001b[0;32mNone\u001b[0m\u001b[0;34m:\u001b[0m  \u001b[0;31m# single transformation\u001b[0m\u001b[0;34m\u001b[0m\u001b[0;34m\u001b[0m\u001b[0m\n",
            "\u001b[0;31mValueError\u001b[0m: Data must be positive."
          ]
        }
      ]
    },
    {
      "cell_type": "code",
      "metadata": {
        "colab": {
          "base_uri": "https://localhost:8080/"
        },
        "id": "6VKhiZFwdZCC",
        "outputId": "9ddc7579-b4e8-4513-d283-1bd98ef121d5"
      },
      "source": [
        "from sklearn.preprocessing import MinMaxScaler\n",
        "\n",
        "features = X_itim_train[:,[0]]\n",
        "\n",
        "sca = preprocessing.MinMaxScaler()\n",
        "\n",
        "x_scaler = sca.fit_transform(features)\n",
        "\n",
        "print(x_scaler)"
      ],
      "execution_count": 102,
      "outputs": [
        {
          "output_type": "stream",
          "name": "stdout",
          "text": [
            "[[0.18475073]\n",
            " [0.07038123]\n",
            " [0.18768328]\n",
            " ...\n",
            " [0.12316716]\n",
            " [0.17008798]\n",
            " [0.25806452]]\n"
          ]
        }
      ]
    },
    {
      "cell_type": "code",
      "metadata": {
        "id": "vOZkTX6CGnby",
        "colab": {
          "base_uri": "https://localhost:8080/",
          "height": 202
        },
        "outputId": "6207283c-2311-49d0-9383-c912eaacce91"
      },
      "source": [
        "X_imsca_train = pd.DataFrame(x_scaler,columns=['FixedAcidity'])\n",
        "X_imsca_train.head()"
      ],
      "execution_count": 103,
      "outputs": [
        {
          "output_type": "execute_result",
          "data": {
            "text/html": [
              "<div>\n",
              "<style scoped>\n",
              "    .dataframe tbody tr th:only-of-type {\n",
              "        vertical-align: middle;\n",
              "    }\n",
              "\n",
              "    .dataframe tbody tr th {\n",
              "        vertical-align: top;\n",
              "    }\n",
              "\n",
              "    .dataframe thead th {\n",
              "        text-align: right;\n",
              "    }\n",
              "</style>\n",
              "<table border=\"1\" class=\"dataframe\">\n",
              "  <thead>\n",
              "    <tr style=\"text-align: right;\">\n",
              "      <th></th>\n",
              "      <th>FixedAcidity</th>\n",
              "    </tr>\n",
              "  </thead>\n",
              "  <tbody>\n",
              "    <tr>\n",
              "      <th>0</th>\n",
              "      <td>0.184751</td>\n",
              "    </tr>\n",
              "    <tr>\n",
              "      <th>1</th>\n",
              "      <td>0.070381</td>\n",
              "    </tr>\n",
              "    <tr>\n",
              "      <th>2</th>\n",
              "      <td>0.187683</td>\n",
              "    </tr>\n",
              "    <tr>\n",
              "      <th>3</th>\n",
              "      <td>0.369501</td>\n",
              "    </tr>\n",
              "    <tr>\n",
              "      <th>4</th>\n",
              "      <td>0.304985</td>\n",
              "    </tr>\n",
              "  </tbody>\n",
              "</table>\n",
              "</div>"
            ],
            "text/plain": [
              "   FixedAcidity\n",
              "0      0.184751\n",
              "1      0.070381\n",
              "2      0.187683\n",
              "3      0.369501\n",
              "4      0.304985"
            ]
          },
          "metadata": {},
          "execution_count": 103
        }
      ]
    },
    {
      "cell_type": "code",
      "metadata": {
        "colab": {
          "base_uri": "https://localhost:8080/",
          "height": 294
        },
        "id": "tkTpie7VeHu6",
        "outputId": "2557be67-18cf-4ad3-f52d-e653f5fa18a7"
      },
      "source": [
        "X_imsca_train.describe()"
      ],
      "execution_count": 104,
      "outputs": [
        {
          "output_type": "execute_result",
          "data": {
            "text/html": [
              "<div>\n",
              "<style scoped>\n",
              "    .dataframe tbody tr th:only-of-type {\n",
              "        vertical-align: middle;\n",
              "    }\n",
              "\n",
              "    .dataframe tbody tr th {\n",
              "        vertical-align: top;\n",
              "    }\n",
              "\n",
              "    .dataframe thead th {\n",
              "        text-align: right;\n",
              "    }\n",
              "</style>\n",
              "<table border=\"1\" class=\"dataframe\">\n",
              "  <thead>\n",
              "    <tr style=\"text-align: right;\">\n",
              "      <th></th>\n",
              "      <th>FixedAcidity</th>\n",
              "    </tr>\n",
              "  </thead>\n",
              "  <tbody>\n",
              "    <tr>\n",
              "      <th>count</th>\n",
              "      <td>10236.000000</td>\n",
              "    </tr>\n",
              "    <tr>\n",
              "      <th>mean</th>\n",
              "      <td>0.236217</td>\n",
              "    </tr>\n",
              "    <tr>\n",
              "      <th>std</th>\n",
              "      <td>0.146905</td>\n",
              "    </tr>\n",
              "    <tr>\n",
              "      <th>min</th>\n",
              "      <td>0.000000</td>\n",
              "    </tr>\n",
              "    <tr>\n",
              "      <th>25%</th>\n",
              "      <td>0.164223</td>\n",
              "    </tr>\n",
              "    <tr>\n",
              "      <th>50%</th>\n",
              "      <td>0.205279</td>\n",
              "    </tr>\n",
              "    <tr>\n",
              "      <th>75%</th>\n",
              "      <td>0.287390</td>\n",
              "    </tr>\n",
              "    <tr>\n",
              "      <th>max</th>\n",
              "      <td>1.000000</td>\n",
              "    </tr>\n",
              "  </tbody>\n",
              "</table>\n",
              "</div>"
            ],
            "text/plain": [
              "       FixedAcidity\n",
              "count  10236.000000\n",
              "mean       0.236217\n",
              "std        0.146905\n",
              "min        0.000000\n",
              "25%        0.164223\n",
              "50%        0.205279\n",
              "75%        0.287390\n",
              "max        1.000000"
            ]
          },
          "metadata": {},
          "execution_count": 104
        }
      ]
    },
    {
      "cell_type": "code",
      "metadata": {
        "colab": {
          "base_uri": "https://localhost:8080/",
          "height": 575
        },
        "id": "3yzawNFgeKC-",
        "outputId": "dc9110b6-f735-44cd-8ee0-996278bff607"
      },
      "source": [
        "#Create a histogram and boxplot side by side for FixedAcidity\n",
        "i= X_imsca_train\n",
        "\n",
        "plt.figure(figsize=(8,4))\n",
        "#Histogram\n",
        "plt.subplot(1,2,1);\n",
        "sns.distplot(i); \n",
        "plt.title('FixedAcidity')\n",
        "#Boxplot\n",
        "plt.subplot(1,2,2);\n",
        "sns.boxplot(data = i.melt());#pivoting data otherwise I run into an unusual error\n",
        "plt.title('FixedAcidity');\n",
        "print(\"Skewness: %f\" %i.skew()) #Adds Skew value\n",
        "i.describe() #Adds summary statistics of the variable"
      ],
      "execution_count": 105,
      "outputs": [
        {
          "output_type": "stream",
          "name": "stdout",
          "text": [
            "Skewness: 1.179836\n"
          ]
        },
        {
          "output_type": "execute_result",
          "data": {
            "text/html": [
              "<div>\n",
              "<style scoped>\n",
              "    .dataframe tbody tr th:only-of-type {\n",
              "        vertical-align: middle;\n",
              "    }\n",
              "\n",
              "    .dataframe tbody tr th {\n",
              "        vertical-align: top;\n",
              "    }\n",
              "\n",
              "    .dataframe thead th {\n",
              "        text-align: right;\n",
              "    }\n",
              "</style>\n",
              "<table border=\"1\" class=\"dataframe\">\n",
              "  <thead>\n",
              "    <tr style=\"text-align: right;\">\n",
              "      <th></th>\n",
              "      <th>FixedAcidity</th>\n",
              "    </tr>\n",
              "  </thead>\n",
              "  <tbody>\n",
              "    <tr>\n",
              "      <th>count</th>\n",
              "      <td>10236.000000</td>\n",
              "    </tr>\n",
              "    <tr>\n",
              "      <th>mean</th>\n",
              "      <td>0.236217</td>\n",
              "    </tr>\n",
              "    <tr>\n",
              "      <th>std</th>\n",
              "      <td>0.146905</td>\n",
              "    </tr>\n",
              "    <tr>\n",
              "      <th>min</th>\n",
              "      <td>0.000000</td>\n",
              "    </tr>\n",
              "    <tr>\n",
              "      <th>25%</th>\n",
              "      <td>0.164223</td>\n",
              "    </tr>\n",
              "    <tr>\n",
              "      <th>50%</th>\n",
              "      <td>0.205279</td>\n",
              "    </tr>\n",
              "    <tr>\n",
              "      <th>75%</th>\n",
              "      <td>0.287390</td>\n",
              "    </tr>\n",
              "    <tr>\n",
              "      <th>max</th>\n",
              "      <td>1.000000</td>\n",
              "    </tr>\n",
              "  </tbody>\n",
              "</table>\n",
              "</div>"
            ],
            "text/plain": [
              "       FixedAcidity\n",
              "count  10236.000000\n",
              "mean       0.236217\n",
              "std        0.146905\n",
              "min        0.000000\n",
              "25%        0.164223\n",
              "50%        0.205279\n",
              "75%        0.287390\n",
              "max        1.000000"
            ]
          },
          "metadata": {},
          "execution_count": 105
        },
        {
          "output_type": "display_data",
          "data": {
            "image/png": "[encoded data removed]",
            "text/plain": [
              "<Figure size 576x288 with 2 Axes>"
            ]
          },
          "metadata": {
            "needs_background": "light"
          }
        }
      ]
    },
    {
      "cell_type": "markdown",
      "metadata": {
        "id": "CPOz9hxiecvD"
      },
      "source": [
        "\n",
        "This normalizes it, but doesnt fix the skew..... I dont understand this well enough I guess... Im now going to try a BoxCox transformation, after adding1 to all values ensuring positive"
      ]
    },
    {
      "cell_type": "code",
      "metadata": {
        "colab": {
          "base_uri": "https://localhost:8080/",
          "height": 282
        },
        "id": "yGSrGFHNhwaw",
        "outputId": "cb764b16-9ffd-4dbd-a164-1117b115a8cd"
      },
      "source": [
        "from scipy.stats import boxcox \n",
        "\n",
        "a = X_itim_train[:,0] +1\n",
        "# transform training data & save lambda value\n",
        "transformed_data, best_lambda = boxcox(a)\n",
        "\n",
        "#plot the distribution of the transformed data values\n",
        "sns.distplot(transformed_data, hist=False, kde=True) \n"
      ],
      "execution_count": 108,
      "outputs": [
        {
          "output_type": "execute_result",
          "data": {
            "text/plain": [
              "<matplotlib.axes._subplots.AxesSubplot at 0x7f9456264b90>"
            ]
          },
          "metadata": {},
          "execution_count": 108
        },
        {
          "output_type": "display_data",
          "data": {
            "image/png": "[encoded data removed]",
            "text/plain": [
              "<Figure size 432x288 with 1 Axes>"
            ]
          },
          "metadata": {
            "needs_background": "light"
          }
        }
      ]
    },
    {
      "cell_type": "markdown",
      "metadata": {
        "id": "lfGFzPRHjHr0"
      },
      "source": [
        "gosh darn it.... i have no idea what im doing"
      ]
    },
    {
      "cell_type": "code",
      "metadata": {
        "id": "FzaLCz7OGTQl"
      },
      "source": [
        "i= X_itim_train.FixedAcidity\n",
        "\n",
        "plt.figure(figsize=(8,4))\n",
        "plt.subplot(1,2,1);#Histogram\n",
        "sns.distplot(i); \n",
        "plt.title('FixedAcidity')\n",
        "plt.subplot(1,2,2);#Boxplot\n",
        "sns.boxplot(i);\n",
        "plt.title('FixedAcidity');\n",
        "\n",
        "print(\"Skewness: %f\" %i.skew()) #Adds Skew value\n",
        "i.describe() #Adds summary statistics of the variable"
      ],
      "execution_count": null,
      "outputs": []
    },
    {
      "cell_type": "markdown",
      "metadata": {
        "id": "ISWBaIDl1Bx-"
      },
      "source": [
        "\n",
        "## Other things to check/add if I have time*\n",
        "*referencing class notes\n",
        "\n",
        "### !!?? I can also create new data why not??!!\n",
        "?look for dummy variables I can add and interaction features?\n",
        "\n",
        "Adding 'Derived' Data: Add new attributes to a data set based on calculations or other analyses that are applied to some subset of the original set of attributes.\n",
        "\n",
        "#### Outliers: How to detect and filter them?\n",
        "\n",
        "#### Discretization & Binning\n",
        "\n",
        "Separating data into \"bins\" or ranges of values is often necessary for analysis purposes.\n",
        "\n",
        "How you select your \"bin\" sizes / ranges can significantly impact the results of your analysis. Bins that are too wide can hide pertinent details. Bins that are too narrow can potentially introduce unnecessary \"noise\".\n",
        "\n",
        "Ideally, bin widths should be equal in size\n",
        "\n",
        "Simplistic rule of thumb: binwidth = (max(values) - min(values)) / sqrt(n) where n = number of data values\n",
        "\n",
        "Simplistic rule of thumb: number of bins = sqrt(n) where n = number of data values\n",
        "\n",
        "In general, use fewer bins for small amounts of data; use more bins for large amounts of data.\n",
        "\n",
        "Once you've identified your outliers, decide what to do with them: leave them alone? Remove them? Replace with another non-outlier value? You need to decide on the appropriate action based on your domain knowledge. Remember: outliers are not always invalid, but they can have a noticeable effect on your analysis. There is no single \"rule\" that applies to how outliers should be dealt with.\n",
        "\n",
        "Remember: After altering your data, be sure to re-run your EDA\n",
        "Alterations you make to your original data set for putposes of addressing data quality issues are VERY likely to have a tangible impact on the metrics + summarial information resulting from your EDA work.\n",
        "Therefore it is imperative that you re-run your EDA after each cycle of data preparation work. Compare the results of your original EDA against those of your \"post-modification\" EDA to determine whether the modifications you have made have achieved their desired results. If not, why not??? Are modifications of your data preparation efforts required? If so, implement your modified data preparation methods and re-run your EDA. Continue this iterative process until you are satisfied with the results.\n",
        "When re-running your EDA, be sure to check for the following:\n",
        "\n",
        "Have the distributions of any of the variables changed?\n",
        "Have the relationships between any of the variables changed (e.g., correlation metrics, etc.)\n",
        "Have any of your preliminary inferences regarding which variables might be more \"predictive\" of a response variable changed?\n",
        "etc.\n",
        "\n",
        "\n",
        "Imbalanced Classes in a Response Variable¶"
      ]
    },
    {
      "cell_type": "markdown",
      "metadata": {
        "id": "387rEruYs-0-"
      },
      "source": [
        "## Re-analyze Modified Data\n"
      ]
    },
    {
      "cell_type": "markdown",
      "metadata": {
        "id": "3LUuxbM44eq6"
      },
      "source": [
        "\n",
        "\n",
        "5. Using Python, re-run your EDA analysis on any variables you have adjusted during Data Preparation and compare / contrast your results to those you saw prior to performing your Data Preparation adjustments. Describe how each of your Data Preparation adjustments have improved the data set for purposes of using it within a machine learning algorithm."
      ]
    },
    {
      "cell_type": "markdown",
      "metadata": {
        "id": "TLZafqAztFc4"
      },
      "source": [
        "## Conclusion"
      ]
    },
    {
      "cell_type": "markdown",
      "metadata": {
        "id": "Bnrx8o9s4eq7"
      },
      "source": [
        "Your deliverable for this assignmentis your Jupyter Notebook. It should contain a combination of Python code cells and explanatory narratives contained within properly formatted Markdown cells. The Notebook should contain (at a minimum) the following sections (including the relevant Python code for each section):\n",
        "1. Introduction (5 Points):  Summarize the problem + explain the steps you plan to take to address the problem\n",
        "2. Exploratory Data Analysis (35 Points): Explain + present your EDA work including any conclusions you draw from your analysis regarding the integrity + usability of the data in its raw state. This section should include any Python code used for the EDA\n",
        "3. Data Preparation (45 Points): Describe + show the steps you have taken to address the data integrity + usability issues you identified in your EDA. This section should include any Python code used for Data Preparation\n",
        "\n",
        "4. Prepped Data Review (10 Points): Explain + present your post-Data Prep EDA analysis. This section should include any Python code used for re-running your EDA on the variables adjusted during your Data Preparation work.\n",
        "\n",
        "5. Conclusions (5 Points) Small groups should identity all group members at the start of the Jupyter Notebook and each team member should submit their own copy of the team’s work within Canvas."
      ]
    }
  ]
}
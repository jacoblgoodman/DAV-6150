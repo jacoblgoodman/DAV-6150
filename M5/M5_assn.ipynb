{
  "nbformat": 4,
  "nbformat_minor": 0,
  "metadata": {
    "colab": {
      "name": "M5_assn.ipynb",
      "provenance": [],
      "collapsed_sections": []
    },
    "kernelspec": {
      "name": "python3",
      "display_name": "Python 3"
    },
    "language_info": {
      "name": "python"
    }
  },
  "cells": [
    {
      "cell_type": "markdown",
      "metadata": {
        "id": "ID7pLzx7R1y2"
      },
      "source": [
        "Evaluation of the performance of classification models can be facilitated through a combination of calculating certain types of performance metrics and generating model performance evaluation graphics.For this assignment youwill be tasked with calculating a suite of classification model performance metrics via Python code functions that you create and then comparing your results to those of pre-built Python functions that automatically calculate those same metrics.  You will also be creating graphical output via Python code that can be used to evaluate the performance of classification models. \n",
        "\n",
        "The data set you will be using for this work is comprised of approximately 180 labeled binary observations (i.e., the classification is binary in nature). The classifications are either ‘0’ or ‘1’. A classification model has been used to “predict” the actual classifications for each observation, and its algorithm works by estimating the probability that the correct classification for each observation is a ‘1’.  The data setincludes three attributes that you will make use of for your analysis:\n",
        "\n",
        "1. class: the actual classification for the observation\n",
        "\n",
        "2. scored.class: the predicted classification for the observation (can only be ‘0’or ‘1’; identified by comparing the classification model’s probability score (i.e., the likelihood that the correct classification for an observation is a ‘1’) for the observation against a 0.50 threshold))\n",
        "\n",
        "3. scored.probability: the classification model’s probabilityscore (i.e., the likelihood that the correct classification for an observation is a ‘1’)for the observation\n",
        "\n",
        "Complete each of the following tasks as specified:\n",
        "\n",
        "1. Load the provided M5_Data.csv file to your DAV 6150 Github Repository. \n",
        "2. Then, using a Jupyter Notebook, read the data set from your Github repository and load it into a Pandas dataframe.\n",
        "3. Use Pandas’ crosstab() function to calculate the contents of a confusion matrix for the data. Make sure you closely examine the output e.g., do the rows represent the actual or the predicted classification? What about the columns? (HINT: A good way to ensure you understand the output of the crosstab() function is to check the value_counts() for the dataframe columns you’ve used as input to the crosstab() function. When observing the value_counts(), determine whether the rows or columns in the crosstab() output sum to the respective value_counts() figures).\n",
        "4. Extract the individual confusion matrix values (i.e., True Positive, False Positive, True Negative, False Negative) from the output of the crosstab ()function and save them for later use (e.g., save them each to individual variables or to the data structure of your choice). Knowing how to properly extract these values from the output of crosstab() will serve you well throughout the remainder of the assignment\n",
        "5. Write a Python function that accepts as input the actual and predicted classifications for any binary classification data and then calculates and returns the accuracy metric for the predictions without utilizing any pre-built Python accuracy metric calculation functions.\n",
        "6. Write a Python function that accepts as input the actual and predicted classifications for any binary classification data and then calculates and returns the precision metric for the predictions without utilizing any pre-built Python classification metric calculation functions.\n",
        "7. Write a Python function that accepts as input the actual and predicted classifications for any binary classification data and then calculates and returns the sensitivity metric for the predictions without utilizing any pre-built Python classification metric calculation functions.\n",
        "8. Write a Python function that accepts as input the actual and predicted classifications for any binary classification data and then calculates and returns the specificity metric for the predictions without utilizing any pre-built Python classification metric calculation functions. \n",
        "9. Write a Python function that accepts as input the actual and predicted classifications for any binary classification data and then calculates and returns the F1 Score metric for the predictions without utilizing any pre-built Python classification metric calculation functions.\n",
        "10. Write a Python function to plot a ROC curve and also calculate AUC for any binary classification data that containsboth actual and predicted classifications as well as the associated scored probabilities without utilizing any pre-built Python classification metric calculation or ROC or AUC functions.\n",
        "11. Apply the Python functions you’ve created to the relevant columns of the provided data set to produce the classification metrics specified in steps 5 through 9 of this assignment.\n",
        "12. Now compare the output of your functions against the output of the pre-built functions available within the scikit-learn library. Specifically, apply the confusion_matrix(), accuracy_score(),  precision_score(), recall_score() (remember: recall = sensitivity), f1_score(), and the metrics.classification_report() functions to the relevant columns of the provided data set. Discuss how well the results of these pre-built functions compare to those of the functions you’ve created for this assignment.\n",
        "13. Using the metrics.plot_roc_curve() and metrics.auc() functions from the scikit-learn package to generate a ROC plot and calculate AUC for the provided data set. How do the results compare with the ROC/AUC function you’ve created for this assignment?\n",
        "\n",
        "Your Jupyter Notebook deliverable should be similar to that of a publication-quality  / professional caliber document and should include clearly labeled graphics, high-quality formatting, clearly defined section and sub-section headers, and be free of spelling and grammar errors. Furthermore, your Pythion code should include succinct explanatory comments. \n",
        "\n",
        "Upload your Jupyter Notebook within the provided M5Assignment Canvas submission portal.  Be sure to save your Notebook using the following nomenclature:first initial_last name_M5_assn\" (e.g., J_Smith_M5_assn_).  Small groups should identity all group members at the start of the Jupyter Notebook and each team member should submit their own copy of the team’s work within Canvas.\n",
        "\n",
        "Grading rubric: you'll receiveup to 90 points if you successfully complete tasks 1-9, 11, and 12. To get the full 100 pointson the assignment, you will also need to successfully complete tasks 10 and 13."
      ]
    },
    {
      "cell_type": "markdown",
      "metadata": {
        "id": "hkcz4TD9RSou"
      },
      "source": [
        "# Data Science: Module 5\n",
        "## Practical Challenge: Classification Model Performance Metrics\n",
        "### Jacob Goodman & Alan Leidner\n",
        "#### Oct 17, 2021\n",
        "Assignment: https://yu.instructure.com/courses/50398/assignments/191953"
      ]
    },
    {
      "cell_type": "markdown",
      "metadata": {
        "id": "FTF0uZIESpS0"
      },
      "source": [
        "## Introduction"
      ]
    },
    {
      "cell_type": "markdown",
      "metadata": {
        "id": "5ZvLdc-3Srui"
      },
      "source": [
        "## Importing Dependencies"
      ]
    },
    {
      "cell_type": "code",
      "metadata": {
        "id": "wbxZwkF2S6da"
      },
      "source": [
        "#Import packages for data frames \n",
        "import numpy as np\n",
        "import pandas as pd"
      ],
      "execution_count": null,
      "outputs": []
    },
    {
      "cell_type": "markdown",
      "metadata": {
        "id": "infhLhFqSweD"
      },
      "source": [
        "## importing data"
      ]
    },
    {
      "cell_type": "code",
      "metadata": {
        "colab": {
          "base_uri": "https://localhost:8080/",
          "height": 226
        },
        "id": "y43SznJLRQgm",
        "outputId": "ef74ace1-a42c-4454-8a2b-db5e0f725bb7"
      },
      "source": [
        "# read a set of sample data from github. It contains information related to cars and insurance\n",
        "filename = \"https://raw.githubusercontent.com/yuleidner/DAV-6150/main/M5/M5_Data.csv\"\n",
        "df = pd.read_csv(filename)\n",
        "pd.set_option('display.max_columns', None) #expands df to display all columns\n",
        "df.head()"
      ],
      "execution_count": null,
      "outputs": [
        {
          "output_type": "execute_result",
          "data": {
            "text/html": [
              "<div>\n",
              "<style scoped>\n",
              "    .dataframe tbody tr th:only-of-type {\n",
              "        vertical-align: middle;\n",
              "    }\n",
              "\n",
              "    .dataframe tbody tr th {\n",
              "        vertical-align: top;\n",
              "    }\n",
              "\n",
              "    .dataframe thead th {\n",
              "        text-align: right;\n",
              "    }\n",
              "</style>\n",
              "<table border=\"1\" class=\"dataframe\">\n",
              "  <thead>\n",
              "    <tr style=\"text-align: right;\">\n",
              "      <th></th>\n",
              "      <th>pregnant</th>\n",
              "      <th>glucose</th>\n",
              "      <th>diastolic</th>\n",
              "      <th>skinfold</th>\n",
              "      <th>insulin</th>\n",
              "      <th>bmi</th>\n",
              "      <th>pedigree</th>\n",
              "      <th>age</th>\n",
              "      <th>class</th>\n",
              "      <th>scored.class</th>\n",
              "      <th>scored.probability</th>\n",
              "    </tr>\n",
              "  </thead>\n",
              "  <tbody>\n",
              "    <tr>\n",
              "      <th>0</th>\n",
              "      <td>7</td>\n",
              "      <td>124</td>\n",
              "      <td>70</td>\n",
              "      <td>33</td>\n",
              "      <td>215</td>\n",
              "      <td>25.5</td>\n",
              "      <td>0.161</td>\n",
              "      <td>37</td>\n",
              "      <td>0</td>\n",
              "      <td>0</td>\n",
              "      <td>0.328452</td>\n",
              "    </tr>\n",
              "    <tr>\n",
              "      <th>1</th>\n",
              "      <td>2</td>\n",
              "      <td>122</td>\n",
              "      <td>76</td>\n",
              "      <td>27</td>\n",
              "      <td>200</td>\n",
              "      <td>35.9</td>\n",
              "      <td>0.483</td>\n",
              "      <td>26</td>\n",
              "      <td>0</td>\n",
              "      <td>0</td>\n",
              "      <td>0.273190</td>\n",
              "    </tr>\n",
              "    <tr>\n",
              "      <th>2</th>\n",
              "      <td>3</td>\n",
              "      <td>107</td>\n",
              "      <td>62</td>\n",
              "      <td>13</td>\n",
              "      <td>48</td>\n",
              "      <td>22.9</td>\n",
              "      <td>0.678</td>\n",
              "      <td>23</td>\n",
              "      <td>1</td>\n",
              "      <td>0</td>\n",
              "      <td>0.109660</td>\n",
              "    </tr>\n",
              "    <tr>\n",
              "      <th>3</th>\n",
              "      <td>1</td>\n",
              "      <td>91</td>\n",
              "      <td>64</td>\n",
              "      <td>24</td>\n",
              "      <td>0</td>\n",
              "      <td>29.2</td>\n",
              "      <td>0.192</td>\n",
              "      <td>21</td>\n",
              "      <td>0</td>\n",
              "      <td>0</td>\n",
              "      <td>0.055998</td>\n",
              "    </tr>\n",
              "    <tr>\n",
              "      <th>4</th>\n",
              "      <td>4</td>\n",
              "      <td>83</td>\n",
              "      <td>86</td>\n",
              "      <td>19</td>\n",
              "      <td>0</td>\n",
              "      <td>29.3</td>\n",
              "      <td>0.317</td>\n",
              "      <td>34</td>\n",
              "      <td>0</td>\n",
              "      <td>0</td>\n",
              "      <td>0.100491</td>\n",
              "    </tr>\n",
              "  </tbody>\n",
              "</table>\n",
              "</div>"
            ],
            "text/plain": [
              "   pregnant  glucose  diastolic  skinfold  insulin   bmi  pedigree  age  \\\n",
              "0         7      124         70        33      215  25.5     0.161   37   \n",
              "1         2      122         76        27      200  35.9     0.483   26   \n",
              "2         3      107         62        13       48  22.9     0.678   23   \n",
              "3         1       91         64        24        0  29.2     0.192   21   \n",
              "4         4       83         86        19        0  29.3     0.317   34   \n",
              "\n",
              "   class  scored.class  scored.probability  \n",
              "0      0             0            0.328452  \n",
              "1      0             0            0.273190  \n",
              "2      1             0            0.109660  \n",
              "3      0             0            0.055998  \n",
              "4      0             0            0.100491  "
            ]
          },
          "metadata": {},
          "execution_count": 2
        }
      ]
    },
    {
      "cell_type": "markdown",
      "metadata": {
        "id": "3k6C9VHA05y5"
      },
      "source": [
        "## creating cross tab\n",
        "\n",
        "1. We will now construct a coefficient matrix utilizing the crosstab() method for use as a input in our functions.For a prettier output we will convert our input data to Boolean format and name our column and index to help users understand what they represent.\n",
        "\n",
        "2. we will also save our Y_pred, Y_true and scored.probability columns in its own variables for use later in the assignement \n"
      ]
    },
    {
      "cell_type": "code",
      "metadata": {
        "colab": {
          "base_uri": "https://localhost:8080/",
          "height": 143
        },
        "id": "cheboRNLKyjT",
        "outputId": "b10931d8-46ac-411d-c551-86fded75cdab"
      },
      "source": [
        "#1.creating crosstab\n",
        "df_crosstab = pd.crosstab(df['class'].astype('bool'), df['scored.class'].astype('bool'),rownames=['predicted_diabetic'], colnames=['true_diabetic'])\n",
        "# df_crosstab.sort_index(ascending=False,inplace=True)\n",
        "# df_crosstab.sort_index(axis=1,ascending=False,inplace=True)\n",
        "\n",
        "\n",
        "#2. storing variables\n",
        "scored_probablity = df['scored.probability']\n",
        "y_pred = df['scored.class']\n",
        "y_true = df['class']\n",
        "\n",
        "# sainty check the crosstab\n",
        "df_crosstab"
      ],
      "execution_count": null,
      "outputs": [
        {
          "output_type": "execute_result",
          "data": {
            "text/html": [
              "<div>\n",
              "<style scoped>\n",
              "    .dataframe tbody tr th:only-of-type {\n",
              "        vertical-align: middle;\n",
              "    }\n",
              "\n",
              "    .dataframe tbody tr th {\n",
              "        vertical-align: top;\n",
              "    }\n",
              "\n",
              "    .dataframe thead th {\n",
              "        text-align: right;\n",
              "    }\n",
              "</style>\n",
              "<table border=\"1\" class=\"dataframe\">\n",
              "  <thead>\n",
              "    <tr style=\"text-align: right;\">\n",
              "      <th>true_diabetic</th>\n",
              "      <th>False</th>\n",
              "      <th>True</th>\n",
              "    </tr>\n",
              "    <tr>\n",
              "      <th>predicted_diabetic</th>\n",
              "      <th></th>\n",
              "      <th></th>\n",
              "    </tr>\n",
              "  </thead>\n",
              "  <tbody>\n",
              "    <tr>\n",
              "      <th>False</th>\n",
              "      <td>119</td>\n",
              "      <td>5</td>\n",
              "    </tr>\n",
              "    <tr>\n",
              "      <th>True</th>\n",
              "      <td>30</td>\n",
              "      <td>27</td>\n",
              "    </tr>\n",
              "  </tbody>\n",
              "</table>\n",
              "</div>"
            ],
            "text/plain": [
              "true_diabetic       False  True \n",
              "predicted_diabetic              \n",
              "False                 119      5\n",
              "True                   30     27"
            ]
          },
          "metadata": {},
          "execution_count": 3
        }
      ]
    },
    {
      "cell_type": "markdown",
      "metadata": {
        "id": "agLYTTIbT3Fy"
      },
      "source": [
        "## create a class\n",
        "\n",
        "We will now construct a class that will do the following. \n",
        "1. store the seperate parts of the confusion matrix\n",
        "2. provide methods to caculate model statics\n",
        "\n",
        "**Input:**\n",
        "\n",
        "* this class should take as input a confusion matrix\n",
        "* matrix column and row names are expected to be either True/False or 1/0 \n",
        "\n",
        "**0n initialization:**\n",
        "* split confusion matrix into consituent peices\n",
        "  * true positives\n",
        "  * false positives\n",
        "  * true negatives\n",
        "  * false nagatives\n",
        "  * total observations\n",
        "\n",
        "**availble methods:** \n",
        "1. precision\n",
        "2. sensitivity\n",
        "3. spcificity\n",
        "4. f1\n"
      ]
    },
    {
      "cell_type": "code",
      "metadata": {
        "id": "DqUR_EiuclCN"
      },
      "source": [
        "class coefmatrix:\n",
        "    \"\"\" this class takes a Dataframe containing a Coefectiant matrix with column names of either 0,1 or True,False and provides model stastics for binary models\"\"\"\n",
        "    def __init__(self,df):\n",
        "        self.crosstab = df\n",
        "        # extract values from table\n",
        "        #true positives\n",
        "        try:\n",
        "          self.TruePositives = df.loc[1,1] # True Positives\n",
        "        except KeyError:\n",
        "          self.TruePositives = 0\n",
        "        #true negatives\n",
        "        try:  \n",
        "          self.TrueNegatives = df.loc[0,0] # True Negatives \n",
        "        except KeyError:\n",
        "          self.TrueNegatives = 0\n",
        "        #False positives\n",
        "        try:  \n",
        "          self.FalsePositives = df.loc[0,1] # False Positives\n",
        "        except KeyError:\n",
        "          self.FalsePositives = 0\n",
        "        #False Negatives\n",
        "        try:\n",
        "          self.FalseNegatives = df.loc[1,0] # False Negatives\n",
        "        except KeyError:\n",
        "          self.FalseNegatives = 0\n",
        "        #total records\n",
        "        self.TotalRecords = df.values.sum()\n",
        "        \n",
        "\n",
        "\n",
        "          \n",
        "    def accuracy(self)  -> int:\n",
        "        return (self.TruePositives+self.TrueNegatives)/self.TotalRecords\n",
        "\n",
        "    def precision(self)  -> int:\n",
        "        return self.TruePositives/(self.TruePositives+self.FalsePositives)\n",
        "    \n",
        "    def recall(self)  -> int:\n",
        "        \"recall or sensitivty or True positive rate is cacualted as the fraction of correctly predicted posisitves out of all ppositives\"\n",
        "        return self.TruePositives/(self.TruePositives+self.FalseNegatives) \n",
        "    \n",
        "    def specificity(self) -> int:\n",
        "        return self.TrueNegatives/(self.TrueNegatives+self.FalsePositives)\n",
        "\n",
        "    def f1(self) -> int:\n",
        "        return 2*self.precision()*self.recall()/(self.precision()+self.recall())\n",
        "\n",
        "    def fpr(self)  -> int: # false positive rate to be utilized in ROC curve function\n",
        "      \n",
        "        return self.FalsePositives/(self.TrueNegatives+self.FalsePositives)\n",
        "      \n"
      ],
      "execution_count": null,
      "outputs": []
    },
    {
      "cell_type": "markdown",
      "metadata": {
        "id": "bFjECPv86Lox"
      },
      "source": [
        "## Comparing class metrics to prebuilt \n",
        "we will now compare our class metrics to prebuild metrics  \n",
        "steps:\n",
        "1.  import needed functions\n",
        "2. initialize a member of our new class\n",
        "3. compare each class method to an sklearn.metrics function\n"
      ]
    },
    {
      "cell_type": "code",
      "metadata": {
        "id": "qzRqfAN992Ss"
      },
      "source": [
        "# 1. importing functions\n",
        "from sklearn.metrics import confusion_matrix\n",
        "from sklearn.metrics import accuracy_score\n",
        "from sklearn.metrics import precision_score\n",
        "from sklearn.metrics import recall_score\n",
        "from sklearn.metrics import f1_score\n",
        "from sklearn.metrics import classification_report\n",
        "\n",
        "#2. initializing class object\n",
        "matrix = coefmatrix(df_crosstab)"
      ],
      "execution_count": null,
      "outputs": []
    },
    {
      "cell_type": "markdown",
      "metadata": {
        "id": "onDcV_WS6eik"
      },
      "source": [
        "### confusion_matrix()"
      ]
    },
    {
      "cell_type": "code",
      "metadata": {
        "colab": {
          "base_uri": "https://localhost:8080/",
          "height": 213
        },
        "id": "wOWafGUJ6d4O",
        "outputId": "37f59c03-5a5b-4c4f-87b9-ab7c60b3bb37"
      },
      "source": [
        "display(confusion_matrix( df['class'], df['scored.class']))\n",
        "print('\\n')\n",
        "matrix.crosstab"
      ],
      "execution_count": null,
      "outputs": [
        {
          "output_type": "display_data",
          "data": {
            "text/plain": [
              "array([[119,   5],\n",
              "       [ 30,  27]])"
            ]
          },
          "metadata": {}
        },
        {
          "output_type": "stream",
          "name": "stdout",
          "text": [
            "\n",
            "\n"
          ]
        },
        {
          "output_type": "execute_result",
          "data": {
            "text/html": [
              "<div>\n",
              "<style scoped>\n",
              "    .dataframe tbody tr th:only-of-type {\n",
              "        vertical-align: middle;\n",
              "    }\n",
              "\n",
              "    .dataframe tbody tr th {\n",
              "        vertical-align: top;\n",
              "    }\n",
              "\n",
              "    .dataframe thead th {\n",
              "        text-align: right;\n",
              "    }\n",
              "</style>\n",
              "<table border=\"1\" class=\"dataframe\">\n",
              "  <thead>\n",
              "    <tr style=\"text-align: right;\">\n",
              "      <th>true_diabetic</th>\n",
              "      <th>False</th>\n",
              "      <th>True</th>\n",
              "    </tr>\n",
              "    <tr>\n",
              "      <th>predicted_diabetic</th>\n",
              "      <th></th>\n",
              "      <th></th>\n",
              "    </tr>\n",
              "  </thead>\n",
              "  <tbody>\n",
              "    <tr>\n",
              "      <th>False</th>\n",
              "      <td>119</td>\n",
              "      <td>5</td>\n",
              "    </tr>\n",
              "    <tr>\n",
              "      <th>True</th>\n",
              "      <td>30</td>\n",
              "      <td>27</td>\n",
              "    </tr>\n",
              "  </tbody>\n",
              "</table>\n",
              "</div>"
            ],
            "text/plain": [
              "true_diabetic       False  True \n",
              "predicted_diabetic              \n",
              "False                 119      5\n",
              "True                   30     27"
            ]
          },
          "metadata": {},
          "execution_count": 6
        }
      ]
    },
    {
      "cell_type": "markdown",
      "metadata": {
        "id": "IoVx37GL82pL"
      },
      "source": [
        "**conclusion:**  \n",
        "Our values match and our dataframe provides the more 'sophisticated' output we are used to."
      ]
    },
    {
      "cell_type": "markdown",
      "metadata": {
        "id": "ixfdYknK6LPv"
      },
      "source": [
        "### accuracy_score()\n"
      ]
    },
    {
      "cell_type": "code",
      "metadata": {
        "colab": {
          "base_uri": "https://localhost:8080/"
        },
        "id": "RE1q5peE9hRz",
        "outputId": "28b98481-a4af-46d7-b4b3-852630abbd94"
      },
      "source": [
        "print(f'sklearn.accuracy_score: {accuracy_score(y_true,y_pred)}')\n",
        "print(f'matrix.accuracy:        {matrix.accuracy()}')"
      ],
      "execution_count": null,
      "outputs": [
        {
          "output_type": "stream",
          "name": "stdout",
          "text": [
            "sklearn.accuracy_score: 0.8066298342541437\n",
            "matrix.accuracy:        0.8066298342541437\n"
          ]
        }
      ]
    },
    {
      "cell_type": "markdown",
      "metadata": {
        "id": "Loo0mCCc_6Cr"
      },
      "source": [
        "**conclusion:** our function matches sklearns"
      ]
    },
    {
      "cell_type": "markdown",
      "metadata": {
        "id": "Wx47abOWACol"
      },
      "source": [
        "### recall()"
      ]
    },
    {
      "cell_type": "code",
      "metadata": {
        "colab": {
          "base_uri": "https://localhost:8080/"
        },
        "id": "ZWw_ED5aAuuI",
        "outputId": "161edf34-42c8-40b4-8f12-5304bfb59565"
      },
      "source": [
        "print(f'sklearn.recall_score: {recall_score(y_true,y_pred)}')\n",
        "print(f'matrix.recall:        {matrix.recall()}')"
      ],
      "execution_count": null,
      "outputs": [
        {
          "output_type": "stream",
          "name": "stdout",
          "text": [
            "sklearn.recall_score: 0.47368421052631576\n",
            "matrix.recall:        0.47368421052631576\n"
          ]
        }
      ]
    },
    {
      "cell_type": "markdown",
      "metadata": {
        "id": "5vGhG_d_GnhW"
      },
      "source": [
        "**conclusion:** our function matches sklearns"
      ]
    },
    {
      "cell_type": "markdown",
      "metadata": {
        "id": "Rf6W21hYAr9s"
      },
      "source": [
        "### f1_score()"
      ]
    },
    {
      "cell_type": "code",
      "metadata": {
        "id": "lN0EONKIBMr_",
        "colab": {
          "base_uri": "https://localhost:8080/"
        },
        "outputId": "128f29c5-3289-43b5-d037-e5598bf0db12"
      },
      "source": [
        "print(f'sklearn.f1_score: {f1_score(y_true,y_pred)}')\n",
        "print(f'matrix.f1:        {matrix.f1()}')"
      ],
      "execution_count": null,
      "outputs": [
        {
          "output_type": "stream",
          "name": "stdout",
          "text": [
            "sklearn.f1_score: 0.6067415730337079\n",
            "matrix.f1:        0.6067415730337079\n"
          ]
        }
      ]
    },
    {
      "cell_type": "markdown",
      "metadata": {
        "id": "GkNonlVMAJou"
      },
      "source": [
        "### classification_report()"
      ]
    },
    {
      "cell_type": "code",
      "metadata": {
        "colab": {
          "base_uri": "https://localhost:8080/"
        },
        "id": "zQ0yBM9WAK6P",
        "outputId": "87f1c7fd-8995-4093-c850-58ed9e2d06a8"
      },
      "source": [
        "print(classification_report(y_true,y_pred))"
      ],
      "execution_count": null,
      "outputs": [
        {
          "output_type": "stream",
          "name": "stdout",
          "text": [
            "              precision    recall  f1-score   support\n",
            "\n",
            "           0       0.80      0.96      0.87       124\n",
            "           1       0.84      0.47      0.61        57\n",
            "\n",
            "    accuracy                           0.81       181\n",
            "   macro avg       0.82      0.72      0.74       181\n",
            "weighted avg       0.81      0.81      0.79       181\n",
            "\n"
          ]
        }
      ]
    },
    {
      "cell_type": "markdown",
      "metadata": {
        "id": "S6NIu4OpB1NU"
      },
      "source": [
        "**conclusions:**   \n",
        "sklearns classification report has signifignalty less specificiy and a relativaly confusioning output. I can be useful but a lot of care has to be taken to make sure output is being interpreted correctly and an understanding of the limitations is known.\n"
      ]
    },
    {
      "cell_type": "markdown",
      "metadata": {
        "id": "GHJq1wn3Vaya"
      },
      "source": [
        "## ROC/AUC\n"
      ]
    },
    {
      "cell_type": "markdown",
      "metadata": {
        "id": "x6jjx9DCQwZo"
      },
      "source": [
        "**understanding steps for ROC:**  \n",
        "steps it takes:\n",
        "1. set the number of thresholds or steps between 0,1 we want to calculate\n",
        "2. For each of those steps calculate the rate at which records would be accurately or inaccurately classified if that step was threshold for a predication counting as true. (recall and false positive rate)\n",
        "3. store each recall and false positive rate to be plotted to create ROC graphic and to be utlized in AUC calcualtion\n",
        "\n",
        "\n",
        "**understanding steps for AUC:**\n",
        "\n",
        "reference on the trapexoidal method:\n",
        "https://onlinelibrary.wiley.com/doi/pdf/10.1002/9781119261087.app1\n",
        "\n",
        "\n",
        "steps it takes:\n",
        "1. break our threashold encoded data into a series of 2x2 matrixs encoding the 2 points between spots on the ROC graphic as a series of trapaezoids. \n",
        "2. use numpys np.trapz function to integrate each *trapezoid*\n",
        "3. sum the totals together to get full area under the curve\n"
      ]
    },
    {
      "cell_type": "markdown",
      "metadata": {
        "id": "sELGtdUeViXC"
      },
      "source": [
        "### from scratch implementation:"
      ]
    },
    {
      "cell_type": "markdown",
      "metadata": {
        "id": "WLeY8bBeIes1"
      },
      "source": [
        "#### function creation"
      ]
    },
    {
      "cell_type": "code",
      "metadata": {
        "id": "-mjsL41WDmBT"
      },
      "source": [
        "def ROC_curve_AUC(y_true,scored_probablity,number_of_points = 105 ):\n",
        "  \"\"\"\n",
        "  caculates the ROC by caculating recall and false positive rate at all thresholds between .0 -1.04 and returns the results\n",
        "  as a numpy array.\n",
        "\n",
        "  Then calcualtes AUC by utlizing trapizodal method to integrate array.\n",
        "\n",
        "  Return ROC array and AUC\n",
        "  \n",
        "    references ROC:\n",
        "    * https://www.youtube.com/watch?v=afQ_DyKMxUo \n",
        "    * https://towardsdatascience.com/roc-curve-and-auc-from-scratch-in-numpy-visualized-2612bb9459ab\n",
        "  \n",
        "    references AUC:\n",
        "    * https://github.com/akshaykapoor347/Compute-AUC-ROC-from-scratch-python/blob/master/AUCROCPython.ipynb\n",
        "    * https://numpy.org/doc/stable/reference/generated/numpy.trapz.html\n",
        "  \"\"\"\n",
        "\n",
        "  import numpy as np #best practice import deps in functions\n",
        "  roc_point = np.array([]) #initialize ROC array \n",
        "  \n",
        "  #iterate for number of points set as input calculating Recall and FPR for each \n",
        "  for i  in range(0,number_of_points,1):\n",
        "\n",
        "    #create a new predicted array at current threashold\n",
        "     threshold_vector = np.greater_equal(scored_probablity, i / number_of_points).astype(int)\n",
        "     \n",
        "     # initializ a coefficient object ie caculate model stastics\n",
        "     coef = coefmatrix(pd.crosstab(y_true,threshold_vector))\n",
        "\n",
        "      #store recall and false positive rate for threashold \n",
        "     roc_point = np.append(roc_point,[coef.fpr(),coef.recall()])\n",
        "  \n",
        "  #reshape array 2 columns wide -1 here means the # of rows is dynamic/unknown \n",
        "  ROC = roc_point.reshape(-1,2)\n",
        "\n",
        "  # we will now utlize the ROC array to caculate AUC \n",
        "  #initalize calculation arrays\n",
        "  fpr_array = [] \n",
        "  tpr_array = []\n",
        "\n",
        "  #iterate over ROC array to create 2x2 trapezoid matrix's \n",
        "  for i in range(len(ROC)-1):\n",
        "    point1 = ROC[i];\n",
        "    point2 = ROC[i+1]\n",
        "    tpr_array.append([point1[0], point2[0]])\n",
        "    fpr_array.append([point1[1], point2[1]])\n",
        "\n",
        "  #We use Trapezoidal rule to calculate the area under the curve by approximating the intergral \n",
        "  auc = sum(np.trapz(tpr_array,fpr_array))+1  # Don't 100% understand +1 here I get that return is actually area not under cruve +1 to invert but don't grok \n",
        "\n",
        "  return ROC, auc"
      ],
      "execution_count": null,
      "outputs": []
    },
    {
      "cell_type": "markdown",
      "metadata": {
        "id": "YxDJNCDmIkMA"
      },
      "source": [
        "#### visualization"
      ]
    },
    {
      "cell_type": "code",
      "metadata": {
        "colab": {
          "base_uri": "https://localhost:8080/",
          "height": 455
        },
        "id": "Et4bPj0QE1IJ",
        "outputId": "b6ca54e0-0895-4f5c-f034-3ece20f3284f"
      },
      "source": [
        "#ploting utlizing our from scratch function\n",
        "import matplotlib.pyplot as plt \n",
        "import seaborn as sns\n",
        "sns.set()\n",
        "plt.figure(figsize=(15,7))\n",
        "\n",
        "ROC, AUC = ROC_curve_AUC(y_true,scored_probablity,number_of_points = 1005)\n",
        "plt.title(f'AUC SCORE = {AUC}', fontsize=24)\n",
        "plt.plot([0,1]);\n",
        "plt.scatter(ROC[:,0],ROC[:,1],color='#0F9D58',s=100);\n",
        "plt.xlabel('False Positive Rate',fontsize=16);\n",
        "plt.ylabel('True Positive Rate',fontsize=16);"
      ],
      "execution_count": null,
      "outputs": [
        {
          "output_type": "display_data",
          "data": {
            "image/png": "[encoded data removed]",
            "text/plain": [
              "<Figure size 1080x504 with 1 Axes>"
            ]
          },
          "metadata": {}
        }
      ]
    },
    {
      "cell_type": "markdown",
      "metadata": {
        "id": "UO-02FrEVfHj"
      },
      "source": [
        "### sklearn metrics.roc() /metrics.auc()\n",
        "\n",
        "we will now compare our custom implementation to sklearn's built in.\n",
        "\n",
        "steps:\n",
        "1. create clasification model \n",
        "2. utlize Plot_roc_curve and auc functions\n"
      ]
    },
    {
      "cell_type": "code",
      "metadata": {
        "colab": {
          "base_uri": "https://localhost:8080/",
          "height": 131
        },
        "id": "yGN_R5J7Vq3q",
        "outputId": "21eec999-f39e-48ac-f06f-d767b8185cfe"
      },
      "source": [
        "from sklearn.metrics import plot_roc_curve\n",
        "from sklearn.metrics import auc\n",
        "\n",
        "plot_roc_curve()"
      ],
      "execution_count": null,
      "outputs": [
        {
          "output_type": "error",
          "ename": "SyntaxError",
          "evalue": "ignored",
          "traceback": [
            "\u001b[0;36m  File \u001b[0;32m\"<ipython-input-13-b5dc9a421599>\"\u001b[0;36m, line \u001b[0;32m1\u001b[0m\n\u001b[0;31m    from(\"sklearn.metrics import plot_roc_curve\")\u001b[0m\n\u001b[0m        ^\u001b[0m\n\u001b[0;31mSyntaxError\u001b[0m\u001b[0;31m:\u001b[0m invalid syntax\n"
          ]
        }
      ]
    },
    {
      "cell_type": "markdown",
      "metadata": {
        "id": "cpaM3mj0U1e5"
      },
      "source": [
        "# exta cells"
      ]
    },
    {
      "cell_type": "markdown",
      "metadata": {
        "id": "Q2YVTFiB5x5i"
      },
      "source": [
        "Calculating AUC"
      ]
    },
    {
      "cell_type": "code",
      "metadata": {
        "id": "Pr8F4g9M4ybP"
      },
      "source": [
        "# https://github.com/akshaykapoor347/Compute-AUC-ROC-from-scratch-python/blob/master/AUCROCPython.ipynb\n",
        "\n",
        "fpr_array = []\n",
        "tpr_array = []\n",
        "for i in range(len(ROC)-1):\n",
        "    point1 = ROC[i];\n",
        "    point2 = ROC[i+1]\n",
        "    tpr_array.append([point1[0], point2[0]])\n",
        "    fpr_array.append([point1[1], point2[1]])\n",
        "#We use Trapezoidal rule to calculate the area under the curve and approximating the intergral  \n",
        "#https://numpy.org/doc/stable/reference/generated/numpy.trapz.html\n",
        "auc = sum(np.trapz(tpr_array,fpr_array))+1  # need to figure out why +1 here \n",
        "print('Area under curve={}'.format(auc))"
      ],
      "execution_count": null,
      "outputs": []
    },
    {
      "cell_type": "code",
      "metadata": {
        "id": "vYr1KWPFRqcj"
      },
      "source": [
        "# https://www.youtube.com/watch?v=afQ_DyKMxUo\n",
        "threshholds = np.array(list(range(0,105,1)))/100\n",
        "threshholds"
      ],
      "execution_count": null,
      "outputs": []
    },
    {
      "cell_type": "code",
      "metadata": {
        "id": "Jv13osZqR8AH"
      },
      "source": [
        "\n",
        "threshholds = np.array(list(range(0,105,1)))/100\n",
        "\n",
        "roc_point = []\n",
        "\n",
        "for threshold in threshholds:\n",
        "  \n",
        "  tp = 0; fp = 0; fn = 0; tn = 0\n",
        "\n",
        "  for index, instance in df.iterrows():\n",
        "    actual = instance['class']\n",
        "    prediction =  instance['scored.probability']\n",
        "\n",
        "    if prediction >= threshold:\n",
        "      prediction_class = 1\n",
        "    else:\n",
        "      prediction_class = 0\n",
        "      \n",
        "    if  actual == 1 and  prediction_class == 1:\n",
        "      tp = tp + 1\n",
        "    elif actual == 1 and prediction_class == 0:\n",
        "      fn = fn + 1\n",
        "    elif actual == 0 and prediction_class == 1:\n",
        "      fp = fp + 1\n",
        "    elif actual == 0 and prediction_class == 0:\n",
        "      tn = tn + 1\n",
        "\n",
        "  tpr = tp/(tp+fn)\n",
        "  fpr = fp/(tn+fp)\n",
        "    \n",
        "  roc_point.append([tpr,fpr]"
      ],
      "execution_count": null,
      "outputs": []
    },
    {
      "cell_type": "code",
      "metadata": {
        "id": "csExqAYVWr7W"
      },
      "source": [
        "roc_point"
      ],
      "execution_count": null,
      "outputs": []
    },
    {
      "cell_type": "code",
      "metadata": {
        "id": "0S9lxK63W5Yw"
      },
      "source": [
        "pivot = pd.DataFrame(roc_point, columns = ['x','y'])\n",
        "pivot['threshold'] = threshholds"
      ],
      "execution_count": null,
      "outputs": []
    },
    {
      "cell_type": "code",
      "metadata": {
        "id": "iEyvL3LnXqqR"
      },
      "source": [
        "pivot"
      ],
      "execution_count": null,
      "outputs": []
    },
    {
      "cell_type": "code",
      "metadata": {
        "id": "cvVI7bQsXskR"
      },
      "source": [
        "import matplotlib.pyplot as plt\n",
        "\"\"\"\n",
        "plt.scatter(pivot.y, pivot.x)\n",
        "plt.plot([0,1])#plots .5 \"random results\" line to compare\n",
        "\n",
        "\n",
        "be carefull about doing this it will break the interperater and require a restart fixed on second example\n",
        "plt.xlabel = \"False Positive Rate\" \n",
        "plt.ylabel(\"True Positive Rate\")\n",
        "plt.title(\"ROC Curve\")\n",
        "in the first example which i didn't think you overwrite the xlabel object with a string\n",
        "\n",
        "\"\"\""
      ],
      "execution_count": null,
      "outputs": []
    },
    {
      "cell_type": "code",
      "metadata": {
        "id": "8xRa0pJqZSvR"
      },
      "source": [
        "auc = round(abs(np.trapz(pivot.x,pivot.y)),4)\n",
        "auc"
      ],
      "execution_count": null,
      "outputs": []
    }
  ]
}